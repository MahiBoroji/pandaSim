{
 "cells": [
  {
   "cell_type": "markdown",
   "id": "6e64242e",
   "metadata": {},
   "source": [
    "### Basic `MuJoCo` usage + GraspAnything"
   ]
  },
  {
   "cell_type": "code",
   "execution_count": 9,
   "id": "8cf3f649",
   "metadata": {},
   "outputs": [],
   "source": [
    "import matplotlib.pyplot as plt\n",
    "import numpy as np\n",
    "import torch\n",
    "import mujoco\n",
    "import mujoco_viewer\n",
    "import mediapy as media\n",
    "import os"
   ]
  },
  {
   "cell_type": "markdown",
   "id": "45382f94",
   "metadata": {},
   "source": [
    "Loading the parameters for Grasp Anything"
   ]
  },
  {
   "cell_type": "code",
   "execution_count": 2,
   "id": "8ec03b0f",
   "metadata": {},
   "outputs": [
    {
     "name": "stderr",
     "output_type": "stream",
     "text": [
      "\n",
      "A module that was compiled using NumPy 1.x cannot be run in\n",
      "NumPy 2.0.2 as it may crash. To support both 1.x and 2.x\n",
      "versions of NumPy, modules must be compiled with NumPy 2.0.\n",
      "Some module may need to rebuild instead e.g. with 'pybind11>=2.12'.\n",
      "\n",
      "If you are a user of the module, the easiest solution will be to\n",
      "downgrade to 'numpy<2' or try to upgrade the affected module.\n",
      "We expect that some modules will need time to support NumPy 2.\n",
      "\n",
      "Traceback (most recent call last):  File \"c:\\Users\\boroj\\miniforge3\\envs\\granything\\lib\\runpy.py\", line 197, in _run_module_as_main\n",
      "    return _run_code(code, main_globals, None,\n",
      "  File \"c:\\Users\\boroj\\miniforge3\\envs\\granything\\lib\\runpy.py\", line 87, in _run_code\n",
      "    exec(code, run_globals)\n",
      "  File \"c:\\Users\\boroj\\miniforge3\\envs\\granything\\lib\\site-packages\\ipykernel_launcher.py\", line 18, in <module>\n",
      "    app.launch_new_instance()\n",
      "  File \"c:\\Users\\boroj\\miniforge3\\envs\\granything\\lib\\site-packages\\traitlets\\config\\application.py\", line 1075, in launch_instance\n",
      "    app.start()\n",
      "  File \"c:\\Users\\boroj\\miniforge3\\envs\\granything\\lib\\site-packages\\ipykernel\\kernelapp.py\", line 739, in start\n",
      "    self.io_loop.start()\n",
      "  File \"c:\\Users\\boroj\\miniforge3\\envs\\granything\\lib\\site-packages\\tornado\\platform\\asyncio.py\", line 205, in start\n",
      "    self.asyncio_loop.run_forever()\n",
      "  File \"c:\\Users\\boroj\\miniforge3\\envs\\granything\\lib\\asyncio\\base_events.py\", line 601, in run_forever\n",
      "    self._run_once()\n",
      "  File \"c:\\Users\\boroj\\miniforge3\\envs\\granything\\lib\\asyncio\\base_events.py\", line 1905, in _run_once\n",
      "    handle._run()\n",
      "  File \"c:\\Users\\boroj\\miniforge3\\envs\\granything\\lib\\asyncio\\events.py\", line 80, in _run\n",
      "    self._context.run(self._callback, *self._args)\n",
      "  File \"c:\\Users\\boroj\\miniforge3\\envs\\granything\\lib\\site-packages\\ipykernel\\kernelbase.py\", line 545, in dispatch_queue\n",
      "    await self.process_one()\n",
      "  File \"c:\\Users\\boroj\\miniforge3\\envs\\granything\\lib\\site-packages\\ipykernel\\kernelbase.py\", line 534, in process_one\n",
      "    await dispatch(*args)\n",
      "  File \"c:\\Users\\boroj\\miniforge3\\envs\\granything\\lib\\site-packages\\ipykernel\\kernelbase.py\", line 437, in dispatch_shell\n",
      "    await result\n",
      "  File \"c:\\Users\\boroj\\miniforge3\\envs\\granything\\lib\\site-packages\\ipykernel\\ipkernel.py\", line 362, in execute_request\n",
      "    await super().execute_request(stream, ident, parent)\n",
      "  File \"c:\\Users\\boroj\\miniforge3\\envs\\granything\\lib\\site-packages\\ipykernel\\kernelbase.py\", line 778, in execute_request\n",
      "    reply_content = await reply_content\n",
      "  File \"c:\\Users\\boroj\\miniforge3\\envs\\granything\\lib\\site-packages\\ipykernel\\ipkernel.py\", line 449, in do_execute\n",
      "    res = shell.run_cell(\n",
      "  File \"c:\\Users\\boroj\\miniforge3\\envs\\granything\\lib\\site-packages\\ipykernel\\zmqshell.py\", line 549, in run_cell\n",
      "    return super().run_cell(*args, **kwargs)\n",
      "  File \"c:\\Users\\boroj\\miniforge3\\envs\\granything\\lib\\site-packages\\IPython\\core\\interactiveshell.py\", line 3048, in run_cell\n",
      "    result = self._run_cell(\n",
      "  File \"c:\\Users\\boroj\\miniforge3\\envs\\granything\\lib\\site-packages\\IPython\\core\\interactiveshell.py\", line 3103, in _run_cell\n",
      "    result = runner(coro)\n",
      "  File \"c:\\Users\\boroj\\miniforge3\\envs\\granything\\lib\\site-packages\\IPython\\core\\async_helpers.py\", line 129, in _pseudo_sync_runner\n",
      "    coro.send(None)\n",
      "  File \"c:\\Users\\boroj\\miniforge3\\envs\\granything\\lib\\site-packages\\IPython\\core\\interactiveshell.py\", line 3308, in run_cell_async\n",
      "    has_raised = await self.run_ast_nodes(code_ast.body, cell_name,\n",
      "  File \"c:\\Users\\boroj\\miniforge3\\envs\\granything\\lib\\site-packages\\IPython\\core\\interactiveshell.py\", line 3490, in run_ast_nodes\n",
      "    if await self.run_code(code, result, async_=asy):\n",
      "  File \"c:\\Users\\boroj\\miniforge3\\envs\\granything\\lib\\site-packages\\IPython\\core\\interactiveshell.py\", line 3550, in run_code\n",
      "    exec(code_obj, self.user_global_ns, self.user_ns)\n",
      "  File \"C:\\Users\\boroj\\AppData\\Local\\Temp\\ipykernel_22780\\4127165898.py\", line 1, in <module>\n",
      "    model = torch.load('GrAny_Weights/model_grasp_anything')\n",
      "  File \"c:\\Users\\boroj\\miniforge3\\envs\\granything\\lib\\site-packages\\torch\\serialization.py\", line 712, in load\n",
      "    return _load(opened_zipfile, map_location, pickle_module, **pickle_load_args)\n",
      "  File \"c:\\Users\\boroj\\miniforge3\\envs\\granything\\lib\\site-packages\\torch\\serialization.py\", line 1049, in _load\n",
      "    result = unpickler.load()\n",
      "  File \"c:\\Users\\boroj\\miniforge3\\envs\\granything\\lib\\site-packages\\torch\\serialization.py\", line 1019, in persistent_load\n",
      "    load_tensor(dtype, nbytes, key, _maybe_decode_ascii(location))\n",
      "  File \"c:\\Users\\boroj\\miniforge3\\envs\\granything\\lib\\site-packages\\torch\\serialization.py\", line 1001, in load_tensor\n",
      "    wrap_storage=restore_location(storage, location),\n",
      "  File \"c:\\Users\\boroj\\miniforge3\\envs\\granything\\lib\\site-packages\\torch\\serialization.py\", line 175, in default_restore_location\n",
      "    result = fn(storage, location)\n",
      "  File \"c:\\Users\\boroj\\miniforge3\\envs\\granything\\lib\\site-packages\\torch\\serialization.py\", line 152, in _cuda_deserialize\n",
      "    device = validate_cuda_device(location)\n",
      "  File \"c:\\Users\\boroj\\miniforge3\\envs\\granything\\lib\\site-packages\\torch\\serialization.py\", line 133, in validate_cuda_device\n",
      "    device = torch.cuda._utils._get_device_index(location, True)\n",
      "  File \"c:\\Users\\boroj\\miniforge3\\envs\\granything\\lib\\site-packages\\torch\\cuda\\_utils.py\", line 24, in _get_device_index\n",
      "    device = torch.device(device)\n",
      "c:\\Users\\boroj\\miniforge3\\envs\\granything\\lib\\site-packages\\torch\\cuda\\_utils.py:24: UserWarning: Failed to initialize NumPy: _ARRAY_API not found (Triggered internally at  C:\\cb\\pytorch_1000000000000\\work\\torch\\csrc\\utils\\tensor_numpy.cpp:68.)\n",
      "  device = torch.device(device)\n"
     ]
    },
    {
     "data": {
      "text/plain": [
       "GenerativeResnet(\n",
       "  (conv1): Conv2d(3, 32, kernel_size=(9, 9), stride=(1, 1), padding=(4, 4))\n",
       "  (bn1): BatchNorm2d(32, eps=1e-05, momentum=0.1, affine=True, track_running_stats=True)\n",
       "  (conv2): Conv2d(32, 64, kernel_size=(4, 4), stride=(2, 2), padding=(1, 1))\n",
       "  (bn2): BatchNorm2d(64, eps=1e-05, momentum=0.1, affine=True, track_running_stats=True)\n",
       "  (conv3): Conv2d(64, 128, kernel_size=(4, 4), stride=(2, 2), padding=(1, 1))\n",
       "  (bn3): BatchNorm2d(128, eps=1e-05, momentum=0.1, affine=True, track_running_stats=True)\n",
       "  (res1): ResidualBlock(\n",
       "    (conv1): Conv2d(128, 128, kernel_size=(3, 3), stride=(1, 1), padding=(1, 1))\n",
       "    (bn1): BatchNorm2d(128, eps=1e-05, momentum=0.1, affine=True, track_running_stats=True)\n",
       "    (conv2): Conv2d(128, 128, kernel_size=(3, 3), stride=(1, 1), padding=(1, 1))\n",
       "    (bn2): BatchNorm2d(128, eps=1e-05, momentum=0.1, affine=True, track_running_stats=True)\n",
       "  )\n",
       "  (res2): ResidualBlock(\n",
       "    (conv1): Conv2d(128, 128, kernel_size=(3, 3), stride=(1, 1), padding=(1, 1))\n",
       "    (bn1): BatchNorm2d(128, eps=1e-05, momentum=0.1, affine=True, track_running_stats=True)\n",
       "    (conv2): Conv2d(128, 128, kernel_size=(3, 3), stride=(1, 1), padding=(1, 1))\n",
       "    (bn2): BatchNorm2d(128, eps=1e-05, momentum=0.1, affine=True, track_running_stats=True)\n",
       "  )\n",
       "  (res3): ResidualBlock(\n",
       "    (conv1): Conv2d(128, 128, kernel_size=(3, 3), stride=(1, 1), padding=(1, 1))\n",
       "    (bn1): BatchNorm2d(128, eps=1e-05, momentum=0.1, affine=True, track_running_stats=True)\n",
       "    (conv2): Conv2d(128, 128, kernel_size=(3, 3), stride=(1, 1), padding=(1, 1))\n",
       "    (bn2): BatchNorm2d(128, eps=1e-05, momentum=0.1, affine=True, track_running_stats=True)\n",
       "  )\n",
       "  (res4): ResidualBlock(\n",
       "    (conv1): Conv2d(128, 128, kernel_size=(3, 3), stride=(1, 1), padding=(1, 1))\n",
       "    (bn1): BatchNorm2d(128, eps=1e-05, momentum=0.1, affine=True, track_running_stats=True)\n",
       "    (conv2): Conv2d(128, 128, kernel_size=(3, 3), stride=(1, 1), padding=(1, 1))\n",
       "    (bn2): BatchNorm2d(128, eps=1e-05, momentum=0.1, affine=True, track_running_stats=True)\n",
       "  )\n",
       "  (res5): ResidualBlock(\n",
       "    (conv1): Conv2d(128, 128, kernel_size=(3, 3), stride=(1, 1), padding=(1, 1))\n",
       "    (bn1): BatchNorm2d(128, eps=1e-05, momentum=0.1, affine=True, track_running_stats=True)\n",
       "    (conv2): Conv2d(128, 128, kernel_size=(3, 3), stride=(1, 1), padding=(1, 1))\n",
       "    (bn2): BatchNorm2d(128, eps=1e-05, momentum=0.1, affine=True, track_running_stats=True)\n",
       "  )\n",
       "  (conv4): ConvTranspose2d(128, 64, kernel_size=(4, 4), stride=(2, 2), padding=(1, 1), output_padding=(1, 1))\n",
       "  (bn4): BatchNorm2d(64, eps=1e-05, momentum=0.1, affine=True, track_running_stats=True)\n",
       "  (conv5): ConvTranspose2d(64, 32, kernel_size=(4, 4), stride=(2, 2), padding=(2, 2), output_padding=(1, 1))\n",
       "  (bn5): BatchNorm2d(32, eps=1e-05, momentum=0.1, affine=True, track_running_stats=True)\n",
       "  (conv6): ConvTranspose2d(32, 32, kernel_size=(9, 9), stride=(1, 1), padding=(4, 4))\n",
       "  (pos_output): Conv2d(32, 1, kernel_size=(2, 2), stride=(1, 1))\n",
       "  (cos_output): Conv2d(32, 1, kernel_size=(2, 2), stride=(1, 1))\n",
       "  (sin_output): Conv2d(32, 1, kernel_size=(2, 2), stride=(1, 1))\n",
       "  (width_output): Conv2d(32, 1, kernel_size=(2, 2), stride=(1, 1))\n",
       "  (dropout_pos): Dropout(p=0.1, inplace=False)\n",
       "  (dropout_cos): Dropout(p=0.1, inplace=False)\n",
       "  (dropout_sin): Dropout(p=0.1, inplace=False)\n",
       "  (dropout_wid): Dropout(p=0.1, inplace=False)\n",
       ")"
      ]
     },
     "execution_count": 2,
     "metadata": {},
     "output_type": "execute_result"
    }
   ],
   "source": [
    "model = torch.load('GrAny_Weights/model_grasp_anything')\n",
    "model"
   ]
  },
  {
   "cell_type": "markdown",
   "id": "0299ed5c",
   "metadata": {},
   "source": [
    "### Adding stuff to the scene"
   ]
  },
  {
   "cell_type": "code",
   "execution_count": 3,
   "id": "4d1f6319",
   "metadata": {},
   "outputs": [
    {
     "data": {
      "text/html": [
       "<table class=\"show_images\" style=\"border-spacing:0px;\"><tr><td style=\"padding:1px;\"><img width=\"600\" height=\"400\" style=\"image-rendering:auto; object-fit:cover;\" src=\"data:image/png;base64,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\"/></td></tr></table>"
      ],
      "text/plain": [
       "<IPython.core.display.HTML object>"
      ]
     },
     "metadata": {},
     "output_type": "display_data"
    }
   ],
   "source": [
    "free_body_MJCF = \"\"\"\n",
    "<mujoco>\n",
    "  <asset>\n",
    "    <texture name=\"grid\" type=\"2d\" builtin=\"checker\" rgb1=\".1 .2 .3\" \n",
    "    rgb2=\".2 .3 .4\" width=\"300\" height=\"300\" mark=\"edge\" markrgb=\".2 .3 .4\"/>\n",
    "    <material name=\"grid\" texture=\"grid\" texrepeat=\"2 2\" texuniform=\"true\"\n",
    "    reflectance=\".2\"/>\n",
    "  </asset>\n",
    "\n",
    "  <worldbody>\n",
    "    <light pos=\"0 0 1\" mode=\"trackcom\"/>\n",
    "    <geom name=\"ground\" type=\"plane\" pos=\"0 0 -.5\" size=\"2 2 .1\" material=\"grid\" solimp=\".99 .99 .01\" solref=\".001 1\"/>\n",
    "    <body name=\"box_and_sphere\" pos=\"0 0 0\">\n",
    "      <freejoint/>\n",
    "      <geom name=\"red_box\" type=\"box\" size=\".1 .1 .1\" rgba=\"1 0 0 1\" solimp=\".99 .99 .01\"  solref=\".001 1\"/>\n",
    "      <geom name=\"green_sphere\" size=\".06\" pos=\".1 .1 .1\" rgba=\"0 1 0 1\"/>\n",
    "      <camera name=\"fixed\" pos=\"0 -.6 .3\" xyaxes=\"1 0 0 0 1 2\"/>\n",
    "      <camera name=\"track\" pos=\"0 -.6 .3\" xyaxes=\"1 0 0 0 1 2\" mode=\"track\"/>\n",
    "    </body>\n",
    "  </worldbody>\n",
    "</mujoco>\n",
    "\"\"\"\n",
    "\n",
    "model = mujoco.MjModel.from_xml_string(free_body_MJCF)\n",
    "renderer = mujoco.Renderer(model, 400, 600)\n",
    "data = mujoco.MjData(model)\n",
    "mujoco.mj_forward(model, data)\n",
    "renderer.update_scene(data, \"fixed\")\n",
    "media.show_image(renderer.render())"
   ]
  },
  {
   "cell_type": "code",
   "execution_count": 4,
   "id": "7f46d806",
   "metadata": {},
   "outputs": [
    {
     "data": {
      "text/plain": [
       "array([1., 0., 0., 0.])"
      ]
     },
     "execution_count": 4,
     "metadata": {},
     "output_type": "execute_result"
    }
   ],
   "source": [
    "model.body(\"box_and_sphere\").pos\n",
    "model.body(\"box_and_sphere\").quat"
   ]
  },
  {
   "cell_type": "markdown",
   "id": "04077f3a",
   "metadata": {},
   "source": [
    "### Adding Panda to the scene"
   ]
  },
  {
   "cell_type": "code",
   "execution_count": 13,
   "id": "714f9f00",
   "metadata": {},
   "outputs": [
    {
     "data": {
      "text/plain": [
       "'g:\\\\My Drive\\\\Spring 2025 Semester\\\\ESE564 AI in Robotics\\\\Project\\\\pandaSim\\\\asset\\\\panda\\\\franka_panda.xml'"
      ]
     },
     "execution_count": 13,
     "metadata": {},
     "output_type": "execute_result"
    }
   ],
   "source": [
    "xml_path='asset/panda/franka_panda.xml'\n",
    "full_xml_path = os.path.abspath(os.path.join(os.getcwd(),xml_path))\n",
    "full_xml_path"
   ]
  },
  {
   "cell_type": "code",
   "execution_count": 14,
   "id": "5e3860f0",
   "metadata": {},
   "outputs": [
    {
     "ename": "ValueError",
     "evalue": "XML Error: Error opening file 'g:\\My Drive/Spring 2025 Semester/ESE564 AI in Robotics/Project/pandaSim/asset/panda/../../model/common_arena/simple_plane.xml': No such file or directory\nElement 'include', line 10\n",
     "output_type": "error",
     "traceback": [
      "\u001b[1;31m---------------------------------------------------------------------------\u001b[0m",
      "\u001b[1;31mValueError\u001b[0m                                Traceback (most recent call last)",
      "Cell \u001b[1;32mIn[14], line 3\u001b[0m\n\u001b[0;32m      1\u001b[0m xml_path\u001b[38;5;241m=\u001b[39m\u001b[38;5;124m'\u001b[39m\u001b[38;5;124masset/panda/franka_panda.xml\u001b[39m\u001b[38;5;124m'\u001b[39m\n\u001b[0;32m      2\u001b[0m \u001b[38;5;66;03m#full_xml_path = os.path.abspath(os.path.join(os.getcwd(),xml_path))\u001b[39;00m\n\u001b[1;32m----> 3\u001b[0m model \u001b[38;5;241m=\u001b[39m \u001b[43mmujoco\u001b[49m\u001b[38;5;241;43m.\u001b[39;49m\u001b[43mMjModel\u001b[49m\u001b[38;5;241;43m.\u001b[39;49m\u001b[43mfrom_xml_path\u001b[49m\u001b[43m(\u001b[49m\u001b[43mfull_xml_path\u001b[49m\u001b[43m)\u001b[49m\n\u001b[0;32m      4\u001b[0m data \u001b[38;5;241m=\u001b[39m mujoco\u001b[38;5;241m.\u001b[39mMjData(model)\n\u001b[0;32m      5\u001b[0m mujoco\u001b[38;5;241m.\u001b[39mmj_resetData(model, data) \u001b[38;5;66;03m# reset\u001b[39;00m\n",
      "\u001b[1;31mValueError\u001b[0m: XML Error: Error opening file 'g:\\My Drive/Spring 2025 Semester/ESE564 AI in Robotics/Project/pandaSim/asset/panda/../../model/common_arena/simple_plane.xml': No such file or directory\nElement 'include', line 10\n"
     ]
    }
   ],
   "source": [
    "xml_path='asset/panda/franka_panda.xml'\n",
    "#full_xml_path = os.path.abspath(os.path.join(os.getcwd(),xml_path))\n",
    "model = mujoco.MjModel.from_xml_path(full_xml_path)\n",
    "data = mujoco.MjData(model)\n",
    "mujoco.mj_resetData(model, data) # reset\n",
    "print (\"[Panda] parsed.\")"
   ]
  },
  {
   "cell_type": "code",
   "execution_count": 5,
   "id": "c422da0b",
   "metadata": {},
   "outputs": [],
   "source": [
    "# Other Github repo PNP Examples\n",
    "\n",
    "# xml_path = 'asset/panda/franka_panda_w_objs.xml'\n",
    "# env = MuJoCoParserClass(name='Panda', rel_xml_path=xml_path, VERBOSE=False)\n",
    "# env.forward()\n",
    "# # Initialize MuJoCo viewer\n",
    "# env.init_viewer(viewer_title=\"test\", viewer_width=1600, viewer_height=900,\n",
    "#                 viewer_hide_menus=False)\n",
    "# env.update_viewer(cam_id=2)"
   ]
  }
 ],
 "metadata": {
  "kernelspec": {
   "display_name": "granything",
   "language": "python",
   "name": "python3"
  },
  "language_info": {
   "codemirror_mode": {
    "name": "ipython",
    "version": 3
   },
   "file_extension": ".py",
   "mimetype": "text/x-python",
   "name": "python",
   "nbconvert_exporter": "python",
   "pygments_lexer": "ipython3",
   "version": "3.9.22"
  }
 },
 "nbformat": 4,
 "nbformat_minor": 5
}
