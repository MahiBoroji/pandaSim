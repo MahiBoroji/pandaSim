{
 "cells": [
  {
   "cell_type": "markdown",
   "id": "7db7bace",
   "metadata": {},
   "source": [
    "# Franka Robot Grasping Tutorial: With and Without Spinning Pads\n",
    "\n",
    "This tutorial demonstrates a comparison between two Franka Emika Panda robots—one with spinning pads and one without—performing the same grasping task. The spinning pads reduce the torsional friction about the normal vector of the contact between robot's finger and the object. \n",
    "\"The implementation for friction in genesis is not as advanced that in Mujoco. There is only 1 scalar parameter in Genesis, and condim cannot be changed (only condim = 3 is implemented). There is no torsional friction at the moment. The torsional friction in genesis is the result of multi-contact friction.\"\n",
    "\n",
    "\n",
    "The standard robot uses joints 0-8, with 0-6 for arm movement and 7-8 for the gripper. The modified robot includes spinning pads at joints 9-10, which can help provide rotational slippage at the contact point"
   ]
  },
  {
   "cell_type": "code",
   "execution_count": 1,
   "id": "5502bb81",
   "metadata": {},
   "outputs": [
    {
     "name": "stderr",
     "output_type": "stream",
     "text": [
      "[I 05/18/25 22:15:10.044 8225] [shell.py:_shell_pop_print@23] Graphical python shell detected, using wrapped sys.stdout\n"
     ]
    }
   ],
   "source": [
    "import genesis as gs\n",
    "import numpy as np\n",
    "import torch\n",
    "from pytransform3d import (\n",
    "    transformations as pt,\n",
    "    rotations as pr,\n",
    "    batch_rotations as pb,\n",
    "    trajectories as ptr,\n",
    "    plot_utils as ppu\n",
    ")\n",
    "from pandaSim.geometry.genesis_adapter import GenesisAdapter\n",
    "from pandaSim.planning.screw_motion_planner import ScrewMotionPlanner\n",
    "\n",
    "\n",
    "import spatialmath as sm\n",
    "# auto reaload\n",
    "%load_ext autoreload\n",
    "%autoreload 2"
   ]
  },
  {
   "cell_type": "code",
   "execution_count": 2,
   "id": "28c123a4",
   "metadata": {},
   "outputs": [
    {
     "name": "stdout",
     "output_type": "stream",
     "text": [
      "\u001b[38;5;159m[Genesis] [22:15:13] [INFO] \u001b[38;5;121m╭───────────────────────────────────────────────╮\u001b[0m\u001b[38;5;159m\u001b[0m\n",
      "\u001b[38;5;159m[Genesis] [22:15:13] [INFO] \u001b[38;5;121m│┈┉┈┉┈┉┈┉┈┉┈┉┈┉┈┉┈┉┈\u001b[0m\u001b[38;5;159m \u001b[38;5;121m\u001b[1m\u001b[3mGenesis\u001b[0m\u001b[38;5;159m \u001b[38;5;121m┈┉┈┉┈┉┈┉┈┉┈┉┈┉┈┉┈┉┈│\u001b[0m\u001b[38;5;159m\u001b[0m\n",
      "\u001b[38;5;159m[Genesis] [22:15:13] [INFO] \u001b[38;5;121m╰───────────────────────────────────────────────╯\u001b[0m\u001b[38;5;159m\u001b[0m\n",
      "\u001b[38;5;159m[Genesis] [22:15:13] [INFO] Running on \u001b[38;5;121m\u001b[4m[11th Gen Intel(R) Core(TM) i7-11800H @ 2.30GHz]\u001b[0m\u001b[38;5;159m with backend \u001b[38;5;121m\u001b[4mgs.cpu\u001b[0m\u001b[38;5;159m. Device memory: \u001b[38;5;121m\u001b[4m31.05\u001b[0m\u001b[38;5;159m GB.\u001b[0m\n",
      "\u001b[38;5;159m[Genesis] [22:15:13] [INFO] 🚀 Genesis initialized. 🔖 version: \u001b[38;5;121m\u001b[4m0.2.1\u001b[0m\u001b[38;5;159m, 🌱 seed: \u001b[38;5;121m\u001b[4mNone\u001b[0m\u001b[38;5;159m, 📏 precision: '\u001b[38;5;121m\u001b[4m32\u001b[0m\u001b[38;5;159m', 🐛 debug: \u001b[38;5;121m\u001b[4mFalse\u001b[0m\u001b[38;5;159m, 🎨 theme: '\u001b[38;5;121m\u001b[4mdark\u001b[0m\u001b[38;5;159m'.\u001b[0m\n",
      "\u001b[38;5;159m[Genesis] [22:15:13] [INFO] Scene \u001b[38;5;121m\u001b[3m<c1d0485>\u001b[0m\u001b[38;5;159m created.\u001b[0m\n"
     ]
    }
   ],
   "source": [
    "gs.destroy()\n",
    "gs.init(backend=gs.cpu)\n",
    "gs.set_random_seed(seed=42)\n",
    "adapter = GenesisAdapter()\n",
    "planner = ScrewMotionPlanner()"
   ]
  },
  {
   "cell_type": "markdown",
   "id": "f318f00c",
   "metadata": {},
   "source": [
    "## Scene Construction\n",
    "\n",
    "Here we create the simulation environment with:\n",
    "1. A ground plane\n",
    "2. Two Franka Emika Panda robots:\n",
    "   - One standard robot at position (0,2,0)\n",
    "   - One with spinning pads and virtual finger at position (0,0,0)\n",
    "3. Two cubes for each robot\n",
    "4. A target entity for visualization\n",
    "\n",
    "The key difference between the robots is that the standard Franka `(franka_MJCF)` uses only the arm and finger joints (joints 0-8), while the other version has additional spinning pads (joints 9-10) that cause rotational slippage using extra hinge DoFs.\n"
   ]
  },
  {
   "cell_type": "code",
   "execution_count": 3,
   "id": "94b65edf",
   "metadata": {},
   "outputs": [
    {
     "name": "stdout",
     "output_type": "stream",
     "text": [
      "\u001b[38;5;159m[Genesis] [22:15:13] [INFO] Adding \u001b[38;5;121m<gs.RigidEntity>\u001b[0m\u001b[38;5;159m. idx: \u001b[38;5;121m0\u001b[0m\u001b[38;5;159m, uid: \u001b[38;5;121m\u001b[3m<fa2748d>\u001b[0m\u001b[38;5;159m, morph: \u001b[38;5;121m<gs.morphs.Plane>\u001b[0m\u001b[38;5;159m, material: \u001b[38;5;121m<gs.materials.Rigid>\u001b[0m\u001b[38;5;159m.\u001b[0m\n",
      "\u001b[38;5;159m[Genesis] [22:15:13] [INFO] Adding \u001b[38;5;121m<gs.RigidEntity>\u001b[0m\u001b[38;5;159m. idx: \u001b[38;5;121m1\u001b[0m\u001b[38;5;159m, uid: \u001b[38;5;121m\u001b[3m<fe3a808>\u001b[0m\u001b[38;5;159m, morph: \u001b[38;5;121m<gs.morphs.MJCF(file='/home/vahid/repos/pandaSim/assets/xml/franka_emika_panda/panda_vir.xml')>\u001b[0m\u001b[38;5;159m, material: \u001b[38;5;121m<gs.materials.Rigid>\u001b[0m\u001b[38;5;159m.\u001b[0m\n",
      "\u001b[38;5;226m[Genesis] [22:15:14] [WARNING] (MJCF) Tendon not supported\u001b[0m\n",
      "\u001b[38;5;226m[Genesis] [22:15:14] [WARNING] (MJCF) Approximating tendon by joint actuator for `finger_joint1`\u001b[0m\n",
      "\u001b[38;5;226m[Genesis] [22:15:14] [WARNING] (MJCF) Actuator control gain and bias parameters cannot be reduced to a unique PD control position gain. Using max between gain and bias.\u001b[0m\n",
      "\u001b[38;5;226m[Genesis] [22:15:14] [WARNING] (MJCF) Approximating tendon by joint actuator for `finger_joint2`\u001b[0m\n",
      "\u001b[38;5;226m[Genesis] [22:15:14] [WARNING] (MJCF) Actuator control gain and bias parameters cannot be reduced to a unique PD control position gain. Using max between gain and bias.\u001b[0m\n",
      "\u001b[38;5;159m[Genesis] [22:15:14] [INFO] Adding \u001b[38;5;121m<gs.RigidEntity>\u001b[0m\u001b[38;5;159m. idx: \u001b[38;5;121m2\u001b[0m\u001b[38;5;159m, uid: \u001b[38;5;121m\u001b[3m<6d4d60e>\u001b[0m\u001b[38;5;159m, morph: \u001b[38;5;121m<gs.morphs.Box>\u001b[0m\u001b[38;5;159m, material: \u001b[38;5;121m<gs.materials.Rigid>\u001b[0m\u001b[38;5;159m.\u001b[0m\n",
      "\u001b[38;5;159m[Genesis] [22:15:14] [INFO] Adding \u001b[38;5;121m<gs.RigidEntity>\u001b[0m\u001b[38;5;159m. idx: \u001b[38;5;121m3\u001b[0m\u001b[38;5;159m, uid: \u001b[38;5;121m\u001b[3m<4751da2>\u001b[0m\u001b[38;5;159m, morph: \u001b[38;5;121m<gs.morphs.URDF(file='/home/vahid/envs/panda/lib/python3.10/site-packages/genesis/assets/urdf/3763/mobility_vhacd.urdf')>\u001b[0m\u001b[38;5;159m, material: \u001b[38;5;121m<gs.materials.Rigid>\u001b[0m\u001b[38;5;159m.\u001b[0m\n",
      "\u001b[38;5;159m[Genesis] [22:15:14] [INFO] Adding \u001b[38;5;121m<gs.RigidEntity>\u001b[0m\u001b[38;5;159m. idx: \u001b[38;5;121m4\u001b[0m\u001b[38;5;159m, uid: \u001b[38;5;121m\u001b[3m<99aba06>\u001b[0m\u001b[38;5;159m, morph: \u001b[38;5;121m<gs.morphs.Cylinder>\u001b[0m\u001b[38;5;159m, material: \u001b[38;5;121m<gs.materials.Rigid>\u001b[0m\u001b[38;5;159m.\u001b[0m\n",
      "\u001b[38;5;159m[Genesis] [22:15:14] [INFO] Adding \u001b[38;5;121m<gs.RigidEntity>\u001b[0m\u001b[38;5;159m. idx: \u001b[38;5;121m5\u001b[0m\u001b[38;5;159m, uid: \u001b[38;5;121m\u001b[3m<36b5c43>\u001b[0m\u001b[38;5;159m, morph: \u001b[38;5;121m<gs.morphs.Mesh(file='/home/vahid/envs/panda/lib/python3.10/site-packages/genesis/assets/meshes/axis.obj')>\u001b[0m\u001b[38;5;159m, material: \u001b[38;5;121m<gs.materials.Rigid>\u001b[0m\u001b[38;5;159m.\u001b[0m\n"
     ]
    }
   ],
   "source": [
    "scene = adapter.scene\n",
    "plane = scene.add_entity(\n",
    "    gs.morphs.Plane(),\n",
    ")\n",
    "\n",
    "franka = scene.add_entity(\n",
    "    gs.morphs.MJCF(file=\"../assets/xml/franka_emika_panda/panda_vir.xml\")\n",
    "                   \n",
    ")\n",
    "cube_size = (0.1, 0.07, 0.25)\n",
    "cube_pos = (0.7, 0, 0.05)\n",
    "\n",
    "cube = scene.add_entity(\n",
    "    gs.morphs.Box(\n",
    "        size = cube_size,\n",
    "        pos  = cube_pos,\n",
    "        euler = (0, -90, 0)\n",
    "    ),\n",
    "    surface=gs.surfaces.Default(\n",
    "        color=(0.5, 0.8, 0.94),\n",
    "    ),\n",
    "    material=gs.materials.Rigid(friction=5)\n",
    "    \n",
    ")\n",
    "\n",
    "bottle = scene.add_entity(\n",
    "    material=gs.materials.Rigid(rho=300),\n",
    "    morph=gs.morphs.URDF(\n",
    "        file=\"urdf/3763/mobility_vhacd.urdf\",\n",
    "        scale=0.09,\n",
    "        pos=(0.65, 0.2, 0.036),\n",
    "        euler = (30, -90, 0),\n",
    "    ),\n",
    "    # visualize_contact=True,\n",
    ")\n",
    "\n",
    "cylinder_pos = (0.7, -0.2, 0.03)\n",
    "cylinder_euler = (-30, -90, 0)\n",
    "cylinder_radius = 0.03\n",
    "cylinder_height = 0.15\n",
    "\n",
    "cylinder = scene.add_entity(\n",
    "    gs.morphs.Cylinder(\n",
    "        radius = cylinder_radius,\n",
    "        height = cylinder_height,\n",
    "        pos    = cylinder_pos,\n",
    "        euler  = cylinder_euler,\n",
    "    ),\n",
    "    surface=gs.surfaces.Default(\n",
    "        color = (0.1, 0.8 , 0.1),   \n",
    "    )\n",
    ")\n",
    "\n",
    "target_entity = scene.add_entity(\n",
    "    gs.morphs.Mesh(\n",
    "        file=\"meshes/axis.obj\",\n",
    "        scale=0.15,\n",
    "        collision=False,\n",
    "    ),\n",
    "    surface=gs.surfaces.Default(color=(1, 0.5, 0.5, 1)),\n",
    "    material=gs.materials.Rigid(gravity_compensation=1.0)\n",
    ")"
   ]
  },
  {
   "cell_type": "markdown",
   "id": "a4abcb88",
   "metadata": {},
   "source": [
    "## Robot Configuration\n",
    "\n",
    "We build the scene and define important joint groups:\n",
    "- `motors_dof`: Joints 0-6 for arm movement\n",
    "- `fingers_dof`: Joints 7-8 for gripper fingers\n",
    "- `virtual_hand`: Joint 9 at the middle of the finger for rotational slippage (only on the `franka`)\n",
    "- `spinning_pads`: Joints 9-10 for the spinning contact pads (only on the `franka`)"
   ]
  },
  {
   "cell_type": "code",
   "execution_count": 4,
   "id": "6222462d",
   "metadata": {},
   "outputs": [
    {
     "name": "stdout",
     "output_type": "stream",
     "text": [
      "\u001b[38;5;159m[Genesis] [22:15:16] [INFO] Building scene \u001b[38;5;121m\u001b[3m<c1d0485>\u001b[0m\u001b[38;5;159m...\u001b[0m\n"
     ]
    },
    {
     "name": "stderr",
     "output_type": "stream",
     "text": [
      "[W 05/18/25 22:15:16.388 8225] [frontend_ir.cpp:begin_frontend_struct_for_on_snode@1678] ti.loop_config(serialize=True) does not have effect on the struct for. The execution order is not guaranteed.\n"
     ]
    },
    {
     "name": "stdout",
     "output_type": "stream",
     "text": [
      "\u001b[38;5;226m[Genesis] [22:15:16] [WARNING] Reference robot position exceeds joint limits.\u001b[0m\n"
     ]
    },
    {
     "name": "stderr",
     "output_type": "stream",
     "text": [
      "[W 05/18/25 22:15:16.659 8225] [frontend_ir.cpp:begin_frontend_struct_for_on_snode@1678] ti.loop_config(serialize=True) does not have effect on the struct for. The execution order is not guaranteed.\n",
      "[W 05/18/25 22:15:16.731 8225] [frontend_ir.cpp:begin_frontend_struct_for_on_snode@1678] ti.loop_config(serialize=True) does not have effect on the struct for. The execution order is not guaranteed.\n",
      "[W 05/18/25 22:15:17.380 8225] [frontend_ir.cpp:begin_frontend_struct_for_on_external_tensor@1694] ti.loop_config(serialize=True) does not have effect on the struct for. The execution order is not guaranteed.\n"
     ]
    },
    {
     "name": "stdout",
     "output_type": "stream",
     "text": [
      "\u001b[38;5;159m[Genesis] [22:15:18] [INFO] Building visualizer...\u001b[0m\n"
     ]
    },
    {
     "name": "stderr",
     "output_type": "stream",
     "text": [
      "[W 05/18/25 22:15:18.680 8225] [frontend_ir.cpp:begin_frontend_struct_for_on_snode@1678] ti.loop_config(serialize=True) does not have effect on the struct for. The execution order is not guaranteed.\n"
     ]
    },
    {
     "name": "stdout",
     "output_type": "stream",
     "text": [
      "\u001b[38;5;159m[Genesis] [22:15:20] [INFO] Viewer created. Resolution: \u001b[38;5;121m1280×960\u001b[0m\u001b[38;5;159m, max_FPS: \u001b[38;5;121m60\u001b[0m\u001b[38;5;159m.\u001b[0m\n"
     ]
    }
   ],
   "source": [
    "n_envs = 0\n",
    "scene.build(compile_kernels=False)\n"
   ]
  },
  {
   "cell_type": "code",
   "execution_count": 5,
   "id": "f81ea9fb",
   "metadata": {},
   "outputs": [
    {
     "name": "stdout",
     "output_type": "stream",
     "text": [
      "joint1 0\n",
      "joint2 1\n",
      "joint3 2\n",
      "joint4 3\n",
      "joint5 4\n",
      "joint6 5\n",
      "joint7 6\n",
      "finger_joint1 7\n",
      "finger_joint2 8\n",
      "virtual_finger_joint 9\n",
      "left_pad_hinge 10\n",
      "right_pad_hinge 11\n"
     ]
    }
   ],
   "source": [
    "for joint in franka.joints:\n",
    "    print(joint.name, joint.idx_local)\n",
    "motors_dof = np.arange(7)\n",
    "fingers_dof = np.arange(7, 9)\n",
    "virtual_finger = 9\n",
    "spinning_pads = np.arange(10, 12)"
   ]
  },
  {
   "cell_type": "markdown",
   "id": "a752e98d",
   "metadata": {},
   "source": [
    "## Initial Robot Positioning\n",
    "\n",
    "Reset the scene and set both robots to the same initial joint configuration. We'll use this \"ready pose\" as a starting position for our task. Notice that the standard robot has 9 DOFs (degrees of freedom), while the modified version can have 1 dof extra for virtual_finger and two extras for spinning_pads"
   ]
  },
  {
   "cell_type": "code",
   "execution_count": 6,
   "id": "fae73417",
   "metadata": {},
   "outputs": [],
   "source": [
    "n_envs = 0"
   ]
  },
  {
   "cell_type": "code",
   "execution_count": 50,
   "id": "8a751095",
   "metadata": {},
   "outputs": [
    {
     "name": "stdout",
     "output_type": "stream",
     "text": [
      "\u001b[38;5;159m[Genesis] [22:59:07] [INFO] Resetting Scene \u001b[38;5;121m\u001b[3m<c1d0485>\u001b[0m\u001b[38;5;159m.\u001b[0m\n"
     ]
    }
   ],
   "source": [
    "scene.reset()\n",
    "qr = np.array([0.0000, -0.3002, 0.0000, -2.1991, 0.0000, 2.0071, 0.7854, 0.04, 0.04])\n",
    "virtual_franka_qr = np.append(qr, [0, 0, 0])\n",
    "ready_qpos = virtual_franka_qr\n",
    "# set joints position\n",
    "franka.ready_qpos = ready_qpos.squeeze()\n",
    "franka.set_qpos(franka.ready_qpos)\n",
    "# position control\n",
    "franka.control_dofs_position(franka.ready_qpos)\n",
    "\n",
    "\n",
    "end_effector = franka.get_link('hand')\n",
    "virtual_finger = franka.get_link('virtual_finger')\n",
    "\n",
    "\n",
    "\n",
    "target_entity.set_pos(virtual_finger.get_pos())\n",
    "target_entity.set_quat(virtual_finger.get_quat())\n",
    "\n",
    "\n",
    "scene.step()"
   ]
  },
  {
   "cell_type": "markdown",
   "id": "2bc6b342",
   "metadata": {},
   "source": [
    "# Find Grasp Pose for Cube\n",
    "\n",
    "In this section, we'll find a suitable grasp pose for the cube. The planner.compute_grasp function allows us to specify different grasp approaches:\n",
    "- grasp_height='top': Approaches to the top of the object\n",
    "- grasp_height='bottom': Approaches to the bottom of the object\n",
    "- grasp_height='center': Approaches to the center of the object\n",
    "\n",
    "Setting prefer_closer_grasp=True ensures the planner finds a grasp pose that minimizes the distance between the current gripper position and the target grasp position, which is useful for efficiency and to avoid unnecessary movements.\n",
    "\n",
    "Make sure to include the displacement offset if you'are using 'hand' or another link as end_effector link to grasp\n"
   ]
  },
  {
   "cell_type": "code",
   "execution_count": 51,
   "id": "198eace2",
   "metadata": {},
   "outputs": [
    {
     "data": {
      "text/plain": [
       "0"
      ]
     },
     "execution_count": 51,
     "metadata": {},
     "output_type": "execute_result"
    }
   ],
   "source": [
    "scene.n_envs"
   ]
  },
  {
   "cell_type": "code",
   "execution_count": 52,
   "id": "c479d1b1",
   "metadata": {},
   "outputs": [],
   "source": [
    "scene.step()\n",
    "grasp_T_gripper = np.array([[0, 1, 0, 0],\n",
    "                          [0, 0, -1, 0],\n",
    "                          [-1, 0, 0, 0],\n",
    "                          [0, 0, 0, 1]])\n",
    "\n",
    "grasp_pose, qs, s_axes = planner.compute_grasp(obj=cube, \n",
    "                                          adapter=adapter, \n",
    "                                          prefer_closer_grasp=True,\n",
    "                                          grasp_height='top',\n",
    "                                          offset_toward=0.02,\n",
    "                                          gripper_offset=grasp_T_gripper,\n",
    "                                          output_type='pq')\n",
    "\n",
    "target_entity.set_qpos(grasp_pose)\n",
    "scene.step()"
   ]
  },
  {
   "cell_type": "markdown",
   "id": "e3d0308f",
   "metadata": {},
   "source": [
    "## Pre-grasp Positioning\n",
    "\n",
    "Now we'll move both robots to a position above the cube. We'll use inverse kinematics to calculate the joint positions needed to place the end-effector at the desired position and orientation. \n"
   ]
  },
  {
   "cell_type": "code",
   "execution_count": 53,
   "id": "a4b7dc63",
   "metadata": {},
   "outputs": [],
   "source": [
    "\n",
    "qpos = franka.inverse_kinematics(\n",
    "    link = virtual_finger,\n",
    "    pos  = grasp_pose[:3] + np.array([0, 0, 0.1]),\n",
    "    quat = grasp_pose[3:],\n",
    "    pos_tol = 1e-5,\n",
    "    rot_mask = [False, False, True]\n",
    ")\n",
    "qpos[fingers_dof] = 0.04\n"
   ]
  },
  {
   "cell_type": "code",
   "execution_count": 54,
   "id": "1b864128",
   "metadata": {},
   "outputs": [
    {
     "name": "stdout",
     "output_type": "stream",
     "text": [
      "\u001b[38;5;159m[Genesis] [22:59:21] [INFO] Path solution found successfully.\u001b[0m\n"
     ]
    }
   ],
   "source": [
    "path = franka.plan_path(\n",
    "    qpos_goal     = qpos,\n",
    "    num_waypoints = 250, # 2s duration\n",
    ")"
   ]
  },
  {
   "cell_type": "markdown",
   "id": "66ef5fbf",
   "metadata": {},
   "source": [
    "## Path Planning\n",
    "\n",
    "Generate a smooth trajectory for each robot to reach the pre-grasp position."
   ]
  },
  {
   "cell_type": "code",
   "execution_count": 55,
   "id": "e3141cfd",
   "metadata": {},
   "outputs": [],
   "source": [
    "# execute the planned path\n",
    "for waypoint in path:\n",
    "    franka.control_dofs_position(waypoint)\n",
    "    scene.step()\n",
    "\n",
    "# allow robot to reach the last waypoint\n",
    "adapter.step_simulation(1)"
   ]
  },
  {
   "cell_type": "markdown",
   "id": "273cfbb6",
   "metadata": {},
   "source": [
    "## Reaching for the Object\n",
    "\n",
    "Calculate and execute a path to move from the pre-grasp position down to the actual grasp position. Both robots move their end-effectors to the side of their respective cubes.\n"
   ]
  },
  {
   "cell_type": "code",
   "execution_count": 56,
   "metadata": {},
   "outputs": [],
   "source": [
    "\n",
    "qpos = franka.inverse_kinematics(\n",
    "    link = virtual_finger,\n",
    "    pos  = grasp_pose[:3],\n",
    "    quat = grasp_pose[3:],\n",
    "    pos_tol = 1e-5,\n",
    "    rot_mask = [False, False, True]\n",
    ")\n",
    "qpos[fingers_dof] = 0.04\n"
   ]
  },
  {
   "cell_type": "code",
   "execution_count": 57,
   "metadata": {},
   "outputs": [
    {
     "name": "stdout",
     "output_type": "stream",
     "text": [
      "\u001b[38;5;159m[Genesis] [22:59:52] [INFO] Path solution found successfully.\u001b[0m\n"
     ]
    }
   ],
   "source": [
    "path = franka.plan_path(\n",
    "    qpos_goal     = qpos,\n",
    "    num_waypoints = 250, # 2s duration\n",
    ")"
   ]
  },
  {
   "cell_type": "code",
   "execution_count": 58,
   "metadata": {},
   "outputs": [],
   "source": [
    "# execute the planned path\n",
    "for waypoint in path:\n",
    "    franka.control_dofs_position(waypoint)\n",
    "    scene.step()\n",
    "\n",
    "# allow robot to reach the last waypoint\n",
    "adapter.step_simulation(1)"
   ]
  },
  {
   "cell_type": "code",
   "execution_count": 59,
   "id": "95d309ac",
   "metadata": {},
   "outputs": [],
   "source": [
    "franka.control_dofs_force(np.array([-2, -2]), fingers_dof)\n",
    "adapter.step_simulation(1)"
   ]
  },
  {
   "cell_type": "code",
   "execution_count": 60,
   "id": "edd8aca8",
   "metadata": {},
   "outputs": [],
   "source": [
    "trajectory = planner.plan(robot=franka, \n",
    "                          link=virtual_finger, \n",
    "                          object=cube, \n",
    "                          adapter=adapter, \n",
    "                          qs=qs,\n",
    "                          s_axes=s_axes,\n",
    "                          output_type='pq')"
   ]
  },
  {
   "cell_type": "code",
   "execution_count": 61,
   "id": "c5bd14fd",
   "metadata": {},
   "outputs": [],
   "source": [
    "\n",
    "qposs = []\n",
    "for pq in trajectory:\n",
    "    qpos = franka.inverse_kinematics(\n",
    "        link = virtual_finger,\n",
    "        pos = pq[:3],\n",
    "        quat = pq[3:],\n",
    "        init_qpos = qpos,\n",
    "        pos_tol = 1e-5,\n",
    "        rot_mask = [False, False, True]\n",
    "    )\n",
    "    qposs.append(qpos)"
   ]
  },
  {
   "cell_type": "code",
   "execution_count": 62,
   "id": "b1ceae43",
   "metadata": {},
   "outputs": [],
   "source": [
    "\n",
    "for waypoint in qposs:\n",
    "    franka.control_dofs_position(waypoint[motors_dof], motors_dof)\n",
    "    target_entity.set_pos(virtual_finger.get_pos())\n",
    "    target_entity.set_quat(virtual_finger.get_quat())\n",
    "    scene.step()\n",
    "\n"
   ]
  },
  {
   "cell_type": "code",
   "execution_count": 63,
   "id": "f84441f0",
   "metadata": {},
   "outputs": [],
   "source": [
    "franka.control_dofs_force(np.array([0, 0]), fingers_dof)\n",
    "adapter.step_simulation(1)"
   ]
  },
  {
   "cell_type": "code",
   "execution_count": 66,
   "id": "2afaa09c",
   "metadata": {},
   "outputs": [
    {
     "data": {
      "text/plain": [
       "array([ 8.9518577e-01, -2.3268118e-04,  2.1986149e-01,  6.8142742e-01,\n",
       "        6.8108791e-01, -1.8942007e-01,  1.8946242e-01], dtype=float32)"
      ]
     },
     "execution_count": 66,
     "metadata": {},
     "output_type": "execute_result"
    }
   ],
   "source": [
    "finger_pose = adapter.forward_kinematics(franka, virtual_finger, output_type='pq')\n",
    "finger_pose"
   ]
  },
  {
   "cell_type": "code",
   "execution_count": 72,
   "id": "8457c2c9",
   "metadata": {},
   "outputs": [
    {
     "name": "stdout",
     "output_type": "stream",
     "text": [
      "\u001b[38;5;159m[Genesis] [23:06:08] [INFO] Ingoring collision pairs already active for starting pos.\u001b[0m\n",
      "\u001b[38;5;159m[Genesis] [23:06:08] [INFO] Path solution found successfully.\u001b[0m\n"
     ]
    }
   ],
   "source": [
    "qpos = franka.inverse_kinematics(\n",
    "    link = virtual_finger,\n",
    "    pos  = finger_pose[:3] + np.array([0, 0, 0.1]),\n",
    "    quat = finger_pose[3:],\n",
    "    pos_tol = 1e-5,\n",
    "    rot_mask = [False, False, True]\n",
    ")\n",
    "qpos[fingers_dof] = 0.04\n",
    "path = franka.plan_path(\n",
    "    qpos_goal     = qpos,\n",
    "    num_waypoints = 250, # 2s duration\n",
    ")\n",
    "for waypoint in path:\n",
    "    franka.control_dofs_position(waypoint)\n",
    "    scene.step()\n",
    "\n",
    "# allow robot to reach the last waypoint\n",
    "adapter.step_simulation(1)\n",
    "\n"
   ]
  }
 ],
 "metadata": {
  "kernelspec": {
   "display_name": "panda",
   "language": "python",
   "name": "python3"
  },
  "language_info": {
   "codemirror_mode": {
    "name": "ipython",
    "version": 3
   },
   "file_extension": ".py",
   "mimetype": "text/x-python",
   "name": "python",
   "nbconvert_exporter": "python",
   "pygments_lexer": "ipython3",
   "version": "3.10.17"
  }
 },
 "nbformat": 4,
 "nbformat_minor": 5
}
