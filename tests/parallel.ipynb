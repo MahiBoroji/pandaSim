{
 "cells": [
  {
   "cell_type": "markdown",
   "id": "7db7bace",
   "metadata": {},
   "source": [
    "# Franka Robot Grasping Tutorial: With and Without Spinning Pads\n",
    "\n",
    "This tutorial demonstrates a comparison between two Franka Emika Panda robots—one with spinning pads and one without—performing the same grasping task. The spinning pads reduce the torsional friction about the normal vector of the contact between robot's finger and the object. \n",
    "\"The implementation for friction in genesis is not as advanced that in Mujoco. There is only 1 scalar parameter in Genesis, and condim cannot be changed (only condim = 3 is implemented). There is no torsional friction at the moment. The torsional friction in genesis is the result of multi-contact friction.\"\n",
    "\n",
    "\n",
    "The standard robot uses joints 0-8, with 0-6 for arm movement and 7-8 for the gripper. The modified robot includes spinning pads at joints 9-10, which can help provide rotational slippage at the contact point"
   ]
  },
  {
   "cell_type": "code",
   "execution_count": 1,
   "id": "5502bb81",
   "metadata": {},
   "outputs": [
    {
     "name": "stderr",
     "output_type": "stream",
     "text": [
      "[I 05/18/25 21:36:24.577 25073] [shell.py:_shell_pop_print@23] Graphical python shell detected, using wrapped sys.stdout\n"
     ]
    }
   ],
   "source": [
    "import genesis as gs\n",
    "import numpy as np\n",
    "import torch\n",
    "from pytransform3d import (\n",
    "    transformations as pt,\n",
    "    rotations as pr,\n",
    "    batch_rotations as pb,\n",
    "    trajectories as ptr,\n",
    "    plot_utils as ppu\n",
    ")\n",
    "from pandaSim.geometry.genesis_adapter import GenesisAdapter\n",
    "from pandaSim.planning.screw_motion_planner import ScrewMotionPlanner\n",
    "\n",
    "\n",
    "import spatialmath as sm\n",
    "# auto reaload\n",
    "%load_ext autoreload\n",
    "%autoreload 2"
   ]
  },
  {
   "cell_type": "code",
   "execution_count": 2,
   "id": "28c123a4",
   "metadata": {},
   "outputs": [
    {
     "name": "stdout",
     "output_type": "stream",
     "text": [
      "\u001b[38;5;159m[Genesis] [21:36:35] [INFO] \u001b[38;5;121m╭───────────────────────────────────────────────╮\u001b[0m\u001b[38;5;159m\u001b[0m\n",
      "\u001b[38;5;159m[Genesis] [21:36:35] [INFO] \u001b[38;5;121m│┈┉┈┉┈┉┈┉┈┉┈┉┈┉┈┉┈┉┈\u001b[0m\u001b[38;5;159m \u001b[38;5;121m\u001b[1m\u001b[3mGenesis\u001b[0m\u001b[38;5;159m \u001b[38;5;121m┈┉┈┉┈┉┈┉┈┉┈┉┈┉┈┉┈┉┈│\u001b[0m\u001b[38;5;159m\u001b[0m\n",
      "\u001b[38;5;159m[Genesis] [21:36:35] [INFO] \u001b[38;5;121m╰───────────────────────────────────────────────╯\u001b[0m\u001b[38;5;159m\u001b[0m\n",
      "\u001b[38;5;159m[Genesis] [21:36:36] [INFO] Running on \u001b[38;5;121m\u001b[4m[NVIDIA GeForce RTX 3070 Laptop GPU]\u001b[0m\u001b[38;5;159m with backend \u001b[38;5;121m\u001b[4mgs.cuda\u001b[0m\u001b[38;5;159m. Device memory: \u001b[38;5;121m\u001b[4m7.78\u001b[0m\u001b[38;5;159m GB.\u001b[0m\n",
      "\u001b[38;5;159m[Genesis] [21:36:36] [INFO] 🚀 Genesis initialized. 🔖 version: \u001b[38;5;121m\u001b[4m0.2.1\u001b[0m\u001b[38;5;159m, 🌱 seed: \u001b[38;5;121m\u001b[4mNone\u001b[0m\u001b[38;5;159m, 📏 precision: '\u001b[38;5;121m\u001b[4m32\u001b[0m\u001b[38;5;159m', 🐛 debug: \u001b[38;5;121m\u001b[4mFalse\u001b[0m\u001b[38;5;159m, 🎨 theme: '\u001b[38;5;121m\u001b[4mdark\u001b[0m\u001b[38;5;159m'.\u001b[0m\n",
      "\u001b[38;5;159m[Genesis] [21:36:36] [INFO] Scene \u001b[38;5;121m\u001b[3m<2ac7159>\u001b[0m\u001b[38;5;159m created.\u001b[0m\n"
     ]
    }
   ],
   "source": [
    "gs.destroy()\n",
    "gs.init(backend=gs.gpu)\n",
    "gs.set_random_seed(seed=42)\n",
    "adapter = GenesisAdapter()\n",
    "planner = ScrewMotionPlanner()"
   ]
  },
  {
   "cell_type": "markdown",
   "id": "f318f00c",
   "metadata": {},
   "source": [
    "## Scene Construction\n",
    "\n",
    "Here we create the simulation environment with:\n",
    "1. A ground plane\n",
    "2. Two Franka Emika Panda robots:\n",
    "   - One standard robot at position (0,2,0)\n",
    "   - One with spinning pads and virtual finger at position (0,0,0)\n",
    "3. Two cubes for each robot\n",
    "4. A target entity for visualization\n",
    "\n",
    "The key difference between the robots is that the standard Franka `(franka_MJCF)` uses only the arm and finger joints (joints 0-8), while the other version has additional spinning pads (joints 9-10) that cause rotational slippage using extra hinge DoFs.\n"
   ]
  },
  {
   "cell_type": "code",
   "execution_count": 12,
   "id": "94b65edf",
   "metadata": {},
   "outputs": [
    {
     "ename": "GenesisException",
     "evalue": "Scene is already built.",
     "output_type": "error",
     "traceback": [
      "\u001b[0;31m---------------------------------------------------------------------------\u001b[0m",
      "\u001b[0;31mGenesisException\u001b[0m                          Traceback (most recent call last)",
      "Cell \u001b[0;32mIn[12], line 2\u001b[0m\n\u001b[1;32m      1\u001b[0m scene \u001b[38;5;241m=\u001b[39m adapter\u001b[38;5;241m.\u001b[39mscene\n\u001b[0;32m----> 2\u001b[0m plane \u001b[38;5;241m=\u001b[39m \u001b[43mscene\u001b[49m\u001b[38;5;241;43m.\u001b[39;49m\u001b[43madd_entity\u001b[49m\u001b[43m(\u001b[49m\n\u001b[1;32m      3\u001b[0m \u001b[43m    \u001b[49m\u001b[43mgs\u001b[49m\u001b[38;5;241;43m.\u001b[39;49m\u001b[43mmorphs\u001b[49m\u001b[38;5;241;43m.\u001b[39;49m\u001b[43mPlane\u001b[49m\u001b[43m(\u001b[49m\u001b[43m)\u001b[49m\u001b[43m,\u001b[49m\n\u001b[1;32m      4\u001b[0m \u001b[43m)\u001b[49m\n\u001b[1;32m      6\u001b[0m franka \u001b[38;5;241m=\u001b[39m scene\u001b[38;5;241m.\u001b[39madd_entity(\n\u001b[1;32m      7\u001b[0m     gs\u001b[38;5;241m.\u001b[39mmorphs\u001b[38;5;241m.\u001b[39mMJCF(file\u001b[38;5;241m=\u001b[39m\u001b[38;5;124m\"\u001b[39m\u001b[38;5;124m../assets/xml/franka_emika_panda/panda_vir.xml\u001b[39m\u001b[38;5;124m\"\u001b[39m)\n\u001b[1;32m      8\u001b[0m                    \n\u001b[1;32m      9\u001b[0m )\n\u001b[1;32m     10\u001b[0m cube_size \u001b[38;5;241m=\u001b[39m (\u001b[38;5;241m0.1\u001b[39m, \u001b[38;5;241m0.07\u001b[39m, \u001b[38;5;241m0.25\u001b[39m)\n",
      "File \u001b[0;32m~/envs/panda/lib/python3.10/site-packages/genesis/utils/misc.py:61\u001b[0m, in \u001b[0;36massert_unbuilt.<locals>.wrapper\u001b[0;34m(self, *args, **kwargs)\u001b[0m\n\u001b[1;32m     58\u001b[0m \u001b[38;5;129m@functools\u001b[39m\u001b[38;5;241m.\u001b[39mwraps(method)\n\u001b[1;32m     59\u001b[0m \u001b[38;5;28;01mdef\u001b[39;00m\u001b[38;5;250m \u001b[39m\u001b[38;5;21mwrapper\u001b[39m(\u001b[38;5;28mself\u001b[39m, \u001b[38;5;241m*\u001b[39margs, \u001b[38;5;241m*\u001b[39m\u001b[38;5;241m*\u001b[39mkwargs):\n\u001b[1;32m     60\u001b[0m     \u001b[38;5;28;01mif\u001b[39;00m \u001b[38;5;28mself\u001b[39m\u001b[38;5;241m.\u001b[39mis_built:\n\u001b[0;32m---> 61\u001b[0m         \u001b[43mgs\u001b[49m\u001b[38;5;241;43m.\u001b[39;49m\u001b[43mraise_exception\u001b[49m\u001b[43m(\u001b[49m\u001b[38;5;124;43m\"\u001b[39;49m\u001b[38;5;124;43mScene is already built.\u001b[39;49m\u001b[38;5;124;43m\"\u001b[39;49m\u001b[43m)\u001b[49m\n\u001b[1;32m     62\u001b[0m     \u001b[38;5;28;01mreturn\u001b[39;00m method(\u001b[38;5;28mself\u001b[39m, \u001b[38;5;241m*\u001b[39margs, \u001b[38;5;241m*\u001b[39m\u001b[38;5;241m*\u001b[39mkwargs)\n",
      "File \u001b[0;32m~/envs/panda/lib/python3.10/site-packages/genesis/utils/misc.py:38\u001b[0m, in \u001b[0;36mraise_exception\u001b[0;34m(msg)\u001b[0m\n\u001b[1;32m     37\u001b[0m \u001b[38;5;28;01mdef\u001b[39;00m\u001b[38;5;250m \u001b[39m\u001b[38;5;21mraise_exception\u001b[39m(msg\u001b[38;5;241m=\u001b[39m\u001b[38;5;124m\"\u001b[39m\u001b[38;5;124mSomething went wrong.\u001b[39m\u001b[38;5;124m\"\u001b[39m):\n\u001b[0;32m---> 38\u001b[0m     \u001b[38;5;28;01mraise\u001b[39;00m gs\u001b[38;5;241m.\u001b[39mGenesisException(msg)\n",
      "\u001b[0;31mGenesisException\u001b[0m: Scene is already built."
     ]
    }
   ],
   "source": [
    "scene = adapter.scene\n",
    "plane = scene.add_entity(\n",
    "    gs.morphs.Plane(),\n",
    ")\n",
    "\n",
    "franka = scene.add_entity(\n",
    "    gs.morphs.MJCF(file=\"../assets/xml/franka_emika_panda/panda_vir.xml\")\n",
    "                   \n",
    ")\n",
    "cube_size = (0.1, 0.07, 0.25)\n",
    "cube_pos = (0.7, 0, 0.05)\n",
    "\n",
    "cube = scene.add_entity(\n",
    "    gs.morphs.Box(\n",
    "        size = cube_size,\n",
    "        pos  = cube_pos,\n",
    "        euler = (0, -90, 0)\n",
    "    ),\n",
    "    surface=gs.surfaces.Default(\n",
    "        color=(0.5, 0.8, 0.94),\n",
    "    ),\n",
    "    material=gs.materials.Rigid(friction=5)\n",
    "    \n",
    ")\n",
    "\n",
    "target_entity = scene.add_entity(\n",
    "    gs.morphs.Mesh(\n",
    "        file=\"meshes/axis.obj\",\n",
    "        scale=0.15,\n",
    "        collision=False,\n",
    "    ),\n",
    "    surface=gs.surfaces.Default(color=(1, 0.5, 0.5, 1)),\n",
    "    material=gs.materials.Rigid(gravity_compensation=1.0)\n",
    ")"
   ]
  },
  {
   "cell_type": "markdown",
   "id": "a4abcb88",
   "metadata": {},
   "source": [
    "## Robot Configuration\n",
    "\n",
    "We build the scene and define important joint groups:\n",
    "- `motors_dof`: Joints 0-6 for arm movement\n",
    "- `fingers_dof`: Joints 7-8 for gripper fingers\n",
    "- `virtual_hand`: Joint 9 at the middle of the finger for rotational slippage (only on the `franka`)\n",
    "- `spinning_pads`: Joints 9-10 for the spinning contact pads (only on the `franka`)"
   ]
  },
  {
   "cell_type": "code",
   "execution_count": 4,
   "id": "6222462d",
   "metadata": {},
   "outputs": [
    {
     "name": "stdout",
     "output_type": "stream",
     "text": [
      "\u001b[38;5;159m[Genesis] [21:30:01] [INFO] Building scene \u001b[38;5;121m\u001b[3m<01ac936>\u001b[0m\u001b[38;5;159m...\u001b[0m\n",
      "\u001b[38;5;226m[Genesis] [21:30:02] [WARNING] Reference robot position exceeds joint limits.\u001b[0m\n",
      "\u001b[38;5;159m[Genesis] [21:30:05] [INFO] Building visualizer...\u001b[0m\n",
      "\u001b[38;5;159m[Genesis] [21:30:07] [INFO] Viewer created. Resolution: \u001b[38;5;121m1280×960\u001b[0m\u001b[38;5;159m, max_FPS: \u001b[38;5;121m60\u001b[0m\u001b[38;5;159m.\u001b[0m\n"
     ]
    }
   ],
   "source": [
    "n_envs = 4\n",
    "scene.build(n_envs=n_envs, env_spacing=(2, 2), compile_kernels=False)\n"
   ]
  },
  {
   "cell_type": "code",
   "execution_count": 5,
   "id": "f81ea9fb",
   "metadata": {},
   "outputs": [
    {
     "name": "stdout",
     "output_type": "stream",
     "text": [
      "joint1 0\n",
      "joint2 1\n",
      "joint3 2\n",
      "joint4 3\n",
      "joint5 4\n",
      "joint6 5\n",
      "joint7 6\n",
      "finger_joint1 7\n",
      "finger_joint2 8\n",
      "virtual_finger_joint 9\n",
      "left_pad_hinge 10\n",
      "right_pad_hinge 11\n"
     ]
    }
   ],
   "source": [
    "for joint in franka.joints:\n",
    "    print(joint.name, joint.idx_local)\n",
    "motors_dof = np.arange(7)\n",
    "fingers_dof = np.arange(7, 9)\n",
    "virtual_finger = 9\n",
    "spinning_pads = np.arange(10, 12)"
   ]
  },
  {
   "cell_type": "markdown",
   "id": "a752e98d",
   "metadata": {},
   "source": [
    "## Initial Robot Positioning\n",
    "\n",
    "Reset the scene and set both robots to the same initial joint configuration. We'll use this \"ready pose\" as a starting position for our task. Notice that the standard robot has 9 DOFs (degrees of freedom), while the modified version can have 1 dof extra for virtual_finger and two extras for spinning_pads"
   ]
  },
  {
   "cell_type": "code",
   "execution_count": 6,
   "id": "8a751095",
   "metadata": {},
   "outputs": [
    {
     "name": "stdout",
     "output_type": "stream",
     "text": [
      "\u001b[38;5;159m[Genesis] [21:30:07] [INFO] Resetting Scene \u001b[38;5;121m\u001b[3m<01ac936>\u001b[0m\u001b[38;5;159m.\u001b[0m\n"
     ]
    }
   ],
   "source": [
    "scene.reset()\n",
    "qr = np.array([0.0000, -0.3002, 0.0000, -2.1991, 0.0000, 2.0071, 0.7854, 0.04, 0.04])\n",
    "virtual_franka_qr = np.append(qr, [0, 0, 0])\n",
    "ready_qpos = np.tile(virtual_franka_qr, (n_envs, 1))\n",
    "# set joints position\n",
    "franka.ready_qpos = ready_qpos\n",
    "franka.set_qpos(franka.ready_qpos)\n",
    "# position control\n",
    "franka.control_dofs_position(franka.ready_qpos)\n",
    "\n",
    "\n",
    "end_effector = franka.get_link('hand')\n",
    "virtual_finger = franka.get_link('virtual_finger')\n",
    "\n",
    "\n",
    "\n",
    "target_entity.set_pos(virtual_finger.get_pos())\n",
    "target_entity.set_quat(virtual_finger.get_quat())\n",
    "\n",
    "\n",
    "scene.step()"
   ]
  },
  {
   "cell_type": "code",
   "execution_count": 11,
   "id": "c479d1b1",
   "metadata": {},
   "outputs": [
    {
     "name": "stdout",
     "output_type": "stream",
     "text": [
      "\u001b[38;5;159m[Genesis] [21:35:25] [INFO] Resetting Scene \u001b[38;5;121m\u001b[3m<01ac936>\u001b[0m\u001b[38;5;159m.\u001b[0m\n",
      "\n",
      "\n"
     ]
    },
    {
     "name": "stderr",
     "output_type": "stream",
     "text": [
      "[E 05/18/25 21:35:25.516 24680] [cuda_driver.h:operator()@92] CUDA Error CUDA_ERROR_ASSERT: device-side assert triggered while calling malloc_async_impl (cuMemAllocAsync)\n"
     ]
    },
    {
     "ename": "RuntimeError",
     "evalue": "[cuda_driver.h:operator()@92] CUDA Error CUDA_ERROR_ASSERT: device-side assert triggered while calling malloc_async_impl (cuMemAllocAsync)",
     "output_type": "error",
     "traceback": [
      "\u001b[0;31m---------------------------------------------------------------------------\u001b[0m",
      "\u001b[0;31mRuntimeError\u001b[0m                              Traceback (most recent call last)",
      "Cell \u001b[0;32mIn[11], line 1\u001b[0m\n\u001b[0;32m----> 1\u001b[0m \u001b[43mscene\u001b[49m\u001b[38;5;241;43m.\u001b[39;49m\u001b[43mreset\u001b[49m\u001b[43m(\u001b[49m\u001b[43m)\u001b[49m\n\u001b[1;32m      2\u001b[0m scene\u001b[38;5;241m.\u001b[39mstep()\n\u001b[1;32m      3\u001b[0m transform \u001b[38;5;241m=\u001b[39m adapter\u001b[38;5;241m.\u001b[39mtransform(obj\u001b[38;5;241m=\u001b[39mcube, \n\u001b[1;32m      4\u001b[0m                   transformation\u001b[38;5;241m=\u001b[39msm\u001b[38;5;241m.\u001b[39mSE3\u001b[38;5;241m.\u001b[39mRPY(np\u001b[38;5;241m.\u001b[39mpi\u001b[38;5;241m/\u001b[39m\u001b[38;5;241m3\u001b[39m, \u001b[38;5;241m0\u001b[39m, \u001b[38;5;241m0\u001b[39m)\u001b[38;5;241m.\u001b[39mA, \n\u001b[1;32m      5\u001b[0m                   apply\u001b[38;5;241m=\u001b[39m\u001b[38;5;28;01mTrue\u001b[39;00m,\n\u001b[1;32m      6\u001b[0m                   envs_idx\u001b[38;5;241m=\u001b[39m\u001b[38;5;241m0\u001b[39m)\n",
      "File \u001b[0;32m~/envs/panda/lib/python3.10/site-packages/genesis/utils/misc.py:72\u001b[0m, in \u001b[0;36massert_built.<locals>.wrapper\u001b[0;34m(self, *args, **kwargs)\u001b[0m\n\u001b[1;32m     70\u001b[0m \u001b[38;5;28;01mif\u001b[39;00m \u001b[38;5;129;01mnot\u001b[39;00m \u001b[38;5;28mself\u001b[39m\u001b[38;5;241m.\u001b[39mis_built:\n\u001b[1;32m     71\u001b[0m     gs\u001b[38;5;241m.\u001b[39mraise_exception(\u001b[38;5;124m\"\u001b[39m\u001b[38;5;124mScene is not built yet.\u001b[39m\u001b[38;5;124m\"\u001b[39m)\n\u001b[0;32m---> 72\u001b[0m \u001b[38;5;28;01mreturn\u001b[39;00m \u001b[43mmethod\u001b[49m\u001b[43m(\u001b[49m\u001b[38;5;28;43mself\u001b[39;49m\u001b[43m,\u001b[49m\u001b[43m \u001b[49m\u001b[38;5;241;43m*\u001b[39;49m\u001b[43margs\u001b[49m\u001b[43m,\u001b[49m\u001b[43m \u001b[49m\u001b[38;5;241;43m*\u001b[39;49m\u001b[38;5;241;43m*\u001b[39;49m\u001b[43mkwargs\u001b[49m\u001b[43m)\u001b[49m\n",
      "File \u001b[0;32m~/envs/panda/lib/python3.10/site-packages/genesis/engine/scene.py:672\u001b[0m, in \u001b[0;36mScene.reset\u001b[0;34m(self, state, envs_idx)\u001b[0m\n\u001b[1;32m    663\u001b[0m \u001b[38;5;250m\u001b[39m\u001b[38;5;124;03m\"\"\"\u001b[39;00m\n\u001b[1;32m    664\u001b[0m \u001b[38;5;124;03mResets the scene to its initial state.\u001b[39;00m\n\u001b[1;32m    665\u001b[0m \n\u001b[0;32m   (...)\u001b[0m\n\u001b[1;32m    669\u001b[0m \u001b[38;5;124;03m    The state to reset the scene to. If None, the scene will be reset to its initial state. If this is given, the scene's registerered initial state will be updated to this state.\u001b[39;00m\n\u001b[1;32m    670\u001b[0m \u001b[38;5;124;03m\"\"\"\u001b[39;00m\n\u001b[1;32m    671\u001b[0m gs\u001b[38;5;241m.\u001b[39mlogger\u001b[38;5;241m.\u001b[39minfo(\u001b[38;5;124mf\u001b[39m\u001b[38;5;124m\"\u001b[39m\u001b[38;5;124mResetting Scene ~~~<\u001b[39m\u001b[38;5;132;01m{\u001b[39;00m\u001b[38;5;28mself\u001b[39m\u001b[38;5;241m.\u001b[39m_uid\u001b[38;5;132;01m}\u001b[39;00m\u001b[38;5;124m>~~~.\u001b[39m\u001b[38;5;124m\"\u001b[39m)\n\u001b[0;32m--> 672\u001b[0m \u001b[38;5;28;43mself\u001b[39;49m\u001b[38;5;241;43m.\u001b[39;49m\u001b[43m_reset\u001b[49m\u001b[43m(\u001b[49m\u001b[43mstate\u001b[49m\u001b[43m,\u001b[49m\u001b[43m \u001b[49m\u001b[43menvs_idx\u001b[49m\u001b[43m)\u001b[49m\n",
      "File \u001b[0;32m~/envs/panda/lib/python3.10/site-packages/genesis/engine/scene.py:680\u001b[0m, in \u001b[0;36mScene._reset\u001b[0;34m(self, state, envs_idx)\u001b[0m\n\u001b[1;32m    678\u001b[0m     \u001b[38;5;28;01melse\u001b[39;00m:\n\u001b[1;32m    679\u001b[0m         \u001b[38;5;28mself\u001b[39m\u001b[38;5;241m.\u001b[39m_init_state \u001b[38;5;241m=\u001b[39m state\n\u001b[0;32m--> 680\u001b[0m     \u001b[38;5;28;43mself\u001b[39;49m\u001b[38;5;241;43m.\u001b[39;49m\u001b[43m_sim\u001b[49m\u001b[38;5;241;43m.\u001b[39;49m\u001b[43mreset\u001b[49m\u001b[43m(\u001b[49m\u001b[43mstate\u001b[49m\u001b[43m,\u001b[49m\u001b[43m \u001b[49m\u001b[43menvs_idx\u001b[49m\u001b[43m)\u001b[49m\n\u001b[1;32m    681\u001b[0m \u001b[38;5;28;01melse\u001b[39;00m:\n\u001b[1;32m    682\u001b[0m     \u001b[38;5;28mself\u001b[39m\u001b[38;5;241m.\u001b[39m_init_state \u001b[38;5;241m=\u001b[39m \u001b[38;5;28mself\u001b[39m\u001b[38;5;241m.\u001b[39m_get_state()\n",
      "File \u001b[0;32m~/envs/panda/lib/python3.10/site-packages/genesis/engine/simulator.py:189\u001b[0m, in \u001b[0;36mSimulator.reset\u001b[0;34m(self, state, envs_idx)\u001b[0m\n\u001b[1;32m    187\u001b[0m \u001b[38;5;28;01mdef\u001b[39;00m\u001b[38;5;250m \u001b[39m\u001b[38;5;21mreset\u001b[39m(\u001b[38;5;28mself\u001b[39m, state, envs_idx\u001b[38;5;241m=\u001b[39m\u001b[38;5;28;01mNone\u001b[39;00m):\n\u001b[1;32m    188\u001b[0m     \u001b[38;5;28;01mfor\u001b[39;00m solver, solver_state \u001b[38;5;129;01min\u001b[39;00m \u001b[38;5;28mzip\u001b[39m(\u001b[38;5;28mself\u001b[39m\u001b[38;5;241m.\u001b[39m_solvers, state):\n\u001b[0;32m--> 189\u001b[0m         \u001b[43msolver\u001b[49m\u001b[38;5;241;43m.\u001b[39;49m\u001b[43mset_state\u001b[49m\u001b[43m(\u001b[49m\u001b[38;5;241;43m0\u001b[39;49m\u001b[43m,\u001b[49m\u001b[43m \u001b[49m\u001b[43msolver_state\u001b[49m\u001b[43m,\u001b[49m\u001b[43m \u001b[49m\u001b[43menvs_idx\u001b[49m\u001b[43m)\u001b[49m\n\u001b[1;32m    191\u001b[0m     \u001b[38;5;66;03m# TODO: keeping as is for now, since coupler is currently for non-batched scenes\u001b[39;00m\n\u001b[1;32m    192\u001b[0m     \u001b[38;5;28mself\u001b[39m\u001b[38;5;241m.\u001b[39mcoupler\u001b[38;5;241m.\u001b[39mreset()\n",
      "File \u001b[0;32m~/envs/panda/lib/python3.10/site-packages/genesis/engine/solvers/rigid/rigid_solver_decomp.py:3522\u001b[0m, in \u001b[0;36mRigidSolver.set_state\u001b[0;34m(self, f, state, envs_idx)\u001b[0m\n\u001b[1;32m   3520\u001b[0m \u001b[38;5;28;01mif\u001b[39;00m \u001b[38;5;28mself\u001b[39m\u001b[38;5;241m.\u001b[39mis_active():\n\u001b[1;32m   3521\u001b[0m     envs_idx \u001b[38;5;241m=\u001b[39m \u001b[38;5;28mself\u001b[39m\u001b[38;5;241m.\u001b[39m_sanitize_envs_idx(envs_idx)\n\u001b[0;32m-> 3522\u001b[0m     \u001b[38;5;28;43mself\u001b[39;49m\u001b[38;5;241;43m.\u001b[39;49m\u001b[43m_kernel_set_state\u001b[49m\u001b[43m(\u001b[49m\n\u001b[1;32m   3523\u001b[0m \u001b[43m        \u001b[49m\u001b[43mstate\u001b[49m\u001b[38;5;241;43m.\u001b[39;49m\u001b[43mqpos\u001b[49m\u001b[43m,\u001b[49m\n\u001b[1;32m   3524\u001b[0m \u001b[43m        \u001b[49m\u001b[43mstate\u001b[49m\u001b[38;5;241;43m.\u001b[39;49m\u001b[43mdofs_vel\u001b[49m\u001b[43m,\u001b[49m\n\u001b[1;32m   3525\u001b[0m \u001b[43m        \u001b[49m\u001b[43mstate\u001b[49m\u001b[38;5;241;43m.\u001b[39;49m\u001b[43mlinks_pos\u001b[49m\u001b[43m,\u001b[49m\n\u001b[1;32m   3526\u001b[0m \u001b[43m        \u001b[49m\u001b[43mstate\u001b[49m\u001b[38;5;241;43m.\u001b[39;49m\u001b[43mlinks_quat\u001b[49m\u001b[43m,\u001b[49m\n\u001b[1;32m   3527\u001b[0m \u001b[43m        \u001b[49m\u001b[43mstate\u001b[49m\u001b[38;5;241;43m.\u001b[39;49m\u001b[43mi_pos_shift\u001b[49m\u001b[43m,\u001b[49m\n\u001b[1;32m   3528\u001b[0m \u001b[43m        \u001b[49m\u001b[43mstate\u001b[49m\u001b[38;5;241;43m.\u001b[39;49m\u001b[43mmass_shift\u001b[49m\u001b[43m,\u001b[49m\n\u001b[1;32m   3529\u001b[0m \u001b[43m        \u001b[49m\u001b[43mstate\u001b[49m\u001b[38;5;241;43m.\u001b[39;49m\u001b[43mfriction_ratio\u001b[49m\u001b[43m,\u001b[49m\n\u001b[1;32m   3530\u001b[0m \u001b[43m        \u001b[49m\u001b[43menvs_idx\u001b[49m\u001b[43m,\u001b[49m\n\u001b[1;32m   3531\u001b[0m \u001b[43m    \u001b[49m\u001b[43m)\u001b[49m\n\u001b[1;32m   3532\u001b[0m     \u001b[38;5;28mself\u001b[39m\u001b[38;5;241m.\u001b[39m_kernel_forward_kinematics_links_geoms(envs_idx)\n\u001b[1;32m   3533\u001b[0m     \u001b[38;5;28mself\u001b[39m\u001b[38;5;241m.\u001b[39mcollider\u001b[38;5;241m.\u001b[39mreset(envs_idx)\n",
      "File \u001b[0;32m~/envs/panda/lib/python3.10/site-packages/taichi/lang/kernel_impl.py:1174\u001b[0m, in \u001b[0;36m_BoundedDifferentiableMethod.__call__\u001b[0;34m(self, *args, **kwargs)\u001b[0m\n\u001b[1;32m   1172\u001b[0m     \u001b[38;5;28;01mif\u001b[39;00m \u001b[38;5;28mself\u001b[39m\u001b[38;5;241m.\u001b[39m_is_staticmethod:\n\u001b[1;32m   1173\u001b[0m         \u001b[38;5;28;01mreturn\u001b[39;00m \u001b[38;5;28mself\u001b[39m\u001b[38;5;241m.\u001b[39m_primal(\u001b[38;5;241m*\u001b[39margs, \u001b[38;5;241m*\u001b[39m\u001b[38;5;241m*\u001b[39mkwargs)\n\u001b[0;32m-> 1174\u001b[0m     \u001b[38;5;28;01mreturn\u001b[39;00m \u001b[38;5;28;43mself\u001b[39;49m\u001b[38;5;241;43m.\u001b[39;49m\u001b[43m_primal\u001b[49m\u001b[43m(\u001b[49m\u001b[38;5;28;43mself\u001b[39;49m\u001b[38;5;241;43m.\u001b[39;49m\u001b[43m_kernel_owner\u001b[49m\u001b[43m,\u001b[49m\u001b[43m \u001b[49m\u001b[38;5;241;43m*\u001b[39;49m\u001b[43margs\u001b[49m\u001b[43m,\u001b[49m\u001b[43m \u001b[49m\u001b[38;5;241;43m*\u001b[39;49m\u001b[38;5;241;43m*\u001b[39;49m\u001b[43mkwargs\u001b[49m\u001b[43m)\u001b[49m\n\u001b[1;32m   1175\u001b[0m \u001b[38;5;28;01mexcept\u001b[39;00m (TaichiCompilationError, TaichiRuntimeError) \u001b[38;5;28;01mas\u001b[39;00m e:\n\u001b[1;32m   1176\u001b[0m     \u001b[38;5;28;01mif\u001b[39;00m impl\u001b[38;5;241m.\u001b[39mget_runtime()\u001b[38;5;241m.\u001b[39mprint_full_traceback:\n",
      "File \u001b[0;32m~/envs/panda/lib/python3.10/site-packages/taichi/lang/shell.py:27\u001b[0m, in \u001b[0;36m_shell_pop_print.<locals>.new_call\u001b[0;34m(*args, **kwargs)\u001b[0m\n\u001b[1;32m     25\u001b[0m \u001b[38;5;129m@functools\u001b[39m\u001b[38;5;241m.\u001b[39mwraps(old_call)\n\u001b[1;32m     26\u001b[0m \u001b[38;5;28;01mdef\u001b[39;00m\u001b[38;5;250m \u001b[39m\u001b[38;5;21mnew_call\u001b[39m(\u001b[38;5;241m*\u001b[39margs, \u001b[38;5;241m*\u001b[39m\u001b[38;5;241m*\u001b[39mkwargs):\n\u001b[0;32m---> 27\u001b[0m     ret \u001b[38;5;241m=\u001b[39m \u001b[43mold_call\u001b[49m\u001b[43m(\u001b[49m\u001b[38;5;241;43m*\u001b[39;49m\u001b[43margs\u001b[49m\u001b[43m,\u001b[49m\u001b[43m \u001b[49m\u001b[38;5;241;43m*\u001b[39;49m\u001b[38;5;241;43m*\u001b[39;49m\u001b[43mkwargs\u001b[49m\u001b[43m)\u001b[49m\n\u001b[1;32m     28\u001b[0m     \u001b[38;5;66;03m# print's in kernel won't take effect until ti.sync(), discussion:\u001b[39;00m\n\u001b[1;32m     29\u001b[0m     \u001b[38;5;66;03m# https://github.com/taichi-dev/taichi/pull/1303#discussion_r444897102\u001b[39;00m\n\u001b[1;32m     30\u001b[0m     \u001b[38;5;28mprint\u001b[39m(_ti_core\u001b[38;5;241m.\u001b[39mpop_python_print_buffer(), end\u001b[38;5;241m=\u001b[39m\u001b[38;5;124m\"\u001b[39m\u001b[38;5;124m\"\u001b[39m)\n",
      "File \u001b[0;32m~/envs/panda/lib/python3.10/site-packages/taichi/lang/kernel_impl.py:1045\u001b[0m, in \u001b[0;36mKernel.__call__\u001b[0;34m(self, *args, **kwargs)\u001b[0m\n\u001b[1;32m   1043\u001b[0m key \u001b[38;5;241m=\u001b[39m \u001b[38;5;28mself\u001b[39m\u001b[38;5;241m.\u001b[39mensure_compiled(\u001b[38;5;241m*\u001b[39margs)\n\u001b[1;32m   1044\u001b[0m kernel_cpp \u001b[38;5;241m=\u001b[39m \u001b[38;5;28mself\u001b[39m\u001b[38;5;241m.\u001b[39mcompiled_kernels[key]\n\u001b[0;32m-> 1045\u001b[0m \u001b[38;5;28;01mreturn\u001b[39;00m \u001b[38;5;28;43mself\u001b[39;49m\u001b[38;5;241;43m.\u001b[39;49m\u001b[43mlaunch_kernel\u001b[49m\u001b[43m(\u001b[49m\u001b[43mkernel_cpp\u001b[49m\u001b[43m,\u001b[49m\u001b[43m \u001b[49m\u001b[38;5;241;43m*\u001b[39;49m\u001b[43margs\u001b[49m\u001b[43m)\u001b[49m\n",
      "File \u001b[0;32m~/envs/panda/lib/python3.10/site-packages/taichi/lang/kernel_impl.py:976\u001b[0m, in \u001b[0;36mKernel.launch_kernel\u001b[0;34m(self, t_kernel, *args)\u001b[0m\n\u001b[1;32m    974\u001b[0m     \u001b[38;5;28;01mif\u001b[39;00m impl\u001b[38;5;241m.\u001b[39mget_runtime()\u001b[38;5;241m.\u001b[39mprint_full_traceback:\n\u001b[1;32m    975\u001b[0m         \u001b[38;5;28;01mraise\u001b[39;00m e\n\u001b[0;32m--> 976\u001b[0m     \u001b[38;5;28;01mraise\u001b[39;00m e \u001b[38;5;28;01mfrom\u001b[39;00m\u001b[38;5;250m \u001b[39m\u001b[38;5;28;01mNone\u001b[39;00m\n\u001b[1;32m    978\u001b[0m ret \u001b[38;5;241m=\u001b[39m \u001b[38;5;28;01mNone\u001b[39;00m\n\u001b[1;32m    979\u001b[0m ret_dt \u001b[38;5;241m=\u001b[39m \u001b[38;5;28mself\u001b[39m\u001b[38;5;241m.\u001b[39mreturn_type\n",
      "File \u001b[0;32m~/envs/panda/lib/python3.10/site-packages/taichi/lang/kernel_impl.py:971\u001b[0m, in \u001b[0;36mKernel.launch_kernel\u001b[0;34m(self, t_kernel, *args)\u001b[0m\n\u001b[1;32m    969\u001b[0m     compiled_kernel_data \u001b[38;5;241m=\u001b[39m prog\u001b[38;5;241m.\u001b[39mcompile_kernel(prog\u001b[38;5;241m.\u001b[39mconfig(), prog\u001b[38;5;241m.\u001b[39mget_device_caps(), t_kernel)\n\u001b[1;32m    970\u001b[0m     \u001b[38;5;66;03m# Launch kernel\u001b[39;00m\n\u001b[0;32m--> 971\u001b[0m     \u001b[43mprog\u001b[49m\u001b[38;5;241;43m.\u001b[39;49m\u001b[43mlaunch_kernel\u001b[49m\u001b[43m(\u001b[49m\u001b[43mcompiled_kernel_data\u001b[49m\u001b[43m,\u001b[49m\u001b[43m \u001b[49m\u001b[43mlaunch_ctx\u001b[49m\u001b[43m)\u001b[49m\n\u001b[1;32m    972\u001b[0m \u001b[38;5;28;01mexcept\u001b[39;00m \u001b[38;5;167;01mException\u001b[39;00m \u001b[38;5;28;01mas\u001b[39;00m e:\n\u001b[1;32m    973\u001b[0m     e \u001b[38;5;241m=\u001b[39m handle_exception_from_cpp(e)\n",
      "\u001b[0;31mRuntimeError\u001b[0m: [cuda_driver.h:operator()@92] CUDA Error CUDA_ERROR_ASSERT: device-side assert triggered while calling malloc_async_impl (cuMemAllocAsync)"
     ]
    }
   ],
   "source": [
    "scene.reset()\n",
    "scene.step()\n",
    "transform = adapter.transform(obj=cube, \n",
    "                  transformation=sm.SE3.RPY(np.pi/3, 0, 0).A, \n",
    "                  apply=True,\n",
    "                  envs_idx=0)\n",
    "scene.step()\n",
    "obj_T_gripper = np.array([[0, 1, 0, 0],\n",
    "                          [0, 0, -1, 0],\n",
    "                          [-1, 0, 0, 0],\n",
    "                          [0, 0, 0, 1]])\n",
    "\n",
    "grasp_pose, qs, s_axes = planner.compute_grasp(obj=cube, \n",
    "                                          adapter=adapter, \n",
    "                                          prefer_closer_grasp=True,\n",
    "                                          grasp_height='top',\n",
    "                                          gripper_depth=0.03,\n",
    "                                          gripper_offset=obj_T_gripper,\n",
    "                                          output_type='pq')\n",
    "\n",
    "target_entity.set_qpos(grasp_pose)\n",
    "scene.step()"
   ]
  },
  {
   "cell_type": "markdown",
   "id": "e3d0308f",
   "metadata": {},
   "source": [
    "## Pre-grasp Positioning\n",
    "\n",
    "Now we'll move both robots to a position above the cube. We'll use inverse kinematics to calculate the joint positions needed to place the end-effector at the desired position and orientation. \n"
   ]
  },
  {
   "cell_type": "code",
   "execution_count": 10,
   "id": "a4b7dc63",
   "metadata": {},
   "outputs": [
    {
     "ename": "RuntimeError",
     "evalue": "CUDA error: device-side assert triggered\nCUDA kernel errors might be asynchronously reported at some other API call, so the stacktrace below might be incorrect.\nFor debugging consider passing CUDA_LAUNCH_BLOCKING=1\nCompile with `TORCH_USE_CUDA_DSA` to enable device-side assertions.\n",
     "output_type": "error",
     "traceback": [
      "\u001b[0;31m---------------------------------------------------------------------------\u001b[0m",
      "\u001b[0;31mRuntimeError\u001b[0m                              Traceback (most recent call last)",
      "Cell \u001b[0;32mIn[10], line 1\u001b[0m\n\u001b[0;32m----> 1\u001b[0m qpos \u001b[38;5;241m=\u001b[39m \u001b[43mfranka\u001b[49m\u001b[38;5;241;43m.\u001b[39;49m\u001b[43minverse_kinematics\u001b[49m\u001b[43m(\u001b[49m\n\u001b[1;32m      2\u001b[0m \u001b[43m    \u001b[49m\u001b[43mlink\u001b[49m\u001b[43m \u001b[49m\u001b[38;5;241;43m=\u001b[39;49m\u001b[43m \u001b[49m\u001b[43mvirtual_finger\u001b[49m\u001b[43m,\u001b[49m\n\u001b[1;32m      3\u001b[0m \u001b[43m    \u001b[49m\u001b[43mpos\u001b[49m\u001b[43m  \u001b[49m\u001b[38;5;241;43m=\u001b[39;49m\u001b[43m \u001b[49m\u001b[43mgrasp_pose\u001b[49m\u001b[43m[\u001b[49m\u001b[38;5;241;43m.\u001b[39;49m\u001b[38;5;241;43m.\u001b[39;49m\u001b[38;5;241;43m.\u001b[39;49m\u001b[43m,\u001b[49m\u001b[43m \u001b[49m\u001b[43m:\u001b[49m\u001b[38;5;241;43m3\u001b[39;49m\u001b[43m]\u001b[49m\u001b[43m,\u001b[49m\n\u001b[1;32m      4\u001b[0m \u001b[43m    \u001b[49m\u001b[43mquat\u001b[49m\u001b[43m \u001b[49m\u001b[38;5;241;43m=\u001b[39;49m\u001b[43m \u001b[49m\u001b[43mgrasp_pose\u001b[49m\u001b[43m[\u001b[49m\u001b[38;5;241;43m.\u001b[39;49m\u001b[38;5;241;43m.\u001b[39;49m\u001b[38;5;241;43m.\u001b[39;49m\u001b[43m,\u001b[49m\u001b[43m \u001b[49m\u001b[38;5;241;43m3\u001b[39;49m\u001b[43m:\u001b[49m\u001b[43m]\u001b[49m\n\u001b[1;32m      5\u001b[0m \u001b[43m)\u001b[49m\n\u001b[1;32m      6\u001b[0m qpos[fingers_dof] \u001b[38;5;241m=\u001b[39m \u001b[38;5;241m0.04\u001b[39m\n",
      "File \u001b[0;32m~/envs/panda/lib/python3.10/site-packages/genesis/utils/misc.py:72\u001b[0m, in \u001b[0;36massert_built.<locals>.wrapper\u001b[0;34m(self, *args, **kwargs)\u001b[0m\n\u001b[1;32m     70\u001b[0m \u001b[38;5;28;01mif\u001b[39;00m \u001b[38;5;129;01mnot\u001b[39;00m \u001b[38;5;28mself\u001b[39m\u001b[38;5;241m.\u001b[39mis_built:\n\u001b[1;32m     71\u001b[0m     gs\u001b[38;5;241m.\u001b[39mraise_exception(\u001b[38;5;124m\"\u001b[39m\u001b[38;5;124mScene is not built yet.\u001b[39m\u001b[38;5;124m\"\u001b[39m)\n\u001b[0;32m---> 72\u001b[0m \u001b[38;5;28;01mreturn\u001b[39;00m \u001b[43mmethod\u001b[49m\u001b[43m(\u001b[49m\u001b[38;5;28;43mself\u001b[39;49m\u001b[43m,\u001b[49m\u001b[43m \u001b[49m\u001b[38;5;241;43m*\u001b[39;49m\u001b[43margs\u001b[49m\u001b[43m,\u001b[49m\u001b[43m \u001b[49m\u001b[38;5;241;43m*\u001b[39;49m\u001b[38;5;241;43m*\u001b[39;49m\u001b[43mkwargs\u001b[49m\u001b[43m)\u001b[49m\n",
      "File \u001b[0;32m~/envs/panda/lib/python3.10/site-packages/genesis/engine/entities/rigid_entity/rigid_entity.py:864\u001b[0m, in \u001b[0;36mRigidEntity.inverse_kinematics\u001b[0;34m(self, link, pos, quat, init_qpos, respect_joint_limit, max_samples, max_solver_iters, damping, pos_tol, rot_tol, pos_mask, rot_mask, max_step_size, dofs_idx_local, return_error, envs_idx)\u001b[0m\n\u001b[1;32m    861\u001b[0m         \u001b[38;5;28;01mif\u001b[39;00m quat\u001b[38;5;241m.\u001b[39mshape[\u001b[38;5;241m0\u001b[39m] \u001b[38;5;241m!=\u001b[39m \u001b[38;5;28mlen\u001b[39m(envs_idx):\n\u001b[1;32m    862\u001b[0m             gs\u001b[38;5;241m.\u001b[39mraise_exception(\u001b[38;5;124m\"\u001b[39m\u001b[38;5;124mFirst dimension of `quat` must be equal to `scene.n_envs`.\u001b[39m\u001b[38;5;124m\"\u001b[39m)\n\u001b[0;32m--> 864\u001b[0m ret \u001b[38;5;241m=\u001b[39m \u001b[38;5;28;43mself\u001b[39;49m\u001b[38;5;241;43m.\u001b[39;49m\u001b[43minverse_kinematics_multilink\u001b[49m\u001b[43m(\u001b[49m\n\u001b[1;32m    865\u001b[0m \u001b[43m    \u001b[49m\u001b[43mlinks\u001b[49m\u001b[38;5;241;43m=\u001b[39;49m\u001b[43m[\u001b[49m\u001b[43mlink\u001b[49m\u001b[43m]\u001b[49m\u001b[43m,\u001b[49m\n\u001b[1;32m    866\u001b[0m \u001b[43m    \u001b[49m\u001b[43mposs\u001b[49m\u001b[38;5;241;43m=\u001b[39;49m\u001b[43m[\u001b[49m\u001b[43mpos\u001b[49m\u001b[43m]\u001b[49m\u001b[43m \u001b[49m\u001b[38;5;28;43;01mif\u001b[39;49;00m\u001b[43m \u001b[49m\u001b[43mpos\u001b[49m\u001b[43m \u001b[49m\u001b[38;5;129;43;01mis\u001b[39;49;00m\u001b[43m \u001b[49m\u001b[38;5;129;43;01mnot\u001b[39;49;00m\u001b[43m \u001b[49m\u001b[38;5;28;43;01mNone\u001b[39;49;00m\u001b[43m \u001b[49m\u001b[38;5;28;43;01melse\u001b[39;49;00m\u001b[43m \u001b[49m\u001b[43m[\u001b[49m\u001b[43m]\u001b[49m\u001b[43m,\u001b[49m\n\u001b[1;32m    867\u001b[0m \u001b[43m    \u001b[49m\u001b[43mquats\u001b[49m\u001b[38;5;241;43m=\u001b[39;49m\u001b[43m[\u001b[49m\u001b[43mquat\u001b[49m\u001b[43m]\u001b[49m\u001b[43m \u001b[49m\u001b[38;5;28;43;01mif\u001b[39;49;00m\u001b[43m \u001b[49m\u001b[43mquat\u001b[49m\u001b[43m \u001b[49m\u001b[38;5;129;43;01mis\u001b[39;49;00m\u001b[43m \u001b[49m\u001b[38;5;129;43;01mnot\u001b[39;49;00m\u001b[43m \u001b[49m\u001b[38;5;28;43;01mNone\u001b[39;49;00m\u001b[43m \u001b[49m\u001b[38;5;28;43;01melse\u001b[39;49;00m\u001b[43m \u001b[49m\u001b[43m[\u001b[49m\u001b[43m]\u001b[49m\u001b[43m,\u001b[49m\n\u001b[1;32m    868\u001b[0m \u001b[43m    \u001b[49m\u001b[43minit_qpos\u001b[49m\u001b[38;5;241;43m=\u001b[39;49m\u001b[43minit_qpos\u001b[49m\u001b[43m,\u001b[49m\n\u001b[1;32m    869\u001b[0m \u001b[43m    \u001b[49m\u001b[43mrespect_joint_limit\u001b[49m\u001b[38;5;241;43m=\u001b[39;49m\u001b[43mrespect_joint_limit\u001b[49m\u001b[43m,\u001b[49m\n\u001b[1;32m    870\u001b[0m \u001b[43m    \u001b[49m\u001b[43mmax_samples\u001b[49m\u001b[38;5;241;43m=\u001b[39;49m\u001b[43mmax_samples\u001b[49m\u001b[43m,\u001b[49m\n\u001b[1;32m    871\u001b[0m \u001b[43m    \u001b[49m\u001b[43mmax_solver_iters\u001b[49m\u001b[38;5;241;43m=\u001b[39;49m\u001b[43mmax_solver_iters\u001b[49m\u001b[43m,\u001b[49m\n\u001b[1;32m    872\u001b[0m \u001b[43m    \u001b[49m\u001b[43mdamping\u001b[49m\u001b[38;5;241;43m=\u001b[39;49m\u001b[43mdamping\u001b[49m\u001b[43m,\u001b[49m\n\u001b[1;32m    873\u001b[0m \u001b[43m    \u001b[49m\u001b[43mpos_tol\u001b[49m\u001b[38;5;241;43m=\u001b[39;49m\u001b[43mpos_tol\u001b[49m\u001b[43m,\u001b[49m\n\u001b[1;32m    874\u001b[0m \u001b[43m    \u001b[49m\u001b[43mrot_tol\u001b[49m\u001b[38;5;241;43m=\u001b[39;49m\u001b[43mrot_tol\u001b[49m\u001b[43m,\u001b[49m\n\u001b[1;32m    875\u001b[0m \u001b[43m    \u001b[49m\u001b[43mpos_mask\u001b[49m\u001b[38;5;241;43m=\u001b[39;49m\u001b[43mpos_mask\u001b[49m\u001b[43m,\u001b[49m\n\u001b[1;32m    876\u001b[0m \u001b[43m    \u001b[49m\u001b[43mrot_mask\u001b[49m\u001b[38;5;241;43m=\u001b[39;49m\u001b[43mrot_mask\u001b[49m\u001b[43m,\u001b[49m\n\u001b[1;32m    877\u001b[0m \u001b[43m    \u001b[49m\u001b[43mmax_step_size\u001b[49m\u001b[38;5;241;43m=\u001b[39;49m\u001b[43mmax_step_size\u001b[49m\u001b[43m,\u001b[49m\n\u001b[1;32m    878\u001b[0m \u001b[43m    \u001b[49m\u001b[43mdofs_idx_local\u001b[49m\u001b[38;5;241;43m=\u001b[39;49m\u001b[43mdofs_idx_local\u001b[49m\u001b[43m,\u001b[49m\n\u001b[1;32m    879\u001b[0m \u001b[43m    \u001b[49m\u001b[43mreturn_error\u001b[49m\u001b[38;5;241;43m=\u001b[39;49m\u001b[43mreturn_error\u001b[49m\u001b[43m,\u001b[49m\n\u001b[1;32m    880\u001b[0m \u001b[43m    \u001b[49m\u001b[43menvs_idx\u001b[49m\u001b[38;5;241;43m=\u001b[39;49m\u001b[43menvs_idx\u001b[49m\u001b[43m,\u001b[49m\n\u001b[1;32m    881\u001b[0m \u001b[43m\u001b[49m\u001b[43m)\u001b[49m\n\u001b[1;32m    883\u001b[0m \u001b[38;5;28;01mif\u001b[39;00m return_error:\n\u001b[1;32m    884\u001b[0m     qpos, error_pose \u001b[38;5;241m=\u001b[39m ret\n",
      "File \u001b[0;32m~/envs/panda/lib/python3.10/site-packages/genesis/utils/misc.py:72\u001b[0m, in \u001b[0;36massert_built.<locals>.wrapper\u001b[0;34m(self, *args, **kwargs)\u001b[0m\n\u001b[1;32m     70\u001b[0m \u001b[38;5;28;01mif\u001b[39;00m \u001b[38;5;129;01mnot\u001b[39;00m \u001b[38;5;28mself\u001b[39m\u001b[38;5;241m.\u001b[39mis_built:\n\u001b[1;32m     71\u001b[0m     gs\u001b[38;5;241m.\u001b[39mraise_exception(\u001b[38;5;124m\"\u001b[39m\u001b[38;5;124mScene is not built yet.\u001b[39m\u001b[38;5;124m\"\u001b[39m)\n\u001b[0;32m---> 72\u001b[0m \u001b[38;5;28;01mreturn\u001b[39;00m \u001b[43mmethod\u001b[49m\u001b[43m(\u001b[49m\u001b[38;5;28;43mself\u001b[39;49m\u001b[43m,\u001b[49m\u001b[43m \u001b[49m\u001b[38;5;241;43m*\u001b[39;49m\u001b[43margs\u001b[49m\u001b[43m,\u001b[49m\u001b[43m \u001b[49m\u001b[38;5;241;43m*\u001b[39;49m\u001b[38;5;241;43m*\u001b[39;49m\u001b[43mkwargs\u001b[49m\u001b[43m)\u001b[49m\n",
      "File \u001b[0;32m~/envs/panda/lib/python3.10/site-packages/genesis/engine/entities/rigid_entity/rigid_entity.py:957\u001b[0m, in \u001b[0;36mRigidEntity.inverse_kinematics_multilink\u001b[0;34m(self, links, poss, quats, init_qpos, respect_joint_limit, max_samples, max_solver_iters, damping, pos_tol, rot_tol, pos_mask, rot_mask, max_step_size, dofs_idx_local, return_error, envs_idx)\u001b[0m\n\u001b[1;32m    911\u001b[0m \u001b[38;5;250m\u001b[39m\u001b[38;5;124;03m\"\"\"\u001b[39;00m\n\u001b[1;32m    912\u001b[0m \u001b[38;5;124;03mCompute inverse kinematics for  multiple target links.\u001b[39;00m\n\u001b[1;32m    913\u001b[0m \n\u001b[0;32m   (...)\u001b[0m\n\u001b[1;32m    954\u001b[0m \u001b[38;5;124;03m    Pose error for each target. The 6-vector is [err_pos_x, err_pos_y, err_pos_z, err_rot_x, err_rot_y, err_rot_z]. Only returned if `return_error` is True.\u001b[39;00m\n\u001b[1;32m    955\u001b[0m \u001b[38;5;124;03m\"\"\"\u001b[39;00m\n\u001b[1;32m    956\u001b[0m \u001b[38;5;28;01mif\u001b[39;00m \u001b[38;5;28mself\u001b[39m\u001b[38;5;241m.\u001b[39m_solver\u001b[38;5;241m.\u001b[39mn_envs \u001b[38;5;241m>\u001b[39m \u001b[38;5;241m0\u001b[39m:\n\u001b[0;32m--> 957\u001b[0m     envs_idx \u001b[38;5;241m=\u001b[39m \u001b[38;5;28;43mself\u001b[39;49m\u001b[38;5;241;43m.\u001b[39;49m\u001b[43m_solver\u001b[49m\u001b[38;5;241;43m.\u001b[39;49m\u001b[43m_sanitize_envs_idx\u001b[49m\u001b[43m(\u001b[49m\u001b[43menvs_idx\u001b[49m\u001b[43m)\u001b[49m\n\u001b[1;32m    959\u001b[0m \u001b[38;5;28;01mif\u001b[39;00m \u001b[38;5;129;01mnot\u001b[39;00m \u001b[38;5;28mself\u001b[39m\u001b[38;5;241m.\u001b[39m_requires_jac_and_IK:\n\u001b[1;32m    960\u001b[0m     gs\u001b[38;5;241m.\u001b[39mraise_exception(\n\u001b[1;32m    961\u001b[0m         \u001b[38;5;124m\"\u001b[39m\u001b[38;5;124mInverse kinematics and jacobian are disabled for this entity. Set `morph.requires_jac_and_IK` to True if you need them.\u001b[39m\u001b[38;5;124m\"\u001b[39m\n\u001b[1;32m    962\u001b[0m     )\n",
      "File \u001b[0;32m~/envs/panda/lib/python3.10/site-packages/genesis/engine/solvers/rigid/rigid_solver_decomp.py:3617\u001b[0m, in \u001b[0;36mRigidSolver._sanitize_envs_idx\u001b[0;34m(self, envs_idx, unsafe)\u001b[0m\n\u001b[1;32m   3614\u001b[0m \u001b[38;5;28;01mif\u001b[39;00m _envs_idx\u001b[38;5;241m.\u001b[39mndim \u001b[38;5;241m!=\u001b[39m \u001b[38;5;241m1\u001b[39m:\n\u001b[1;32m   3615\u001b[0m     gs\u001b[38;5;241m.\u001b[39mraise_exception(\u001b[38;5;124m\"\u001b[39m\u001b[38;5;124mExpecting a 1D tensor for `envs_idx`.\u001b[39m\u001b[38;5;124m\"\u001b[39m)\n\u001b[0;32m-> 3617\u001b[0m \u001b[38;5;28;01mif\u001b[39;00m (\u001b[43m_envs_idx\u001b[49m\u001b[43m \u001b[49m\u001b[38;5;241;43m<\u001b[39;49m\u001b[43m \u001b[49m\u001b[38;5;241;43m0\u001b[39;49m)\u001b[38;5;241m.\u001b[39many() \u001b[38;5;129;01mor\u001b[39;00m (_envs_idx \u001b[38;5;241m>\u001b[39m\u001b[38;5;241m=\u001b[39m \u001b[38;5;28mself\u001b[39m\u001b[38;5;241m.\u001b[39mn_envs)\u001b[38;5;241m.\u001b[39many():\n\u001b[1;32m   3618\u001b[0m     gs\u001b[38;5;241m.\u001b[39mraise_exception(\u001b[38;5;124m\"\u001b[39m\u001b[38;5;124m`envs_idx` exceeds valid range.\u001b[39m\u001b[38;5;124m\"\u001b[39m)\n\u001b[1;32m   3620\u001b[0m \u001b[38;5;28;01mreturn\u001b[39;00m _envs_idx\n",
      "File \u001b[0;32m~/envs/panda/lib/python3.10/site-packages/torch/utils/_device.py:104\u001b[0m, in \u001b[0;36mDeviceContext.__torch_function__\u001b[0;34m(self, func, types, args, kwargs)\u001b[0m\n\u001b[1;32m    102\u001b[0m \u001b[38;5;28;01mif\u001b[39;00m func \u001b[38;5;129;01min\u001b[39;00m _device_constructors() \u001b[38;5;129;01mand\u001b[39;00m kwargs\u001b[38;5;241m.\u001b[39mget(\u001b[38;5;124m'\u001b[39m\u001b[38;5;124mdevice\u001b[39m\u001b[38;5;124m'\u001b[39m) \u001b[38;5;129;01mis\u001b[39;00m \u001b[38;5;28;01mNone\u001b[39;00m:\n\u001b[1;32m    103\u001b[0m     kwargs[\u001b[38;5;124m'\u001b[39m\u001b[38;5;124mdevice\u001b[39m\u001b[38;5;124m'\u001b[39m] \u001b[38;5;241m=\u001b[39m \u001b[38;5;28mself\u001b[39m\u001b[38;5;241m.\u001b[39mdevice\n\u001b[0;32m--> 104\u001b[0m \u001b[38;5;28;01mreturn\u001b[39;00m \u001b[43mfunc\u001b[49m\u001b[43m(\u001b[49m\u001b[38;5;241;43m*\u001b[39;49m\u001b[43margs\u001b[49m\u001b[43m,\u001b[49m\u001b[43m \u001b[49m\u001b[38;5;241;43m*\u001b[39;49m\u001b[38;5;241;43m*\u001b[39;49m\u001b[43mkwargs\u001b[49m\u001b[43m)\u001b[49m\n",
      "\u001b[0;31mRuntimeError\u001b[0m: CUDA error: device-side assert triggered\nCUDA kernel errors might be asynchronously reported at some other API call, so the stacktrace below might be incorrect.\nFor debugging consider passing CUDA_LAUNCH_BLOCKING=1\nCompile with `TORCH_USE_CUDA_DSA` to enable device-side assertions.\n"
     ]
    }
   ],
   "source": [
    "\n",
    "qpos = franka.inverse_kinematics(\n",
    "    link = virtual_finger,\n",
    "    pos  = grasp_pose[..., :3],\n",
    "    quat = grasp_pose[..., 3:]\n",
    ")\n",
    "qpos[fingers_dof] = 0.04\n"
   ]
  },
  {
   "cell_type": "code",
   "execution_count": null,
   "id": "1b864128",
   "metadata": {},
   "outputs": [
    {
     "name": "stderr",
     "output_type": "stream",
     "text": [
      "/pytorch/aten/src/ATen/native/cuda/IndexKernel.cu:93: operator(): block: [0,0,0], thread: [0,0,0] Assertion `-sizes[i] <= index && index < sizes[i] && \"index out of bounds\"` failed.\n",
      "/pytorch/aten/src/ATen/native/cuda/IndexKernel.cu:93: operator(): block: [0,0,0], thread: [1,0,0] Assertion `-sizes[i] <= index && index < sizes[i] && \"index out of bounds\"` failed.\n",
      "/pytorch/aten/src/ATen/native/cuda/IndexKernel.cu:93: operator(): block: [0,0,0], thread: [2,0,0] Assertion `-sizes[i] <= index && index < sizes[i] && \"index out of bounds\"` failed.\n",
      "/pytorch/aten/src/ATen/native/cuda/IndexKernel.cu:93: operator(): block: [0,0,0], thread: [3,0,0] Assertion `-sizes[i] <= index && index < sizes[i] && \"index out of bounds\"` failed.\n",
      "/pytorch/aten/src/ATen/native/cuda/IndexKernel.cu:93: operator(): block: [0,0,0], thread: [4,0,0] Assertion `-sizes[i] <= index && index < sizes[i] && \"index out of bounds\"` failed.\n",
      "/pytorch/aten/src/ATen/native/cuda/IndexKernel.cu:93: operator(): block: [0,0,0], thread: [5,0,0] Assertion `-sizes[i] <= index && index < sizes[i] && \"index out of bounds\"` failed.\n",
      "/pytorch/aten/src/ATen/native/cuda/IndexKernel.cu:93: operator(): block: [0,0,0], thread: [6,0,0] Assertion `-sizes[i] <= index && index < sizes[i] && \"index out of bounds\"` failed.\n",
      "/pytorch/aten/src/ATen/native/cuda/IndexKernel.cu:93: operator(): block: [0,0,0], thread: [7,0,0] Assertion `-sizes[i] <= index && index < sizes[i] && \"index out of bounds\"` failed.\n",
      "/pytorch/aten/src/ATen/native/cuda/IndexKernel.cu:93: operator(): block: [0,0,0], thread: [8,0,0] Assertion `-sizes[i] <= index && index < sizes[i] && \"index out of bounds\"` failed.\n",
      "/pytorch/aten/src/ATen/native/cuda/IndexKernel.cu:93: operator(): block: [0,0,0], thread: [9,0,0] Assertion `-sizes[i] <= index && index < sizes[i] && \"index out of bounds\"` failed.\n",
      "/pytorch/aten/src/ATen/native/cuda/IndexKernel.cu:93: operator(): block: [0,0,0], thread: [10,0,0] Assertion `-sizes[i] <= index && index < sizes[i] && \"index out of bounds\"` failed.\n",
      "/pytorch/aten/src/ATen/native/cuda/IndexKernel.cu:93: operator(): block: [0,0,0], thread: [11,0,0] Assertion `-sizes[i] <= index && index < sizes[i] && \"index out of bounds\"` failed.\n",
      "/pytorch/aten/src/ATen/native/cuda/IndexKernel.cu:93: operator(): block: [0,0,0], thread: [12,0,0] Assertion `-sizes[i] <= index && index < sizes[i] && \"index out of bounds\"` failed.\n",
      "/pytorch/aten/src/ATen/native/cuda/IndexKernel.cu:93: operator(): block: [0,0,0], thread: [13,0,0] Assertion `-sizes[i] <= index && index < sizes[i] && \"index out of bounds\"` failed.\n",
      "/pytorch/aten/src/ATen/native/cuda/IndexKernel.cu:93: operator(): block: [0,0,0], thread: [14,0,0] Assertion `-sizes[i] <= index && index < sizes[i] && \"index out of bounds\"` failed.\n",
      "/pytorch/aten/src/ATen/native/cuda/IndexKernel.cu:93: operator(): block: [0,0,0], thread: [15,0,0] Assertion `-sizes[i] <= index && index < sizes[i] && \"index out of bounds\"` failed.\n",
      "/pytorch/aten/src/ATen/native/cuda/IndexKernel.cu:93: operator(): block: [0,0,0], thread: [16,0,0] Assertion `-sizes[i] <= index && index < sizes[i] && \"index out of bounds\"` failed.\n",
      "/pytorch/aten/src/ATen/native/cuda/IndexKernel.cu:93: operator(): block: [0,0,0], thread: [17,0,0] Assertion `-sizes[i] <= index && index < sizes[i] && \"index out of bounds\"` failed.\n",
      "/pytorch/aten/src/ATen/native/cuda/IndexKernel.cu:93: operator(): block: [0,0,0], thread: [18,0,0] Assertion `-sizes[i] <= index && index < sizes[i] && \"index out of bounds\"` failed.\n",
      "/pytorch/aten/src/ATen/native/cuda/IndexKernel.cu:93: operator(): block: [0,0,0], thread: [19,0,0] Assertion `-sizes[i] <= index && index < sizes[i] && \"index out of bounds\"` failed.\n",
      "/pytorch/aten/src/ATen/native/cuda/IndexKernel.cu:93: operator(): block: [0,0,0], thread: [20,0,0] Assertion `-sizes[i] <= index && index < sizes[i] && \"index out of bounds\"` failed.\n",
      "/pytorch/aten/src/ATen/native/cuda/IndexKernel.cu:93: operator(): block: [0,0,0], thread: [21,0,0] Assertion `-sizes[i] <= index && index < sizes[i] && \"index out of bounds\"` failed.\n",
      "/pytorch/aten/src/ATen/native/cuda/IndexKernel.cu:93: operator(): block: [0,0,0], thread: [22,0,0] Assertion `-sizes[i] <= index && index < sizes[i] && \"index out of bounds\"` failed.\n",
      "/pytorch/aten/src/ATen/native/cuda/IndexKernel.cu:93: operator(): block: [0,0,0], thread: [23,0,0] Assertion `-sizes[i] <= index && index < sizes[i] && \"index out of bounds\"` failed.\n"
     ]
    },
    {
     "ename": "GenesisException",
     "evalue": "Motion planning is not supported for batched envs (yet).",
     "output_type": "error",
     "traceback": [
      "\u001b[0;31m---------------------------------------------------------------------------\u001b[0m",
      "\u001b[0;31mGenesisException\u001b[0m                          Traceback (most recent call last)",
      "Cell \u001b[0;32mIn[9], line 1\u001b[0m\n\u001b[0;32m----> 1\u001b[0m path \u001b[38;5;241m=\u001b[39m \u001b[43mfranka\u001b[49m\u001b[38;5;241;43m.\u001b[39;49m\u001b[43mplan_path\u001b[49m\u001b[43m(\u001b[49m\n\u001b[1;32m      2\u001b[0m \u001b[43m    \u001b[49m\u001b[43mqpos_goal\u001b[49m\u001b[43m     \u001b[49m\u001b[38;5;241;43m=\u001b[39;49m\u001b[43m \u001b[49m\u001b[43mqpos\u001b[49m\u001b[43m,\u001b[49m\n\u001b[1;32m      3\u001b[0m \u001b[43m    \u001b[49m\u001b[43mnum_waypoints\u001b[49m\u001b[43m \u001b[49m\u001b[38;5;241;43m=\u001b[39;49m\u001b[43m \u001b[49m\u001b[38;5;241;43m250\u001b[39;49m\u001b[43m,\u001b[49m\u001b[43m \u001b[49m\u001b[38;5;66;43;03m# 2s duration\u001b[39;49;00m\n\u001b[1;32m      4\u001b[0m \u001b[43m)\u001b[49m\n",
      "File \u001b[0;32m~/envs/panda/lib/python3.10/site-packages/genesis/utils/misc.py:72\u001b[0m, in \u001b[0;36massert_built.<locals>.wrapper\u001b[0;34m(self, *args, **kwargs)\u001b[0m\n\u001b[1;32m     70\u001b[0m \u001b[38;5;28;01mif\u001b[39;00m \u001b[38;5;129;01mnot\u001b[39;00m \u001b[38;5;28mself\u001b[39m\u001b[38;5;241m.\u001b[39mis_built:\n\u001b[1;32m     71\u001b[0m     gs\u001b[38;5;241m.\u001b[39mraise_exception(\u001b[38;5;124m\"\u001b[39m\u001b[38;5;124mScene is not built yet.\u001b[39m\u001b[38;5;124m\"\u001b[39m)\n\u001b[0;32m---> 72\u001b[0m \u001b[38;5;28;01mreturn\u001b[39;00m \u001b[43mmethod\u001b[49m\u001b[43m(\u001b[49m\u001b[38;5;28;43mself\u001b[39;49m\u001b[43m,\u001b[49m\u001b[43m \u001b[49m\u001b[38;5;241;43m*\u001b[39;49m\u001b[43margs\u001b[49m\u001b[43m,\u001b[49m\u001b[43m \u001b[49m\u001b[38;5;241;43m*\u001b[39;49m\u001b[38;5;241;43m*\u001b[39;49m\u001b[43mkwargs\u001b[49m\u001b[43m)\u001b[49m\n",
      "File \u001b[0;32m~/envs/panda/lib/python3.10/site-packages/genesis/engine/entities/rigid_entity/rigid_entity.py:1478\u001b[0m, in \u001b[0;36mRigidEntity.plan_path\u001b[0;34m(self, qpos_goal, qpos_start, timeout, smooth_path, num_waypoints, ignore_collision, ignore_joint_limit, planner)\u001b[0m\n\u001b[1;32m   1475\u001b[0m         \u001b[38;5;28;01mraise\u001b[39;00m\n\u001b[1;32m   1477\u001b[0m \u001b[38;5;28;01mif\u001b[39;00m \u001b[38;5;28mself\u001b[39m\u001b[38;5;241m.\u001b[39m_solver\u001b[38;5;241m.\u001b[39mn_envs \u001b[38;5;241m>\u001b[39m \u001b[38;5;241m0\u001b[39m:\n\u001b[0;32m-> 1478\u001b[0m     \u001b[43mgs\u001b[49m\u001b[38;5;241;43m.\u001b[39;49m\u001b[43mraise_exception\u001b[49m\u001b[43m(\u001b[49m\u001b[38;5;124;43m\"\u001b[39;49m\u001b[38;5;124;43mMotion planning is not supported for batched envs (yet).\u001b[39;49m\u001b[38;5;124;43m\"\u001b[39;49m\u001b[43m)\u001b[49m\n\u001b[1;32m   1480\u001b[0m \u001b[38;5;28;01mif\u001b[39;00m \u001b[38;5;28mself\u001b[39m\u001b[38;5;241m.\u001b[39mn_qs \u001b[38;5;241m!=\u001b[39m \u001b[38;5;28mself\u001b[39m\u001b[38;5;241m.\u001b[39mn_dofs:\n\u001b[1;32m   1481\u001b[0m     gs\u001b[38;5;241m.\u001b[39mraise_exception(\u001b[38;5;124m\"\u001b[39m\u001b[38;5;124mMotion planning is not yet supported for rigid entities with free joints.\u001b[39m\u001b[38;5;124m\"\u001b[39m)\n",
      "File \u001b[0;32m~/envs/panda/lib/python3.10/site-packages/genesis/utils/misc.py:38\u001b[0m, in \u001b[0;36mraise_exception\u001b[0;34m(msg)\u001b[0m\n\u001b[1;32m     37\u001b[0m \u001b[38;5;28;01mdef\u001b[39;00m\u001b[38;5;250m \u001b[39m\u001b[38;5;21mraise_exception\u001b[39m(msg\u001b[38;5;241m=\u001b[39m\u001b[38;5;124m\"\u001b[39m\u001b[38;5;124mSomething went wrong.\u001b[39m\u001b[38;5;124m\"\u001b[39m):\n\u001b[0;32m---> 38\u001b[0m     \u001b[38;5;28;01mraise\u001b[39;00m gs\u001b[38;5;241m.\u001b[39mGenesisException(msg)\n",
      "\u001b[0;31mGenesisException\u001b[0m: Motion planning is not supported for batched envs (yet)."
     ]
    }
   ],
   "source": [
    "# path = franka.plan_path(\n",
    "#     qpos_goal     = qpos,\n",
    "#     num_waypoints = 250, # 2s duration\n",
    "# )"
   ]
  },
  {
   "cell_type": "markdown",
   "id": "66ef5fbf",
   "metadata": {},
   "source": [
    "## Path Planning\n",
    "\n",
    "Generate a smooth trajectory for each robot to reach the pre-grasp position."
   ]
  },
  {
   "cell_type": "code",
   "execution_count": 20,
   "id": "e3141cfd",
   "metadata": {},
   "outputs": [],
   "source": [
    "# execute the planned path\n",
    "for waypoint in path:\n",
    "    franka.control_dofs_position(waypoint)\n",
    "    scene.step()\n",
    "\n",
    "# allow robot to reach the last waypoint\n",
    "for i in range(100):\n",
    "    scene.step()\n"
   ]
  },
  {
   "cell_type": "markdown",
   "id": "273cfbb6",
   "metadata": {},
   "source": [
    "## Reaching for the Object\n",
    "\n",
    "Calculate and execute a path to move from the pre-grasp position down to the actual grasp position. Both robots move their end-effectors to the side of their respective cubes.\n"
   ]
  },
  {
   "cell_type": "code",
   "execution_count": 21,
   "id": "95d309ac",
   "metadata": {},
   "outputs": [],
   "source": [
    "franka.control_dofs_force(np.array([-2, -2]), fingers_dof)\n",
    "adapter.step_simulation(1)"
   ]
  },
  {
   "cell_type": "code",
   "execution_count": 22,
   "id": "c5bd14fd",
   "metadata": {},
   "outputs": [],
   "source": [
    "virtual_finger_pose = adapter.forward_kinematics(franka, virtual_finger)\n",
    "\n",
    "cube_bbox = adapter.get_bbox(cube)\n",
    "qs, s_axes = planner.screw_from_bbox(cube_bbox)\n",
    "q, s_axis = qs[1], s_axes[1]\n",
    "\n",
    "\n",
    "finger_pqs = planner.generate_screw_trajectory(initial_pose=virtual_finger_pose, q=q, s_axis=s_axis, output_type='pq')\n",
    "\n",
    "qposs = []\n",
    "for pq in finger_pqs:\n",
    "    qpos = franka.inverse_kinematics(\n",
    "        link = virtual_finger,\n",
    "        pos = pq[:3],\n",
    "        init_qpos = qpos        \n",
    "    )\n",
    "    qposs.append(qpos)"
   ]
  },
  {
   "cell_type": "code",
   "execution_count": 23,
   "id": "b1ceae43",
   "metadata": {},
   "outputs": [],
   "source": [
    "\n",
    "for waypoint in qposs:\n",
    "    franka.control_dofs_position(waypoint[motors_dof], motors_dof)\n",
    "    target_entity.set_pos(virtual_finger.get_pos())\n",
    "    target_entity.set_quat(virtual_finger.get_quat())\n",
    "    scene.step()\n",
    "\n"
   ]
  },
  {
   "cell_type": "code",
   "execution_count": 24,
   "id": "f84441f0",
   "metadata": {},
   "outputs": [],
   "source": [
    "franka.control_dofs_force(np.array([0, 0]), fingers_dof)\n",
    "adapter.step_simulation(1)"
   ]
  },
  {
   "cell_type": "code",
   "execution_count": null,
   "id": "8457c2c9",
   "metadata": {},
   "outputs": [],
   "source": []
  }
 ],
 "metadata": {
  "kernelspec": {
   "display_name": "panda",
   "language": "python",
   "name": "python3"
  },
  "language_info": {
   "codemirror_mode": {
    "name": "ipython",
    "version": 3
   },
   "file_extension": ".py",
   "mimetype": "text/x-python",
   "name": "python",
   "nbconvert_exporter": "python",
   "pygments_lexer": "ipython3",
   "version": "3.10.17"
  }
 },
 "nbformat": 4,
 "nbformat_minor": 5
}
