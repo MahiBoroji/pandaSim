{
 "cells": [
  {
   "cell_type": "markdown",
   "id": "7db7bace",
   "metadata": {},
   "source": [
    "# Franka Robot Grasping Tutorial: With and Without Spinning Pads\n",
    "\n",
    "This tutorial demonstrates a comparison between two Franka Emika Panda robots—one with spinning pads and one without—performing the same grasping task. The spinning pads reduce the torsional friction about the normal vector of the contact between robot's finger and the object. \n",
    "\"The implementation for friction in genesis is not as advanced that in Mujoco. There is only 1 scalar parameter in Genesis, and condim cannot be changed (only condim = 3 is implemented). There is no torsional friction at the moment. The torsional friction in genesis is the result of multi-contact friction.\"\n",
    "\n",
    "\n",
    "The standard robot uses joints 0-8, with 0-6 for arm movement and 7-8 for the gripper. The modified robot includes spinning pads at joints 9-10, which can help provide rotational slippage at the contact point"
   ]
  },
  {
   "cell_type": "code",
   "execution_count": 1,
   "id": "5502bb81",
   "metadata": {},
   "outputs": [
    {
     "name": "stderr",
     "output_type": "stream",
     "text": [
      "[I 05/15/25 15:14:41.108 23566] [shell.py:_shell_pop_print@23] Graphical python shell detected, using wrapped sys.stdout\n"
     ]
    }
   ],
   "source": [
    "import genesis as gs\n",
    "import numpy as np\n",
    "import torch\n",
    "from pytransform3d import (\n",
    "    transformations as pt,\n",
    "    rotations as pr,\n",
    "    batch_rotations as pb,\n",
    "    trajectories as ptr,\n",
    "    plot_utils as ppu\n",
    ")\n",
    "from pandaSim.geometry.genesis_adapter import GenesisAdapter\n",
    "from pandaSim.planning.screw_motion_planner import ScrewMotionPlanner\n",
    "\n",
    "\n",
    "import spatialmath as sm\n",
    "# auto reaload\n",
    "%load_ext autoreload\n",
    "%autoreload 2"
   ]
  },
  {
   "cell_type": "code",
   "execution_count": 2,
   "id": "28c123a4",
   "metadata": {},
   "outputs": [
    {
     "name": "stdout",
     "output_type": "stream",
     "text": [
      "\u001b[38;5;159m[Genesis] [15:14:44] [INFO] \u001b[38;5;121m╭───────────────────────────────────────────────╮\u001b[0m\u001b[38;5;159m\u001b[0m\n",
      "\u001b[38;5;159m[Genesis] [15:14:44] [INFO] \u001b[38;5;121m│┈┉┈┉┈┉┈┉┈┉┈┉┈┉┈┉┈┉┈\u001b[0m\u001b[38;5;159m \u001b[38;5;121m\u001b[1m\u001b[3mGenesis\u001b[0m\u001b[38;5;159m \u001b[38;5;121m┈┉┈┉┈┉┈┉┈┉┈┉┈┉┈┉┈┉┈│\u001b[0m\u001b[38;5;159m\u001b[0m\n",
      "\u001b[38;5;159m[Genesis] [15:14:44] [INFO] \u001b[38;5;121m╰───────────────────────────────────────────────╯\u001b[0m\u001b[38;5;159m\u001b[0m\n",
      "\u001b[38;5;159m[Genesis] [15:14:45] [INFO] Running on \u001b[38;5;121m\u001b[4m[NVIDIA GeForce RTX 3070 Laptop GPU]\u001b[0m\u001b[38;5;159m with backend \u001b[38;5;121m\u001b[4mgs.cuda\u001b[0m\u001b[38;5;159m. Device memory: \u001b[38;5;121m\u001b[4m7.78\u001b[0m\u001b[38;5;159m GB.\u001b[0m\n",
      "\u001b[38;5;159m[Genesis] [15:14:45] [INFO] 🚀 Genesis initialized. 🔖 version: \u001b[38;5;121m\u001b[4m0.2.1\u001b[0m\u001b[38;5;159m, 🌱 seed: \u001b[38;5;121m\u001b[4mNone\u001b[0m\u001b[38;5;159m, 📏 precision: '\u001b[38;5;121m\u001b[4m32\u001b[0m\u001b[38;5;159m', 🐛 debug: \u001b[38;5;121m\u001b[4mFalse\u001b[0m\u001b[38;5;159m, 🎨 theme: '\u001b[38;5;121m\u001b[4mdark\u001b[0m\u001b[38;5;159m'.\u001b[0m\n",
      "\u001b[38;5;159m[Genesis] [15:14:45] [INFO] Scene \u001b[38;5;121m\u001b[3m<243a364>\u001b[0m\u001b[38;5;159m created.\u001b[0m\n"
     ]
    }
   ],
   "source": [
    "gs.destroy()\n",
    "gs.init(backend=gs.gpu)\n",
    "gs.set_random_seed(seed=42)\n",
    "adapter = GenesisAdapter()\n",
    "planner = ScrewMotionPlanner()"
   ]
  },
  {
   "cell_type": "markdown",
   "id": "f318f00c",
   "metadata": {},
   "source": [
    "## Scene Construction\n",
    "\n",
    "Here we create the simulation environment with:\n",
    "1. A ground plane\n",
    "2. Two Franka Emika Panda robots:\n",
    "   - One standard robot at position (0,2,0)\n",
    "   - One with spinning pads and virtual finger at position (0,0,0)\n",
    "3. Two cubes for each robot\n",
    "4. A target entity for visualization\n",
    "\n",
    "The key difference between the robots is that the standard Franka `(franka_MJCF)` uses only the arm and finger joints (joints 0-8), while the other version has additional spinning pads (joints 9-10) that cause rotational slippage using extra hinge DoFs.\n"
   ]
  },
  {
   "cell_type": "code",
   "execution_count": 3,
   "id": "94b65edf",
   "metadata": {},
   "outputs": [
    {
     "name": "stdout",
     "output_type": "stream",
     "text": [
      "\u001b[38;5;159m[Genesis] [15:14:46] [INFO] Adding \u001b[38;5;121m<gs.RigidEntity>\u001b[0m\u001b[38;5;159m. idx: \u001b[38;5;121m0\u001b[0m\u001b[38;5;159m, uid: \u001b[38;5;121m\u001b[3m<c14fbb8>\u001b[0m\u001b[38;5;159m, morph: \u001b[38;5;121m<gs.morphs.Plane>\u001b[0m\u001b[38;5;159m, material: \u001b[38;5;121m<gs.materials.Rigid>\u001b[0m\u001b[38;5;159m.\u001b[0m\n",
      "\u001b[38;5;159m[Genesis] [15:14:46] [INFO] Adding \u001b[38;5;121m<gs.RigidEntity>\u001b[0m\u001b[38;5;159m. idx: \u001b[38;5;121m1\u001b[0m\u001b[38;5;159m, uid: \u001b[38;5;121m\u001b[3m<5bc8299>\u001b[0m\u001b[38;5;159m, morph: \u001b[38;5;121m<gs.morphs.MJCF(file='/home/vahid/envs/panda/lib/python3.10/site-packages/genesis/assets/xml/franka_emika_panda/panda.xml')>\u001b[0m\u001b[38;5;159m, material: \u001b[38;5;121m<gs.materials.Rigid>\u001b[0m\u001b[38;5;159m.\u001b[0m\n",
      "\u001b[38;5;226m[Genesis] [15:14:47] [WARNING] (MJCF) Tendon not supported\u001b[0m\n",
      "\u001b[38;5;226m[Genesis] [15:14:47] [WARNING] (MJCF) Approximating tendon by joint actuator for `finger_joint1`\u001b[0m\n",
      "\u001b[38;5;226m[Genesis] [15:14:47] [WARNING] (MJCF) Actuator control gain and bias parameters cannot be reduced to a unique PD control position gain. Using max between gain and bias.\u001b[0m\n",
      "\u001b[38;5;226m[Genesis] [15:14:47] [WARNING] (MJCF) Approximating tendon by joint actuator for `finger_joint2`\u001b[0m\n",
      "\u001b[38;5;226m[Genesis] [15:14:47] [WARNING] (MJCF) Actuator control gain and bias parameters cannot be reduced to a unique PD control position gain. Using max between gain and bias.\u001b[0m\n",
      "\u001b[38;5;159m[Genesis] [15:14:47] [INFO] Applying offset to base link's pose with user provided value in morph.\u001b[0m\n",
      "\u001b[38;5;159m[Genesis] [15:14:47] [INFO] Adding \u001b[38;5;121m<gs.RigidEntity>\u001b[0m\u001b[38;5;159m. idx: \u001b[38;5;121m2\u001b[0m\u001b[38;5;159m, uid: \u001b[38;5;121m\u001b[3m<5626bcb>\u001b[0m\u001b[38;5;159m, morph: \u001b[38;5;121m<gs.morphs.MJCF(file='/home/vahid/repos/pandaSim/assets/xml/franka_emika_panda/panda_vir.xml')>\u001b[0m\u001b[38;5;159m, material: \u001b[38;5;121m<gs.materials.Rigid>\u001b[0m\u001b[38;5;159m.\u001b[0m\n",
      "\u001b[38;5;226m[Genesis] [15:14:48] [WARNING] (MJCF) Tendon not supported\u001b[0m\n",
      "\u001b[38;5;226m[Genesis] [15:14:48] [WARNING] (MJCF) Approximating tendon by joint actuator for `finger_joint1`\u001b[0m\n",
      "\u001b[38;5;226m[Genesis] [15:14:48] [WARNING] (MJCF) Actuator control gain and bias parameters cannot be reduced to a unique PD control position gain. Using max between gain and bias.\u001b[0m\n",
      "\u001b[38;5;226m[Genesis] [15:14:48] [WARNING] (MJCF) Approximating tendon by joint actuator for `finger_joint2`\u001b[0m\n",
      "\u001b[38;5;226m[Genesis] [15:14:48] [WARNING] (MJCF) Actuator control gain and bias parameters cannot be reduced to a unique PD control position gain. Using max between gain and bias.\u001b[0m\n",
      "\u001b[38;5;159m[Genesis] [15:14:48] [INFO] Adding \u001b[38;5;121m<gs.RigidEntity>\u001b[0m\u001b[38;5;159m. idx: \u001b[38;5;121m3\u001b[0m\u001b[38;5;159m, uid: \u001b[38;5;121m\u001b[3m<fb691f0>\u001b[0m\u001b[38;5;159m, morph: \u001b[38;5;121m<gs.morphs.Box>\u001b[0m\u001b[38;5;159m, material: \u001b[38;5;121m<gs.materials.Rigid>\u001b[0m\u001b[38;5;159m.\u001b[0m\n",
      "\u001b[38;5;159m[Genesis] [15:14:48] [INFO] Adding \u001b[38;5;121m<gs.RigidEntity>\u001b[0m\u001b[38;5;159m. idx: \u001b[38;5;121m4\u001b[0m\u001b[38;5;159m, uid: \u001b[38;5;121m\u001b[3m<5d075e3>\u001b[0m\u001b[38;5;159m, morph: \u001b[38;5;121m<gs.morphs.Box>\u001b[0m\u001b[38;5;159m, material: \u001b[38;5;121m<gs.materials.Rigid>\u001b[0m\u001b[38;5;159m.\u001b[0m\n",
      "\u001b[38;5;159m[Genesis] [15:14:48] [INFO] Adding \u001b[38;5;121m<gs.RigidEntity>\u001b[0m\u001b[38;5;159m. idx: \u001b[38;5;121m5\u001b[0m\u001b[38;5;159m, uid: \u001b[38;5;121m\u001b[3m<8d2dd7b>\u001b[0m\u001b[38;5;159m, morph: \u001b[38;5;121m<gs.morphs.Mesh(file='/home/vahid/envs/panda/lib/python3.10/site-packages/genesis/assets/meshes/axis.obj')>\u001b[0m\u001b[38;5;159m, material: \u001b[38;5;121m<gs.materials.Rigid>\u001b[0m\u001b[38;5;159m.\u001b[0m\n"
     ]
    }
   ],
   "source": [
    "scene = adapter.scene\n",
    "plane = scene.add_entity(\n",
    "    gs.morphs.Plane(),\n",
    ")\n",
    "franka_MJCF = scene.add_entity(\n",
    "    gs.morphs.MJCF(file=\"xml/franka_emika_panda/panda.xml\",\n",
    "                   pos = (0.0, 2.0, 0.0)),\n",
    "    \n",
    ")\n",
    "franka = scene.add_entity(\n",
    "    gs.morphs.MJCF(file=\"../assets/xml/franka_emika_panda/panda_vir.xml\")\n",
    "                   \n",
    ")\n",
    "cube_size = (0.1, 0.07, 0.25)\n",
    "cube_pos = [(0.7, 0, 0.05), (0.7, 2.0, 0.05)]\n",
    "\n",
    "cube, cube2 = [scene.add_entity(\n",
    "    gs.morphs.Box(\n",
    "        size = cube_size,\n",
    "        pos  = pos,\n",
    "        euler = (0, -90, 0)\n",
    "    ),\n",
    "    surface=gs.surfaces.Default(\n",
    "        color=(0.5, 0.8, 0.94),\n",
    "    ),\n",
    "    material=gs.materials.Rigid(friction=5)\n",
    "    \n",
    ") for pos in cube_pos]\n",
    "\n",
    "target_entity = scene.add_entity(\n",
    "    gs.morphs.Mesh(\n",
    "        file=\"meshes/axis.obj\",\n",
    "        scale=0.15,\n",
    "        collision=False,\n",
    "    ),\n",
    "    surface=gs.surfaces.Default(color=(1, 0.5, 0.5, 1)),\n",
    "    material=gs.materials.Rigid(gravity_compensation=1.0)\n",
    ")"
   ]
  },
  {
   "cell_type": "markdown",
   "id": "a4abcb88",
   "metadata": {},
   "source": [
    "## Robot Configuration\n",
    "\n",
    "We build the scene and define important joint groups:\n",
    "- `motors_dof`: Joints 0-6 for arm movement\n",
    "- `fingers_dof`: Joints 7-8 for gripper fingers\n",
    "- `virtual_hand`: Joint 9 at the middle of the finger for rotational slippage (only on the `franka`)\n",
    "- `spinning_pads`: Joints 9-10 for the spinning contact pads (only on the `franka`)"
   ]
  },
  {
   "cell_type": "code",
   "execution_count": 4,
   "id": "6222462d",
   "metadata": {},
   "outputs": [
    {
     "name": "stdout",
     "output_type": "stream",
     "text": [
      "\u001b[38;5;159m[Genesis] [15:14:51] [INFO] Building scene \u001b[38;5;121m\u001b[3m<243a364>\u001b[0m\u001b[38;5;159m...\u001b[0m\n"
     ]
    },
    {
     "name": "stdout",
     "output_type": "stream",
     "text": [
      "\u001b[38;5;226m[Genesis] [15:14:52] [WARNING] Reference robot position exceeds joint limits.\u001b[0m\n",
      "\u001b[38;5;226m[Genesis] [15:14:52] [WARNING] Constraint solver time constant was increased to avoid numerical instability (from `0.005` to `0.02`). Decrease simulation timestep to avoid altering the original value.\u001b[0m\n"
     ]
    },
    {
     "name": "stderr",
     "output_type": "stream",
     "text": [
      "[W 05/15/25 15:14:54.079 23566] [frontend_ir.cpp:begin_frontend_struct_for_on_external_tensor@1694] ti.loop_config(serialize=True) does not have effect on the struct for. The execution order is not guaranteed.\n"
     ]
    },
    {
     "name": "stdout",
     "output_type": "stream",
     "text": [
      "\u001b[38;5;159m[Genesis] [15:15:00] [INFO] Compiling simulation kernels...\u001b[0m\n",
      "\u001b[38;5;159m[Genesis] [15:18:44] [INFO] Building visualizer...\u001b[0m\n",
      "\u001b[38;5;159m[Genesis] [15:18:48] [INFO] Viewer created. Resolution: \u001b[38;5;121m1280×960\u001b[0m\u001b[38;5;159m, max_FPS: \u001b[38;5;121m60\u001b[0m\u001b[38;5;159m.\u001b[0m\n"
     ]
    }
   ],
   "source": [
    "n_envs = 0\n",
    "scene.build()\n"
   ]
  },
  {
   "cell_type": "code",
   "execution_count": 5,
   "id": "f81ea9fb",
   "metadata": {},
   "outputs": [
    {
     "name": "stdout",
     "output_type": "stream",
     "text": [
      "joint1 0\n",
      "joint2 1\n",
      "joint3 2\n",
      "joint4 3\n",
      "joint5 4\n",
      "joint6 5\n",
      "joint7 6\n",
      "finger_joint1 7\n",
      "finger_joint2 8\n",
      "virtual_finger_joint 9\n",
      "left_pad_hinge 10\n",
      "right_pad_hinge 11\n"
     ]
    }
   ],
   "source": [
    "for joint in franka.joints:\n",
    "    print(joint.name, joint.idx_local)\n",
    "motors_dof = np.arange(7)\n",
    "fingers_dof = np.arange(7, 9)\n",
    "virtual_finger = 9\n",
    "spinning_pads = np.arange(10, 12)"
   ]
  },
  {
   "cell_type": "markdown",
   "id": "a752e98d",
   "metadata": {},
   "source": [
    "## Initial Robot Positioning\n",
    "\n",
    "Reset the scene and set both robots to the same initial joint configuration. We'll use this \"ready pose\" as a starting position for our task. Notice that the standard robot has 9 DOFs (degrees of freedom), while the modified version can have 1 dof extra for virtual_finger and two extras for spinning_pads"
   ]
  },
  {
   "cell_type": "code",
   "execution_count": 6,
   "id": "8a751095",
   "metadata": {},
   "outputs": [
    {
     "name": "stdout",
     "output_type": "stream",
     "text": [
      "\u001b[38;5;159m[Genesis] [15:18:57] [INFO] Resetting Scene \u001b[38;5;121m\u001b[3m<243a364>\u001b[0m\u001b[38;5;159m.\u001b[0m\n"
     ]
    }
   ],
   "source": [
    "scene.reset()\n",
    "qr = np.array([0.0000, -0.3002, 0.0000, -2.1991, 0.0000, 2.0071, 0.7854, 0.04, 0.04])\n",
    "\n",
    "# set joints position\n",
    "franka.ready_qpos = np.append(qr, [0, 0, 0])\n",
    "franka.set_qpos(franka.ready_qpos)\n",
    "# position control\n",
    "franka.control_dofs_position(franka.ready_qpos)\n",
    "\n",
    "franka_MJCF.ready_qpos = qr\n",
    "franka_MJCF.set_qpos(franka_MJCF.ready_qpos)\n",
    "franka_MJCF.control_dofs_position(franka_MJCF.ready_qpos)\n",
    "\n",
    "end_effector = franka.get_link('hand')\n",
    "virtual_finger = franka.get_link('virtual_finger')\n",
    "\n",
    "end_effector_MJCF = franka_MJCF.get_link('hand')\n",
    "\n",
    "\n",
    "target_entity.set_pos(virtual_finger.get_pos())\n",
    "target_entity.set_quat(virtual_finger.get_quat())\n",
    "\n",
    "\n",
    "scene.step()"
   ]
  },
  {
   "cell_type": "markdown",
   "id": "e3d0308f",
   "metadata": {},
   "source": [
    "## Pre-grasp Positioning\n",
    "\n",
    "Now we'll move both robots to a position above the cube. We'll use inverse kinematics to calculate the joint positions needed to place the end-effector at the desired position and orientation. \n"
   ]
  },
  {
   "cell_type": "code",
   "execution_count": 17,
   "id": "a4b7dc63",
   "metadata": {},
   "outputs": [
    {
     "name": "stdout",
     "output_type": "stream",
     "text": [
      "tensor([ 6.5570e-05,  3.1011e-01, -3.8616e-05, -2.0730e+00, -2.1062e-04,\n",
      "         2.4214e+00,  7.8540e-01,  4.0000e-02,  4.0000e-02, -4.1957e-10],\n",
      "       device='cuda:0')\n"
     ]
    }
   ],
   "source": [
    "\n",
    "# get the end-effector link\n",
    "l, w, h, = adapter.get_size(cube)\n",
    "above_box = cube.get_pos().cpu().numpy() + np.array([-cube_size[2]/2 + 0.02, 0, 0.1 + cube_size[0]/2 - 0.02]) # 0.1 m above the grasp point\n",
    "# move to pre-grasp pose\n",
    "qpos = franka.inverse_kinematics(\n",
    "    link = virtual_finger,\n",
    "    pos  = above_box,\n",
    "    rot_mask = [False, False, True]\n",
    ")\n",
    "qpos_MJCF = franka_MJCF.inverse_kinematics(\n",
    "    link = end_effector_MJCF,\n",
    "    pos  = above_box + np.array([0.0, 2.0, 0.1034]), # 0.1034 m is the distance between hand and fingers\n",
    "    quat = np.array([0, 1, 0, 0]),\n",
    ")\n",
    "# gripper open pos\n",
    "qpos_MJCF[fingers_dof] = 0.04\n",
    "qpos[fingers_dof] = 0.04\n",
    "print(qpos)\n"
   ]
  },
  {
   "cell_type": "code",
   "execution_count": 18,
   "id": "1b864128",
   "metadata": {},
   "outputs": [
    {
     "name": "stdout",
     "output_type": "stream",
     "text": [
      "\u001b[38;5;159m[Genesis] [17:31:52] [INFO] Path solution found successfully.\u001b[0m\n",
      "\u001b[38;5;159m[Genesis] [17:31:52] [INFO] Path solution found successfully.\u001b[0m\n"
     ]
    }
   ],
   "source": [
    "path = franka.plan_path(\n",
    "    qpos_goal     = qpos,\n",
    "    num_waypoints = 200, # 2s duration\n",
    ")\n",
    "path_MJCF = franka_MJCF.plan_path(\n",
    "    qpos_goal     = qpos_MJCF,\n",
    "    num_waypoints = 200, # 2s duration\n",
    ")"
   ]
  },
  {
   "cell_type": "markdown",
   "id": "66ef5fbf",
   "metadata": {},
   "source": [
    "## Path Planning\n",
    "\n",
    "Generate a smooth trajectory for each robot to reach the pre-grasp position."
   ]
  },
  {
   "cell_type": "code",
   "execution_count": 19,
   "id": "e3141cfd",
   "metadata": {},
   "outputs": [],
   "source": [
    "# execute the planned path\n",
    "for waypoint, waypoint_MJCF in zip(path, path_MJCF):\n",
    "    franka.control_dofs_position(waypoint)\n",
    "    franka_MJCF.control_dofs_position(waypoint_MJCF)\n",
    "    target_entity.set_pos(end_effector.get_pos())\n",
    "    target_entity.set_quat(end_effector.get_quat())\n",
    "    scene.step()\n",
    "\n",
    "# allow robot to reach the last waypoint\n",
    "for i in range(100):\n",
    "    target_entity.set_pos(end_effector.get_pos())\n",
    "    target_entity.set_quat(end_effector.get_quat())\n",
    "    scene.step()\n"
   ]
  },
  {
   "cell_type": "markdown",
   "id": "eccef865",
   "metadata": {},
   "source": [
    "## Gripper Positioning\n",
    "\n",
    "Going down to align fingers with grasp point"
   ]
  },
  {
   "cell_type": "code",
   "execution_count": null,
   "id": "118be4a0",
   "metadata": {},
   "outputs": [
    {
     "data": {
      "text/plain": [
       "(array([ 5.95016677e-01, -1.42341375e-10,  1.79892239e-01]),\n",
       " array([ 5.95016677e-01, -1.42341375e-10,  7.98922393e-02]))"
      ]
     },
     "execution_count": 23,
     "metadata": {},
     "output_type": "execute_result"
    }
   ],
   "source": []
  },
  {
   "cell_type": "code",
   "execution_count": 24,
   "id": "fbadc379",
   "metadata": {},
   "outputs": [],
   "source": [
    "side_box = above_box + np.array([0.0, 0.0, -0.1])\n",
    "\n",
    "\n",
    "# reach\n",
    "qpos_reach = franka.inverse_kinematics(\n",
    "    link = virtual_finger,\n",
    "    pos  = side_box,\n",
    "    rot_mask = [False, False, True]\n",
    ")\n",
    "qpos_reach_MJCF = franka_MJCF.inverse_kinematics(\n",
    "    link = end_effector_MJCF,\n",
    "    pos  = side_box + np.array([0.0, 2.0, 0.1034]),\n",
    "    quat = np.array([0, 1, 0, 0]),\n",
    ")\n"
   ]
  },
  {
   "cell_type": "markdown",
   "id": "273cfbb6",
   "metadata": {},
   "source": [
    "## Reaching for the Object\n",
    "\n",
    "Calculate and execute a path to move from the pre-grasp position down to the actual grasp position. Both robots move their end-effectors to the side of their respective cubes.\n"
   ]
  },
  {
   "cell_type": "code",
   "execution_count": 48,
   "id": "52af3a7f",
   "metadata": {},
   "outputs": [],
   "source": [
    "end_effector_dq = adapter.forward_kinematics(franka, end_effector, output_type='dq')\n",
    "cube_bbox = adapter.get_bbox(cube)\n",
    "qs, s_axes = planner.screw_from_bbox(cube_bbox)\n",
    "q, s_axis = qs[1], s_axes[1]"
   ]
  },
  {
   "cell_type": "code",
   "execution_count": 49,
   "id": "cc24ec46",
   "metadata": {},
   "outputs": [],
   "source": [
    "\n",
    "trajectory_franka = planner.generate_screw_trajectory(initial_pose=end_effector_dq, q=q, s_axis=s_axis, output_type='pq')"
   ]
  },
  {
   "cell_type": "code",
   "execution_count": 50,
   "id": "643e5bc5",
   "metadata": {},
   "outputs": [
    {
     "data": {
      "text/plain": [
       "array([[ 5.95393598e-01, -3.39945145e-05,  1.75905704e-01, ...,\n",
       "         9.99652239e-01,  2.96501394e-04, -2.63672591e-02],\n",
       "       [ 5.95393701e-01, -3.39945145e-05,  1.75905839e-01, ...,\n",
       "         9.99652232e-01,  2.96501477e-04, -2.63675514e-02],\n",
       "       [ 5.95394417e-01, -3.39945145e-05,  1.75906773e-01, ...,\n",
       "         9.99652178e-01,  2.96502054e-04, -2.63695853e-02],\n",
       "       ...,\n",
       "       [ 1.00104483e+00, -3.39945145e-05,  2.29528039e-01, ...,\n",
       "         6.88218098e-01,  4.10042979e-04, -7.25503743e-01],\n",
       "       [ 1.00104576e+00, -3.39945145e-05,  2.29527323e-01, ...,\n",
       "         6.88216622e-01,  4.10042960e-04, -7.25505144e-01],\n",
       "       [ 1.00104590e+00, -3.39945145e-05,  2.29527220e-01, ...,\n",
       "         6.88216409e-01,  4.10042957e-04, -7.25505345e-01]],\n",
       "      shape=(300, 7))"
      ]
     },
     "execution_count": 50,
     "metadata": {},
     "output_type": "execute_result"
    }
   ],
   "source": [
    "trajectory_franka"
   ]
  },
  {
   "cell_type": "code",
   "execution_count": null,
   "id": "b1ceae43",
   "metadata": {},
   "outputs": [
    {
     "name": "stdout",
     "output_type": "stream",
     "text": [
      "\u001b[38;5;226m[Genesis] [17:36:25] [WARNING] `qpos_start` exceeds joint limit. Relaxing joint limit to contain `qpos_start` for planning.\u001b[0m\n",
      "\u001b[38;5;159m[Genesis] [17:36:25] [INFO] Path solution found successfully.\u001b[0m\n",
      "\u001b[38;5;159m[Genesis] [17:36:25] [INFO] Ingoring collision pairs already active for starting pos.\u001b[0m\n",
      "\u001b[38;5;159m[Genesis] [17:36:26] [INFO] Path solution found successfully.\u001b[0m\n"
     ]
    }
   ],
   "source": [
    "\n",
    "for waypoint in trajectory_franka:\n",
    "    franka.control_dofs_position(waypoint)\n",
    "    franka_MJCF.control_dofs_position(waypoint_MJCF)\n",
    "    target_entity.set_pos(end_effector.get_pos())\n",
    "    target_entity.set_quat(end_effector.get_quat())\n",
    "    scene.step()\n",
    "\n",
    "# allow robot to reach the last waypoint\n",
    "for i in range(100):\n",
    "    target_entity.set_pos(end_effector.get_pos())\n",
    "    target_entity.set_quat(end_effector.get_quat())\n",
    "    scene.step()"
   ]
  },
  {
   "cell_type": "code",
   "execution_count": 26,
   "id": "72585d9b",
   "metadata": {},
   "outputs": [],
   "source": [
    "franka.control_dofs_force(np.array([-2, -2]), fingers_dof)\n",
    "franka_MJCF.set_qpos(qpos_reach_MJCF)\n",
    "franka_MJCF.control_dofs_position(qpos_reach_MJCF[motors_dof], motors_dof)\n",
    "franka_MJCF.control_dofs_force(np.array([-2, -2]), fingers_dof)\n",
    "\n",
    "for i in range(100):\n",
    "    target_entity.set_pos(end_effector.get_pos())\n",
    "    target_entity.set_quat(end_effector.get_quat())\n",
    "    scene.step()\n"
   ]
  },
  {
   "cell_type": "markdown",
   "id": "8f14d497",
   "metadata": {},
   "source": [
    "## Grasping the Object\n",
    "\n",
    "Now we'll close the grippers on both robots by applying force to the finger joints. This is where we can start observing differences:\n",
    "\n",
    "1. The standard robot (without spinning pads) applies force only with its parallel-jaw gripper\n",
    "2. The enhanced robot also activates its spinning pads, which distribute force more evenly across the object surface\n",
    "\n",
    "The spinning pads reduce the chance of the object slipping by providing rolling contact rather than pure sliding contact.\n"
   ]
  },
  {
   "cell_type": "code",
   "execution_count": null,
   "id": "b95e9665",
   "metadata": {},
   "outputs": [],
   "source": [
    "\n",
    "# lift\n",
    "# move to pre-grasp pose\n",
    "qpos = franka.inverse_kinematics(\n",
    "    link = end_effector,\n",
    "    pos  = above_box,\n",
    "    quat = np.array([0, 1, 0, 0]),\n",
    ")\n",
    "qpos_MJCF = franka_MJCF.inverse_kinematics(\n",
    "    link = end_effector_MJCF,\n",
    "    pos  = above_box + np.array([0.0, 2.0, 0.0]),\n",
    "    quat = np.array([0, 1, 0, 0]),\n",
    ")\n",
    "\n",
    "franka.control_dofs_position(qpos[:-4], motors_dof)\n",
    "franka_MJCF.control_dofs_position(qpos_MJCF[:-2], motors_dof)\n",
    "\n",
    "for i in range(200):\n",
    "    target_entity.set_pos(end_effector.get_pos())\n",
    "    target_entity.set_quat(end_effector.get_quat())\n",
    "    scene.step()"
   ]
  },
  {
   "cell_type": "markdown",
   "id": "02418dbc",
   "metadata": {},
   "source": [
    "## Lifting the Object\n",
    "\n",
    "With the object grasped, we now lift both cubes upward. Watch carefully for any differences in stability:\n",
    "\n",
    "- The standard gripper may show slight object rotation or slippage during movement\n",
    "- The gripper with spinning pads typically maintains a more stable grasp by adapting to small forces with rolling action\n"
   ]
  },
  {
   "cell_type": "code",
   "execution_count": null,
   "id": "8b12757e",
   "metadata": {},
   "outputs": [],
   "source": [
    "# move backward\n",
    "# move to pre-grasp pose\n",
    "qpos = franka.inverse_kinematics(\n",
    "    link = end_effector,\n",
    "    pos  = above_box + np.array([-0.1, 0.0, 0.1]),\n",
    "    quat = np.array([0, 1, 0, 0]),\n",
    ")\n",
    "qpos_MJCF = franka_MJCF.inverse_kinematics(\n",
    "    link = end_effector_MJCF,\n",
    "    pos  = above_box + np.array([-0.1, 2.0, 0.1]),\n",
    "    quat = np.array([0, 1, 0, 0]),\n",
    ")\n",
    "\n",
    "franka.control_dofs_position(qpos[:-4], motors_dof)\n",
    "franka_MJCF.control_dofs_position(qpos_MJCF[:-2], motors_dof)\n",
    "\n",
    "for i in range(200):\n",
    "    target_entity.set_pos(end_effector.get_pos())\n",
    "    target_entity.set_quat(end_effector.get_quat())\n",
    "    scene.step()"
   ]
  },
  {
   "cell_type": "markdown",
   "id": "d9d2b053",
   "metadata": {},
   "source": [
    "## Transporting the Object\n",
    "\n",
    "Finally, we move the robots backward while still grasping their cubes. This lateral movement introduces additional forces that can challenge grasp stability.\n",
    "\n",
    "The differences between the two gripping methods should be most apparent during this phase:\n",
    "- The standard gripper relies solely on friction to prevent slipping\n",
    "- The gripper with spinning pads allows controlled rolling at the contact points, reducing the build-up of lateral forces\n",
    "\n",
    "This demonstrates why spinning pads can be advantageous for delicate object manipulation tasks where maintaining precise grasp stability is critical.\n"
   ]
  },
  {
   "cell_type": "code",
   "execution_count": null,
   "id": "df5e5cf3",
   "metadata": {},
   "outputs": [],
   "source": []
  },
  {
   "cell_type": "markdown",
   "id": "3af3f74b",
   "metadata": {},
   "source": [
    "## Conclusion\n",
    "\n",
    "This tutorial demonstrated the difference between standard Franka grippers and those equipped with spinning pads. Key observations:\n",
    "\n",
    "1. **Setup Complexity**: The spinning pad configuration requires additional DOFs (9-10) but provides enhanced manipulation capabilities\n",
    "2. **Grasp Stability**: Spinning pads can improve stability by providing rolling contact instead of sliding contact\n",
    "3. **Object Control**: During transport, the spinning pads help maintain more precise control of the object\n",
    "\n",
    "For applications requiring precise manipulation or handling of delicate objects, the spinning pad configuration offers significant advantages despite the added complexity.\n",
    "\n",
    "**Next Steps**:\n",
    "- Try manipulating objects of different shapes and materials\n",
    "- Experiment with different spinning pad velocities\n",
    "- Implement closed-loop control using force feedback from the gripper\n"
   ]
  }
 ],
 "metadata": {
  "kernelspec": {
   "display_name": "panda",
   "language": "python",
   "name": "python3"
  },
  "language_info": {
   "codemirror_mode": {
    "name": "ipython",
    "version": 3
   },
   "file_extension": ".py",
   "mimetype": "text/x-python",
   "name": "python",
   "nbconvert_exporter": "python",
   "pygments_lexer": "ipython3",
   "version": "3.10.17"
  }
 },
 "nbformat": 4,
 "nbformat_minor": 5
}
