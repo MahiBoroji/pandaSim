{
 "cells": [
  {
   "cell_type": "markdown",
   "id": "7db7bace",
   "metadata": {},
   "source": [
    "# Franka Robot Grasping Tutorial: With and Without Spinning Pads\n",
    "\n",
    "This tutorial demonstrates a comparison between two Franka Emika Panda robots—one with spinning pads and one without—performing the same grasping task. The spinning pads reduce the torsional friction about the normal vector of the contact between robot's finger and the object. \n",
    "\"The implementation for friction in genesis is not as advanced that in Mujoco. There is only 1 scalar parameter in Genesis, and condim cannot be changed (only condim = 3 is implemented). There is no torsional friction at the moment. The torsional friction in genesis is the result of multi-contact friction.\"\n",
    "\n",
    "\n",
    "The standard robot uses joints 0-8, with 0-6 for arm movement and 7-8 for the gripper. The modified robot includes spinning pads at joints 9-10, which can help provide rotational slippage at the contact point"
   ]
  },
  {
   "cell_type": "code",
   "execution_count": 1,
   "id": "5502bb81",
   "metadata": {},
   "outputs": [
    {
     "name": "stderr",
     "output_type": "stream",
     "text": [
      "[I 05/15/25 15:14:41.108 23566] [shell.py:_shell_pop_print@23] Graphical python shell detected, using wrapped sys.stdout\n"
     ]
    }
   ],
   "source": [
    "import genesis as gs\n",
    "import numpy as np\n",
    "import torch\n",
    "from pytransform3d import (\n",
    "    transformations as pt,\n",
    "    rotations as pr,\n",
    "    batch_rotations as pb,\n",
    "    trajectories as ptr,\n",
    "    plot_utils as ppu\n",
    ")\n",
    "from pandaSim.geometry.genesis_adapter import GenesisAdapter\n",
    "from pandaSim.planning.screw_motion_planner import ScrewMotionPlanner\n",
    "\n",
    "\n",
    "import spatialmath as sm\n",
    "# auto reaload\n",
    "%load_ext autoreload\n",
    "%autoreload 2"
   ]
  },
  {
   "cell_type": "code",
   "execution_count": 2,
   "id": "28c123a4",
   "metadata": {},
   "outputs": [
    {
     "name": "stdout",
     "output_type": "stream",
     "text": [
      "\u001b[38;5;159m[Genesis] [15:14:44] [INFO] \u001b[38;5;121m╭───────────────────────────────────────────────╮\u001b[0m\u001b[38;5;159m\u001b[0m\n",
      "\u001b[38;5;159m[Genesis] [15:14:44] [INFO] \u001b[38;5;121m│┈┉┈┉┈┉┈┉┈┉┈┉┈┉┈┉┈┉┈\u001b[0m\u001b[38;5;159m \u001b[38;5;121m\u001b[1m\u001b[3mGenesis\u001b[0m\u001b[38;5;159m \u001b[38;5;121m┈┉┈┉┈┉┈┉┈┉┈┉┈┉┈┉┈┉┈│\u001b[0m\u001b[38;5;159m\u001b[0m\n",
      "\u001b[38;5;159m[Genesis] [15:14:44] [INFO] \u001b[38;5;121m╰───────────────────────────────────────────────╯\u001b[0m\u001b[38;5;159m\u001b[0m\n",
      "\u001b[38;5;159m[Genesis] [15:14:45] [INFO] Running on \u001b[38;5;121m\u001b[4m[NVIDIA GeForce RTX 3070 Laptop GPU]\u001b[0m\u001b[38;5;159m with backend \u001b[38;5;121m\u001b[4mgs.cuda\u001b[0m\u001b[38;5;159m. Device memory: \u001b[38;5;121m\u001b[4m7.78\u001b[0m\u001b[38;5;159m GB.\u001b[0m\n",
      "\u001b[38;5;159m[Genesis] [15:14:45] [INFO] 🚀 Genesis initialized. 🔖 version: \u001b[38;5;121m\u001b[4m0.2.1\u001b[0m\u001b[38;5;159m, 🌱 seed: \u001b[38;5;121m\u001b[4mNone\u001b[0m\u001b[38;5;159m, 📏 precision: '\u001b[38;5;121m\u001b[4m32\u001b[0m\u001b[38;5;159m', 🐛 debug: \u001b[38;5;121m\u001b[4mFalse\u001b[0m\u001b[38;5;159m, 🎨 theme: '\u001b[38;5;121m\u001b[4mdark\u001b[0m\u001b[38;5;159m'.\u001b[0m\n",
      "\u001b[38;5;159m[Genesis] [15:14:45] [INFO] Scene \u001b[38;5;121m\u001b[3m<243a364>\u001b[0m\u001b[38;5;159m created.\u001b[0m\n"
     ]
    }
   ],
   "source": [
    "gs.destroy()\n",
    "gs.init(backend=gs.gpu)\n",
    "gs.set_random_seed(seed=42)\n",
    "adapter = GenesisAdapter()\n",
    "planner = ScrewMotionPlanner()"
   ]
  },
  {
   "cell_type": "markdown",
   "id": "f318f00c",
   "metadata": {},
   "source": [
    "## Scene Construction\n",
    "\n",
    "Here we create the simulation environment with:\n",
    "1. A ground plane\n",
    "2. Two Franka Emika Panda robots:\n",
    "   - One standard robot at position (0,2,0)\n",
    "   - One with spinning pads and virtual finger at position (0,0,0)\n",
    "3. Two cubes for each robot\n",
    "4. A target entity for visualization\n",
    "\n",
    "The key difference between the robots is that the standard Franka `(franka_MJCF)` uses only the arm and finger joints (joints 0-8), while the other version has additional spinning pads (joints 9-10) that cause rotational slippage using extra hinge DoFs.\n"
   ]
  },
  {
   "cell_type": "code",
   "execution_count": 3,
   "id": "94b65edf",
   "metadata": {},
   "outputs": [
    {
     "name": "stdout",
     "output_type": "stream",
     "text": [
      "\u001b[38;5;159m[Genesis] [15:14:46] [INFO] Adding \u001b[38;5;121m<gs.RigidEntity>\u001b[0m\u001b[38;5;159m. idx: \u001b[38;5;121m0\u001b[0m\u001b[38;5;159m, uid: \u001b[38;5;121m\u001b[3m<c14fbb8>\u001b[0m\u001b[38;5;159m, morph: \u001b[38;5;121m<gs.morphs.Plane>\u001b[0m\u001b[38;5;159m, material: \u001b[38;5;121m<gs.materials.Rigid>\u001b[0m\u001b[38;5;159m.\u001b[0m\n",
      "\u001b[38;5;159m[Genesis] [15:14:46] [INFO] Adding \u001b[38;5;121m<gs.RigidEntity>\u001b[0m\u001b[38;5;159m. idx: \u001b[38;5;121m1\u001b[0m\u001b[38;5;159m, uid: \u001b[38;5;121m\u001b[3m<5bc8299>\u001b[0m\u001b[38;5;159m, morph: \u001b[38;5;121m<gs.morphs.MJCF(file='/home/vahid/envs/panda/lib/python3.10/site-packages/genesis/assets/xml/franka_emika_panda/panda.xml')>\u001b[0m\u001b[38;5;159m, material: \u001b[38;5;121m<gs.materials.Rigid>\u001b[0m\u001b[38;5;159m.\u001b[0m\n",
      "\u001b[38;5;226m[Genesis] [15:14:47] [WARNING] (MJCF) Tendon not supported\u001b[0m\n",
      "\u001b[38;5;226m[Genesis] [15:14:47] [WARNING] (MJCF) Approximating tendon by joint actuator for `finger_joint1`\u001b[0m\n",
      "\u001b[38;5;226m[Genesis] [15:14:47] [WARNING] (MJCF) Actuator control gain and bias parameters cannot be reduced to a unique PD control position gain. Using max between gain and bias.\u001b[0m\n",
      "\u001b[38;5;226m[Genesis] [15:14:47] [WARNING] (MJCF) Approximating tendon by joint actuator for `finger_joint2`\u001b[0m\n",
      "\u001b[38;5;226m[Genesis] [15:14:47] [WARNING] (MJCF) Actuator control gain and bias parameters cannot be reduced to a unique PD control position gain. Using max between gain and bias.\u001b[0m\n",
      "\u001b[38;5;159m[Genesis] [15:14:47] [INFO] Applying offset to base link's pose with user provided value in morph.\u001b[0m\n",
      "\u001b[38;5;159m[Genesis] [15:14:47] [INFO] Adding \u001b[38;5;121m<gs.RigidEntity>\u001b[0m\u001b[38;5;159m. idx: \u001b[38;5;121m2\u001b[0m\u001b[38;5;159m, uid: \u001b[38;5;121m\u001b[3m<5626bcb>\u001b[0m\u001b[38;5;159m, morph: \u001b[38;5;121m<gs.morphs.MJCF(file='/home/vahid/repos/pandaSim/assets/xml/franka_emika_panda/panda_vir.xml')>\u001b[0m\u001b[38;5;159m, material: \u001b[38;5;121m<gs.materials.Rigid>\u001b[0m\u001b[38;5;159m.\u001b[0m\n",
      "\u001b[38;5;226m[Genesis] [15:14:48] [WARNING] (MJCF) Tendon not supported\u001b[0m\n",
      "\u001b[38;5;226m[Genesis] [15:14:48] [WARNING] (MJCF) Approximating tendon by joint actuator for `finger_joint1`\u001b[0m\n",
      "\u001b[38;5;226m[Genesis] [15:14:48] [WARNING] (MJCF) Actuator control gain and bias parameters cannot be reduced to a unique PD control position gain. Using max between gain and bias.\u001b[0m\n",
      "\u001b[38;5;226m[Genesis] [15:14:48] [WARNING] (MJCF) Approximating tendon by joint actuator for `finger_joint2`\u001b[0m\n",
      "\u001b[38;5;226m[Genesis] [15:14:48] [WARNING] (MJCF) Actuator control gain and bias parameters cannot be reduced to a unique PD control position gain. Using max between gain and bias.\u001b[0m\n",
      "\u001b[38;5;159m[Genesis] [15:14:48] [INFO] Adding \u001b[38;5;121m<gs.RigidEntity>\u001b[0m\u001b[38;5;159m. idx: \u001b[38;5;121m3\u001b[0m\u001b[38;5;159m, uid: \u001b[38;5;121m\u001b[3m<fb691f0>\u001b[0m\u001b[38;5;159m, morph: \u001b[38;5;121m<gs.morphs.Box>\u001b[0m\u001b[38;5;159m, material: \u001b[38;5;121m<gs.materials.Rigid>\u001b[0m\u001b[38;5;159m.\u001b[0m\n",
      "\u001b[38;5;159m[Genesis] [15:14:48] [INFO] Adding \u001b[38;5;121m<gs.RigidEntity>\u001b[0m\u001b[38;5;159m. idx: \u001b[38;5;121m4\u001b[0m\u001b[38;5;159m, uid: \u001b[38;5;121m\u001b[3m<5d075e3>\u001b[0m\u001b[38;5;159m, morph: \u001b[38;5;121m<gs.morphs.Box>\u001b[0m\u001b[38;5;159m, material: \u001b[38;5;121m<gs.materials.Rigid>\u001b[0m\u001b[38;5;159m.\u001b[0m\n",
      "\u001b[38;5;159m[Genesis] [15:14:48] [INFO] Adding \u001b[38;5;121m<gs.RigidEntity>\u001b[0m\u001b[38;5;159m. idx: \u001b[38;5;121m5\u001b[0m\u001b[38;5;159m, uid: \u001b[38;5;121m\u001b[3m<8d2dd7b>\u001b[0m\u001b[38;5;159m, morph: \u001b[38;5;121m<gs.morphs.Mesh(file='/home/vahid/envs/panda/lib/python3.10/site-packages/genesis/assets/meshes/axis.obj')>\u001b[0m\u001b[38;5;159m, material: \u001b[38;5;121m<gs.materials.Rigid>\u001b[0m\u001b[38;5;159m.\u001b[0m\n"
     ]
    }
   ],
   "source": [
    "scene = adapter.scene\n",
    "plane = scene.add_entity(\n",
    "    gs.morphs.Plane(),\n",
    ")\n",
    "franka_MJCF = scene.add_entity(\n",
    "    gs.morphs.MJCF(file=\"xml/franka_emika_panda/panda.xml\",\n",
    "                   pos = (0.0, 2.0, 0.0)),\n",
    "    \n",
    ")\n",
    "franka = scene.add_entity(\n",
    "    gs.morphs.MJCF(file=\"../assets/xml/franka_emika_panda/panda_vir.xml\")\n",
    "                   \n",
    ")\n",
    "cube_size = (0.1, 0.07, 0.25)\n",
    "cube_pos = [(0.7, 0, 0.05), (0.7, 2.0, 0.05)]\n",
    "\n",
    "cube, cube2 = [scene.add_entity(\n",
    "    gs.morphs.Box(\n",
    "        size = cube_size,\n",
    "        pos  = pos,\n",
    "        euler = (0, -90, 0)\n",
    "    ),\n",
    "    surface=gs.surfaces.Default(\n",
    "        color=(0.5, 0.8, 0.94),\n",
    "    ),\n",
    "    material=gs.materials.Rigid(friction=5)\n",
    "    \n",
    ") for pos in cube_pos]\n",
    "\n",
    "target_entity = scene.add_entity(\n",
    "    gs.morphs.Mesh(\n",
    "        file=\"meshes/axis.obj\",\n",
    "        scale=0.15,\n",
    "        collision=False,\n",
    "    ),\n",
    "    surface=gs.surfaces.Default(color=(1, 0.5, 0.5, 1)),\n",
    "    material=gs.materials.Rigid(gravity_compensation=1.0)\n",
    ")"
   ]
  },
  {
   "cell_type": "markdown",
   "id": "a4abcb88",
   "metadata": {},
   "source": [
    "## Robot Configuration\n",
    "\n",
    "We build the scene and define important joint groups:\n",
    "- `motors_dof`: Joints 0-6 for arm movement\n",
    "- `fingers_dof`: Joints 7-8 for gripper fingers\n",
    "- `virtual_hand`: Joint 9 at the middle of the finger for rotational slippage (only on the `franka`)\n",
    "- `spinning_pads`: Joints 9-10 for the spinning contact pads (only on the `franka`)"
   ]
  },
  {
   "cell_type": "code",
   "execution_count": 4,
   "id": "6222462d",
   "metadata": {},
   "outputs": [
    {
     "name": "stdout",
     "output_type": "stream",
     "text": [
      "\u001b[38;5;159m[Genesis] [15:14:51] [INFO] Building scene \u001b[38;5;121m\u001b[3m<243a364>\u001b[0m\u001b[38;5;159m...\u001b[0m\n"
     ]
    },
    {
     "name": "stdout",
     "output_type": "stream",
     "text": [
      "\u001b[38;5;226m[Genesis] [15:14:52] [WARNING] Reference robot position exceeds joint limits.\u001b[0m\n",
      "\u001b[38;5;226m[Genesis] [15:14:52] [WARNING] Constraint solver time constant was increased to avoid numerical instability (from `0.005` to `0.02`). Decrease simulation timestep to avoid altering the original value.\u001b[0m\n"
     ]
    },
    {
     "name": "stderr",
     "output_type": "stream",
     "text": [
      "[W 05/15/25 15:14:54.079 23566] [frontend_ir.cpp:begin_frontend_struct_for_on_external_tensor@1694] ti.loop_config(serialize=True) does not have effect on the struct for. The execution order is not guaranteed.\n"
     ]
    },
    {
     "name": "stdout",
     "output_type": "stream",
     "text": [
      "\u001b[38;5;159m[Genesis] [15:15:00] [INFO] Compiling simulation kernels...\u001b[0m\n",
      "\u001b[38;5;159m[Genesis] [15:18:44] [INFO] Building visualizer...\u001b[0m\n",
      "\u001b[38;5;159m[Genesis] [15:18:48] [INFO] Viewer created. Resolution: \u001b[38;5;121m1280×960\u001b[0m\u001b[38;5;159m, max_FPS: \u001b[38;5;121m60\u001b[0m\u001b[38;5;159m.\u001b[0m\n"
     ]
    }
   ],
   "source": [
    "n_envs = 0\n",
    "scene.build()\n"
   ]
  },
  {
   "cell_type": "code",
   "execution_count": 5,
   "id": "f81ea9fb",
   "metadata": {},
   "outputs": [
    {
     "name": "stdout",
     "output_type": "stream",
     "text": [
      "joint1 0\n",
      "joint2 1\n",
      "joint3 2\n",
      "joint4 3\n",
      "joint5 4\n",
      "joint6 5\n",
      "joint7 6\n",
      "finger_joint1 7\n",
      "finger_joint2 8\n",
      "virtual_finger_joint 9\n",
      "left_pad_hinge 10\n",
      "right_pad_hinge 11\n"
     ]
    }
   ],
   "source": [
    "for joint in franka.joints:\n",
    "    print(joint.name, joint.idx_local)\n",
    "motors_dof = np.arange(7)\n",
    "fingers_dof = np.arange(7, 9)\n",
    "virtual_finger = 9\n",
    "spinning_pads = np.arange(10, 12)"
   ]
  },
  {
   "cell_type": "markdown",
   "id": "a752e98d",
   "metadata": {},
   "source": [
    "## Initial Robot Positioning\n",
    "\n",
    "Reset the scene and set both robots to the same initial joint configuration. We'll use this \"ready pose\" as a starting position for our task. Notice that the standard robot has 9 DOFs (degrees of freedom), while the modified version can have 1 dof extra for virtual_finger and two extras for spinning_pads"
   ]
  },
  {
   "cell_type": "code",
   "execution_count": 124,
   "id": "8a751095",
   "metadata": {},
   "outputs": [
    {
     "name": "stdout",
     "output_type": "stream",
     "text": [
      "\u001b[38;5;159m[Genesis] [18:33:58] [INFO] Resetting Scene \u001b[38;5;121m\u001b[3m<243a364>\u001b[0m\u001b[38;5;159m.\u001b[0m\n"
     ]
    }
   ],
   "source": [
    "scene.reset()\n",
    "qr = np.array([0.0000, -0.3002, 0.0000, -2.1991, 0.0000, 2.0071, 0.7854, 0.04, 0.04])\n",
    "\n",
    "# set joints position\n",
    "franka.ready_qpos = np.append(qr, [0, 0, 0])\n",
    "franka.set_qpos(franka.ready_qpos)\n",
    "# position control\n",
    "franka.control_dofs_position(franka.ready_qpos)\n",
    "\n",
    "franka_MJCF.ready_qpos = qr\n",
    "franka_MJCF.set_qpos(franka_MJCF.ready_qpos)\n",
    "franka_MJCF.control_dofs_position(franka_MJCF.ready_qpos)\n",
    "\n",
    "end_effector = franka.get_link('hand')\n",
    "virtual_finger = franka.get_link('virtual_finger')\n",
    "\n",
    "end_effector_MJCF = franka_MJCF.get_link('hand')\n",
    "\n",
    "\n",
    "target_entity.set_pos(virtual_finger.get_pos())\n",
    "target_entity.set_quat(virtual_finger.get_quat())\n",
    "\n",
    "\n",
    "scene.step()"
   ]
  },
  {
   "cell_type": "code",
   "execution_count": 125,
   "id": "02cd0450",
   "metadata": {},
   "outputs": [],
   "source": [
    "wPQb = adapter.get_pose(cube)\n",
    "l, w, h, = adapter.get_size(cube)\n",
    "bTg    = sm.SE3(l/2 - 0.02, 0, h/2 - 0.02).A\n",
    "wTg = adapter.transform(cube, bTg, apply=False)\n",
    "adapter.set_pose(target_entity, wTg)\n",
    "scene.step()\n",
    "\n"
   ]
  },
  {
   "cell_type": "code",
   "execution_count": 126,
   "id": "3cb796e5",
   "metadata": {},
   "outputs": [],
   "source": [
    "adapter.step_simulation(1)"
   ]
  },
  {
   "cell_type": "markdown",
   "id": "e3d0308f",
   "metadata": {},
   "source": [
    "## Pre-grasp Positioning\n",
    "\n",
    "Now we'll move both robots to a position above the cube. We'll use inverse kinematics to calculate the joint positions needed to place the end-effector at the desired position and orientation. \n"
   ]
  },
  {
   "cell_type": "code",
   "execution_count": 127,
   "id": "a4b7dc63",
   "metadata": {},
   "outputs": [],
   "source": [
    "wPQg = adapter.to(wTg, output_type='pq')\n",
    "# move to pre-grasp pose\n",
    "qpos = franka.inverse_kinematics(\n",
    "    link = virtual_finger,\n",
    "    pos  = wPQg[:3],\n",
    "    \n",
    ")\n",
    "qpos[fingers_dof] = 0.04\n"
   ]
  },
  {
   "cell_type": "code",
   "execution_count": 128,
   "id": "1b864128",
   "metadata": {},
   "outputs": [
    {
     "name": "stdout",
     "output_type": "stream",
     "text": [
      "\u001b[38;5;159m[Genesis] [18:34:01] [INFO] Path solution found successfully.\u001b[0m\n"
     ]
    }
   ],
   "source": [
    "path = franka.plan_path(\n",
    "    qpos_goal     = qpos,\n",
    "    num_waypoints = 250, # 2s duration\n",
    ")"
   ]
  },
  {
   "cell_type": "markdown",
   "id": "66ef5fbf",
   "metadata": {},
   "source": [
    "## Path Planning\n",
    "\n",
    "Generate a smooth trajectory for each robot to reach the pre-grasp position."
   ]
  },
  {
   "cell_type": "code",
   "execution_count": 129,
   "id": "e3141cfd",
   "metadata": {},
   "outputs": [],
   "source": [
    "# execute the planned path\n",
    "for waypoint in path:\n",
    "    franka.control_dofs_position(waypoint)\n",
    "    scene.step()\n",
    "\n",
    "# allow robot to reach the last waypoint\n",
    "for i in range(100):\n",
    "    scene.step()\n"
   ]
  },
  {
   "cell_type": "markdown",
   "id": "273cfbb6",
   "metadata": {},
   "source": [
    "## Reaching for the Object\n",
    "\n",
    "Calculate and execute a path to move from the pre-grasp position down to the actual grasp position. Both robots move their end-effectors to the side of their respective cubes.\n"
   ]
  },
  {
   "cell_type": "code",
   "execution_count": 130,
   "id": "95d309ac",
   "metadata": {},
   "outputs": [],
   "source": [
    "franka.control_dofs_force(np.array([-2, -2]), fingers_dof)\n",
    "adapter.step_simulation(1)"
   ]
  },
  {
   "cell_type": "code",
   "execution_count": 131,
   "id": "c5bd14fd",
   "metadata": {},
   "outputs": [],
   "source": [
    "virtual_finger_pose = adapter.forward_kinematics(franka, virtual_finger)\n",
    "\n",
    "cube_bbox = adapter.get_bbox(cube)\n",
    "qs, s_axes = planner.screw_from_bbox(cube_bbox)\n",
    "q, s_axis = qs[1], s_axes[1]\n",
    "\n",
    "\n",
    "finger_pqs = planner.generate_screw_trajectory(initial_pose=virtual_finger_pose, q=q, s_axis=s_axis, output_type='pq')\n",
    "\n",
    "qposs = []\n",
    "for pq in finger_pqs:\n",
    "    qpos = franka.inverse_kinematics(\n",
    "        link = virtual_finger,\n",
    "        pos = pq[:3],\n",
    "        init_qpos = qpos        \n",
    "    )\n",
    "    qposs.append(qpos)"
   ]
  },
  {
   "cell_type": "code",
   "execution_count": 132,
   "id": "b1ceae43",
   "metadata": {},
   "outputs": [],
   "source": [
    "\n",
    "for waypoint in qposs:\n",
    "    franka.control_dofs_position(waypoint[motors_dof], motors_dof)\n",
    "    target_entity.set_pos(virtual_finger.get_pos())\n",
    "    target_entity.set_quat(virtual_finger.get_quat())\n",
    "    scene.step()\n",
    "\n"
   ]
  },
  {
   "cell_type": "code",
   "execution_count": 133,
   "id": "f84441f0",
   "metadata": {},
   "outputs": [],
   "source": [
    "franka.control_dofs_force(np.array([0, 0]), fingers_dof)\n",
    "adapter.step_simulation(1)"
   ]
  },
  {
   "cell_type": "code",
   "execution_count": null,
   "id": "8457c2c9",
   "metadata": {},
   "outputs": [],
   "source": []
  }
 ],
 "metadata": {
  "kernelspec": {
   "display_name": "panda",
   "language": "python",
   "name": "python3"
  },
  "language_info": {
   "codemirror_mode": {
    "name": "ipython",
    "version": 3
   },
   "file_extension": ".py",
   "mimetype": "text/x-python",
   "name": "python",
   "nbconvert_exporter": "python",
   "pygments_lexer": "ipython3",
   "version": "3.10.17"
  }
 },
 "nbformat": 4,
 "nbformat_minor": 5
}
