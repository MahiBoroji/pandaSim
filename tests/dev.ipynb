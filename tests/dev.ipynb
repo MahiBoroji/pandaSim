{
 "cells": [
  {
   "cell_type": "markdown",
   "id": "9f939def",
   "metadata": {},
   "source": [
    "### Franka Robot Grasping and Objects Sclerp Tutorial: Without Rotational Slippage\n"
   ]
  },
  {
   "cell_type": "code",
   "execution_count": 1,
   "id": "5502bb81",
   "metadata": {},
   "outputs": [],
   "source": [
    "import genesis as gs\n",
    "import numpy as np\n",
    "import torch\n",
    "from pytransform3d import (\n",
    "    transformations as pt,\n",
    "    rotations as pr,\n",
    "    batch_rotations as pb,\n",
    "    trajectories as ptr,\n",
    "    plot_utils as ppu\n",
    ")\n",
    "\n",
    "from pandaSim.geometry.genesis_adapter import GenesisAdapter\n",
    "from pandaSim.planning.screw_motion_planner import ScrewMotionPlanner"
   ]
  },
  {
   "cell_type": "code",
   "execution_count": 2,
   "id": "d3fc8ab0",
   "metadata": {},
   "outputs": [
    {
     "name": "stdout",
     "output_type": "stream",
     "text": [
      "\u001b[38;5;159m[Genesis] [20:05:31] [INFO] \u001b[38;5;121m╭───────────────────────────────────────────────╮\u001b[0m\u001b[38;5;159m\u001b[0m\n",
      "\u001b[38;5;159m[Genesis] [20:05:31] [INFO] \u001b[38;5;121m│┈┉┈┉┈┉┈┉┈┉┈┉┈┉┈┉┈┉┈\u001b[0m\u001b[38;5;159m \u001b[38;5;121m\u001b[1m\u001b[3mGenesis\u001b[0m\u001b[38;5;159m \u001b[38;5;121m┈┉┈┉┈┉┈┉┈┉┈┉┈┉┈┉┈┉┈│\u001b[0m\u001b[38;5;159m\u001b[0m\n",
      "\u001b[38;5;159m[Genesis] [20:05:31] [INFO] \u001b[38;5;121m╰───────────────────────────────────────────────╯\u001b[0m\u001b[38;5;159m\u001b[0m\n",
      "\u001b[38;5;159m[Genesis] [20:05:34] [INFO] Running on \u001b[38;5;121m\u001b[4m[13th Gen Intel(R) Core(TM) i7-13800H]\u001b[0m\u001b[38;5;159m with backend \u001b[38;5;121m\u001b[4mgs.cpu\u001b[0m\u001b[38;5;159m. Device memory: \u001b[38;5;121m\u001b[4m31.59\u001b[0m\u001b[38;5;159m GB.\u001b[0m\n",
      "\u001b[38;5;159m[Genesis] [20:05:34] [INFO] 🚀 Genesis initialized. 🔖 version: \u001b[38;5;121m\u001b[4m0.2.1\u001b[0m\u001b[38;5;159m, 🌱 seed: \u001b[38;5;121m\u001b[4mNone\u001b[0m\u001b[38;5;159m, 📏 precision: '\u001b[38;5;121m\u001b[4m32\u001b[0m\u001b[38;5;159m', 🐛 debug: \u001b[38;5;121m\u001b[4mFalse\u001b[0m\u001b[38;5;159m, 🎨 theme: '\u001b[38;5;121m\u001b[4mdark\u001b[0m\u001b[38;5;159m'.\u001b[0m\n",
      "\u001b[38;5;159m[Genesis] [20:05:35] [INFO] Scene \u001b[38;5;121m\u001b[3m<e48901d>\u001b[0m\u001b[38;5;159m created.\u001b[0m\n"
     ]
    }
   ],
   "source": [
    "gs.destroy()\n",
    "gs.init(backend=gs.cpu)\n",
    "gs.set_random_seed(seed=42)\n",
    "#config = {'viewr_option' : {'width': 640, 'height': 480}, 'box_box_detection': True}\n",
    "adapter = GenesisAdapter()\n",
    "scene = adapter.scene"
   ]
  },
  {
   "cell_type": "code",
   "execution_count": 3,
   "id": "94b65edf",
   "metadata": {},
   "outputs": [
    {
     "name": "stdout",
     "output_type": "stream",
     "text": [
      "\u001b[38;5;159m[Genesis] [20:05:35] [INFO] Adding \u001b[38;5;121m<gs.RigidEntity>\u001b[0m\u001b[38;5;159m. idx: \u001b[38;5;121m0\u001b[0m\u001b[38;5;159m, uid: \u001b[38;5;121m\u001b[3m<eebdc2b>\u001b[0m\u001b[38;5;159m, morph: \u001b[38;5;121m<gs.morphs.Plane>\u001b[0m\u001b[38;5;159m, material: \u001b[38;5;121m<gs.materials.Rigid>\u001b[0m\u001b[38;5;159m.\u001b[0m\n",
      "\u001b[38;5;159m[Genesis] [20:05:35] [INFO] Adding \u001b[38;5;121m<gs.RigidEntity>\u001b[0m\u001b[38;5;159m. idx: \u001b[38;5;121m1\u001b[0m\u001b[38;5;159m, uid: \u001b[38;5;121m\u001b[3m<f8c2b06>\u001b[0m\u001b[38;5;159m, morph: \u001b[38;5;121m<gs.morphs.MJCF(file='d:\\envs\\Panda\\lib\\site-packages\\genesis\\assets\\xml/franka_emika_panda/panda.xml')>\u001b[0m\u001b[38;5;159m, material: \u001b[38;5;121m<gs.materials.Rigid>\u001b[0m\u001b[38;5;159m.\u001b[0m\n",
      "\u001b[38;5;226m[Genesis] [20:05:38] [WARNING] (MJCF) Tendon not supported\u001b[0m\n",
      "\u001b[38;5;226m[Genesis] [20:05:38] [WARNING] (MJCF) Approximating tendon by joint actuator for `finger_joint1`\u001b[0m\n",
      "\u001b[38;5;226m[Genesis] [20:05:38] [WARNING] (MJCF) Actuator control gain and bias parameters cannot be reduced to a unique PD control position gain. Using max between gain and bias.\u001b[0m\n",
      "\u001b[38;5;226m[Genesis] [20:05:38] [WARNING] (MJCF) Approximating tendon by joint actuator for `finger_joint2`\u001b[0m\n",
      "\u001b[38;5;226m[Genesis] [20:05:38] [WARNING] (MJCF) Actuator control gain and bias parameters cannot be reduced to a unique PD control position gain. Using max between gain and bias.\u001b[0m\n",
      "\u001b[38;5;159m[Genesis] [20:05:38] [INFO] Adding \u001b[38;5;121m<gs.RigidEntity>\u001b[0m\u001b[38;5;159m. idx: \u001b[38;5;121m2\u001b[0m\u001b[38;5;159m, uid: \u001b[38;5;121m\u001b[3m<384c327>\u001b[0m\u001b[38;5;159m, morph: \u001b[38;5;121m<gs.morphs.Box>\u001b[0m\u001b[38;5;159m, material: \u001b[38;5;121m<gs.materials.Rigid>\u001b[0m\u001b[38;5;159m.\u001b[0m\n",
      "\u001b[38;5;159m[Genesis] [20:05:38] [INFO] Adding \u001b[38;5;121m<gs.RigidEntity>\u001b[0m\u001b[38;5;159m. idx: \u001b[38;5;121m3\u001b[0m\u001b[38;5;159m, uid: \u001b[38;5;121m\u001b[3m<ab6459f>\u001b[0m\u001b[38;5;159m, morph: \u001b[38;5;121m<gs.morphs.Box>\u001b[0m\u001b[38;5;159m, material: \u001b[38;5;121m<gs.materials.Rigid>\u001b[0m\u001b[38;5;159m.\u001b[0m\n",
      "\u001b[38;5;159m[Genesis] [20:05:38] [INFO] Adding \u001b[38;5;121m<gs.RigidEntity>\u001b[0m\u001b[38;5;159m. idx: \u001b[38;5;121m4\u001b[0m\u001b[38;5;159m, uid: \u001b[38;5;121m\u001b[3m<f0e4b95>\u001b[0m\u001b[38;5;159m, morph: \u001b[38;5;121m<gs.morphs.Box>\u001b[0m\u001b[38;5;159m, material: \u001b[38;5;121m<gs.materials.Rigid>\u001b[0m\u001b[38;5;159m.\u001b[0m\n",
      "\u001b[38;5;159m[Genesis] [20:05:38] [INFO] Adding \u001b[38;5;121m<gs.RigidEntity>\u001b[0m\u001b[38;5;159m. idx: \u001b[38;5;121m5\u001b[0m\u001b[38;5;159m, uid: \u001b[38;5;121m\u001b[3m<e8552c0>\u001b[0m\u001b[38;5;159m, morph: \u001b[38;5;121m<gs.morphs.Box>\u001b[0m\u001b[38;5;159m, material: \u001b[38;5;121m<gs.materials.Rigid>\u001b[0m\u001b[38;5;159m.\u001b[0m\n",
      "\u001b[38;5;159m[Genesis] [20:05:38] [INFO] Adding \u001b[38;5;121m<gs.RigidEntity>\u001b[0m\u001b[38;5;159m. idx: \u001b[38;5;121m6\u001b[0m\u001b[38;5;159m, uid: \u001b[38;5;121m\u001b[3m<15e9ef8>\u001b[0m\u001b[38;5;159m, morph: \u001b[38;5;121m<gs.morphs.URDF(file='d:\\envs\\Panda\\lib\\site-packages\\genesis\\assets\\urdf/3763/mobility_vhacd.urdf')>\u001b[0m\u001b[38;5;159m, material: \u001b[38;5;121m<gs.materials.Rigid>\u001b[0m\u001b[38;5;159m.\u001b[0m\n",
      "\u001b[38;5;159m[Genesis] [20:05:39] [INFO] Adding \u001b[38;5;121m<gs.RigidEntity>\u001b[0m\u001b[38;5;159m. idx: \u001b[38;5;121m7\u001b[0m\u001b[38;5;159m, uid: \u001b[38;5;121m\u001b[3m<a9a482f>\u001b[0m\u001b[38;5;159m, morph: \u001b[38;5;121m<gs.morphs.Box>\u001b[0m\u001b[38;5;159m, material: \u001b[38;5;121m<gs.materials.Rigid>\u001b[0m\u001b[38;5;159m.\u001b[0m\n",
      "\u001b[38;5;159m[Genesis] [20:05:39] [INFO] Adding \u001b[38;5;121m<gs.RigidEntity>\u001b[0m\u001b[38;5;159m. idx: \u001b[38;5;121m8\u001b[0m\u001b[38;5;159m, uid: \u001b[38;5;121m\u001b[3m<a29042b>\u001b[0m\u001b[38;5;159m, morph: \u001b[38;5;121m<gs.morphs.Cylinder>\u001b[0m\u001b[38;5;159m, material: \u001b[38;5;121m<gs.materials.Rigid>\u001b[0m\u001b[38;5;159m.\u001b[0m\n"
     ]
    }
   ],
   "source": [
    "plane = scene.add_entity(\n",
    "    gs.morphs.Plane(),\n",
    ")\n",
    "franka = scene.add_entity(\n",
    "    gs.morphs.MJCF(file='xml/franka_emika_panda/panda.xml'),\n",
    ")\n",
    "                          \n",
    "# table = scene.add_entity(\n",
    "#     gs.morphs.MJCF(file='../model/common_arena/tables.xml'),\n",
    "# )\n",
    "\n",
    "table1 = scene.add_entity(\n",
    "    gs.morphs.Box(\n",
    "        size = (0.7, 1.7, 0.02),\n",
    "        pos = (0.5, 0, 0.18),\n",
    "        fixed = True,\n",
    "    ),\n",
    "    surface=gs.surfaces.Default(\n",
    "        color = (0.5, 0.5, 0.5),\n",
    "    ),\n",
    "    material=gs.materials.Rigid(\n",
    "        gravity_compensation=1.0 ,\n",
    "        friction=5.0\n",
    "    )\n",
    ")\n",
    "        \n",
    "table2 = scene.add_entity(\n",
    "    gs.morphs.Box(\n",
    "        size = (0.7, 1.7, 0.02),\n",
    "        pos = (-0.5, 0, 0.18),\n",
    "        fixed = True,\n",
    "    ),\n",
    "    surface=gs.surfaces.Default(\n",
    "        color = (0.5, 0.5, 0.5),\n",
    "    ),\n",
    "    material=gs.materials.Rigid(\n",
    "        gravity_compensation=1.0,\n",
    "        friction=5.0\n",
    "    )\n",
    ")\n",
    "\n",
    "table3 = scene.add_entity(\n",
    "    gs.morphs.Box(\n",
    "        size = (0.3, 0.7, 0.02),\n",
    "        pos = (0, -0.5, 0.18),\n",
    "        fixed = True,\n",
    "    ),\n",
    "    surface=gs.surfaces.Default(\n",
    "        color = (0.5, 0.5, 0.5),\n",
    "    ),\n",
    "    material=gs.materials.Rigid(\n",
    "        gravity_compensation=1.0,\n",
    "        friction=5.0\n",
    "    )\n",
    ")\n",
    "\n",
    "table4 = scene.add_entity(\n",
    "    gs.morphs.Box(\n",
    "        size = (0.3, 0.7, 0.02),\n",
    "        pos = (0, 0.5, 0.18),\n",
    "        fixed = True,\n",
    "    ),\n",
    "    surface=gs.surfaces.Default(\n",
    "        color = (0.5, 0.5, 0.5),\n",
    "    ),\n",
    "    material=gs.materials.Rigid(\n",
    "        gravity_compensation=1.0,\n",
    "        friction=5.0\n",
    "    )\n",
    ")\n",
    "\n",
    "bottle = scene.add_entity(\n",
    "    material=gs.materials.Rigid(rho=300),\n",
    "    morph=gs.morphs.URDF(\n",
    "        file=\"urdf/3763/mobility_vhacd.urdf\",\n",
    "        scale=0.09,\n",
    "        pos=(0.65, 0.0, 0.036 + 0.19),\n",
    "        quat=(-np.pi/2, 0, np.pi/2, 0),\n",
    "    ),\n",
    "    # visualize_contact=True,\n",
    ")\n",
    "\n",
    "# bottle = scene.add_entity(\n",
    "#     morph = gs.morphs.URDF(\n",
    "#         file=\"../assets/urdf/bottle/bottle.urdf\",\n",
    "#         scale=0.1,\n",
    "#         pos=(0.65, 0.4, 0.036 + 0.19),\n",
    "#         quat=(-np.pi/2, 0, np.pi/2, 0),\n",
    "#     ),\n",
    "# )\n",
    "cube_size = (0.07, 0.1, 0.1)\n",
    "cube_pos = (0.4, 0.4, 0.05+0.19)\n",
    "\n",
    "cube = scene.add_entity(\n",
    "    gs.morphs.Box(\n",
    "        size = cube_size,\n",
    "        pos  = cube_pos,\n",
    "    ),\n",
    "    surface=gs.surfaces.Default(\n",
    "        color = (0.8, 0.1 , 0.1),   \n",
    "    )\n",
    ")\n",
    "cube.surface.color = (0.8, 0.1 , 0.1)\n",
    "\n",
    "cylinder_pos = (0.7, -0.2, 0.03+0.19)\n",
    "cylinder_quat = (0, -np.sqrt(2)/2, 0, np.sqrt(2)/2)\n",
    "cylinder_radius = 0.03\n",
    "cylinder_height = 0.15\n",
    "\n",
    "cylinder = scene.add_entity(\n",
    "    gs.morphs.Cylinder(\n",
    "        radius = cylinder_radius,\n",
    "        height = cylinder_height,\n",
    "        pos    = cylinder_pos,\n",
    "        quat   = cylinder_quat,\n",
    "    ),\n",
    "    surface=gs.surfaces.Default(\n",
    "        color = (0.1, 0.8 , 0.1),   \n",
    "    )\n",
    ")\n",
    "cylinder.surface.color = (0.2, 0.8, 0.2)\n",
    "\n",
    "cam = scene.add_camera(\n",
    "    res    = (640, 480),\n",
    "    pos    = (3.5, 0.0, 2.5),\n",
    "    lookat = (0, 0, 0.5),\n",
    "    fov    = 30,\n",
    "    GUI    = False,\n",
    ")"
   ]
  },
  {
   "cell_type": "code",
   "execution_count": 4,
   "id": "ca12615e",
   "metadata": {},
   "outputs": [
    {
     "name": "stdout",
     "output_type": "stream",
     "text": [
      "\u001b[38;5;159m[Genesis] [20:05:39] [INFO] Building scene \u001b[38;5;121m\u001b[3m<e48901d>\u001b[0m\u001b[38;5;159m...\u001b[0m\n",
      "\u001b[38;5;226m[Genesis] [20:05:41] [WARNING] Reference robot position exceeds joint limits.\u001b[0m\n",
      "\u001b[38;5;159m[Genesis] [20:05:47] [INFO] Compiling simulation kernels...\u001b[0m\n",
      "\u001b[38;5;159m[Genesis] [20:06:06] [INFO] Building visualizer...\u001b[0m\n",
      "\u001b[38;5;159m[Genesis] [20:06:13] [INFO] Viewer created. Resolution: \u001b[38;5;121m1280×960\u001b[0m\u001b[38;5;159m, max_FPS: \u001b[38;5;121m60\u001b[0m\u001b[38;5;159m.\u001b[0m\n"
     ]
    }
   ],
   "source": [
    "# n_envs = 1\n",
    "# scene.build(n_envs=n_envs, env_spacing=(2, 2), center_envs_at_origin=True ,compile_kernels=False)\n",
    "scene.build()"
   ]
  },
  {
   "cell_type": "code",
   "execution_count": 5,
   "id": "6222462d",
   "metadata": {},
   "outputs": [],
   "source": [
    "motors_dof = np.arange(7)\n",
    "fingers_dof = np.arange(7, 9)\n",
    "# set control gains\n",
    "# Note: the following values are tuned for achieving best behavior with Franka\n",
    "# Typically, each new robot would have a different set of parameters.\n",
    "# Sometimes high-quality URDF or XML file would also provide this and will be parsed.\n",
    "franka.set_dofs_kp(\n",
    "    np.array([4500, 4500, 3500, 3500, 2000, 2000, 2000, 100, 100]),\n",
    ")\n",
    "franka.set_dofs_kv(\n",
    "    np.array([450, 450, 350, 350, 200, 200, 200, 10, 10]),\n",
    ")\n",
    "franka.set_dofs_force_range(\n",
    "    np.array([-87, -87, -87, -87, -12, -12, -12, -100, -100]),\n",
    "    np.array([ 87,  87,  87,  87,  12,  12,  12,  100,  100]),\n",
    ")"
   ]
  },
  {
   "cell_type": "code",
   "execution_count": 6,
   "id": "17e797a9",
   "metadata": {},
   "outputs": [
    {
     "name": "stdout",
     "output_type": "stream",
     "text": [
      "bottle_pos: tensor([0.6500, 0.0000, 0.2260])\n",
      "bottle_rot: tensor([-0.7071,  0.0000,  0.7071,  0.0000])\n",
      "bottle_mass: 0.09222162768927847\n",
      "bottle screw params qs: [array([[5.60697615e-01, 4.79925424e-04, 1.92161351e-01],\n",
      "       [7.27464795e-01, 4.79925424e-04, 1.92161351e-01]])]\n",
      "bottle screw params s_axes: [array([[0., 1., 0.],\n",
      "       [0., 1., 0.]])]\n",
      "cube_pos: tensor([0.4000, 0.4000, 0.2400])\n",
      "cube_rot: tensor([1., 0., 0., 0.])\n",
      "cube_mass: 0.14000000000000004\n",
      "cube_vertices: tensor([[0.3650, 0.3500, 0.1900],\n",
      "        [0.3650, 0.3500, 0.2900],\n",
      "        [0.3650, 0.4500, 0.1900],\n",
      "        [0.3650, 0.4500, 0.2900],\n",
      "        [0.4350, 0.3500, 0.1900],\n",
      "        [0.4350, 0.3500, 0.2900],\n",
      "        [0.4350, 0.4500, 0.1900],\n",
      "        [0.4350, 0.4500, 0.2900]])\n",
      "cylinder_pos: tensor([ 0.7000, -0.2000,  0.2200])\n",
      "cylinder_rot: tensor([ 0.0000, -0.7071,  0.0000,  0.7071])\n",
      "cylinder_mass: 0.0842790191109674\n"
     ]
    }
   ],
   "source": [
    "# get bottle properties\n",
    "bottle_pos = bottle.get_pos()\n",
    "print(f\"bottle_pos: {bottle_pos}\")\n",
    "bottle_rot = bottle.get_quat()\n",
    "print(f\"bottle_rot: {bottle_rot}\")\n",
    "bottle_mass = bottle.get_mass()\n",
    "print(f\"bottle_mass: {bottle_mass}\")\n",
    "\n",
    "planner = ScrewMotionPlanner()\n",
    "bottle_bbox = adapter.get_bbox(bottle)\n",
    "planner.find_ground_edges(bottle_bbox)\n",
    "bottle_qs, bottle_s_axes = planner.screw_from_bbox(bottle_bbox)\n",
    "print(f\"bottle screw params qs: {bottle_qs}\")\n",
    "print(f\"bottle screw params s_axes: {bottle_s_axes}\")\n",
    "# bottle_vertices = bottle.get_verts()\n",
    "# print(f\"bottle_vertices: {bottle_vertices}\")\n",
    "bottle_bbox = bottle.get_AABB()\n",
    "bottle.size = bottle_bbox[1] - bottle_bbox[0]\n",
    "\n",
    "# get cubes prperties\n",
    "cube_pos = cube.get_pos()\n",
    "print(f\"cube_pos: {cube_pos}\")\n",
    "cube_rot = cube.get_quat()\n",
    "print(f\"cube_rot: {cube_rot}\")\n",
    "cube_mass = cube.get_mass()\n",
    "print(f\"cube_mass: {cube_mass}\")\n",
    "cube_vertices = cube.get_verts()\n",
    "print(f\"cube_vertices: {cube_vertices}\")\n",
    "\n",
    "cube.size = cube_size\n",
    "\n",
    "# get cylinder properties\n",
    "cylinder_pos = cylinder.get_pos()\n",
    "print(f\"cylinder_pos: {cylinder_pos}\")\n",
    "cylinder_rot = cylinder.get_quat()\n",
    "print(f\"cylinder_rot: {cylinder_rot}\")\n",
    "cylinder_mass = cylinder.get_mass()\n",
    "print(f\"cylinder_mass: {cylinder_mass}\")\n",
    "# cylinder_vertices = cylinder.get_verts()\n",
    "# print(f\"cylinder_vertices: {cylinder_vertices}\")\n",
    "cylinder.size = (cylinder_height, cylinder_radius)"
   ]
  },
  {
   "cell_type": "code",
   "execution_count": 7,
   "id": "fa2fbb0b",
   "metadata": {},
   "outputs": [],
   "source": [
    "def get_obj_screw(object):\n",
    "    \"\"\"\n",
    "    Get the screw parameters of the object\n",
    "    \"\"\"\n",
    "    if object == bottle:\n",
    "        planner = ScrewMotionPlanner()\n",
    "        bottle_bbox = adapter.get_bbox(bottle)\n",
    "        planner.find_ground_edges(bottle_bbox)\n",
    "        bottle_qs, bottle_s_axes = planner.screw_from_bbox(bottle_bbox)\n",
    "        s1, s2 = bottle_s_axes\n",
    "        q1, q2 = bottle_qs\n",
    "        h1 = 0\n",
    "        h2 = 0\n",
    "    else:\n",
    "        # get the vertices of the object\n",
    "        vertices = object.get_verts()\n",
    "        vertices = vertices.numpy()\n",
    "\n",
    "        # get the max and min x, y, z coordinates\n",
    "        max_x = np.max(vertices[:, 0])\n",
    "        min_x = np.min(vertices[:, 0])\n",
    "        min_y = np.min(vertices[:, 1])\n",
    "        min_z = np.min(vertices[:, 2])\n",
    "        max_y = np.max(vertices[:, 1])\n",
    "        \n",
    "        v1 = np.array([max_x, min_y, min_z])  # max x, min y, min z\n",
    "        v2 = np.array([max_x, max_y, min_z])  # max x, max y, min z\n",
    "        v3 = np.array([min_x, max_y, min_z])  # min x, max y, min z\n",
    "        v4 = np.array([min_x, min_y, min_z])  # min x, min y, min z\n",
    "        \n",
    "        if np.linalg.norm(v1-v2) <= np.linalg.norm(v2-v3):\n",
    "            s1 = (v1-v2) / np.linalg.norm(v1-v2) # unit vector in the direction of the screw axis\n",
    "            q1 = v2 # point on the screw axis\n",
    "            h1 = 0 # pitch of the screw axis\n",
    "            s2 = (v4-v3) / np.linalg.norm(v4-v3) # unit vector in the direction of the screw axis\n",
    "            q2 = v4 # point on the screw axis\n",
    "            h2 = 0 # pitch of the screw axis\n",
    "        else:\n",
    "            s1 = (v2-v3) / np.linalg.norm(v2-v3) # unit vector in the direction of the screw axis\n",
    "            q1 = v2 # point on the screw axis\n",
    "            h1 = 0 # pitch of the screw axis\n",
    "            s2 = (v1-v4) / np.linalg.norm(v1-v4) # unit vector in the direction of the screw axis\n",
    "            q2 = v1 # point on the screw axis\n",
    "            h2 = 0 # pitch of the screw axis\n",
    "    \n",
    "    #pt.check_screw_parameters(q, s, h) # check if the screw parameters are valid\n",
    "    return s1, q1, h1, s2, q2, h2\n",
    "\n",
    "\n",
    "def obj_dq(object, method):\n",
    "    \"\"\"\n",
    "    Get the screw parameters of the object and apply sclerp to the object in dual quaternion\n",
    "    \"\"\"\n",
    "    if method == 'min_distance':\n",
    "        _,_,_,s,q,h = get_obj_screw(object)\n",
    "        theta = np.pi/2\n",
    "    elif method == 'max_distance':\n",
    "        s,q,h,_,_,_ = get_obj_screw(object)\n",
    "        theta = -np.pi/2\n",
    "\n",
    "    \n",
    "    pq = object.get_qpos().cpu().numpy()\n",
    "    pq = pq[0:7] # position and quaternion of the object\n",
    "    obj_initial_dq = pt.dual_quaternion_from_pq(pq) # dual quaternion from position and quaternion\n",
    "    \n",
    "    Screw_dq = pt.dual_quaternion_from_screw_parameters(q=q, s_axis=s, h=h, theta=theta) # dual quaternion from screw parameters that make the object upright\n",
    "    # intermediate_T = pt.transform_log_from_screw_matrix\n",
    "    # Screw_T = pt.transform_from_dual_quaternion(Screw_dq) # transform from dual quaternion to transformation matrix\n",
    "    # print(\"screw_dq: \\n\", Screw_dq)\n",
    "    # print(\"screw_T: \\n\", Screw_T)\n",
    "    obj_goal_dq = pt.concatenate_dual_quaternions(Screw_dq, obj_initial_dq)\n",
    "    #obj_goal_T = pt.transform_from_dual_quaternion(obj_goal_dq) # transform from dual quaternion to transformation matrix\n",
    "    # print(\"obj_goal_dq: \\n\", obj_goal_dq)\n",
    "    # print(\"obj_goal_T: \\n\", obj_goal_T)\n",
    "    return obj_initial_dq, obj_goal_dq\n",
    "\n",
    "\n",
    "def obj_sclerp(object, obj_initial_dq, obj_goal_dq, method, steps):\n",
    "    \"\"\"\n",
    "    Apply sclerp to the object in dual quaternion\n",
    "    \"\"\"\n",
    "    s = np.linspace(0, 1, steps)\n",
    "    if method == 'linear':\n",
    "        tau = s\n",
    "    if method == 'cubic':\n",
    "        tau = 3*s**2 - 2*s**3\n",
    "    if method == 'quintic':\n",
    "        tau = 10*s**3 - 15*s**4 + 6*s**5\n",
    "        \n",
    "    # get the dual quaternion of the object\n",
    "    dq_traj = [pt.dual_quaternion_sclerp(obj_initial_dq, obj_goal_dq, t) for t in tau]\n",
    "         # spherical linear interpolation between two dual quaternions\n",
    "    # get the position and quaternion from the dual quaternion\n",
    "    dq_traj = np.asarray(dq_traj)\n",
    "    obj_qpos = ptr.pqs_from_dual_quaternions(dq_traj)\n",
    "    \n",
    "    return dq_traj, obj_qpos\n",
    "\n",
    "def obj_grasp_offset(object, object_initial_dq, method):\n",
    "    \n",
    "    m = 1\n",
    "    if method == 'min_distance':\n",
    "        m = -1\n",
    "    \n",
    "    if object == cube:\n",
    "        length = cube.size[0]\n",
    "        width = cube.size[1]\n",
    "        height = cube.size[2]    \n",
    "            \n",
    "        T_initial = pt.transform_from_dual_quaternion(object_initial_dq) # transform from dual quaternion to transformation matrix\n",
    "        T_offset = np.array([[1, 0, 0, 0],\n",
    "                             [0, 1, 0, m*(-width/2 + 0.02)],\n",
    "                             [0, 0, 1, height/2 - 0.02],\n",
    "                             [0, 0, 0, 1]])\n",
    "        T_ee = np.array([[0, 1, 0, 0],\n",
    "                         [1, 0, 0, 0],\n",
    "                         [0, 0, -1, 0.11],\n",
    "                         [0, 0, 0, 1]])\n",
    " \n",
    "        # rot = sm.SE3.RPY(0, np.pi/3, 0).A # rotation matrix from the object to the end effector\n",
    "        T_grasp = T_initial @ T_offset @ T_ee  # transformation matrix from the object to the end effector\n",
    "        \n",
    "    elif object == cylinder:\n",
    "        length = cylinder.size[0]\n",
    "            \n",
    "        T_initial = pt.transform_from_dual_quaternion(object_initial_dq) # transform from dual quaternion to transformation matrix\n",
    "        T_offset = np.array([[1, 0, 0, 0],\n",
    "                             [0, 1, 0, 0],\n",
    "                             [0, 0, 1, -m*(-length/2 + 0.02)],\n",
    "                             [0, 0, 0, 1]])\n",
    "        # T_ee = np.array([[1, 0, 0, 0],\n",
    "        #                  [0, -1, 0, 0],\n",
    "        #                  [0, 0, -1, 0.11],\n",
    "        #                  [0, 0, 0, 1]])\n",
    "        T_ee = np.array([[0, 0, 1, -0.11],\n",
    "                         [0, 1, 0, 0],\n",
    "                         [-1, 0, 0, 0],\n",
    "                         [0, 0, 0, 1]])\n",
    "        # rot = sm.SE3.RPY(0, np.pi/3, 0).A # rotation matrix from the object to the end effector\n",
    "        T_grasp = T_initial @ T_offset @ T_ee  # transformation matrix from the object to the end effector\n",
    "        \n",
    "    elif object == bottle:\n",
    "        length = bottle.size[0]\n",
    "        width = bottle.size[1]\n",
    "        height = bottle.size[2]\n",
    "            \n",
    "        T_initial = pt.transform_from_dual_quaternion(object_initial_dq) \n",
    "        T_offset = np.array([[1, 0, 0, 0],\n",
    "                             [0, 1, 0, 0],\n",
    "                             [0, 0, 1, m*(-0.03)],\n",
    "                             [0, 0, 0, 1]])\n",
    "        T_ee = np.array([[0, 0, -1, 0.11],\n",
    "                         [0, -1, 0, 0],\n",
    "                         [-1, 0, 0, 0],\n",
    "                         [0, 0, 0, 1]])\n",
    "        T_grasp = T_initial @ T_offset @ T_ee       \n",
    "    return T_grasp\n",
    "    \n",
    "def obj_grasp(object, method):\n",
    "    \"\"\"\n",
    "    grasping the object\n",
    "    \"\"\"\n",
    "    \n",
    "    # get the dual quaternion of the object\n",
    "    obj_initial_dq, obj_goal_dq = obj_dq(object, method)\n",
    "\n",
    "    T_grasp = obj_grasp_offset(object, obj_initial_dq, method) \n",
    "    print(\"T_grasp: \\n\", T_grasp)\n",
    "    pq_grasp = pt.pq_from_transform(T_grasp) # position and quaternion from transformation matrix\n",
    "    return pq_grasp\n",
    "\n",
    "\n",
    "def franka_sclerp(object, robot, method, method2, steps):\n",
    "    franka_initial_p, franka_initial_q = robot.forward_kinematics(robot.get_qpos(), links_idx_local=[8]) # get the position and quaternion of the end effector\n",
    "    franka_initial_pq = np.concatenate((franka_initial_p, franka_initial_q), axis=1).reshape(7) # position and quaternion of the end effector\n",
    "    franka_initial_dq = pt.dual_quaternion_from_pq(franka_initial_pq) # dual quaternion from position and quaternion\n",
    "    if method2 == 'min_distance':\n",
    "        _,_,_,s,q,h = get_obj_screw(object)\n",
    "        theta = np.pi/2\n",
    "    elif method2 == 'max_distance':\n",
    "        s,q,h,_,_,_ = get_obj_screw(object)\n",
    "        theta = -np.pi/2\n",
    "        \n",
    "    Screw_dq = pt.dual_quaternion_from_screw_parameters(q=q, s_axis=s, h=h, theta=theta) # dual quaternion from screw parameters that make the object upright\n",
    "    franka_goal_dq = pt.concatenate_dual_quaternions(Screw_dq, franka_initial_dq)\n",
    "    \n",
    "    s = np.linspace(0, 1, steps)\n",
    "    if method == 'linear':\n",
    "        tau = s\n",
    "    if method == 'cubic':\n",
    "        tau = 3*s**2 - 2*s**3\n",
    "    if method == 'quintic':\n",
    "        tau = 10*s**3 - 15*s**4 + 6*s**5\n",
    "        \n",
    "    # get the dual quaternion of the object\n",
    "    franka_dq_traj = [pt.dual_quaternion_sclerp(franka_initial_dq, franka_goal_dq, t) for t in tau]# spherical linear interpolation between two dual quaternions\n",
    "    franka_dq_traj = np.asarray(franka_dq_traj)\n",
    "    # get the position and quaternion from the dual quaternion\n",
    "    franka_pqs = ptr.pqs_from_dual_quaternions(franka_dq_traj)\n",
    "    return franka_pqs\n",
    "\n",
    "def Success_Rate(obj_init_T, obj_goal_T, obj_current_T, method):\n",
    "    \"\"\"\n",
    "    Compare the goal and current transformation and give a success rate based on that.\n",
    "    \"\"\"\n",
    "    \n",
    "    threshold = 0.2\n",
    "    # Compute pose difference in SE(3)\n",
    "    eTep = np.linalg.inv(obj_current_T) @ obj_goal_T\n",
    "    \n",
    "    # Initialize error vector\n",
    "    e_log = np.zeros(6)\n",
    "    e_rpy = np.zeros(6)\n",
    "    e = np.zeros(6)\n",
    "    \n",
    "    if method == \"axis_angle\":\n",
    "        # Get translational error\n",
    "        e_log[:3] = eTep[:3, 3]\n",
    "        \n",
    "        # Get rotational error as axis-angle\n",
    "        rot_matrix = eTep[:3, :3]\n",
    "        axis_ang = pr.axis_angle_from_matrix(rot_matrix)\n",
    "        axis = axis_ang[:3]\n",
    "        angle = axis_ang[3]\n",
    "        e_log[3:] = axis * angle if angle != 0 else np.zeros(3)\n",
    "        # Check if arrived at target\n",
    "        arrived = np.linalg.norm(np.abs(e_log)) < threshold\n",
    "        e = e_log\n",
    "    elif method == \"rpy\":\n",
    "        # RPY method\n",
    "        e_rpy[:3] = eTep[:3, 3]\n",
    "        e_rpy[3:] = pr.euler_from_matrix(eTep[:3, :3], 0, 1, 2, extrinsic=False)\n",
    "        # Check if arrived at target\n",
    "        arrived = np.linalg.norm(np.abs(e_rpy)) < threshold\n",
    "        e = e_rpy\n",
    "    #elif method =='log':\n",
    "        \n",
    "    angular_rate = 1 - np.linalg.norm(np.abs(e[3:])) / (np.pi/2)   \n",
    "    trans_rate = 1 - np.linalg.norm(np.abs(e[:3])) / np.linalg.norm(np.abs(obj_goal_T[:3,3]- obj_init_T[:3,3]))\n",
    "    Success = ((angular_rate+trans_rate)/2)*100\n",
    "    return e, Success, arrived"
   ]
  },
  {
   "cell_type": "code",
   "execution_count": null,
   "id": "3f558721",
   "metadata": {},
   "outputs": [],
   "source": [
    "# p, q = franka.forward_kinematics(franka.get_qpos(), links_idx_local=[8])\n",
    "# franka_pq = np.concatenate((p, q), axis=1).reshape(7) # position and quaternion of the end effector\n",
    "# franka_pq\n",
    "# franka_T = pt.transform_from_pq(franka_pq) # transformation matrix from position and quaternion\n",
    "# print(\"franka_T: \\n\", franka_T)"
   ]
  },
  {
   "cell_type": "code",
   "execution_count": null,
   "id": "8233348d",
   "metadata": {},
   "outputs": [],
   "source": [
    "# # check if the end effector is in the right pregrasp pose\n",
    "# print(\"pregrasp pose: \", pq_grasp_cube)\n",
    "# print(\"end effector pose: \", end_effector.get_pos())"
   ]
  },
  {
   "cell_type": "markdown",
   "id": "b7e34202",
   "metadata": {},
   "source": [
    "### Uprighting the bottle"
   ]
  },
  {
   "cell_type": "code",
   "execution_count": 31,
   "id": "376f0241",
   "metadata": {},
   "outputs": [
    {
     "name": "stdout",
     "output_type": "stream",
     "text": [
      "\u001b[38;5;159m[Genesis] [18:53:43] [INFO] Resetting Scene \u001b[38;5;121m\u001b[3m<148ae6b>\u001b[0m\u001b[38;5;159m.\u001b[0m\n"
     ]
    }
   ],
   "source": [
    "# franka is in ready position\n",
    "scene.reset()\n",
    "bottle.set_pos([0.1, -0.45, 0.035+0.19])\n",
    "bot_initial_dq, bot_goal_dq = obj_dq(bottle, 'min_distance')\n",
    "bot_init_T = pt.transform_from_dual_quaternion(bot_initial_dq)\n",
    "bot_goal_T = pt.transform_from_dual_quaternion(bot_goal_dq)\n",
    "qr = np.array([0.0000, -0.3002, 0.0000, -2.1991, 0.0000, 2.0071, 0.7854, 0.04, 0.04])\n",
    "franka.ready_qpos = qr\n",
    "franka.set_qpos(franka.ready_qpos)\n",
    "scene.step()"
   ]
  },
  {
   "cell_type": "code",
   "execution_count": 32,
   "id": "d1b72fa6",
   "metadata": {},
   "outputs": [
    {
     "name": "stdout",
     "output_type": "stream",
     "text": [
      "T_grasp: \n",
      " [[ 9.99999999e-01 -4.53262537e-05 -8.17648978e-06  7.01792902e-02]\n",
      " [-4.53262542e-05 -9.99999999e-01 -6.04985411e-08 -4.49998622e-01]\n",
      " [-8.17648703e-06  6.08691507e-08 -1.00000000e+00  3.34448420e-01]\n",
      " [ 0.00000000e+00  0.00000000e+00  0.00000000e+00  1.00000000e+00]]\n",
      "[ 7.01792902e-02 -4.49998622e-01  3.34448420e-01  3.03419229e-08\n",
      "  1.00000000e+00 -2.26631270e-05 -4.08824420e-06]\n",
      "[[ 9.99999999e-01 -4.53262537e-05 -8.17648978e-06  7.01792902e-02]\n",
      " [-4.53262542e-05 -9.99999999e-01 -6.04985411e-08 -4.49998622e-01]\n",
      " [-8.17648703e-06  6.08691507e-08 -1.00000000e+00  3.34448420e-01]\n",
      " [ 0.00000000e+00  0.00000000e+00  0.00000000e+00  1.00000000e+00]]\n"
     ]
    }
   ],
   "source": [
    "# move to pre-grasp pose for bottle\n",
    "end_effector = franka.get_link('hand')\n",
    "left_finger = franka.get_link('left_finger')\n",
    "right_finger = franka.get_link('right_finger')\n",
    "\n",
    "pq_grasp_bottle = obj_grasp(bottle, 'min_distance')\n",
    "print(pq_grasp_bottle)\n",
    "print(pt.transform_from_pq(pq_grasp_bottle))\n",
    "q_pregrasp = franka.inverse_kinematics(\n",
    "    link = end_effector,\n",
    "    pos = pq_grasp_bottle[:3] , # position of the end effector\n",
    "    quat = pq_grasp_bottle[3:7], # quaternion from the transformation matrix\n",
    "    #rot_mask = [False, False, False]\n",
    ")\n",
    "\n",
    "\n",
    "franka.set_qpos(q_pregrasp)\n",
    "franka.control_dofs_position(q_pregrasp)\n",
    "#bottle.set_dofs_position(np.array([0, 0]), [6,7])\n",
    "\n",
    "\n",
    "for __ in range(100):\n",
    "    bottle.control_dofs_position(np.array([0, 0]), [6,7])\n",
    "    scene.step()"
   ]
  },
  {
   "cell_type": "code",
   "execution_count": 33,
   "id": "5984883b",
   "metadata": {},
   "outputs": [],
   "source": [
    "# closing fingers to grasp the bottle\n",
    "franka.control_dofs_force(np.array([-10, -10]), fingers_dof)\n",
    "franka.control_dofs_position(q_pregrasp[:-2], motors_dof)\n",
    "for _ in range(50):\n",
    "    scene.step()"
   ]
  },
  {
   "cell_type": "code",
   "execution_count": 27,
   "id": "9b17fd31",
   "metadata": {},
   "outputs": [],
   "source": [
    "# initial_franka = franka.forward_kinematics(franka.get_qpos(), links_idx_local=[8])\n",
    "# initial_pq = adapter.to(initial_franka, output_type='pq').reshape(7)\n",
    "# franka_pqs = planner.generate_screw_trajectory(initial_pose=initial_pq, \n",
    "#                                                q=q, s_axis=s, theta=np.pi/2, h=h,  steps=100, output_type='p')"
   ]
  },
  {
   "cell_type": "code",
   "execution_count": 34,
   "id": "47f55e05",
   "metadata": {},
   "outputs": [],
   "source": [
    "# franka sclerp to upright the bottle\n",
    "franka_pqs = franka_sclerp(bottle, franka, method='quintic', method2='min_distance', steps=500)\n",
    "init_q = franka.get_qpos() \n",
    "qs = []\n",
    "for pq in franka_pqs:\n",
    "    q = franka.inverse_kinematics(\n",
    "        link=end_effector,\n",
    "        pos=pq[:3],\n",
    "        quat=pq[3:7],\n",
    "        init_qpos=init_q,\n",
    "        # pos_tol=5e-5,  # 0.5 mm\n",
    "        # rot_tol=5e-5,  # 0.28 degree\n",
    "        #rot_mask = [False, True, False],\n",
    "    )\n",
    "    init_q = q\n",
    "    qs.append(q)"
   ]
  },
  {
   "cell_type": "code",
   "execution_count": 35,
   "id": "35feb670",
   "metadata": {},
   "outputs": [
    {
     "data": {
      "image/png": "[encoded data removed]",
      "text/plain": [
       "<Figure size 1000x500 with 1 Axes>"
      ]
     },
     "metadata": {},
     "output_type": "display_data"
    }
   ],
   "source": [
    "# plot joint positions\n",
    "import matplotlib.pyplot as plt\n",
    "\n",
    "plt.figure(figsize=(10, 5))\n",
    "plt.plot(qs)\n",
    "plt.title('Joint positions')\n",
    "plt.xlabel('Time step')\n",
    "plt.ylabel('Joint position')\n",
    "plt.show()"
   ]
  },
  {
   "cell_type": "code",
   "execution_count": 36,
   "id": "2ca1b125",
   "metadata": {},
   "outputs": [],
   "source": [
    "qs = np.array(qs)\n",
    "for q in qs:\n",
    "    franka.control_dofs_force(np.array([-10, -10]), fingers_dof)\n",
    "    #franka.control_dofs_position(np.array([0.02, 0.02]), fingers_dof)\n",
    "    franka.control_dofs_position(q[:-2], motors_dof)\n",
    "    #franka.set_qpos(q[:-2], motors_dof)\n",
    "\n",
    "    scene.step() "
   ]
  },
  {
   "cell_type": "code",
   "execution_count": 37,
   "id": "d34cfe7e",
   "metadata": {},
   "outputs": [],
   "source": [
    "franka.control_dofs_force(np.array([0, 0]), fingers_dof)\n",
    "for _ in range(50):\n",
    "    \n",
    "    scene.step()"
   ]
  },
  {
   "cell_type": "code",
   "execution_count": 38,
   "id": "f3f321ce",
   "metadata": {},
   "outputs": [
    {
     "data": {
      "text/plain": [
       "(array([ 0.00225668, -0.00380801,  0.00153653, -0.0016221 ,  0.00055255,\n",
       "         0.00601054]),\n",
       " np.float64(97.8413536729593),\n",
       " np.True_)"
      ]
     },
     "execution_count": 38,
     "metadata": {},
     "output_type": "execute_result"
    }
   ],
   "source": [
    "bot_current_T = pt.transform_from_pq(bottle.get_qpos()[0:7])\n",
    "Success_Rate(bot_init_T, bot_goal_T, bot_current_T, method='axis_angle')"
   ]
  },
  {
   "cell_type": "markdown",
   "id": "eeee7c71",
   "metadata": {},
   "source": [
    "### Uprighting the cylinder"
   ]
  },
  {
   "cell_type": "code",
   "execution_count": 23,
   "id": "c64246a8",
   "metadata": {},
   "outputs": [
    {
     "name": "stdout",
     "output_type": "stream",
     "text": [
      "\u001b[38;5;159m[Genesis] [20:13:15] [INFO] Resetting Scene \u001b[38;5;121m\u001b[3m<e48901d>\u001b[0m\u001b[38;5;159m.\u001b[0m\n"
     ]
    }
   ],
   "source": [
    "# franka is in ready position\n",
    "scene.reset()\n",
    "cylinder.set_pos([0, -0.35, 0.03 +0.19])\n",
    "cyl_initial_dq, cyl_goal_dq = obj_dq(cylinder, 'min_distance')\n",
    "cyl_init_T = pt.transform_from_dual_quaternion(cyl_initial_dq)\n",
    "cyl_goal_T = pt.transform_from_dual_quaternion(cyl_goal_dq)\n",
    "qr = np.array([0.0000, -0.3002, 0.0000, -2.1991, 0.0000, 2.0071, 0.7854, 0.04, 0.04])\n",
    "franka.ready_qpos = qr\n",
    "franka.set_qpos(franka.ready_qpos)\n",
    "scene.step()"
   ]
  },
  {
   "cell_type": "code",
   "execution_count": 24,
   "id": "003eaa9f",
   "metadata": {},
   "outputs": [
    {
     "name": "stdout",
     "output_type": "stream",
     "text": [
      "T_grasp: \n",
      " [[ 9.99999997e-01 -1.35296674e-09  8.07533562e-05  5.49888683e-02]\n",
      " [-1.42679510e-09 -1.00000000e+00  9.14245075e-07 -3.50000095e-01]\n",
      " [ 8.07533562e-05 -9.14245187e-07 -9.99999997e-01  3.29593913e-01]\n",
      " [ 0.00000000e+00  0.00000000e+00  0.00000000e+00  1.00000000e+00]]\n",
      "[ 5.49888683e-02 -3.50000095e-01  3.29593913e-01 -4.57122566e-07\n",
      "  9.99999999e-01 -6.94940460e-10  4.03766781e-05]\n",
      "[[ 9.99999997e-01 -1.35296674e-09  8.07533562e-05  5.49888683e-02]\n",
      " [-1.42679510e-09 -1.00000000e+00  9.14245075e-07 -3.50000095e-01]\n",
      " [ 8.07533562e-05 -9.14245187e-07 -9.99999997e-01  3.29593913e-01]\n",
      " [ 0.00000000e+00  0.00000000e+00  0.00000000e+00  1.00000000e+00]]\n"
     ]
    }
   ],
   "source": [
    "# move to pre-grasp pose for cylinder\n",
    "end_effector = franka.get_link('hand')\n",
    "left_finger = franka.get_link('left_finger')\n",
    "right_finger = franka.get_link('right_finger')\n",
    "\n",
    "pq_grasp_cylinder = obj_grasp(cylinder, 'min_distance')\n",
    "print(pq_grasp_cylinder)\n",
    "print(pt.transform_from_pq(pq_grasp_cylinder))\n",
    "q_pregrasp = franka.inverse_kinematics(\n",
    "    link = end_effector,\n",
    "    pos = pq_grasp_cylinder[:3] , # position of the end effector\n",
    "    quat = pq_grasp_cylinder[3:7], # quaternion from the transformation matrix\n",
    "    #rot_mask = [False, False, False]\n",
    ")\n",
    "\n",
    "\n",
    "franka.set_qpos(q_pregrasp)\n",
    "franka.control_dofs_position(q_pregrasp)\n",
    "\n",
    "for __ in range(100):\n",
    "    scene.step()"
   ]
  },
  {
   "cell_type": "code",
   "execution_count": 25,
   "id": "4e043cfd",
   "metadata": {},
   "outputs": [],
   "source": [
    "# closing fingers to grasp the cylinder\n",
    "franka.control_dofs_force(np.array([-25, -25]), fingers_dof)\n",
    "franka.control_dofs_position(q_pregrasp[:-2], motors_dof)\n",
    "for _ in range(50):\n",
    "    scene.step()"
   ]
  },
  {
   "cell_type": "code",
   "execution_count": 26,
   "id": "cd946dd6",
   "metadata": {},
   "outputs": [],
   "source": [
    "# franka sclerp to upright the cylinder\n",
    "franka_pqs = franka_sclerp(cylinder, franka, method='quintic', method2='min_distance', steps=300)\n",
    "init_q = franka.get_qpos()\n",
    "qs = []\n",
    "for pq in franka_pqs:\n",
    "    q = franka.inverse_kinematics(\n",
    "        link=end_effector,\n",
    "        pos=pq[:3],\n",
    "        quat=pq[3:7],\n",
    "        init_qpos=init_q,\n",
    "        # pos_tol=5e-5,  # 0.5 mm\n",
    "        # rot_tol=5e-5,  # 0.28 degree\n",
    "        #rot_mask = [False, True, False],\n",
    "    )\n",
    "    init_q = q\n",
    "    qs.append(q)"
   ]
  },
  {
   "cell_type": "code",
   "execution_count": 27,
   "id": "046ce10c",
   "metadata": {},
   "outputs": [
    {
     "data": {
      "image/png": "[encoded data removed]",
      "text/plain": [
       "<Figure size 1000x500 with 1 Axes>"
      ]
     },
     "metadata": {},
     "output_type": "display_data"
    }
   ],
   "source": [
    "# plot joint positions\n",
    "import matplotlib.pyplot as plt\n",
    "\n",
    "plt.figure(figsize=(10, 5))\n",
    "plt.plot(qs)\n",
    "plt.title('Joint positions')\n",
    "plt.xlabel('Time step')\n",
    "plt.ylabel('Joint position')\n",
    "plt.show()"
   ]
  },
  {
   "cell_type": "code",
   "execution_count": 28,
   "id": "8756b249",
   "metadata": {},
   "outputs": [],
   "source": [
    "qs = np.array(qs)\n",
    "for q in qs:\n",
    "    franka.control_dofs_force(np.array([-25, -25]), fingers_dof)\n",
    "    #franka.control_dofs_position(np.array([0.02, 0.02]), fingers_dof)\n",
    "    franka.control_dofs_position(q[:-2], motors_dof)\n",
    "    #franka.set_qpos(q[:-2], motors_dof)\n",
    "\n",
    "    scene.step()   \n",
    "    "
   ]
  },
  {
   "cell_type": "code",
   "execution_count": 29,
   "id": "40474d44",
   "metadata": {},
   "outputs": [],
   "source": [
    "franka.control_dofs_force(np.array([0, 0]), fingers_dof)\n",
    "for _ in range(150):\n",
    "    \n",
    "    scene.step()"
   ]
  },
  {
   "cell_type": "code",
   "execution_count": 46,
   "id": "34e0c306",
   "metadata": {},
   "outputs": [
    {
     "data": {
      "text/plain": [
       "(array([ 4.13948170e-03,  2.34839285e-03, -3.69426252e-04, -6.78152805e-06,\n",
       "         9.70652507e-06, -9.13407488e-02]),\n",
       " np.float64(95.00321011839662),\n",
       " np.True_)"
      ]
     },
     "execution_count": 46,
     "metadata": {},
     "output_type": "execute_result"
    }
   ],
   "source": [
    "cyl_current_T = pt.transform_from_pq(cylinder.get_qpos())\n",
    "Success_Rate(cyl_init_T, cyl_goal_T, cyl_current_T, method='axis_angle')"
   ]
  },
  {
   "cell_type": "markdown",
   "id": "d6d6d235",
   "metadata": {},
   "source": [
    "### Uprighting the cube"
   ]
  },
  {
   "cell_type": "code",
   "execution_count": 22,
   "id": "2f4ebc4f",
   "metadata": {},
   "outputs": [
    {
     "name": "stdout",
     "output_type": "stream",
     "text": [
      "\u001b[38;5;159m[Genesis] [20:13:09] [INFO] Resetting Scene \u001b[38;5;121m\u001b[3m<e48901d>\u001b[0m\u001b[38;5;159m.\u001b[0m\n"
     ]
    }
   ],
   "source": [
    "# franka is in ready position\n",
    "scene.reset()\n",
    "cube.set_pos([0.45,0.2,0.05+0.19])\n",
    "cube_initial_dq, cube_goal_dq = obj_dq(cube, 'min_distance')\n",
    "cube_init_T = pt.transform_from_dual_quaternion(cube_initial_dq)\n",
    "cube_goal_T = pt.transform_from_dual_quaternion(cube_goal_dq)\n",
    "qr = np.array([0.0000, -0.3002, 0.0000, -2.1991, 0.0000, 2.0071, 0.7854, 0.04, 0.04])\n",
    "franka.ready_qpos = qr\n",
    "franka.set_qpos(franka.ready_qpos)\n",
    "scene.step()"
   ]
  },
  {
   "cell_type": "code",
   "execution_count": 14,
   "id": "53c815db",
   "metadata": {},
   "outputs": [
    {
     "name": "stdout",
     "output_type": "stream",
     "text": [
      "T_grasp: \n",
      " [[-1.62478387e-07  1.00000000e+00 -2.99352704e-05  4.50005396e-01]\n",
      " [ 9.99999999e-01  1.61108204e-07 -4.57715201e-05  2.30008408e-01]\n",
      " [-4.57715153e-05 -2.99352778e-05 -9.99999999e-01  3.79682910e-01]\n",
      " [ 0.00000000e+00  0.00000000e+00  0.00000000e+00  1.00000000e+00]]\n",
      "[ 4.50005396e-01  2.30008408e-01  3.79682910e-01  5.59895762e-06\n",
      "  7.07106724e-01  7.07106838e-01 -2.67663930e-05]\n",
      "[[-1.62478387e-07  1.00000000e+00 -2.99352704e-05  4.50005396e-01]\n",
      " [ 9.99999999e-01  1.61108204e-07 -4.57715201e-05  2.30008408e-01]\n",
      " [-4.57715153e-05 -2.99352778e-05 -9.99999999e-01  3.79682910e-01]\n",
      " [ 0.00000000e+00  0.00000000e+00  0.00000000e+00  1.00000000e+00]]\n"
     ]
    }
   ],
   "source": [
    "# move to pre-grasp pose for cube\n",
    "end_effector = franka.get_link('hand')\n",
    "left_finger = franka.get_link('left_finger')\n",
    "right_finger = franka.get_link('right_finger')\n",
    "\n",
    "pq_grasp_cube = obj_grasp(cube, 'min_distance')\n",
    "print(pq_grasp_cube)\n",
    "print(pt.transform_from_pq(pq_grasp_cube))\n",
    "q_pregrasp = franka.inverse_kinematics(\n",
    "    link = end_effector,\n",
    "    pos = pq_grasp_cube[:3] , # position of the end effector\n",
    "    quat = pq_grasp_cube[3:7], # quaternion from the transformation matrix\n",
    "    #rot_mask = [False, False, False]\n",
    ")\n",
    "\n",
    "\n",
    "franka.set_qpos(q_pregrasp)\n",
    "franka.control_dofs_position(q_pregrasp)\n",
    "\n",
    "for __ in range(100):\n",
    "    scene.step()"
   ]
  },
  {
   "cell_type": "code",
   "execution_count": 15,
   "id": "9c2c42bb",
   "metadata": {},
   "outputs": [],
   "source": [
    "# closing fingers to grasp the cube\n",
    "franka.control_dofs_force(np.array([-25, -25]), fingers_dof)\n",
    "franka.control_dofs_position(q_pregrasp[:-2], motors_dof)\n",
    "for _ in range(50):\n",
    "    scene.step()"
   ]
  },
  {
   "cell_type": "code",
   "execution_count": 16,
   "id": "a1d6ac28",
   "metadata": {},
   "outputs": [],
   "source": [
    "# franka sclerp to upright the cube\n",
    "franka_pqs = franka_sclerp(cube, franka, method='quintic', method2='min_distance', steps=300)\n",
    "init_q = franka.get_qpos()\n",
    "qs = []\n",
    "for pq in franka_pqs:\n",
    "    q = franka.inverse_kinematics(\n",
    "        link=end_effector,\n",
    "        pos=pq[:3],\n",
    "        quat=pq[3:7],\n",
    "        init_qpos=init_q,\n",
    "        # pos_tol=5e-5,  # 0.5 mm\n",
    "        # rot_tol=5e-5,  # 0.28 degree\n",
    "        #rot_mask = [False, True, False],\n",
    "    )\n",
    "    init_q = q\n",
    "    qs.append(q)"
   ]
  },
  {
   "cell_type": "code",
   "execution_count": 17,
   "id": "9450700e",
   "metadata": {},
   "outputs": [
    {
     "data": {
      "image/png": "[encoded data removed]",
      "text/plain": [
       "<Figure size 1000x500 with 1 Axes>"
      ]
     },
     "metadata": {},
     "output_type": "display_data"
    }
   ],
   "source": [
    "# plot joint positions\n",
    "import matplotlib.pyplot as plt\n",
    "\n",
    "plt.figure(figsize=(10, 5))\n",
    "plt.plot(qs)\n",
    "plt.title('Joint positions')\n",
    "plt.xlabel('Time step')\n",
    "plt.ylabel('Joint position')\n",
    "plt.show()"
   ]
  },
  {
   "cell_type": "code",
   "execution_count": 18,
   "id": "6088f44b",
   "metadata": {},
   "outputs": [],
   "source": [
    "qs = np.array(qs)\n",
    "for q in qs:\n",
    "    franka.control_dofs_force(np.array([-25, -25]), fingers_dof)\n",
    "    #franka.control_dofs_position(np.array([0.02, 0.02]), fingers_dof)\n",
    "    franka.control_dofs_position(q[:-2], motors_dof)\n",
    "    #franka.set_qpos(q[:-2], motors_dof)\n",
    "\n",
    "    scene.step()   "
   ]
  },
  {
   "cell_type": "code",
   "execution_count": 19,
   "id": "cfab3a80",
   "metadata": {},
   "outputs": [],
   "source": [
    "franka.control_dofs_force(np.array([0, 0]), fingers_dof)\n",
    "for _ in range(150):\n",
    "    \n",
    "    scene.step()"
   ]
  },
  {
   "cell_type": "code",
   "execution_count": 20,
   "id": "feacc190",
   "metadata": {},
   "outputs": [
    {
     "data": {
      "text/plain": [
       "(array([ 5.36289055e-03,  4.27518475e-04, -1.08613589e-03, -3.17788971e-05,\n",
       "        -1.14629708e-02, -2.90259685e-04]),\n",
       " np.float64(96.89077992881829),\n",
       " np.True_)"
      ]
     },
     "execution_count": 20,
     "metadata": {},
     "output_type": "execute_result"
    }
   ],
   "source": [
    "cube_current_T = pt.transform_from_pq(cube.get_qpos())\n",
    "Success_Rate(cube_init_T, cube_goal_T, cube_current_T, method='axis_angle')"
   ]
  },
  {
   "cell_type": "markdown",
   "id": "3e1e7b2d",
   "metadata": {},
   "source": [
    "### Objects Sclerp"
   ]
  },
  {
   "cell_type": "markdown",
   "id": "72392faa",
   "metadata": {},
   "source": [
    "##### Cube min_distance"
   ]
  },
  {
   "cell_type": "code",
   "execution_count": 55,
   "id": "4f545556",
   "metadata": {},
   "outputs": [
    {
     "name": "stdout",
     "output_type": "stream",
     "text": [
      "\u001b[38;5;159m[Genesis] [18:56:12] [INFO] Resetting Scene \u001b[38;5;121m\u001b[3m<148ae6b>\u001b[0m\u001b[38;5;159m.\u001b[0m\n",
      "\u001b[38;5;159m[Genesis] [18:56:12] [INFO] Resetting Scene \u001b[38;5;121m\u001b[3m<148ae6b>\u001b[0m\u001b[38;5;159m.\u001b[0m\n"
     ]
    }
   ],
   "source": [
    "# calling functions for cube_sclerp\n",
    "scene.reset()\n",
    "s1, q1, h1 , s2, q2, h2 = get_obj_screw(cube)\n",
    "cube_initial_dq, Cube_goal_dq = obj_dq(cube, 'min_distance')\n",
    "dq_traj, obj_qpos = obj_sclerp(cube, cube_initial_dq, Cube_goal_dq, 'linear', 100)\n",
    "# cube sclerp motion\n",
    "scene.reset()\n",
    "for i in range (obj_qpos.shape[0]):\n",
    "    franka.set_qpos(qr)\n",
    "    cube.set_qpos(obj_qpos[i])\n",
    "    scene.step()"
   ]
  },
  {
   "cell_type": "markdown",
   "id": "7b07a659",
   "metadata": {},
   "source": [
    "##### Cube max_distance"
   ]
  },
  {
   "cell_type": "code",
   "execution_count": 56,
   "id": "dc16f8d1",
   "metadata": {},
   "outputs": [
    {
     "name": "stdout",
     "output_type": "stream",
     "text": [
      "\u001b[38;5;159m[Genesis] [18:56:16] [INFO] Resetting Scene \u001b[38;5;121m\u001b[3m<148ae6b>\u001b[0m\u001b[38;5;159m.\u001b[0m\n",
      "\u001b[38;5;159m[Genesis] [18:56:16] [INFO] Resetting Scene \u001b[38;5;121m\u001b[3m<148ae6b>\u001b[0m\u001b[38;5;159m.\u001b[0m\n"
     ]
    }
   ],
   "source": [
    "# calling functions for cube_sclerp\n",
    "scene.reset()\n",
    "s1, q1, h1 , s2, q2, h2 = get_obj_screw(cube)\n",
    "cube_initial_dq, Cube_goal_dq = obj_dq(cube, 'max_distance')\n",
    "dq_traj, obj_qpos = obj_sclerp(cube, cube_initial_dq, Cube_goal_dq, 'linear', 100)\n",
    "# cube sclerp motion\n",
    "scene.reset()\n",
    "for i in range (obj_qpos.shape[0]):\n",
    "    franka.set_qpos(qr)\n",
    "    cube.set_qpos(obj_qpos[i])\n",
    "    scene.step()"
   ]
  },
  {
   "cell_type": "markdown",
   "id": "a4297b5b",
   "metadata": {},
   "source": [
    "##### Cylinder min_distance"
   ]
  },
  {
   "cell_type": "code",
   "execution_count": 57,
   "id": "25f3d5bf",
   "metadata": {},
   "outputs": [
    {
     "name": "stdout",
     "output_type": "stream",
     "text": [
      "\u001b[38;5;159m[Genesis] [18:56:19] [INFO] Resetting Scene \u001b[38;5;121m\u001b[3m<148ae6b>\u001b[0m\u001b[38;5;159m.\u001b[0m\n",
      "\u001b[38;5;159m[Genesis] [18:56:19] [INFO] Resetting Scene \u001b[38;5;121m\u001b[3m<148ae6b>\u001b[0m\u001b[38;5;159m.\u001b[0m\n"
     ]
    }
   ],
   "source": [
    "# calling functions for cylinder_sclerp\n",
    "scene.reset()\n",
    "s1, q1, h1 , s2, q2, h2 = get_obj_screw(cylinder)\n",
    "cyl_initial_dq, cyl_goal_dq = obj_dq(cylinder, 'min_distance')\n",
    "dq_traj, obj_qpos = obj_sclerp(cylinder, cyl_initial_dq, cyl_goal_dq, 'linear', 100)\n",
    "# cylinder sclerp motion\n",
    "scene.reset()\n",
    "for i in range (obj_qpos.shape[0]):\n",
    "    franka.set_qpos(qr)\n",
    "    cylinder.set_qpos(obj_qpos[i])\n",
    "    scene.step()"
   ]
  },
  {
   "cell_type": "markdown",
   "id": "6d66c6b1",
   "metadata": {},
   "source": [
    "##### Cylinder max_distance"
   ]
  },
  {
   "cell_type": "code",
   "execution_count": 58,
   "id": "97c29be0",
   "metadata": {},
   "outputs": [
    {
     "name": "stdout",
     "output_type": "stream",
     "text": [
      "\u001b[38;5;159m[Genesis] [18:56:23] [INFO] Resetting Scene \u001b[38;5;121m\u001b[3m<148ae6b>\u001b[0m\u001b[38;5;159m.\u001b[0m\n",
      "\u001b[38;5;159m[Genesis] [18:56:23] [INFO] Resetting Scene \u001b[38;5;121m\u001b[3m<148ae6b>\u001b[0m\u001b[38;5;159m.\u001b[0m\n"
     ]
    }
   ],
   "source": [
    "# calling functions for cylinder_sclerp\n",
    "scene.reset()\n",
    "s1, q1, h1 , s2, q2, h2 = get_obj_screw(cylinder)\n",
    "cyl_initial_dq, cyl_goal_dq = obj_dq(cylinder, 'max_distance')\n",
    "dq_traj, obj_qpos = obj_sclerp(cylinder, cyl_initial_dq, cyl_goal_dq, 'linear', 100)\n",
    "# cylinder sclerp motion\n",
    "scene.reset()\n",
    "for i in range (obj_qpos.shape[0]):\n",
    "    franka.set_qpos(qr)\n",
    "    cylinder.set_qpos(obj_qpos[i])\n",
    "    scene.step()"
   ]
  },
  {
   "cell_type": "markdown",
   "id": "a76a865a",
   "metadata": {},
   "source": [
    "##### Bottle min_distance"
   ]
  },
  {
   "cell_type": "code",
   "execution_count": 59,
   "id": "9c511fd3",
   "metadata": {},
   "outputs": [
    {
     "name": "stdout",
     "output_type": "stream",
     "text": [
      "\u001b[38;5;159m[Genesis] [18:56:28] [INFO] Resetting Scene \u001b[38;5;121m\u001b[3m<148ae6b>\u001b[0m\u001b[38;5;159m.\u001b[0m\n",
      "\u001b[38;5;159m[Genesis] [18:56:28] [INFO] Resetting Scene \u001b[38;5;121m\u001b[3m<148ae6b>\u001b[0m\u001b[38;5;159m.\u001b[0m\n"
     ]
    }
   ],
   "source": [
    "# calling functions for bottle_sclerp\n",
    "scene.reset()\n",
    "s1, q1, h1 , s2, q2, h2 = get_obj_screw(bottle)\n",
    "bottle_initial_dq, bottle_goal_dq = obj_dq(bottle, 'min_distance')\n",
    "bottle_traj, bottle_qpos = obj_sclerp(bottle, bottle_initial_dq, bottle_goal_dq, 'linear', 100)\n",
    "# bottle sclerp motion\n",
    "scene.reset()\n",
    "for i in range (bottle_qpos.shape[0]):\n",
    "    franka.set_qpos(qr)\n",
    "    bottle.set_qpos(np.append(bottle_qpos[i], [0,0]))\n",
    "    scene.step()"
   ]
  }
 ],
 "metadata": {
  "kernelspec": {
   "display_name": "Panda",
   "language": "python",
   "name": "python3"
  },
  "language_info": {
   "codemirror_mode": {
    "name": "ipython",
    "version": 3
   },
   "file_extension": ".py",
   "mimetype": "text/x-python",
   "name": "python",
   "nbconvert_exporter": "python",
   "pygments_lexer": "ipython3",
   "version": "3.10.17"
  }
 },
 "nbformat": 4,
 "nbformat_minor": 5
}
