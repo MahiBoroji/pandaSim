{
 "cells": [
  {
   "cell_type": "code",
   "execution_count": 1,
   "id": "5502bb81",
   "metadata": {},
   "outputs": [],
   "source": [
    "import genesis as gs\n",
    "import numpy as np\n",
    "import torch\n",
    "from pytransform3d import (\n",
    "    transformations as pt,\n",
    "    rotations as pr,\n",
    "    batch_rotations as pb,\n",
    "    trajectories as ptr,\n",
    "    plot_utils as ppu\n",
    ")\n",
    "\n",
    "import spatialmath as sm\n",
    "from pandaSim.geometry.genesis_adapter import GenesisAdapter\n",
    "from pandaSim.planning.screw_motion_planner import ScrewMotionPlanner"
   ]
  },
  {
   "cell_type": "code",
   "execution_count": 2,
   "id": "28c123a4",
   "metadata": {},
   "outputs": [
    {
     "name": "stdout",
     "output_type": "stream",
     "text": [
      "\u001b[38;5;159m[Genesis] [11:54:48] [INFO] \u001b[38;5;121m╭───────────────────────────────────────────────╮\u001b[0m\u001b[38;5;159m\u001b[0m\n",
      "\u001b[38;5;159m[Genesis] [11:54:48] [INFO] \u001b[38;5;121m│┈┉┈┉┈┉┈┉┈┉┈┉┈┉┈┉┈┉┈\u001b[0m\u001b[38;5;159m \u001b[38;5;121m\u001b[1m\u001b[3mGenesis\u001b[0m\u001b[38;5;159m \u001b[38;5;121m┈┉┈┉┈┉┈┉┈┉┈┉┈┉┈┉┈┉┈│\u001b[0m\u001b[38;5;159m\u001b[0m\n",
      "\u001b[38;5;159m[Genesis] [11:54:48] [INFO] \u001b[38;5;121m╰───────────────────────────────────────────────╯\u001b[0m\u001b[38;5;159m\u001b[0m\n",
      "\u001b[38;5;159m[Genesis] [11:54:51] [INFO] Running on \u001b[38;5;121m\u001b[4m[13th Gen Intel(R) Core(TM) i7-13800H]\u001b[0m\u001b[38;5;159m with backend \u001b[38;5;121m\u001b[4mgs.cpu\u001b[0m\u001b[38;5;159m. Device memory: \u001b[38;5;121m\u001b[4m31.59\u001b[0m\u001b[38;5;159m GB.\u001b[0m\n",
      "\u001b[38;5;159m[Genesis] [11:54:51] [INFO] 🚀 Genesis initialized. 🔖 version: \u001b[38;5;121m\u001b[4m0.2.1\u001b[0m\u001b[38;5;159m, 🌱 seed: \u001b[38;5;121m\u001b[4m42\u001b[0m\u001b[38;5;159m, 📏 precision: '\u001b[38;5;121m\u001b[4m32\u001b[0m\u001b[38;5;159m', 🐛 debug: \u001b[38;5;121m\u001b[4mFalse\u001b[0m\u001b[38;5;159m, 🎨 theme: '\u001b[38;5;121m\u001b[4mdark\u001b[0m\u001b[38;5;159m'.\u001b[0m\n"
     ]
    }
   ],
   "source": [
    "gs.init(backend=gs.cpu, seed=42)"
   ]
  },
  {
   "cell_type": "code",
   "execution_count": 3,
   "id": "d3fc8ab0",
   "metadata": {},
   "outputs": [
    {
     "name": "stdout",
     "output_type": "stream",
     "text": [
      "\u001b[38;5;159m[Genesis] [11:54:54] [INFO] Scene \u001b[38;5;121m\u001b[3m<5753a72>\u001b[0m\u001b[38;5;159m created.\u001b[0m\n"
     ]
    }
   ],
   "source": [
    "adapter = GenesisAdapter()\n",
    "scene = adapter.scene"
   ]
  },
  {
   "cell_type": "code",
   "execution_count": 4,
   "id": "94b65edf",
   "metadata": {},
   "outputs": [
    {
     "name": "stdout",
     "output_type": "stream",
     "text": [
      "\u001b[38;5;159m[Genesis] [11:55:04] [INFO] Adding \u001b[38;5;121m<gs.RigidEntity>\u001b[0m\u001b[38;5;159m. idx: \u001b[38;5;121m0\u001b[0m\u001b[38;5;159m, uid: \u001b[38;5;121m\u001b[3m<170a86e>\u001b[0m\u001b[38;5;159m, morph: \u001b[38;5;121m<gs.morphs.Plane>\u001b[0m\u001b[38;5;159m, material: \u001b[38;5;121m<gs.materials.Rigid>\u001b[0m\u001b[38;5;159m.\u001b[0m\n",
      "\u001b[38;5;159m[Genesis] [11:55:04] [INFO] Adding \u001b[38;5;121m<gs.RigidEntity>\u001b[0m\u001b[38;5;159m. idx: \u001b[38;5;121m1\u001b[0m\u001b[38;5;159m, uid: \u001b[38;5;121m\u001b[3m<52fd8b4>\u001b[0m\u001b[38;5;159m, morph: \u001b[38;5;121m<gs.morphs.MJCF(file='d:\\envs\\pygen\\Lib\\site-packages\\genesis\\assets\\xml/franka_emika_panda/panda.xml')>\u001b[0m\u001b[38;5;159m, material: \u001b[38;5;121m<gs.materials.Rigid>\u001b[0m\u001b[38;5;159m.\u001b[0m\n",
      "\u001b[38;5;226m[Genesis] [11:55:07] [WARNING] (MJCF) Tendon not supported\u001b[0m\n",
      "\u001b[38;5;226m[Genesis] [11:55:07] [WARNING] (MJCF) Approximating tendon by joint actuator for `finger_joint1`\u001b[0m\n",
      "\u001b[38;5;226m[Genesis] [11:55:07] [WARNING] (MJCF) Actuator control gain and bias parameters cannot be reduced to a unique PD control position gain. Using max between gain and bias.\u001b[0m\n",
      "\u001b[38;5;226m[Genesis] [11:55:07] [WARNING] (MJCF) Approximating tendon by joint actuator for `finger_joint2`\u001b[0m\n",
      "\u001b[38;5;226m[Genesis] [11:55:07] [WARNING] (MJCF) Actuator control gain and bias parameters cannot be reduced to a unique PD control position gain. Using max between gain and bias.\u001b[0m\n",
      "\u001b[38;5;159m[Genesis] [11:55:08] [INFO] Adding \u001b[38;5;121m<gs.RigidEntity>\u001b[0m\u001b[38;5;159m. idx: \u001b[38;5;121m2\u001b[0m\u001b[38;5;159m, uid: \u001b[38;5;121m\u001b[3m<0a3700d>\u001b[0m\u001b[38;5;159m, morph: \u001b[38;5;121m<gs.morphs.Box>\u001b[0m\u001b[38;5;159m, material: \u001b[38;5;121m<gs.materials.Rigid>\u001b[0m\u001b[38;5;159m.\u001b[0m\n",
      "\u001b[38;5;159m[Genesis] [11:55:08] [INFO] Adding \u001b[38;5;121m<gs.RigidEntity>\u001b[0m\u001b[38;5;159m. idx: \u001b[38;5;121m3\u001b[0m\u001b[38;5;159m, uid: \u001b[38;5;121m\u001b[3m<02d7350>\u001b[0m\u001b[38;5;159m, morph: \u001b[38;5;121m<gs.morphs.Box>\u001b[0m\u001b[38;5;159m, material: \u001b[38;5;121m<gs.materials.Rigid>\u001b[0m\u001b[38;5;159m.\u001b[0m\n",
      "\u001b[38;5;159m[Genesis] [11:55:08] [INFO] Adding \u001b[38;5;121m<gs.RigidEntity>\u001b[0m\u001b[38;5;159m. idx: \u001b[38;5;121m4\u001b[0m\u001b[38;5;159m, uid: \u001b[38;5;121m\u001b[3m<74a35eb>\u001b[0m\u001b[38;5;159m, morph: \u001b[38;5;121m<gs.morphs.Box>\u001b[0m\u001b[38;5;159m, material: \u001b[38;5;121m<gs.materials.Rigid>\u001b[0m\u001b[38;5;159m.\u001b[0m\n",
      "\u001b[38;5;159m[Genesis] [11:55:08] [INFO] Adding \u001b[38;5;121m<gs.RigidEntity>\u001b[0m\u001b[38;5;159m. idx: \u001b[38;5;121m5\u001b[0m\u001b[38;5;159m, uid: \u001b[38;5;121m\u001b[3m<c264e61>\u001b[0m\u001b[38;5;159m, morph: \u001b[38;5;121m<gs.morphs.Box>\u001b[0m\u001b[38;5;159m, material: \u001b[38;5;121m<gs.materials.Rigid>\u001b[0m\u001b[38;5;159m.\u001b[0m\n",
      "\u001b[38;5;159m[Genesis] [11:55:08] [INFO] Adding \u001b[38;5;121m<gs.RigidEntity>\u001b[0m\u001b[38;5;159m. idx: \u001b[38;5;121m6\u001b[0m\u001b[38;5;159m, uid: \u001b[38;5;121m\u001b[3m<91d1a70>\u001b[0m\u001b[38;5;159m, morph: \u001b[38;5;121m<gs.morphs.URDF(file='d:\\envs\\pygen\\Lib\\site-packages\\genesis\\assets\\urdf/3763/mobility_vhacd.urdf')>\u001b[0m\u001b[38;5;159m, material: \u001b[38;5;121m<gs.materials.Rigid>\u001b[0m\u001b[38;5;159m.\u001b[0m\n",
      "\u001b[38;5;159m[Genesis] [11:55:09] [INFO] Adding \u001b[38;5;121m<gs.RigidEntity>\u001b[0m\u001b[38;5;159m. idx: \u001b[38;5;121m7\u001b[0m\u001b[38;5;159m, uid: \u001b[38;5;121m\u001b[3m<95b1c28>\u001b[0m\u001b[38;5;159m, morph: \u001b[38;5;121m<gs.morphs.Box>\u001b[0m\u001b[38;5;159m, material: \u001b[38;5;121m<gs.materials.Rigid>\u001b[0m\u001b[38;5;159m.\u001b[0m\n",
      "\u001b[38;5;159m[Genesis] [11:55:09] [INFO] Adding \u001b[38;5;121m<gs.RigidEntity>\u001b[0m\u001b[38;5;159m. idx: \u001b[38;5;121m8\u001b[0m\u001b[38;5;159m, uid: \u001b[38;5;121m\u001b[3m<61651ef>\u001b[0m\u001b[38;5;159m, morph: \u001b[38;5;121m<gs.morphs.Cylinder>\u001b[0m\u001b[38;5;159m, material: \u001b[38;5;121m<gs.materials.Rigid>\u001b[0m\u001b[38;5;159m.\u001b[0m\n"
     ]
    }
   ],
   "source": [
    "plane = scene.add_entity(\n",
    "    gs.morphs.Plane(),\n",
    ")\n",
    "franka = scene.add_entity(\n",
    "    gs.morphs.MJCF(file='xml/franka_emika_panda/panda.xml'),\n",
    ")\n",
    "                          \n",
    "# table = scene.add_entity(\n",
    "#     gs.morphs.MJCF(file='../model/common_arena/tables.xml'),\n",
    "# )\n",
    "\n",
    "table1 = scene.add_entity(\n",
    "    gs.morphs.Box(\n",
    "        size = (0.7, 1.7, 0.02),\n",
    "        pos = (0.5, 0, 0.18),\n",
    "        fixed = True,\n",
    "    ),\n",
    "    surface=gs.surfaces.Default(\n",
    "        color = (0.5, 0.5, 0.5),\n",
    "    ),\n",
    "    material=gs.materials.Rigid(\n",
    "        gravity_compensation=1.0\n",
    "    )\n",
    ")\n",
    "        \n",
    "table2 = scene.add_entity(\n",
    "    gs.morphs.Box(\n",
    "        size = (0.7, 1.7, 0.02),\n",
    "        pos = (-0.5, 0, 0.18),\n",
    "        fixed = True,\n",
    "    ),\n",
    "    surface=gs.surfaces.Default(\n",
    "        color = (0.5, 0.5, 0.5),\n",
    "    ),\n",
    "    material=gs.materials.Rigid(\n",
    "        gravity_compensation=1.0\n",
    "    )\n",
    ")\n",
    "\n",
    "table3 = scene.add_entity(\n",
    "    gs.morphs.Box(\n",
    "        size = (0.3, 0.7, 0.02),\n",
    "        pos = (0, -0.5, 0.18),\n",
    "        fixed = True,\n",
    "    ),\n",
    "    surface=gs.surfaces.Default(\n",
    "        color = (0.5, 0.5, 0.5),\n",
    "    ),\n",
    "    material=gs.materials.Rigid(\n",
    "        gravity_compensation=1.0\n",
    "    )\n",
    ")\n",
    "\n",
    "table4 = scene.add_entity(\n",
    "    gs.morphs.Box(\n",
    "        size = (0.3, 0.7, 0.02),\n",
    "        pos = (0, 0.5, 0.18),\n",
    "        fixed = True,\n",
    "    ),\n",
    "    surface=gs.surfaces.Default(\n",
    "        color = (0.5, 0.5, 0.5),\n",
    "    ),\n",
    "    material=gs.materials.Rigid(\n",
    "        gravity_compensation=1.0\n",
    "    )\n",
    ")\n",
    "         \n",
    "bottle = scene.add_entity(\n",
    "    material=gs.materials.Rigid(rho=300),\n",
    "    morph=gs.morphs.URDF(\n",
    "        file=\"urdf/3763/mobility_vhacd.urdf\",\n",
    "        scale=0.09,\n",
    "        pos=(0.65, 0.0, 0.036 + 0.19),\n",
    "        quat=(-np.pi/2, 0, np.pi/2, 0),\n",
    "    ),\n",
    "    # visualize_contact=True,\n",
    ")\n",
    "\n",
    "cube_size = (0.07, 0.1, 0.1)\n",
    "cube_pos = (0.4, 0.4, 0.05+0.19)\n",
    "\n",
    "cube = scene.add_entity(\n",
    "    gs.morphs.Box(\n",
    "        size = cube_size,\n",
    "        pos  = cube_pos,\n",
    "    ),\n",
    "    surface=gs.surfaces.Default(\n",
    "        color = (0.8, 0.1 , 0.1),   \n",
    "    )\n",
    ")\n",
    "cube.surface.color = (0.8, 0.1 , 0.1)\n",
    "\n",
    "cylinder_pos = (0.7, -0.2, 0.03+0.19)\n",
    "cylinder_quat = (0, -np.sqrt(2)/2, 0, np.sqrt(2)/2)\n",
    "cylinder_radius = 0.03\n",
    "cylinder_height = 0.15\n",
    "\n",
    "cylinder = scene.add_entity(\n",
    "    gs.morphs.Cylinder(\n",
    "        radius = cylinder_radius,\n",
    "        height = cylinder_height,\n",
    "        pos    = cylinder_pos,\n",
    "        quat   = cylinder_quat,\n",
    "    ),\n",
    "    surface=gs.surfaces.Default(\n",
    "        color = (0.1, 0.8 , 0.1),   \n",
    "    )\n",
    ")\n",
    "cylinder.surface.color = (0.2, 0.8, 0.2)\n",
    "\n",
    "cam = scene.add_camera(\n",
    "    res    = (640, 480),\n",
    "    pos    = (3.5, 0.0, 2.5),\n",
    "    lookat = (0, 0, 0.5),\n",
    "    fov    = 30,\n",
    "    GUI    = False,\n",
    ")\n"
   ]
  },
  {
   "cell_type": "code",
   "execution_count": 5,
   "id": "ca12615e",
   "metadata": {},
   "outputs": [
    {
     "name": "stdout",
     "output_type": "stream",
     "text": [
      "\u001b[38;5;159m[Genesis] [11:55:17] [INFO] Building scene \u001b[38;5;121m\u001b[3m<5753a72>\u001b[0m\u001b[38;5;159m...\u001b[0m\n",
      "\u001b[38;5;226m[Genesis] [11:55:22] [WARNING] Reference robot position exceeds joint limits.\u001b[0m\n",
      "\u001b[38;5;226m[Genesis] [11:55:22] [WARNING] Constraint solver time constant was increased to avoid numerical instability (from `0.005` to `0.02`). Decrease simulation timestep to avoid altering the original value.\u001b[0m\n",
      "\u001b[38;5;159m[Genesis] [11:55:43] [INFO] Compiling simulation kernels...\u001b[0m\n",
      "\u001b[38;5;159m[Genesis] [12:10:48] [INFO] Building visualizer...\u001b[0m\n",
      "\u001b[38;5;159m[Genesis] [12:11:23] [INFO] Viewer created. Resolution: \u001b[38;5;121m1280×960\u001b[0m\u001b[38;5;159m, max_FPS: \u001b[38;5;121m60\u001b[0m\u001b[38;5;159m.\u001b[0m\n"
     ]
    }
   ],
   "source": [
    "scene.build()"
   ]
  },
  {
   "cell_type": "code",
   "execution_count": 10,
   "id": "6222462d",
   "metadata": {},
   "outputs": [],
   "source": [
    "motors_dof = np.arange(7)\n",
    "fingers_dof = np.arange(7, 9)\n",
    "# set control gains\n",
    "# Note: the following values are tuned for achieving best behavior with Franka\n",
    "# Typically, each new robot would have a different set of parameters.\n",
    "# Sometimes high-quality URDF or XML file would also provide this and will be parsed.\n",
    "franka.set_dofs_kp(\n",
    "    np.array([4500, 4500, 3500, 3500, 2000, 2000, 2000, 100, 100]),\n",
    ")\n",
    "franka.set_dofs_kv(\n",
    "    np.array([450, 450, 350, 350, 200, 200, 200, 10, 10]),\n",
    ")\n",
    "franka.set_dofs_force_range(\n",
    "    np.array([-87, -87, -87, -87, -12, -12, -12, -100, -100]),\n",
    "    np.array([ 87,  87,  87,  87,  12,  12,  12,  100,  100]),\n",
    ")\n",
    "\n",
    "# render rgb, depth, segmentation, and normal\n",
    "# rgb, depth, segmentation, normal = cam.render(rgb=True, depth=True, segmentation=True, normal=True)"
   ]
  },
  {
   "cell_type": "code",
   "execution_count": 11,
   "id": "17e797a9",
   "metadata": {},
   "outputs": [
    {
     "name": "stdout",
     "output_type": "stream",
     "text": [
      "bottle_pos: tensor([0.6500, 0.0000, 0.2260])\n",
      "bottle_rot: tensor([-0.7071,  0.0000,  0.7071,  0.0000])\n",
      "bottle_mass: 0.09222162768927847\n",
      "bottle screw params qs: [[5.6069762e-01 4.7992636e-04 1.9216135e-01]\n",
      " [7.2746480e-01 4.7992636e-04 1.9216135e-01]]\n",
      "bottle screw params s_axes: [[0. 1. 0.]\n",
      " [0. 1. 0.]]\n",
      "cube_pos: tensor([0.4000, 0.4000, 0.2400])\n",
      "cube_rot: tensor([1., 0., 0., 0.])\n",
      "cube_mass: 0.14000000000000004\n",
      "cube_vertices: tensor([[0.3650, 0.3500, 0.1900],\n",
      "        [0.3650, 0.3500, 0.2900],\n",
      "        [0.3650, 0.4500, 0.1900],\n",
      "        [0.3650, 0.4500, 0.2900],\n",
      "        [0.4350, 0.3500, 0.1900],\n",
      "        [0.4350, 0.3500, 0.2900],\n",
      "        [0.4350, 0.4500, 0.1900],\n",
      "        [0.4350, 0.4500, 0.2900]])\n",
      "cylinder_pos: tensor([ 0.7000, -0.2000,  0.2200])\n",
      "cylinder_rot: tensor([ 0.0000, -0.7071,  0.0000,  0.7071])\n",
      "cylinder_mass: 0.0842790191109674\n"
     ]
    }
   ],
   "source": [
    "# get bottle properties\n",
    "bottle_pos = bottle.get_pos()\n",
    "print(f\"bottle_pos: {bottle_pos}\")\n",
    "bottle_rot = bottle.get_quat()\n",
    "print(f\"bottle_rot: {bottle_rot}\")\n",
    "bottle_mass = bottle.get_mass()\n",
    "print(f\"bottle_mass: {bottle_mass}\")\n",
    "\n",
    "planner = ScrewMotionPlanner()\n",
    "bottle_bbox = adapter.get_bbox(bottle)\n",
    "planner.find_ground_edges(bottle_bbox)\n",
    "bottle_qs, bottle_s_axes = planner.screw_from_bbox(bottle_bbox)\n",
    "print(f\"bottle screw params qs: {bottle_qs}\")\n",
    "print(f\"bottle screw params s_axes: {bottle_s_axes}\")\n",
    "# bottle_vertices = bottle.get_verts()\n",
    "# print(f\"bottle_vertices: {bottle_vertices}\")\n",
    "bottle_bbox = bottle.get_AABB()\n",
    "bottle.size = bottle_bbox[1] - bottle_bbox[0]\n",
    "\n",
    "# get cubes prperties\n",
    "cube_pos = cube.get_pos()\n",
    "print(f\"cube_pos: {cube_pos}\")\n",
    "cube_rot = cube.get_quat()\n",
    "print(f\"cube_rot: {cube_rot}\")\n",
    "cube_mass = cube.get_mass()\n",
    "print(f\"cube_mass: {cube_mass}\")\n",
    "cube_vertices = cube.get_verts()\n",
    "print(f\"cube_vertices: {cube_vertices}\")\n",
    "\n",
    "cube.size = cube_size\n",
    "\n",
    "# get cylinder properties\n",
    "cylinder_pos = cylinder.get_pos()\n",
    "print(f\"cylinder_pos: {cylinder_pos}\")\n",
    "cylinder_rot = cylinder.get_quat()\n",
    "print(f\"cylinder_rot: {cylinder_rot}\")\n",
    "cylinder_mass = cylinder.get_mass()\n",
    "print(f\"cylinder_mass: {cylinder_mass}\")\n",
    "# cylinder_vertices = cylinder.get_verts()\n",
    "# print(f\"cylinder_vertices: {cylinder_vertices}\")\n",
    "cylinder.size = (cylinder_height, cylinder_radius)"
   ]
  },
  {
   "cell_type": "code",
   "execution_count": null,
   "id": "fa2fbb0b",
   "metadata": {},
   "outputs": [],
   "source": [
    "def get_obj_screw(object):\n",
    "    \"\"\"\n",
    "    Get the screw parameters of the object\n",
    "    \"\"\"\n",
    "    if object == bottle:\n",
    "        planner = ScrewMotionPlanner()\n",
    "        bottle_bbox = adapter.get_bbox(bottle)\n",
    "        planner.find_ground_edges(bottle_bbox)\n",
    "        bottle_qs, bottle_s_axes = planner.screw_from_bbox(bottle_bbox)\n",
    "        s1, s2 = bottle_s_axes\n",
    "        q1, q2 = bottle_qs\n",
    "        h1 = 0\n",
    "        h2 = 0\n",
    "    else:\n",
    "        # get the vertices of the object\n",
    "        vertices = object.get_verts()\n",
    "        vertices = vertices.numpy()\n",
    "\n",
    "        # get the max and min x, y, z coordinates\n",
    "        max_x = np.max(vertices[:, 0])\n",
    "        min_x = np.min(vertices[:, 0])\n",
    "        min_y = np.min(vertices[:, 1])\n",
    "        min_z = np.min(vertices[:, 2])\n",
    "        max_y = np.max(vertices[:, 1])\n",
    "        \n",
    "        v1 = np.array([max_x, min_y, min_z])  # max x, min y, min z\n",
    "        v2 = np.array([max_x, max_y, min_z])  # max x, max y, min z\n",
    "        v3 = np.array([min_x, max_y, min_z])  # min x, max y, min z\n",
    "        v4 = np.array([min_x, min_y, min_z])  # min x, min y, min z\n",
    "        \n",
    "        if np.linalg.norm(v1-v2) <= np.linalg.norm(v2-v3):\n",
    "            s1 = (v1-v2) / np.linalg.norm(v1-v2) # unit vector in the direction of the screw axis\n",
    "            q1 = v2 # point on the screw axis\n",
    "            h1 = 0 # pitch of the screw axis\n",
    "            s2 = (v4-v3) / np.linalg.norm(v4-v3) # unit vector in the direction of the screw axis\n",
    "            q2 = v4 # point on the screw axis\n",
    "            h2 = 0 # pitch of the screw axis\n",
    "        else:\n",
    "            s1 = (v2-v3) / np.linalg.norm(v2-v3) # unit vector in the direction of the screw axis\n",
    "            q1 = v2 # point on the screw axis\n",
    "            h1 = 0 # pitch of the screw axis\n",
    "            s2 = (v1-v4) / np.linalg.norm(v1-v4) # unit vector in the direction of the screw axis\n",
    "            q2 = v1 # point on the screw axis\n",
    "            h2 = 0 # pitch of the screw axis\n",
    "    \n",
    "    #pt.check_screw_parameters(q, s, h) # check if the screw parameters are valid\n",
    "    return s1, q1, h1, s2, q2, h2\n",
    "\n",
    "\n",
    "def obj_dq(object, method):\n",
    "    \"\"\"\n",
    "    Get the screw parameters of the object and apply sclerp to the object in dual quaternion\n",
    "    \"\"\"\n",
    "    if method == 'min_distance':\n",
    "        _,_,_,s,q,h = get_obj_screw(object)\n",
    "        theta = np.pi/2\n",
    "    elif method == 'max_distance':\n",
    "        s,q,h,_,_,_ = get_obj_screw(object)\n",
    "        theta = -np.pi/2\n",
    "\n",
    "    \n",
    "    pq = object.get_qpos().cpu().numpy()\n",
    "    pq = pq[0:7] # position and quaternion of the object\n",
    "    obj_initial_dq = pt.dual_quaternion_from_pq(pq) # dual quaternion from position and quaternion\n",
    "    \n",
    "    Screw_dq = pt.dual_quaternion_from_screw_parameters(q=q, s_axis=s, h=h, theta=theta) # dual quaternion from screw parameters that make the object upright\n",
    "    # intermediate_T = pt.transform_log_from_screw_matrix\n",
    "    # Screw_T = pt.transform_from_dual_quaternion(Screw_dq) # transform from dual quaternion to transformation matrix\n",
    "    # print(\"screw_dq: \\n\", Screw_dq)\n",
    "    # print(\"screw_T: \\n\", Screw_T)\n",
    "    obj_goal_dq = pt.concatenate_dual_quaternions(Screw_dq, obj_initial_dq)\n",
    "    #obj_goal_T = pt.transform_from_dual_quaternion(obj_goal_dq) # transform from dual quaternion to transformation matrix\n",
    "    # print(\"obj_goal_dq: \\n\", obj_goal_dq)\n",
    "    # print(\"obj_goal_T: \\n\", obj_goal_T)\n",
    "    return obj_initial_dq, obj_goal_dq\n",
    "\n",
    "\n",
    "def obj_sclerp(object, obj_initial_dq, obj_goal_dq, method, steps):\n",
    "    \"\"\"\n",
    "    Apply sclerp to the object in dual quaternion\n",
    "    \"\"\"\n",
    "    s = np.linspace(0, 1, steps)\n",
    "    if method == 'linear':\n",
    "        tau = s\n",
    "    if method == 'cubic':\n",
    "        tau = 3*s**2 - 2*s**3\n",
    "    if method == 'quintic':\n",
    "        tau = 10*s**3 - 15*s**4 + 6*s**5\n",
    "        \n",
    "    # get the dual quaternion of the object\n",
    "    dq_traj = [pt.dual_quaternion_sclerp(obj_initial_dq, obj_goal_dq, t) for t in tau]\n",
    "         # spherical linear interpolation between two dual quaternions\n",
    "    # get the position and quaternion from the dual quaternion\n",
    "    dq_traj = np.asarray(dq_traj)\n",
    "    obj_qpos = ptr.pqs_from_dual_quaternions(dq_traj)\n",
    "    \n",
    "    return dq_traj, obj_qpos\n",
    "\n",
    "def obj_grasp_offset(object, object_initial_dq, method):\n",
    "    \n",
    "    m = 1\n",
    "    if method == 'min_distance':\n",
    "        m = -1\n",
    "    \n",
    "    if object == cube:\n",
    "        length = cube.size[0]\n",
    "        width = cube.size[1]\n",
    "        height = cube.size[2]    \n",
    "            \n",
    "        T_initial = pt.transform_from_dual_quaternion(object_initial_dq) # transform from dual quaternion to transformation matrix\n",
    "        T_offset = np.array([[1, 0, 0, 0],\n",
    "                             [0, 1, 0, m*(-width/2 + 0.02)],\n",
    "                             [0, 0, 1, height/2 - 0.02],\n",
    "                             [0, 0, 0, 1]])\n",
    "        T_ee = np.array([[0, 1, 0, 0],\n",
    "                         [1, 0, 0, 0],\n",
    "                         [0, 0, -1, 0.11],\n",
    "                         [0, 0, 0, 1]])\n",
    " \n",
    "        # rot = sm.SE3.RPY(0, np.pi/3, 0).A # rotation matrix from the object to the end effector\n",
    "        T_grasp = T_initial @ T_offset @ T_ee  # transformation matrix from the object to the end effector\n",
    "        \n",
    "    elif object == cylinder:\n",
    "        length = cylinder.size[0]\n",
    "            \n",
    "        T_initial = pt.transform_from_dual_quaternion(object_initial_dq) # transform from dual quaternion to transformation matrix\n",
    "        T_offset = np.array([[1, 0, 0, 0],\n",
    "                             [0, 1, 0, 0],\n",
    "                             [0, 0, 1, -m*(-length/2 + 0.02)],\n",
    "                             [0, 0, 0, 1]])\n",
    "        # T_ee = np.array([[1, 0, 0, 0],\n",
    "        #                  [0, -1, 0, 0],\n",
    "        #                  [0, 0, -1, 0.11],\n",
    "        #                  [0, 0, 0, 1]])\n",
    "        T_ee = np.array([[0, 0, 1, -0.11],\n",
    "                         [0, 1, 0, 0],\n",
    "                         [-1, 0, 0, 0],\n",
    "                         [0, 0, 0, 1]])\n",
    "        # rot = sm.SE3.RPY(0, np.pi/3, 0).A # rotation matrix from the object to the end effector\n",
    "        T_grasp = T_initial @ T_offset @ T_ee  # transformation matrix from the object to the end effector\n",
    "        \n",
    "    elif object == bottle:\n",
    "        length = bottle.size[0]\n",
    "        width = bottle.size[1]\n",
    "        height = bottle.size[2]\n",
    "            \n",
    "        T_initial = pt.transform_from_dual_quaternion(object_initial_dq) \n",
    "        T_offset = np.array([[1, 0, 0, m*(-0.01)],\n",
    "                             [0, 1, 0, 0],\n",
    "                             [0, 0, 1, m*(-0.04)],\n",
    "                             [0, 0, 0, 1]])\n",
    "        T_ee = np.array([[0, 0, -1, 0.11],\n",
    "                         [0, -1, 0, 0],\n",
    "                         [-1, 0, 0, 0],\n",
    "                         [0, 0, 0, 1]])\n",
    "        T_grasp = T_initial @ T_offset @ T_ee       \n",
    "    return T_grasp\n",
    "    \n",
    "def obj_grasp(object, method):\n",
    "    \"\"\"\n",
    "    grasping the object\n",
    "    \"\"\"\n",
    "    \n",
    "    # get the dual quaternion of the object\n",
    "    obj_initial_dq, obj_goal_dq = obj_dq(object, method)\n",
    "\n",
    "    T_grasp = obj_grasp_offset(object, obj_initial_dq, method) \n",
    "    print(\"T_grasp: \\n\", T_grasp)\n",
    "    pq_grasp = pt.pq_from_transform(T_grasp) # position and quaternion from transformation matrix\n",
    "    return pq_grasp\n",
    "\n",
    "\n",
    "def franka_sclerp(object, robot, method, method2, steps):\n",
    "    franka_initial_p, franka_initial_q = robot.forward_kinematics(robot.get_qpos(), links_idx_local=[8])\n",
    "    franka_initial_pq = np.concatenate((franka_initial_p, franka_initial_q), axis=1).reshape(7) # position and quaternion of the end effector\n",
    "    franka_initial_dq = pt.dual_quaternion_from_pq(franka_initial_pq) # dual quaternion from position and quaternion\n",
    "    if method2 == 'min_distance':\n",
    "        _,_,_,s,q,h = get_obj_screw(object)\n",
    "        theta = np.pi/2\n",
    "    elif method2 == 'max_distance':\n",
    "        s,q,h,_,_,_ = get_obj_screw(object)\n",
    "        theta = -np.pi/2\n",
    "        \n",
    "    Screw_dq = pt.dual_quaternion_from_screw_parameters(q=q, s_axis=s, h=h, theta=theta) # dual quaternion from screw parameters that make the object upright\n",
    "    franka_goal_dq = pt.concatenate_dual_quaternions(Screw_dq, franka_initial_dq)\n",
    "    \n",
    "    s = np.linspace(0, 1, steps)\n",
    "    if method == 'linear':\n",
    "        tau = s\n",
    "    if method == 'cubic':\n",
    "        tau = 3*s**2 - 2*s**3\n",
    "    if method == 'quintic':\n",
    "        tau = 10*s**3 - 15*s**4 + 6*s**5\n",
    "        \n",
    "    # get the dual quaternion of the object\n",
    "    franka_dq_traj = [pt.dual_quaternion_sclerp(franka_initial_dq, franka_goal_dq, t) for t in tau]# spherical linear interpolation between two dual quaternions\n",
    "    franka_dq_traj = np.asarray(franka_dq_traj)\n",
    "    # get the position and quaternion from the dual quaternion\n",
    "    franka_pqs = ptr.pqs_from_dual_quaternions(franka_dq_traj)\n",
    "    return franka_pqs\n",
    "\n",
    "def Success_Rate(obj_goal_T, obj_current_T):\n",
    "    \"\"\"\n",
    "    Compare the goal and current transformation and give a success rate based on that.\n",
    "    \"\"\"\n",
    "    # get the rotation matrix from the transformation matrix\n",
    "    obj_goal_R = obj_goal_T[:3, :3]\n",
    "    obj_current_R = obj_current_T[:3, :3]\n",
    "    \n",
    "    # get the translation vector from the transformation matrix\n",
    "    obj_goal_t = obj_goal_T[:3, 3]\n",
    "    obj_current_t = obj_current_T[:3, 3]\n",
    "    \n",
    "    # get the angle between the two rotation matrices\n",
    "    angle = np.arccos((np.trace(obj_goal_R.T @ obj_current_R) - 1) / 2)\n",
    "    angle_rate = 1 - abs(angle) / (np.pi/2)\n",
    "    \n",
    "    # get the distance between the two translation vectors\n",
    "    distance = np.linalg.norm(obj_goal_t - obj_current_t)\n",
    "    distance_rate = 1 - distance / (np.linalg.norm(obj_goal_t))\n",
    "        \n",
    "    success_rate = (4*angle_rate + distance_rate)/5\n",
    "    \n",
    "    return success_rate"
   ]
  },
  {
   "cell_type": "code",
   "execution_count": null,
   "id": "3f558721",
   "metadata": {},
   "outputs": [],
   "source": [
    "# p, q = franka.forward_kinematics(franka.get_qpos(), links_idx_local=[8])\n",
    "# franka_pq = np.concatenate((p, q), axis=1).reshape(7) # position and quaternion of the end effector\n",
    "# franka_pq\n",
    "# franka_T = pt.transform_from_pq(franka_pq) # transformation matrix from position and quaternion\n",
    "# print(\"franka_T: \\n\", franka_T)"
   ]
  },
  {
   "cell_type": "code",
   "execution_count": null,
   "id": "8233348d",
   "metadata": {},
   "outputs": [],
   "source": [
    "# # check if the end effector is in the right pregrasp pose\n",
    "# print(\"pregrasp pose: \", pq_grasp_cube)\n",
    "# print(\"end effector pose: \", end_effector.get_pos())"
   ]
  },
  {
   "cell_type": "markdown",
   "id": "b7e34202",
   "metadata": {},
   "source": [
    "### Uprighting the bottle"
   ]
  },
  {
   "cell_type": "code",
   "execution_count": null,
   "id": "c0ef3595",
   "metadata": {},
   "outputs": [],
   "source": [
    "bottle.get_pos()"
   ]
  },
  {
   "cell_type": "code",
   "execution_count": 53,
   "id": "376f0241",
   "metadata": {},
   "outputs": [
    {
     "name": "stdout",
     "output_type": "stream",
     "text": [
      "\u001b[38;5;159m[Genesis] [13:39:07] [INFO] Resetting Scene \u001b[38;5;121m\u001b[3m<5753a72>\u001b[0m\u001b[38;5;159m.\u001b[0m\n"
     ]
    }
   ],
   "source": [
    "# franka is in ready position\n",
    "scene.reset()\n",
    "bottle.set_pos([0, -0.45, 0.035+0.19])\n",
    "qr = np.array([0.0000, -0.3002, 0.0000, -2.1991, 0.0000, 2.0071, 0.7854, 0.04, 0.04])\n",
    "franka.ready_qpos = qr\n",
    "franka.set_qpos(franka.ready_qpos)\n",
    "scene.step()"
   ]
  },
  {
   "cell_type": "code",
   "execution_count": 54,
   "id": "d1b72fa6",
   "metadata": {},
   "outputs": [
    {
     "name": "stdout",
     "output_type": "stream",
     "text": [
      "T_grasp: \n",
      " [[ 1.00000000e+00  0.00000000e+00  2.22044605e-16 -4.00000000e-02]\n",
      " [ 0.00000000e+00 -1.00000000e+00  0.00000000e+00 -4.49999988e-01]\n",
      " [ 2.22044605e-16  0.00000000e+00 -1.00000000e+00  3.44018991e-01]\n",
      " [ 0.00000000e+00  0.00000000e+00  0.00000000e+00  1.00000000e+00]]\n",
      "[-4.00000000e-02 -4.49999988e-01  3.44018991e-01  0.00000000e+00\n",
      "  1.00000000e+00  0.00000000e+00  1.11022302e-16]\n",
      "[[ 1.00000000e+00  0.00000000e+00  2.22044605e-16 -4.00000000e-02]\n",
      " [ 0.00000000e+00 -1.00000000e+00  0.00000000e+00 -4.49999988e-01]\n",
      " [ 2.22044605e-16  0.00000000e+00 -1.00000000e+00  3.44018991e-01]\n",
      " [ 0.00000000e+00  0.00000000e+00  0.00000000e+00  1.00000000e+00]]\n"
     ]
    }
   ],
   "source": [
    "# move to pre-grasp pose for bottle\n",
    "end_effector = franka.get_link('hand')\n",
    "left_finger = franka.get_link('left_finger')\n",
    "right_finger = franka.get_link('right_finger')\n",
    "\n",
    "pq_grasp_bottle = obj_grasp(bottle, 'min_distance')\n",
    "print(pq_grasp_bottle)\n",
    "print(pt.transform_from_pq(pq_grasp_bottle))\n",
    "q_pregrasp = franka.inverse_kinematics(\n",
    "    link = end_effector,\n",
    "    pos = pq_grasp_bottle[:3] , # position of the end effector\n",
    "    quat = pq_grasp_bottle[3:7], # quaternion from the transformation matrix\n",
    "    #rot_mask = [False, False, False]\n",
    ")\n",
    "\n",
    "\n",
    "franka.set_qpos(q_pregrasp)\n",
    "franka.control_dofs_position(q_pregrasp)\n",
    "\n",
    "for __ in range(100):\n",
    "    scene.step()"
   ]
  },
  {
   "cell_type": "code",
   "execution_count": 55,
   "id": "5984883b",
   "metadata": {},
   "outputs": [],
   "source": [
    "# closing fingers to grasp the bottle\n",
    "franka.control_dofs_force(np.array([-5, -5]), fingers_dof)\n",
    "franka.control_dofs_position(q_pregrasp[:-2], motors_dof)\n",
    "for _ in range(50):\n",
    "    scene.step()"
   ]
  },
  {
   "cell_type": "code",
   "execution_count": 56,
   "id": "47f55e05",
   "metadata": {},
   "outputs": [],
   "source": [
    "# franka sclerp to upright the bottle\n",
    "franka_pqs = franka_sclerp(cylinder, franka, method='quintic', method2='min_distance', steps=500)\n",
    "init_q = franka.get_qpos() \n",
    "qs = []\n",
    "for pq in franka_pqs:\n",
    "    q = franka.inverse_kinematics(\n",
    "        link=end_effector,\n",
    "        pos=pq[:3],\n",
    "        quat=pq[3:7],\n",
    "        init_qpos=init_q,\n",
    "        # pos_tol=5e-5,  # 0.5 mm\n",
    "        # rot_tol=5e-5,  # 0.28 degree\n",
    "        #rot_mask = [False, True, False],\n",
    "    )\n",
    "    init_q = q\n",
    "    qs.append(q)"
   ]
  },
  {
   "cell_type": "code",
   "execution_count": 57,
   "id": "35feb670",
   "metadata": {},
   "outputs": [
    {
     "data": {
      "image/png": "[encoded data removed]",
      "text/plain": [
       "<Figure size 1000x500 with 1 Axes>"
      ]
     },
     "metadata": {},
     "output_type": "display_data"
    }
   ],
   "source": [
    "# plot joint positions\n",
    "import matplotlib.pyplot as plt\n",
    "\n",
    "plt.figure(figsize=(10, 5))\n",
    "plt.plot(qs)\n",
    "plt.title('Joint positions')\n",
    "plt.xlabel('Time step')\n",
    "plt.ylabel('Joint position')\n",
    "plt.show()"
   ]
  },
  {
   "cell_type": "code",
   "execution_count": 58,
   "id": "2ca1b125",
   "metadata": {},
   "outputs": [
    {
     "ename": "KeyboardInterrupt",
     "evalue": "",
     "output_type": "error",
     "traceback": [
      "\u001b[31m---------------------------------------------------------------------------\u001b[39m",
      "\u001b[31mKeyboardInterrupt\u001b[39m                         Traceback (most recent call last)",
      "\u001b[36mCell\u001b[39m\u001b[36m \u001b[39m\u001b[32mIn[58]\u001b[39m\u001b[32m, line 3\u001b[39m\n\u001b[32m      1\u001b[39m qs = np.array(qs)\n\u001b[32m      2\u001b[39m \u001b[38;5;28;01mfor\u001b[39;00m q \u001b[38;5;129;01min\u001b[39;00m qs:\n\u001b[32m----> \u001b[39m\u001b[32m3\u001b[39m     \u001b[43mfranka\u001b[49m\u001b[43m.\u001b[49m\u001b[43mcontrol_dofs_force\u001b[49m\u001b[43m(\u001b[49m\u001b[43mnp\u001b[49m\u001b[43m.\u001b[49m\u001b[43marray\u001b[49m\u001b[43m(\u001b[49m\u001b[43m[\u001b[49m\u001b[43m-\u001b[49m\u001b[32;43m25\u001b[39;49m\u001b[43m,\u001b[49m\u001b[43m \u001b[49m\u001b[43m-\u001b[49m\u001b[32;43m25\u001b[39;49m\u001b[43m]\u001b[49m\u001b[43m)\u001b[49m\u001b[43m,\u001b[49m\u001b[43m \u001b[49m\u001b[43mfingers_dof\u001b[49m\u001b[43m)\u001b[49m\n\u001b[32m      4\u001b[39m     \u001b[38;5;66;03m#franka.control_dofs_position(np.array([0.02, 0.02]), fingers_dof)\u001b[39;00m\n\u001b[32m      5\u001b[39m     franka.control_dofs_position(q[:-\u001b[32m2\u001b[39m], motors_dof)\n",
      "\u001b[36mFile \u001b[39m\u001b[32md:\\envs\\pygen\\Lib\\site-packages\\genesis\\utils\\misc.py:72\u001b[39m, in \u001b[36massert_built.<locals>.wrapper\u001b[39m\u001b[34m(self, *args, **kwargs)\u001b[39m\n\u001b[32m     70\u001b[39m \u001b[38;5;28;01mif\u001b[39;00m \u001b[38;5;129;01mnot\u001b[39;00m \u001b[38;5;28mself\u001b[39m.is_built:\n\u001b[32m     71\u001b[39m     gs.raise_exception(\u001b[33m\"\u001b[39m\u001b[33mScene is not built yet.\u001b[39m\u001b[33m\"\u001b[39m)\n\u001b[32m---> \u001b[39m\u001b[32m72\u001b[39m \u001b[38;5;28;01mreturn\u001b[39;00m \u001b[43mmethod\u001b[49m\u001b[43m(\u001b[49m\u001b[38;5;28;43mself\u001b[39;49m\u001b[43m,\u001b[49m\u001b[43m \u001b[49m\u001b[43m*\u001b[49m\u001b[43margs\u001b[49m\u001b[43m,\u001b[49m\u001b[43m \u001b[49m\u001b[43m*\u001b[49m\u001b[43m*\u001b[49m\u001b[43mkwargs\u001b[49m\u001b[43m)\u001b[49m\n",
      "\u001b[36mFile \u001b[39m\u001b[32md:\\envs\\pygen\\Lib\\site-packages\\genesis\\engine\\entities\\rigid_entity\\rigid_entity.py:2142\u001b[39m, in \u001b[36mRigidEntity.control_dofs_force\u001b[39m\u001b[34m(self, force, dofs_idx_local, envs_idx, unsafe)\u001b[39m\n\u001b[32m   2129\u001b[39m \u001b[38;5;250m\u001b[39m\u001b[33;03m\"\"\"\u001b[39;00m\n\u001b[32m   2130\u001b[39m \u001b[33;03mControl the entity's dofs' motor force. This is used for force/torque control.\u001b[39;00m\n\u001b[32m   2131\u001b[39m \n\u001b[32m   (...)\u001b[39m\u001b[32m   2139\u001b[39m \u001b[33;03m    The indices of the environments. If None, all environments will be considered. Defaults to None.\u001b[39;00m\n\u001b[32m   2140\u001b[39m \u001b[33;03m\"\"\"\u001b[39;00m\n\u001b[32m   2141\u001b[39m dofs_idx = \u001b[38;5;28mself\u001b[39m._get_idx(dofs_idx_local, \u001b[38;5;28mself\u001b[39m.n_dofs, \u001b[38;5;28mself\u001b[39m._dof_start, unsafe=\u001b[38;5;28;01mTrue\u001b[39;00m)\n\u001b[32m-> \u001b[39m\u001b[32m2142\u001b[39m \u001b[38;5;28;43mself\u001b[39;49m\u001b[43m.\u001b[49m\u001b[43m_solver\u001b[49m\u001b[43m.\u001b[49m\u001b[43mcontrol_dofs_force\u001b[49m\u001b[43m(\u001b[49m\u001b[43mforce\u001b[49m\u001b[43m,\u001b[49m\u001b[43m \u001b[49m\u001b[43mdofs_idx\u001b[49m\u001b[43m,\u001b[49m\u001b[43m \u001b[49m\u001b[43menvs_idx\u001b[49m\u001b[43m,\u001b[49m\u001b[43m \u001b[49m\u001b[43munsafe\u001b[49m\u001b[43m=\u001b[49m\u001b[43munsafe\u001b[49m\u001b[43m)\u001b[49m\n",
      "\u001b[36mFile \u001b[39m\u001b[32md:\\envs\\pygen\\Lib\\site-packages\\genesis\\engine\\solvers\\rigid\\rigid_solver_decomp.py:4418\u001b[39m, in \u001b[36mRigidSolver.control_dofs_force\u001b[39m\u001b[34m(self, force, dofs_idx, envs_idx, unsafe)\u001b[39m\n\u001b[32m   4414\u001b[39m force, dofs_idx, envs_idx = \u001b[38;5;28mself\u001b[39m._sanitize_1D_io_variables(\n\u001b[32m   4415\u001b[39m     force, dofs_idx, \u001b[38;5;28mself\u001b[39m.n_dofs, envs_idx, skip_allocation=\u001b[38;5;28;01mTrue\u001b[39;00m, unsafe=unsafe\n\u001b[32m   4416\u001b[39m )\n\u001b[32m   4417\u001b[39m \u001b[38;5;28;01mif\u001b[39;00m \u001b[38;5;28mself\u001b[39m.n_envs == \u001b[32m0\u001b[39m:\n\u001b[32m-> \u001b[39m\u001b[32m4418\u001b[39m     force = \u001b[43mforce\u001b[49m\u001b[43m.\u001b[49m\u001b[43munsqueeze\u001b[49m\u001b[43m(\u001b[49m\u001b[32;43m0\u001b[39;49m\u001b[43m)\u001b[49m\n\u001b[32m   4419\u001b[39m \u001b[38;5;28mself\u001b[39m._kernel_control_dofs_force(force, dofs_idx, envs_idx)\n",
      "\u001b[36mFile \u001b[39m\u001b[32md:\\envs\\pygen\\Lib\\site-packages\\torch\\utils\\_device.py:104\u001b[39m, in \u001b[36mDeviceContext.__torch_function__\u001b[39m\u001b[34m(self, func, types, args, kwargs)\u001b[39m\n\u001b[32m    102\u001b[39m \u001b[38;5;28;01mif\u001b[39;00m func \u001b[38;5;129;01min\u001b[39;00m _device_constructors() \u001b[38;5;129;01mand\u001b[39;00m kwargs.get(\u001b[33m'\u001b[39m\u001b[33mdevice\u001b[39m\u001b[33m'\u001b[39m) \u001b[38;5;129;01mis\u001b[39;00m \u001b[38;5;28;01mNone\u001b[39;00m:\n\u001b[32m    103\u001b[39m     kwargs[\u001b[33m'\u001b[39m\u001b[33mdevice\u001b[39m\u001b[33m'\u001b[39m] = \u001b[38;5;28mself\u001b[39m.device\n\u001b[32m--> \u001b[39m\u001b[32m104\u001b[39m \u001b[38;5;28;01mreturn\u001b[39;00m \u001b[43mfunc\u001b[49m\u001b[43m(\u001b[49m\u001b[43m*\u001b[49m\u001b[43margs\u001b[49m\u001b[43m,\u001b[49m\u001b[43m \u001b[49m\u001b[43m*\u001b[49m\u001b[43m*\u001b[49m\u001b[43mkwargs\u001b[49m\u001b[43m)\u001b[49m\n",
      "\u001b[31mKeyboardInterrupt\u001b[39m: "
     ]
    }
   ],
   "source": [
    "qs = np.array(qs)\n",
    "for q in qs:\n",
    "    franka.control_dofs_force(np.array([-25, -25]), fingers_dof)\n",
    "    #franka.control_dofs_position(np.array([0.02, 0.02]), fingers_dof)\n",
    "    franka.control_dofs_position(q[:-2], motors_dof)\n",
    "    #franka.set_qpos(q[:-2], motors_dof)\n",
    "\n",
    "    scene.step() "
   ]
  },
  {
   "cell_type": "markdown",
   "id": "eeee7c71",
   "metadata": {},
   "source": [
    "### Uprighting the cylinder"
   ]
  },
  {
   "cell_type": "code",
   "execution_count": 78,
   "id": "c64246a8",
   "metadata": {},
   "outputs": [
    {
     "name": "stdout",
     "output_type": "stream",
     "text": [
      "\u001b[38;5;159m[Genesis] [14:16:31] [INFO] Resetting Scene \u001b[38;5;121m\u001b[3m<5753a72>\u001b[0m\u001b[38;5;159m.\u001b[0m\n"
     ]
    }
   ],
   "source": [
    "# franka is in ready position\n",
    "scene.reset()\n",
    "cylinder.set_pos([0.45, -0.25, 0.03 +0.19])\n",
    "cyl_initial_dq, cyl_goal_dq = obj_dq(cylinder, 'min_distance')\n",
    "cyl_goal_T = pt.transform_from_dual_quaternion(cyl_goal_dq)\n",
    "qr = np.array([0.0000, -0.3002, 0.0000, -2.1991, 0.0000, 2.0071, 0.7854, 0.04, 0.04])\n",
    "franka.ready_qpos = qr\n",
    "franka.set_qpos(franka.ready_qpos)\n",
    "scene.step()"
   ]
  },
  {
   "cell_type": "code",
   "execution_count": 67,
   "id": "003eaa9f",
   "metadata": {},
   "outputs": [
    {
     "name": "stdout",
     "output_type": "stream",
     "text": [
      "T_grasp: \n",
      " [[ 9.99999999e-01  3.60835940e-09 -3.89436854e-05  5.05005345e-01]\n",
      " [ 3.66456964e-09 -1.00000000e+00  1.44337215e-06 -2.50000188e-01]\n",
      " [-3.89436854e-05 -1.44337229e-06 -9.99999999e-01  3.29962675e-01]\n",
      " [ 0.00000000e+00  0.00000000e+00  0.00000000e+00  1.00000000e+00]]\n",
      "[ 5.05005345e-01 -2.50000188e-01  3.29962675e-01 -7.21686112e-07\n",
      "  1.00000000e+00  1.81823226e-09 -1.94718427e-05]\n",
      "[[ 9.99999999e-01  3.60835940e-09 -3.89436854e-05  5.05005345e-01]\n",
      " [ 3.66456964e-09 -1.00000000e+00  1.44337215e-06 -2.50000188e-01]\n",
      " [-3.89436854e-05 -1.44337229e-06 -9.99999999e-01  3.29962675e-01]\n",
      " [ 0.00000000e+00  0.00000000e+00  0.00000000e+00  1.00000000e+00]]\n"
     ]
    }
   ],
   "source": [
    "# move to pre-grasp pose for cylinder\n",
    "end_effector = franka.get_link('hand')\n",
    "left_finger = franka.get_link('left_finger')\n",
    "right_finger = franka.get_link('right_finger')\n",
    "\n",
    "pq_grasp_cylinder = obj_grasp(cylinder, 'min_distance')\n",
    "print(pq_grasp_cylinder)\n",
    "print(pt.transform_from_pq(pq_grasp_cylinder))\n",
    "q_pregrasp = franka.inverse_kinematics(\n",
    "    link = end_effector,\n",
    "    pos = pq_grasp_cylinder[:3] , # position of the end effector\n",
    "    quat = pq_grasp_cylinder[3:7], # quaternion from the transformation matrix\n",
    "    #rot_mask = [False, False, False]\n",
    ")\n",
    "\n",
    "\n",
    "franka.set_qpos(q_pregrasp)\n",
    "franka.control_dofs_position(q_pregrasp)\n",
    "\n",
    "for __ in range(100):\n",
    "    scene.step()"
   ]
  },
  {
   "cell_type": "code",
   "execution_count": 68,
   "id": "4e043cfd",
   "metadata": {},
   "outputs": [],
   "source": [
    "# closing fingers to grasp the cylinder\n",
    "franka.control_dofs_force(np.array([-25, -25]), fingers_dof)\n",
    "franka.control_dofs_position(q_pregrasp[:-2], motors_dof)\n",
    "for _ in range(50):\n",
    "    scene.step()"
   ]
  },
  {
   "cell_type": "code",
   "execution_count": 69,
   "id": "cd946dd6",
   "metadata": {},
   "outputs": [],
   "source": [
    "# franka sclerp to upright the cylinder\n",
    "franka_pqs = franka_sclerp(cylinder, franka, method='quintic', method2='min_distance', steps=300)\n",
    "init_q = franka.get_qpos()\n",
    "qs = []\n",
    "for pq in franka_pqs:\n",
    "    q = franka.inverse_kinematics(\n",
    "        link=end_effector,\n",
    "        pos=pq[:3],\n",
    "        quat=pq[3:7],\n",
    "        init_qpos=init_q,\n",
    "        # pos_tol=5e-5,  # 0.5 mm\n",
    "        # rot_tol=5e-5,  # 0.28 degree\n",
    "        #rot_mask = [False, True, False],\n",
    "    )\n",
    "    init_q = q\n",
    "    qs.append(q)"
   ]
  },
  {
   "cell_type": "code",
   "execution_count": 70,
   "id": "046ce10c",
   "metadata": {},
   "outputs": [
    {
     "data": {
      "image/png": "[encoded data removed]",
      "text/plain": [
       "<Figure size 1000x500 with 1 Axes>"
      ]
     },
     "metadata": {},
     "output_type": "display_data"
    }
   ],
   "source": [
    "# plot joint positions\n",
    "import matplotlib.pyplot as plt\n",
    "\n",
    "plt.figure(figsize=(10, 5))\n",
    "plt.plot(qs)\n",
    "plt.title('Joint positions')\n",
    "plt.xlabel('Time step')\n",
    "plt.ylabel('Joint position')\n",
    "plt.show()"
   ]
  },
  {
   "cell_type": "code",
   "execution_count": 71,
   "id": "8756b249",
   "metadata": {},
   "outputs": [],
   "source": [
    "qs = np.array(qs)\n",
    "for q in qs:\n",
    "    franka.control_dofs_force(np.array([-25, -25]), fingers_dof)\n",
    "    #franka.control_dofs_position(np.array([0.02, 0.02]), fingers_dof)\n",
    "    franka.control_dofs_position(q[:-2], motors_dof)\n",
    "    #franka.set_qpos(q[:-2], motors_dof)\n",
    "\n",
    "    scene.step()   \n",
    "    "
   ]
  },
  {
   "cell_type": "code",
   "execution_count": 72,
   "id": "40474d44",
   "metadata": {},
   "outputs": [],
   "source": [
    "franka.control_dofs_force(np.array([0, 0]), fingers_dof)\n",
    "for _ in range(150):\n",
    "    \n",
    "    scene.step()"
   ]
  },
  {
   "cell_type": "code",
   "execution_count": 95,
   "id": "34e0c306",
   "metadata": {},
   "outputs": [
    {
     "data": {
      "text/plain": [
       "np.float64(0.15443869412408065)"
      ]
     },
     "execution_count": 95,
     "metadata": {},
     "output_type": "execute_result"
    }
   ],
   "source": [
    "cyl_current_T = pt.transform_from_pq(cylinder.get_qpos())\n",
    "Success_Rate(cyl_goal_T, cyl_current_T)"
   ]
  },
  {
   "cell_type": "markdown",
   "id": "d6d6d235",
   "metadata": {},
   "source": [
    "### Uprighting the cube"
   ]
  },
  {
   "cell_type": "code",
   "execution_count": 49,
   "id": "2f4ebc4f",
   "metadata": {},
   "outputs": [
    {
     "name": "stdout",
     "output_type": "stream",
     "text": [
      "\u001b[38;5;159m[Genesis] [13:04:34] [INFO] Resetting Scene \u001b[38;5;121m\u001b[3m<5753a72>\u001b[0m\u001b[38;5;159m.\u001b[0m\n"
     ]
    }
   ],
   "source": [
    "# franka is in ready position\n",
    "scene.reset()\n",
    "cube.set_pos([0.45,0.1,0.04+0.19])\n",
    "qr = np.array([0.0000, -0.3002, 0.0000, -2.1991, 0.0000, 2.0071, 0.7854, 0.04, 0.04])\n",
    "franka.ready_qpos = qr\n",
    "franka.set_qpos(franka.ready_qpos)\n",
    "scene.step()"
   ]
  },
  {
   "cell_type": "code",
   "execution_count": 50,
   "id": "53c815db",
   "metadata": {},
   "outputs": [
    {
     "name": "stdout",
     "output_type": "stream",
     "text": [
      "T_grasp: \n",
      " [[ 0.          1.          0.          0.44999999]\n",
      " [ 1.          0.          0.          0.13      ]\n",
      " [ 0.          0.         -1.          0.369019  ]\n",
      " [ 0.          0.          0.          1.        ]]\n",
      "[0.44999999 0.13       0.369019   0.         0.70710678 0.70710678\n",
      " 0.        ]\n",
      "[[-2.22044605e-16  1.00000000e+00  0.00000000e+00  4.49999988e-01]\n",
      " [ 1.00000000e+00  2.22044605e-16  0.00000000e+00  1.30000001e-01]\n",
      " [ 0.00000000e+00  0.00000000e+00 -1.00000000e+00  3.69019001e-01]\n",
      " [ 0.00000000e+00  0.00000000e+00  0.00000000e+00  1.00000000e+00]]\n"
     ]
    }
   ],
   "source": [
    "# move to pre-grasp pose for cube\n",
    "end_effector = franka.get_link('hand')\n",
    "left_finger = franka.get_link('left_finger')\n",
    "right_finger = franka.get_link('right_finger')\n",
    "\n",
    "pq_grasp_cube = obj_grasp(cube, 'min_distance')\n",
    "print(pq_grasp_cube)\n",
    "print(pt.transform_from_pq(pq_grasp_cube))\n",
    "q_pregrasp = franka.inverse_kinematics(\n",
    "    link = end_effector,\n",
    "    pos = pq_grasp_cube[:3] , # position of the end effector\n",
    "    quat = pq_grasp_cube[3:7], # quaternion from the transformation matrix\n",
    "    #rot_mask = [False, False, False]\n",
    ")\n",
    "\n",
    "\n",
    "franka.set_qpos(q_pregrasp)\n",
    "franka.control_dofs_position(q_pregrasp)\n",
    "\n",
    "for __ in range(100):\n",
    "    scene.step()"
   ]
  },
  {
   "cell_type": "code",
   "execution_count": 51,
   "id": "9c2c42bb",
   "metadata": {},
   "outputs": [],
   "source": [
    "# closing fingers to grasp the cube\n",
    "franka.control_dofs_force(np.array([-25, -25]), fingers_dof)\n",
    "franka.control_dofs_position(q_pregrasp[:-2], motors_dof)\n",
    "for _ in range(50):\n",
    "    scene.step()"
   ]
  },
  {
   "cell_type": "code",
   "execution_count": null,
   "id": "a1d6ac28",
   "metadata": {},
   "outputs": [],
   "source": [
    "# franka sclerp to upright the cube\n",
    "franka_pqs = franka_sclerp(cube, franka, method='quintic', method2='min_distance', steps=300)\n",
    "init_q = franka.get_qpos()\n",
    "qs = []\n",
    "for pq in franka_pqs:\n",
    "    q = franka.inverse_kinematics(\n",
    "        link=end_effector,\n",
    "        pos=pq[:3],\n",
    "        quat=pq[3:7],\n",
    "        init_qpos=init_q,\n",
    "        # pos_tol=5e-5,  # 0.5 mm\n",
    "        # rot_tol=5e-5,  # 0.28 degree\n",
    "        #rot_mask = [False, True, False],\n",
    "    )\n",
    "    init_q = q\n",
    "    qs.append(q)"
   ]
  },
  {
   "cell_type": "code",
   "execution_count": null,
   "id": "db48eacc",
   "metadata": {},
   "outputs": [],
   "source": [
    "# damping = 1e-6\n",
    "# diag = damping * np.eye(6)\n",
    "# for i in range(franka_pqs.shape[0]):\n",
    "#     # Position error.\n",
    "#     error_pos = franka_pqs[i][:3] - end_effector.get_pos().cpu().numpy()\n",
    "\n",
    "#     # Orientation error.\n",
    "#     ee_quat = end_effector.get_quat().cpu().numpy()\n",
    "#     error_quat = gs.transform_quat_by_quat(gs.inv_quat(ee_quat), franka_pqs[i][3:7])\n",
    "#     error_rotvec = gs.quat_to_rotvec(error_quat)\n",
    "\n",
    "#     error = np.concatenate([error_pos, error_rotvec])\n",
    "\n",
    "#     # jacobian\n",
    "#     jac = franka.get_jacobian(link=end_effector).cpu().numpy()\n",
    "#     dq = jac.T @ np.linalg.solve(jac @ jac.T + diag, error)\n",
    "#     q = franka.get_qpos().cpu().numpy() + dq\n",
    "\n",
    "#     # control\n",
    "#     franka.control_dofs_position(q)\n",
    "#     scene.step()"
   ]
  },
  {
   "cell_type": "code",
   "execution_count": null,
   "id": "9450700e",
   "metadata": {},
   "outputs": [],
   "source": [
    "# plot joint positions\n",
    "import matplotlib.pyplot as plt\n",
    "\n",
    "plt.figure(figsize=(10, 5))\n",
    "plt.plot(qs)\n",
    "plt.title('Joint positions')\n",
    "plt.xlabel('Time step')\n",
    "plt.ylabel('Joint position')\n",
    "plt.show()"
   ]
  },
  {
   "cell_type": "code",
   "execution_count": null,
   "id": "6088f44b",
   "metadata": {},
   "outputs": [],
   "source": [
    "qs = np.array(qs)\n",
    "for q in qs:\n",
    "    franka.control_dofs_force(np.array([-25, -25]), fingers_dof)\n",
    "    #franka.control_dofs_position(np.array([0.02, 0.02]), fingers_dof)\n",
    "    franka.control_dofs_position(q[:-2], motors_dof)\n",
    "    #franka.set_qpos(q[:-2], motors_dof)\n",
    "\n",
    "    scene.step()   "
   ]
  },
  {
   "cell_type": "markdown",
   "id": "3e1e7b2d",
   "metadata": {},
   "source": [
    "### Objects Sclerp"
   ]
  },
  {
   "cell_type": "code",
   "execution_count": null,
   "id": "4f545556",
   "metadata": {},
   "outputs": [],
   "source": [
    "# calling functions for cube_sclerp\n",
    "scene.reset()\n",
    "s1, q1, h1 , s2, q2, h2 = get_obj_screw(cube)\n",
    "cube_initial_dq, Cube_goal_dq = obj_dq(cube, 'min_distance')\n",
    "dq_traj, obj_qpos = obj_sclerp(cube, cube_initial_dq, Cube_goal_dq, 'linear', 100)\n",
    "dq_traj.shape"
   ]
  },
  {
   "cell_type": "code",
   "execution_count": null,
   "id": "dc16f8d1",
   "metadata": {},
   "outputs": [],
   "source": [
    "# cube sclerp motion\n",
    "scene.reset()\n",
    "for i in range (obj_qpos.shape[0]):\n",
    "    franka.set_qpos(qr)\n",
    "    cube.set_qpos(obj_qpos[i])\n",
    "    scene.step()"
   ]
  },
  {
   "cell_type": "code",
   "execution_count": null,
   "id": "25f3d5bf",
   "metadata": {},
   "outputs": [],
   "source": [
    "# calling functions for cylinder_sclerp\n",
    "scene.reset()\n",
    "s1, q1, h1 , s2, q2, h2 = get_obj_screw(cylinder)\n",
    "cyl_initial_dq, cyl_goal_dq = obj_dq(cylinder, 'min_distance')\n",
    "dq_traj, obj_qpos = obj_sclerp(cylinder, cyl_initial_dq, cyl_goal_dq, 'linear', 100)\n",
    "dq_traj.shape"
   ]
  },
  {
   "cell_type": "code",
   "execution_count": null,
   "id": "97c29be0",
   "metadata": {},
   "outputs": [],
   "source": [
    "# cylinder sclerp motion\n",
    "scene.reset()\n",
    "for i in range (obj_qpos.shape[0]):\n",
    "    franka.set_qpos(qr)\n",
    "    cylinder.set_qpos(obj_qpos[i])\n",
    "    scene.step()"
   ]
  },
  {
   "cell_type": "code",
   "execution_count": null,
   "id": "9c511fd3",
   "metadata": {},
   "outputs": [],
   "source": [
    "# calling functions for bottle_sclerp\n",
    "scene.reset()\n",
    "s1, q1, h1 , s2, q2, h2 = get_obj_screw(bottle)\n",
    "bottle_initial_dq, bottle_goal_dq = obj_dq(bottle, 'min_distance')\n",
    "\n",
    "bottle_traj, bottle_qpos = obj_sclerp(bottle, bottle_initial_dq, bottle_goal_dq, 'linear', 100)"
   ]
  },
  {
   "cell_type": "code",
   "execution_count": null,
   "id": "1bceba6e",
   "metadata": {},
   "outputs": [],
   "source": [
    "# bottle sclerp motion\n",
    "scene.reset()\n",
    "for i in range (bottle_qpos.shape[0]):\n",
    "    franka.set_qpos(qr)\n",
    "    bottle.set_qpos(np.append(bottle_qpos[i], [0,0]))\n",
    "    scene.step()"
   ]
  }
 ],
 "metadata": {
  "kernelspec": {
   "display_name": "pygen",
   "language": "python",
   "name": "python3"
  },
  "language_info": {
   "codemirror_mode": {
    "name": "ipython",
    "version": 3
   },
   "file_extension": ".py",
   "mimetype": "text/x-python",
   "name": "python",
   "nbconvert_exporter": "python",
   "pygments_lexer": "ipython3",
   "version": "3.12.9"
  }
 },
 "nbformat": 4,
 "nbformat_minor": 5
}
