{
 "cells": [
  {
   "cell_type": "code",
   "execution_count": 1,
   "id": "bd578c0f",
   "metadata": {},
   "outputs": [],
   "source": [
    "import genesis as gs\n",
    "import numpy as np\n",
    "import torch\n",
    "from pytransform3d import (\n",
    "    transformations as pt,\n",
    "    rotations as pr,\n",
    "    batch_rotations as pb,\n",
    "    trajectories as ptr,\n",
    "    plot_utils as ppu\n",
    ")\n",
    "\n",
    "from pandaSim.geometry.genesis_adapter import GenesisAdapter\n",
    "from pandaSim.planning.screw_motion_planner import ScrewMotionPlanner"
   ]
  },
  {
   "cell_type": "code",
   "execution_count": null,
   "id": "4e9e01bb",
   "metadata": {},
   "outputs": [],
   "source": [
    "gs.destroy()\n",
    "gs.init(backend=gs.cpu)\n",
    "gs.set_random_seed(seed=42)\n",
    "#config = {'viewr_option' : {'width': 640, 'height': 480}, 'box_box_detection': True}\n",
    "adapter = GenesisAdapter()\n",
    "scene = adapter.scene"
   ]
  },
  {
   "cell_type": "code",
   "execution_count": null,
   "id": "50223d53",
   "metadata": {},
   "outputs": [],
   "source": [
    "plane = scene.add_entity(\n",
    "    gs.morphs.Plane(),\n",
    ")\n",
    "franka = scene.add_entity(\n",
    "    gs.morphs.MJCF(file='../model/panda_vir.xml'),\n",
    ")\n",
    "                          \n",
    "# table = scene.add_entity(\n",
    "#     gs.morphs.MJCF(file='../model/common_arena/tables.xml'),\n",
    "# )\n",
    "\n",
    "table1 = scene.add_entity(\n",
    "    gs.morphs.Box(\n",
    "        size = (0.7, 1.7, 0.02),\n",
    "        pos = (0.5, 0, 0.18),\n",
    "        fixed = True,\n",
    "    ),\n",
    "    surface=gs.surfaces.Default(\n",
    "        color = (0.5, 0.5, 0.5),\n",
    "    ),\n",
    "    material=gs.materials.Rigid(\n",
    "        gravity_compensation=1.0 ,\n",
    "        friction=5.0\n",
    "    )\n",
    ")\n",
    "        \n",
    "table2 = scene.add_entity(\n",
    "    gs.morphs.Box(\n",
    "        size = (0.7, 1.7, 0.02),\n",
    "        pos = (-0.5, 0, 0.18),\n",
    "        fixed = True,\n",
    "    ),\n",
    "    surface=gs.surfaces.Default(\n",
    "        color = (0.5, 0.5, 0.5),\n",
    "    ),\n",
    "    material=gs.materials.Rigid(\n",
    "        gravity_compensation=1.0,\n",
    "        friction=5.0\n",
    "    )\n",
    ")\n",
    "\n",
    "table3 = scene.add_entity(\n",
    "    gs.morphs.Box(\n",
    "        size = (0.3, 0.7, 0.02),\n",
    "        pos = (0, -0.5, 0.18),\n",
    "        fixed = True,\n",
    "    ),\n",
    "    surface=gs.surfaces.Default(\n",
    "        color = (0.5, 0.5, 0.5),\n",
    "    ),\n",
    "    material=gs.materials.Rigid(\n",
    "        gravity_compensation=1.0,\n",
    "        friction=5.0\n",
    "    )\n",
    ")\n",
    "\n",
    "table4 = scene.add_entity(\n",
    "    gs.morphs.Box(\n",
    "        size = (0.3, 0.7, 0.02),\n",
    "        pos = (0, 0.5, 0.18),\n",
    "        fixed = True,\n",
    "    ),\n",
    "    surface=gs.surfaces.Default(\n",
    "        color = (0.5, 0.5, 0.5),\n",
    "    ),\n",
    "    material=gs.materials.Rigid(\n",
    "        gravity_compensation=1.0,\n",
    "        friction=5.0\n",
    "    )\n",
    ")\n",
    "\n",
    "bottle = scene.add_entity(\n",
    "    material=gs.materials.Rigid(rho=300),\n",
    "    morph=gs.morphs.URDF(\n",
    "        file=\"urdf/3763/mobility_vhacd.urdf\",\n",
    "        scale=0.09,\n",
    "        pos=(0.65, 0.0, 0.036 + 0.19),\n",
    "        quat=(-np.pi/2, 0, np.pi/2, 0),\n",
    "    ),\n",
    "    # visualize_contact=True,\n",
    ")\n",
    "\n",
    "# bottle = scene.add_entity(\n",
    "#     morph = gs.morphs.URDF(\n",
    "#         file=\"../assets/urdf/bottle/bottle.urdf\",\n",
    "#         scale=0.1,\n",
    "#         pos=(0.65, 0.4, 0.036 + 0.19),\n",
    "#         quat=(-np.pi/2, 0, np.pi/2, 0),\n",
    "#     ),\n",
    "# )\n",
    "cube_size = (0.07, 0.1, 0.1)\n",
    "cube_pos = (0.4, 0.4, 0.05+0.19)\n",
    "\n",
    "cube = scene.add_entity(\n",
    "    gs.morphs.Box(\n",
    "        size = cube_size,\n",
    "        pos  = cube_pos,\n",
    "    ),\n",
    "    surface=gs.surfaces.Default(\n",
    "        color = (0.8, 0.1 , 0.1),   \n",
    "    )\n",
    ")\n",
    "cube.surface.color = (0.8, 0.1 , 0.1)\n",
    "\n",
    "cylinder_pos = (0.7, -0.2, 0.03+0.19)\n",
    "cylinder_quat = (0, -np.sqrt(2)/2, 0, np.sqrt(2)/2)\n",
    "cylinder_radius = 0.03\n",
    "cylinder_height = 0.15\n",
    "\n",
    "cylinder = scene.add_entity(\n",
    "    gs.morphs.Cylinder(\n",
    "        radius = cylinder_radius,\n",
    "        height = cylinder_height,\n",
    "        pos    = cylinder_pos,\n",
    "        quat   = cylinder_quat,\n",
    "    ),\n",
    "    surface=gs.surfaces.Default(\n",
    "        color = (0.1, 0.8 , 0.1),   \n",
    "    )\n",
    ")\n",
    "cylinder.surface.color = (0.2, 0.8, 0.2)\n",
    "\n",
    "cam = scene.add_camera(\n",
    "    res    = (640, 480),\n",
    "    pos    = (3.5, 0.0, 2.5),\n",
    "    lookat = (0, 0, 0.5),\n",
    "    fov    = 30,\n",
    "    GUI    = False,\n",
    ")"
   ]
  },
  {
   "cell_type": "code",
   "execution_count": null,
   "id": "1e999bef",
   "metadata": {},
   "outputs": [],
   "source": [
    "n_envs = 9\n",
    "scene.build(n_envs=n_envs, env_spacing=(2, 2), center_envs_at_origin=True )"
   ]
  },
  {
   "cell_type": "code",
   "execution_count": null,
   "id": "14cc26cb",
   "metadata": {},
   "outputs": [],
   "source": [
    "import random\n",
    "\n",
    "def random_dual_range(range1,range2):\n",
    "    a, b = range1\n",
    "    c, d = range2\n",
    "    if random.random() < 0.5:\n",
    "        return np.random.uniform(a, b)\n",
    "    else:\n",
    "        return np.random.uniform(c, d)"
   ]
  },
  {
   "cell_type": "code",
   "execution_count": null,
   "id": "d713c65c",
   "metadata": {},
   "outputs": [],
   "source": [
    "cube.get_pos()"
   ]
  },
  {
   "cell_type": "code",
   "execution_count": null,
   "id": "ad0f9d47",
   "metadata": {},
   "outputs": [],
   "source": [
    "cube.get_pos(1)"
   ]
  },
  {
   "cell_type": "code",
   "execution_count": null,
   "id": "88e924ad",
   "metadata": {},
   "outputs": [],
   "source": [
    "cube.set_pos((1, 2, 3), envs_idx=0)\n",
    "scene.step()"
   ]
  },
  {
   "cell_type": "code",
   "execution_count": null,
   "id": "adcbc64d",
   "metadata": {},
   "outputs": [],
   "source": [
    "scene.reset()"
   ]
  },
  {
   "cell_type": "code",
   "execution_count": null,
   "id": "a8f0189e",
   "metadata": {},
   "outputs": [],
   "source": [
    "adapter.set_pose(cube, np.array([0,0,0,1,0,0,0]), envs_idx=0)"
   ]
  },
  {
   "cell_type": "code",
   "execution_count": null,
   "id": "0b333028",
   "metadata": {},
   "outputs": [],
   "source": [
    "scene.reset()\n",
    "for env in range(n_envs):\n",
    "    cube.set_pos((random_dual_range([0.25,0.45],[-0.25,-0.45]), random_dual_range([0.35,0.55],[-0.35,-0.55]), 0.05+0.19), envs_idx=env)\n",
    "    cylinder.set_pos((random_dual_range([0.25,0.45],[-0.25,-0.45]), random_dual_range([0.35,0.55],[-0.35,-0.55]), 0.03+0.19), envs_idx=env)\n",
    "    scene.step()"
   ]
  },
  {
   "cell_type": "code",
   "execution_count": null,
   "id": "f7e68cba",
   "metadata": {},
   "outputs": [],
   "source": [
    "adapter.set_pose(cube,[random_dual_range([0.25,0.45],[-0.25,-0.45]), random_dual_range([0.35,0.55],[-0.35,-0.55]), 0.05+0.19], envs_idx=0)"
   ]
  }
 ],
 "metadata": {
  "kernelspec": {
   "display_name": "Panda",
   "language": "python",
   "name": "python3"
  },
  "language_info": {
   "codemirror_mode": {
    "name": "ipython",
    "version": 3
   },
   "file_extension": ".py",
   "mimetype": "text/x-python",
   "name": "python",
   "nbconvert_exporter": "python",
   "pygments_lexer": "ipython3",
   "version": "3.10.17"
  }
 },
 "nbformat": 4,
 "nbformat_minor": 5
}
