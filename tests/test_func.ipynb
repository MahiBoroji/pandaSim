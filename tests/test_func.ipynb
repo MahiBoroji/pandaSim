{
 "cells": [
  {
   "cell_type": "code",
   "execution_count": 1,
   "id": "bd578c0f",
   "metadata": {},
   "outputs": [],
   "source": [
    "import genesis as gs\n",
    "import numpy as np\n",
    "import torch\n",
    "from pytransform3d import (\n",
    "    transformations as pt,\n",
    "    rotations as pr,\n",
    "    batch_rotations as pb,\n",
    "    trajectories as ptr,\n",
    "    plot_utils as ppu\n",
    ")\n",
    "\n",
    "from pandaSim.geometry.genesis_adapter import GenesisAdapter\n",
    "from pandaSim.planning.screw_motion_planner import ScrewMotionPlanner"
   ]
  },
  {
   "cell_type": "code",
   "execution_count": 2,
   "id": "4e9e01bb",
   "metadata": {},
   "outputs": [
    {
     "name": "stdout",
     "output_type": "stream",
     "text": [
      "\u001b[38;5;159m[Genesis] [00:51:22] [INFO] \u001b[38;5;121m╭───────────────────────────────────────────────╮\u001b[0m\u001b[38;5;159m\u001b[0m\n",
      "\u001b[38;5;159m[Genesis] [00:51:22] [INFO] \u001b[38;5;121m│┈┉┈┉┈┉┈┉┈┉┈┉┈┉┈┉┈┉┈\u001b[0m\u001b[38;5;159m \u001b[38;5;121m\u001b[1m\u001b[3mGenesis\u001b[0m\u001b[38;5;159m \u001b[38;5;121m┈┉┈┉┈┉┈┉┈┉┈┉┈┉┈┉┈┉┈│\u001b[0m\u001b[38;5;159m\u001b[0m\n",
      "\u001b[38;5;159m[Genesis] [00:51:22] [INFO] \u001b[38;5;121m╰───────────────────────────────────────────────╯\u001b[0m\u001b[38;5;159m\u001b[0m\n",
      "\u001b[38;5;159m[Genesis] [00:51:24] [INFO] Running on \u001b[38;5;121m\u001b[4m[13th Gen Intel(R) Core(TM) i7-13800H]\u001b[0m\u001b[38;5;159m with backend \u001b[38;5;121m\u001b[4mgs.cpu\u001b[0m\u001b[38;5;159m. Device memory: \u001b[38;5;121m\u001b[4m31.59\u001b[0m\u001b[38;5;159m GB.\u001b[0m\n",
      "\u001b[38;5;159m[Genesis] [00:51:24] [INFO] 🚀 Genesis initialized. 🔖 version: \u001b[38;5;121m\u001b[4m0.2.1\u001b[0m\u001b[38;5;159m, 🌱 seed: \u001b[38;5;121m\u001b[4mNone\u001b[0m\u001b[38;5;159m, 📏 precision: '\u001b[38;5;121m\u001b[4m32\u001b[0m\u001b[38;5;159m', 🐛 debug: \u001b[38;5;121m\u001b[4mFalse\u001b[0m\u001b[38;5;159m, 🎨 theme: '\u001b[38;5;121m\u001b[4mdark\u001b[0m\u001b[38;5;159m'.\u001b[0m\n",
      "\u001b[38;5;159m[Genesis] [00:51:25] [INFO] Scene \u001b[38;5;121m\u001b[3m<bacec8d>\u001b[0m\u001b[38;5;159m created.\u001b[0m\n"
     ]
    }
   ],
   "source": [
    "gs.destroy()\n",
    "gs.init(backend=gs.cpu)\n",
    "gs.set_random_seed(seed=42)\n",
    "#config = {'viewr_option' : {'width': 640, 'height': 480}, 'box_box_detection': True}\n",
    "adapter = GenesisAdapter()\n",
    "scene = adapter.scene"
   ]
  },
  {
   "cell_type": "code",
   "execution_count": 3,
   "id": "50223d53",
   "metadata": {},
   "outputs": [
    {
     "name": "stdout",
     "output_type": "stream",
     "text": [
      "\u001b[38;5;159m[Genesis] [00:51:25] [INFO] Adding \u001b[38;5;121m<gs.RigidEntity>\u001b[0m\u001b[38;5;159m. idx: \u001b[38;5;121m0\u001b[0m\u001b[38;5;159m, uid: \u001b[38;5;121m\u001b[3m<ebafdc9>\u001b[0m\u001b[38;5;159m, morph: \u001b[38;5;121m<gs.morphs.Plane>\u001b[0m\u001b[38;5;159m, material: \u001b[38;5;121m<gs.materials.Rigid>\u001b[0m\u001b[38;5;159m.\u001b[0m\n",
      "\u001b[38;5;159m[Genesis] [00:51:25] [INFO] Adding \u001b[38;5;121m<gs.RigidEntity>\u001b[0m\u001b[38;5;159m. idx: \u001b[38;5;121m1\u001b[0m\u001b[38;5;159m, uid: \u001b[38;5;121m\u001b[3m<30caf0e>\u001b[0m\u001b[38;5;159m, morph: \u001b[38;5;121m<gs.morphs.MJCF(file='d:\\GitHubRepository\\pandaSim\\model\\panda_vir.xml')>\u001b[0m\u001b[38;5;159m, material: \u001b[38;5;121m<gs.materials.Rigid>\u001b[0m\u001b[38;5;159m.\u001b[0m\n",
      "\u001b[38;5;226m[Genesis] [00:51:26] [WARNING] (MJCF) Tendon not supported\u001b[0m\n",
      "\u001b[38;5;226m[Genesis] [00:51:27] [WARNING] (MJCF) Approximating tendon by joint actuator for `finger_joint1`\u001b[0m\n",
      "\u001b[38;5;226m[Genesis] [00:51:27] [WARNING] (MJCF) Actuator control gain and bias parameters cannot be reduced to a unique PD control position gain. Using max between gain and bias.\u001b[0m\n",
      "\u001b[38;5;226m[Genesis] [00:51:27] [WARNING] (MJCF) Approximating tendon by joint actuator for `finger_joint2`\u001b[0m\n",
      "\u001b[38;5;226m[Genesis] [00:51:27] [WARNING] (MJCF) Actuator control gain and bias parameters cannot be reduced to a unique PD control position gain. Using max between gain and bias.\u001b[0m\n",
      "\u001b[38;5;159m[Genesis] [00:51:27] [INFO] Adding \u001b[38;5;121m<gs.RigidEntity>\u001b[0m\u001b[38;5;159m. idx: \u001b[38;5;121m2\u001b[0m\u001b[38;5;159m, uid: \u001b[38;5;121m\u001b[3m<91e6df6>\u001b[0m\u001b[38;5;159m, morph: \u001b[38;5;121m<gs.morphs.Box>\u001b[0m\u001b[38;5;159m, material: \u001b[38;5;121m<gs.materials.Rigid>\u001b[0m\u001b[38;5;159m.\u001b[0m\n",
      "\u001b[38;5;159m[Genesis] [00:51:27] [INFO] Adding \u001b[38;5;121m<gs.RigidEntity>\u001b[0m\u001b[38;5;159m. idx: \u001b[38;5;121m3\u001b[0m\u001b[38;5;159m, uid: \u001b[38;5;121m\u001b[3m<073afc9>\u001b[0m\u001b[38;5;159m, morph: \u001b[38;5;121m<gs.morphs.Box>\u001b[0m\u001b[38;5;159m, material: \u001b[38;5;121m<gs.materials.Rigid>\u001b[0m\u001b[38;5;159m.\u001b[0m\n",
      "\u001b[38;5;159m[Genesis] [00:51:27] [INFO] Adding \u001b[38;5;121m<gs.RigidEntity>\u001b[0m\u001b[38;5;159m. idx: \u001b[38;5;121m4\u001b[0m\u001b[38;5;159m, uid: \u001b[38;5;121m\u001b[3m<6f86545>\u001b[0m\u001b[38;5;159m, morph: \u001b[38;5;121m<gs.morphs.Box>\u001b[0m\u001b[38;5;159m, material: \u001b[38;5;121m<gs.materials.Rigid>\u001b[0m\u001b[38;5;159m.\u001b[0m\n",
      "\u001b[38;5;159m[Genesis] [00:51:27] [INFO] Adding \u001b[38;5;121m<gs.RigidEntity>\u001b[0m\u001b[38;5;159m. idx: \u001b[38;5;121m5\u001b[0m\u001b[38;5;159m, uid: \u001b[38;5;121m\u001b[3m<96f27c4>\u001b[0m\u001b[38;5;159m, morph: \u001b[38;5;121m<gs.morphs.Box>\u001b[0m\u001b[38;5;159m, material: \u001b[38;5;121m<gs.materials.Rigid>\u001b[0m\u001b[38;5;159m.\u001b[0m\n",
      "\u001b[38;5;159m[Genesis] [00:51:27] [INFO] Adding \u001b[38;5;121m<gs.RigidEntity>\u001b[0m\u001b[38;5;159m. idx: \u001b[38;5;121m6\u001b[0m\u001b[38;5;159m, uid: \u001b[38;5;121m\u001b[3m<82f1ccf>\u001b[0m\u001b[38;5;159m, morph: \u001b[38;5;121m<gs.morphs.URDF(file='d:\\envs\\Panda\\lib\\site-packages\\genesis\\assets\\urdf/3763/mobility_vhacd.urdf')>\u001b[0m\u001b[38;5;159m, material: \u001b[38;5;121m<gs.materials.Rigid>\u001b[0m\u001b[38;5;159m.\u001b[0m\n",
      "\u001b[38;5;159m[Genesis] [00:51:27] [INFO] Adding \u001b[38;5;121m<gs.RigidEntity>\u001b[0m\u001b[38;5;159m. idx: \u001b[38;5;121m7\u001b[0m\u001b[38;5;159m, uid: \u001b[38;5;121m\u001b[3m<13918a6>\u001b[0m\u001b[38;5;159m, morph: \u001b[38;5;121m<gs.morphs.Box>\u001b[0m\u001b[38;5;159m, material: \u001b[38;5;121m<gs.materials.Rigid>\u001b[0m\u001b[38;5;159m.\u001b[0m\n",
      "\u001b[38;5;159m[Genesis] [00:51:27] [INFO] Adding \u001b[38;5;121m<gs.RigidEntity>\u001b[0m\u001b[38;5;159m. idx: \u001b[38;5;121m8\u001b[0m\u001b[38;5;159m, uid: \u001b[38;5;121m\u001b[3m<0aa7015>\u001b[0m\u001b[38;5;159m, morph: \u001b[38;5;121m<gs.morphs.Cylinder>\u001b[0m\u001b[38;5;159m, material: \u001b[38;5;121m<gs.materials.Rigid>\u001b[0m\u001b[38;5;159m.\u001b[0m\n"
     ]
    }
   ],
   "source": [
    "plane = scene.add_entity(\n",
    "    gs.morphs.Plane(),\n",
    ")\n",
    "franka = scene.add_entity(\n",
    "    gs.morphs.MJCF(file='../model/panda_vir.xml'),\n",
    ")\n",
    "                          \n",
    "# table = scene.add_entity(\n",
    "#     gs.morphs.MJCF(file='../model/common_arena/tables.xml'),\n",
    "# )\n",
    "\n",
    "table1 = scene.add_entity(\n",
    "    gs.morphs.Box(\n",
    "        size = (0.7, 1.7, 0.02),\n",
    "        pos = (0.5, 0, 0.18),\n",
    "        fixed = True,\n",
    "    ),\n",
    "    surface=gs.surfaces.Default(\n",
    "        color = (0.5, 0.5, 0.5),\n",
    "    ),\n",
    "    material=gs.materials.Rigid(\n",
    "        gravity_compensation=1.0 ,\n",
    "        friction=5.0\n",
    "    )\n",
    ")\n",
    "        \n",
    "table2 = scene.add_entity(\n",
    "    gs.morphs.Box(\n",
    "        size = (0.7, 1.7, 0.02),\n",
    "        pos = (-0.5, 0, 0.18),\n",
    "        fixed = True,\n",
    "    ),\n",
    "    surface=gs.surfaces.Default(\n",
    "        color = (0.5, 0.5, 0.5),\n",
    "    ),\n",
    "    material=gs.materials.Rigid(\n",
    "        gravity_compensation=1.0,\n",
    "        friction=5.0\n",
    "    )\n",
    ")\n",
    "\n",
    "table3 = scene.add_entity(\n",
    "    gs.morphs.Box(\n",
    "        size = (0.3, 0.7, 0.02),\n",
    "        pos = (0, -0.5, 0.18),\n",
    "        fixed = True,\n",
    "    ),\n",
    "    surface=gs.surfaces.Default(\n",
    "        color = (0.5, 0.5, 0.5),\n",
    "    ),\n",
    "    material=gs.materials.Rigid(\n",
    "        gravity_compensation=1.0,\n",
    "        friction=5.0\n",
    "    )\n",
    ")\n",
    "\n",
    "table4 = scene.add_entity(\n",
    "    gs.morphs.Box(\n",
    "        size = (0.3, 0.7, 0.02),\n",
    "        pos = (0, 0.5, 0.18),\n",
    "        fixed = True,\n",
    "    ),\n",
    "    surface=gs.surfaces.Default(\n",
    "        color = (0.5, 0.5, 0.5),\n",
    "    ),\n",
    "    material=gs.materials.Rigid(\n",
    "        gravity_compensation=1.0,\n",
    "        friction=5.0\n",
    "    )\n",
    ")\n",
    "\n",
    "bottle = scene.add_entity(\n",
    "    material=gs.materials.Rigid(rho=300),\n",
    "    morph=gs.morphs.URDF(\n",
    "        file=\"urdf/3763/mobility_vhacd.urdf\",\n",
    "        scale=0.09,\n",
    "        pos=(0.65, 0.0, 0.036 + 0.19),\n",
    "        quat=(-np.pi/2, 0, np.pi/2, 0),\n",
    "    ),\n",
    "    # visualize_contact=True,\n",
    ")\n",
    "\n",
    "# bottle = scene.add_entity(\n",
    "#     morph = gs.morphs.URDF(\n",
    "#         file=\"../assets/urdf/bottle/bottle.urdf\",\n",
    "#         scale=0.1,\n",
    "#         pos=(0.65, 0.4, 0.036 + 0.19),\n",
    "#         quat=(-np.pi/2, 0, np.pi/2, 0),\n",
    "#     ),\n",
    "# )\n",
    "cube_size = (0.07, 0.1, 0.1)\n",
    "cube_pos = (0.4, 0.4, 0.05+0.19)\n",
    "\n",
    "cube = scene.add_entity(\n",
    "    gs.morphs.Box(\n",
    "        size = cube_size,\n",
    "        pos  = cube_pos,\n",
    "    ),\n",
    "    surface=gs.surfaces.Default(\n",
    "        color = (0.8, 0.1 , 0.1),   \n",
    "    )\n",
    ")\n",
    "cube.surface.color = (0.8, 0.1 , 0.1)\n",
    "\n",
    "cylinder_pos = (0.7, -0.2, 0.03+0.19)\n",
    "cylinder_quat = (0, -np.sqrt(2)/2, 0, np.sqrt(2)/2)\n",
    "cylinder_radius = 0.03\n",
    "cylinder_height = 0.15\n",
    "\n",
    "cylinder = scene.add_entity(\n",
    "    gs.morphs.Cylinder(\n",
    "        radius = cylinder_radius,\n",
    "        height = cylinder_height,\n",
    "        pos    = cylinder_pos,\n",
    "        quat   = cylinder_quat,\n",
    "    ),\n",
    "    surface=gs.surfaces.Default(\n",
    "        color = (0.1, 0.8 , 0.1),   \n",
    "    )\n",
    ")\n",
    "cylinder.surface.color = (0.2, 0.8, 0.2)\n",
    "\n",
    "cam = scene.add_camera(\n",
    "    res    = (640, 480),\n",
    "    pos    = (3.5, 0.0, 2.5),\n",
    "    lookat = (0, 0, 0.5),\n",
    "    fov    = 30,\n",
    "    GUI    = False,\n",
    ")"
   ]
  },
  {
   "cell_type": "code",
   "execution_count": 4,
   "id": "1e999bef",
   "metadata": {},
   "outputs": [
    {
     "name": "stdout",
     "output_type": "stream",
     "text": [
      "\u001b[38;5;159m[Genesis] [00:51:27] [INFO] Building scene \u001b[38;5;121m\u001b[3m<bacec8d>\u001b[0m\u001b[38;5;159m...\u001b[0m\n",
      "\u001b[38;5;226m[Genesis] [00:51:29] [WARNING] Reference robot position exceeds joint limits.\u001b[0m\n",
      "\u001b[38;5;159m[Genesis] [00:51:41] [INFO] Compiling simulation kernels...\u001b[0m\n",
      "\u001b[38;5;159m[Genesis] [00:58:47] [INFO] Building visualizer...\u001b[0m\n",
      "\u001b[38;5;159m[Genesis] [00:58:52] [INFO] Viewer created. Resolution: \u001b[38;5;121m1280×960\u001b[0m\u001b[38;5;159m, max_FPS: \u001b[38;5;121m60\u001b[0m\u001b[38;5;159m.\u001b[0m\n"
     ]
    }
   ],
   "source": [
    "n_envs = 9\n",
    "scene.build(n_envs=n_envs, env_spacing=(2, 2), center_envs_at_origin=True )"
   ]
  },
  {
   "cell_type": "code",
   "execution_count": 24,
   "id": "14cc26cb",
   "metadata": {},
   "outputs": [],
   "source": [
    "import random\n",
    "\n",
    "def random_dual_range(range1,range2, size):\n",
    "    a, b = range1\n",
    "    c, d = range2\n",
    "    if random.random() < 0.5:\n",
    "        return np.random.uniform(a, b, size=size)\n",
    "    else:\n",
    "        return np.random.uniform(c, d, size=size)\n",
    "    \n",
    "def multiply_quaternion(q1, q2):\n",
    "    w1, x1, y1, z1 = q1[:, 0], q1[:, 1], q1[:, 2], q1[:, 3]\n",
    "    w2, x2, y2, z2 = q2[:, 0], q2[:, 1], q2[:, 2], q2[:, 3]\n",
    "    w = w1*w2 - x1*x2 - y1*y2 - z1*z2\n",
    "    x = w1*x2 + x1*w2 + y1*z2 - z1*y2\n",
    "    y = w1*y2 - x1*z2 + y1*w2 + z1*x2\n",
    "    z = w1*z2 + x1*y2 - y1*x2 + z1*w2\n",
    "\n",
    "    result = np.stack([w, x, y, z], axis=1)  # (N, 4)\n",
    "    return result   "
   ]
  },
  {
   "cell_type": "code",
   "execution_count": 11,
   "id": "adcbc64d",
   "metadata": {},
   "outputs": [
    {
     "name": "stdout",
     "output_type": "stream",
     "text": [
      "\u001b[38;5;159m[Genesis] [01:12:46] [INFO] Resetting Scene \u001b[38;5;121m\u001b[3m<bacec8d>\u001b[0m\u001b[38;5;159m.\u001b[0m\n"
     ]
    }
   ],
   "source": [
    "scene.reset()"
   ]
  },
  {
   "cell_type": "code",
   "execution_count": null,
   "id": "3e2c77da",
   "metadata": {},
   "outputs": [],
   "source": [
    "# Cube randomization\n",
    "cube_pq = adapter.get_pose(cube)\n",
    "cube_pq[:, 0] = np.random.uniform(0.2, 0.5, size=(n_envs,))\n",
    "cube_pq[:, 1] = np.random.uniform(0.3, 0.55, size=(n_envs,))\n",
    "cube_theta = np.random.uniform(-np.pi/6, np.pi/6, size=(n_envs,))\n",
    "cube_pq[:,3] = np.cos(cube_theta)\n",
    "cube_pq[:,4] = cube_pq[:,5] = np.zeros(n_envs)\n",
    "cube_pq[:, 6] =  np.sin(cube_theta)\n"
   ]
  },
  {
   "cell_type": "code",
   "execution_count": 26,
   "id": "0998ce00",
   "metadata": {},
   "outputs": [
    {
     "name": "stderr",
     "output_type": "stream",
     "text": [
      "C:\\Users\\boroj\\AppData\\Local\\Temp\\ipykernel_30028\\3331908067.py:9: DeprecationWarning: __array__ implementation doesn't accept a copy keyword, so passing copy=False failed. __array__ must implement 'dtype' and 'copy' keyword arguments.\n",
      "  cylinder_pq[:,3:] = multiply_quaternion(np.array(cylinder.get_quat()), cylinder_pq[:,3:])\n"
     ]
    }
   ],
   "source": [
    "# cylinder randomization\n",
    "cylinder_pq = adapter.get_pose(cylinder)\n",
    "cylinder_pq[:, 0] = random_dual_range([0.2, 0.45], [-0.2, -0.45], size=(n_envs,))\n",
    "cylinder_pq[:, 1] = np.random.uniform(-0.3, -0.55, size=(n_envs,))\n",
    "cyl_theta = np.random.uniform(-np.pi/6, np.pi/6, size=(n_envs,))\n",
    "cylinder_pq[:,3] = np.cos(cyl_theta)\n",
    "cylinder_pq[:,4] =  np.sin(cyl_theta)\n",
    "cylinder_pq[:,5] = cylinder_pq[:,6] = np.zeros(n_envs)\n",
    "cylinder_pq[:,3:] = multiply_quaternion(np.array(cylinder.get_quat()), cylinder_pq[:,3:])\n"
   ]
  },
  {
   "cell_type": "code",
   "execution_count": 30,
   "id": "b8c06956",
   "metadata": {},
   "outputs": [
    {
     "name": "stderr",
     "output_type": "stream",
     "text": [
      "C:\\Users\\boroj\\AppData\\Local\\Temp\\ipykernel_30028\\3039492635.py:9: DeprecationWarning: __array__ implementation doesn't accept a copy keyword, so passing copy=False failed. __array__ must implement 'dtype' and 'copy' keyword arguments.\n",
      "  bottle_pq[:,3:] = multiply_quaternion(np.array(bottle.get_quat()), bottle_pq[:,3:])\n"
     ]
    }
   ],
   "source": [
    "# bottle randomization\n",
    "bottle_pq = adapter.get_pose(bottle)\n",
    "bottle_pq[:, 0] = np.random.uniform(-0.2, -0.5, size=(n_envs,))\n",
    "bottle_pq[:, 1] = np.random.uniform(0.3, 0.55, size=(n_envs,))\n",
    "bot_theta = np.random.uniform(-np.pi/6, np.pi/6, size=(n_envs,))\n",
    "bottle_pq[:,3] = np.cos(bot_theta)\n",
    "bottle_pq[:,4] =  np.sin(bot_theta)\n",
    "bottle_pq[:,5] = bottle_pq[:,6] = np.zeros(n_envs)\n",
    "bottle_pq[:,3:] = multiply_quaternion(np.array(bottle.get_quat()), bottle_pq[:,3:])"
   ]
  },
  {
   "cell_type": "code",
   "execution_count": 31,
   "id": "b623839c",
   "metadata": {},
   "outputs": [
    {
     "name": "stdout",
     "output_type": "stream",
     "text": [
      "[[ 0.23236743  0.35719955  0.24        0.94661665  0.          0.\n",
      "  -0.32236147]\n",
      " [ 0.20942876  0.31924498  0.24        0.9166871   0.          0.\n",
      "   0.39960584]\n",
      " [ 0.3909231   0.37243786  0.24        0.9991514   0.          0.\n",
      "   0.04118745]\n",
      " [ 0.29430678  0.34030533  0.24        0.94862     0.          0.\n",
      "   0.31641752]\n",
      " [ 0.35257122  0.5324244   0.24        0.9152026   0.          0.\n",
      "   0.40299395]\n",
      " [ 0.47226995  0.5020301   0.24        0.98189336  0.          0.\n",
      "  -0.18943463]\n",
      " [ 0.27478766  0.45835093  0.24        0.9177762   0.          0.\n",
      "  -0.39709798]\n",
      " [ 0.32311487  0.5178651   0.24        0.9596882   0.          0.\n",
      "  -0.2810669 ]\n",
      " [ 0.42666534  0.50091803  0.24        0.9970881   0.          0.\n",
      "  -0.07625844]]\n",
      "[[ 0.3223632  -0.45838243  0.22       -0.3428632  -0.6184212  -0.3428632\n",
      "   0.6184212 ]\n",
      " [ 0.44641262 -0.43394366  0.22        0.00895443 -0.7070501   0.00895443\n",
      "   0.7070501 ]\n",
      " [ 0.2605138  -0.32257244  0.22       -0.19976695 -0.6783017  -0.19976695\n",
      "   0.6783017 ]\n",
      " [ 0.3680339  -0.5088256   0.22        0.10708402 -0.69895136  0.10708402\n",
      "   0.69895136]\n",
      " [ 0.3904049  -0.38019502  0.22       -0.23647928 -0.66639143 -0.23647928\n",
      "   0.66639143]\n",
      " [ 0.2594094  -0.34662962  0.22        0.14044546 -0.6930188   0.14044546\n",
      "   0.6930188 ]\n",
      " [ 0.3820541  -0.31019378  0.22       -0.08367375 -0.70213866 -0.08367375\n",
      "   0.70213866]\n",
      " [ 0.2919458  -0.44772324  0.22        0.31223384 -0.6344367   0.31223384\n",
      "   0.6344367 ]\n",
      " [ 0.35807645 -0.46939108  0.22       -0.26200926 -0.65677327 -0.26200926\n",
      "   0.65677327]]\n",
      "[[-0.46612594  0.46587545  0.22489636 -0.69531995  0.12858523  0.6953143\n",
      "   0.12858413]\n",
      " [-0.43396267  0.3012654   0.22489636 -0.6836874  -0.18048719  0.6836817\n",
      "  -0.18048576]\n",
      " [-0.3926095   0.340202    0.22489636 -0.6984489  -0.110332    0.6984432\n",
      "  -0.11033114]\n",
      " [-0.22524199  0.43718344  0.22489636 -0.6603553  -0.25285354  0.6603499\n",
      "  -0.2528515 ]\n",
      " [-0.24848862  0.4729738   0.22489636 -0.6975025  -0.11616475  0.69749683\n",
      "  -0.11616385]\n",
      " [-0.46956626  0.4629903   0.22489636 -0.7053024  -0.05052228  0.7052967\n",
      "  -0.05052191]\n",
      " [-0.3819287   0.35606733  0.22489636 -0.644051    0.29189447  0.6440457\n",
      "   0.29189205]\n",
      " [-0.20275912  0.4780448   0.22489636 -0.7003336   0.09765714  0.7003279\n",
      "   0.0976563 ]\n",
      " [-0.23044147  0.35931227  0.22489636 -0.68583846  0.17213272  0.68583286\n",
      "   0.17213127]]\n"
     ]
    }
   ],
   "source": [
    "adapter.set_pose(obj=cube, pose=cube_pq)\n",
    "adapter.set_pose(obj=cylinder, pose=cylinder_pq)\n",
    "adapter.set_pose(obj=bottle, pose=bottle_pq)\n",
    "scene.step()"
   ]
  }
 ],
 "metadata": {
  "kernelspec": {
   "display_name": "Panda",
   "language": "python",
   "name": "python3"
  },
  "language_info": {
   "codemirror_mode": {
    "name": "ipython",
    "version": 3
   },
   "file_extension": ".py",
   "mimetype": "text/x-python",
   "name": "python",
   "nbconvert_exporter": "python",
   "pygments_lexer": "ipython3",
   "version": "3.10.17"
  }
 },
 "nbformat": 4,
 "nbformat_minor": 5
}
