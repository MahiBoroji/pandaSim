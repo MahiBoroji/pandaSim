{
 "cells": [
  {
   "cell_type": "code",
   "execution_count": 1,
   "id": "bd578c0f",
   "metadata": {},
   "outputs": [],
   "source": [
    "import genesis as gs\n",
    "import numpy as np\n",
    "import torch\n",
    "from pytransform3d import (\n",
    "    transformations as pt,\n",
    "    rotations as pr,\n",
    "    batch_rotations as pb,\n",
    "    trajectories as ptr,\n",
    "    plot_utils as ppu\n",
    ")\n",
    "\n",
    "from pandaSim.geometry.genesis_adapter import GenesisAdapter\n",
    "from pandaSim.planning.screw_motion_planner import ScrewMotionPlanner"
   ]
  },
  {
   "cell_type": "code",
   "execution_count": 2,
   "id": "4e9e01bb",
   "metadata": {},
   "outputs": [
    {
     "name": "stdout",
     "output_type": "stream",
     "text": [
      "\u001b[38;5;159m[Genesis] [12:41:49] [INFO] \u001b[38;5;121m╭───────────────────────────────────────────────╮\u001b[0m\u001b[38;5;159m\u001b[0m\n",
      "\u001b[38;5;159m[Genesis] [12:41:49] [INFO] \u001b[38;5;121m│┈┉┈┉┈┉┈┉┈┉┈┉┈┉┈┉┈┉┈\u001b[0m\u001b[38;5;159m \u001b[38;5;121m\u001b[1m\u001b[3mGenesis\u001b[0m\u001b[38;5;159m \u001b[38;5;121m┈┉┈┉┈┉┈┉┈┉┈┉┈┉┈┉┈┉┈│\u001b[0m\u001b[38;5;159m\u001b[0m\n",
      "\u001b[38;5;159m[Genesis] [12:41:49] [INFO] \u001b[38;5;121m╰───────────────────────────────────────────────╯\u001b[0m\u001b[38;5;159m\u001b[0m\n",
      "\u001b[38;5;159m[Genesis] [12:41:50] [INFO] Running on \u001b[38;5;121m\u001b[4m[13th Gen Intel(R) Core(TM) i7-13800H]\u001b[0m\u001b[38;5;159m with backend \u001b[38;5;121m\u001b[4mgs.cpu\u001b[0m\u001b[38;5;159m. Device memory: \u001b[38;5;121m\u001b[4m31.59\u001b[0m\u001b[38;5;159m GB.\u001b[0m\n",
      "\u001b[38;5;159m[Genesis] [12:41:50] [INFO] 🚀 Genesis initialized. 🔖 version: \u001b[38;5;121m\u001b[4m0.2.1\u001b[0m\u001b[38;5;159m, 🌱 seed: \u001b[38;5;121m\u001b[4mNone\u001b[0m\u001b[38;5;159m, 📏 precision: '\u001b[38;5;121m\u001b[4m32\u001b[0m\u001b[38;5;159m', 🐛 debug: \u001b[38;5;121m\u001b[4mFalse\u001b[0m\u001b[38;5;159m, 🎨 theme: '\u001b[38;5;121m\u001b[4mdark\u001b[0m\u001b[38;5;159m'.\u001b[0m\n",
      "\u001b[38;5;159m[Genesis] [12:41:51] [INFO] Scene \u001b[38;5;121m\u001b[3m<e1a7944>\u001b[0m\u001b[38;5;159m created.\u001b[0m\n"
     ]
    }
   ],
   "source": [
    "gs.destroy()\n",
    "gs.init(backend=gs.cpu)\n",
    "gs.set_random_seed(seed=42)\n",
    "#config = {'viewr_option' : {'width': 640, 'height': 480}, 'box_box_detection': True}\n",
    "adapter = GenesisAdapter()\n",
    "scene = adapter.scene"
   ]
  },
  {
   "cell_type": "code",
   "execution_count": 3,
   "id": "50223d53",
   "metadata": {},
   "outputs": [
    {
     "name": "stdout",
     "output_type": "stream",
     "text": [
      "\u001b[38;5;159m[Genesis] [12:41:56] [INFO] Adding \u001b[38;5;121m<gs.RigidEntity>\u001b[0m\u001b[38;5;159m. idx: \u001b[38;5;121m0\u001b[0m\u001b[38;5;159m, uid: \u001b[38;5;121m\u001b[3m<1ad26f1>\u001b[0m\u001b[38;5;159m, morph: \u001b[38;5;121m<gs.morphs.Plane>\u001b[0m\u001b[38;5;159m, material: \u001b[38;5;121m<gs.materials.Rigid>\u001b[0m\u001b[38;5;159m.\u001b[0m\n",
      "\u001b[38;5;159m[Genesis] [12:41:56] [INFO] Adding \u001b[38;5;121m<gs.RigidEntity>\u001b[0m\u001b[38;5;159m. idx: \u001b[38;5;121m1\u001b[0m\u001b[38;5;159m, uid: \u001b[38;5;121m\u001b[3m<b015e1e>\u001b[0m\u001b[38;5;159m, morph: \u001b[38;5;121m<gs.morphs.MJCF(file='d:\\GitHubRepository\\pandaSim\\model\\panda_vir.xml')>\u001b[0m\u001b[38;5;159m, material: \u001b[38;5;121m<gs.materials.Rigid>\u001b[0m\u001b[38;5;159m.\u001b[0m\n",
      "\u001b[38;5;226m[Genesis] [12:41:58] [WARNING] (MJCF) Tendon not supported\u001b[0m\n",
      "\u001b[38;5;226m[Genesis] [12:41:58] [WARNING] (MJCF) Approximating tendon by joint actuator for `finger_joint1`\u001b[0m\n",
      "\u001b[38;5;226m[Genesis] [12:41:58] [WARNING] (MJCF) Actuator control gain and bias parameters cannot be reduced to a unique PD control position gain. Using max between gain and bias.\u001b[0m\n",
      "\u001b[38;5;226m[Genesis] [12:41:58] [WARNING] (MJCF) Approximating tendon by joint actuator for `finger_joint2`\u001b[0m\n",
      "\u001b[38;5;226m[Genesis] [12:41:58] [WARNING] (MJCF) Actuator control gain and bias parameters cannot be reduced to a unique PD control position gain. Using max between gain and bias.\u001b[0m\n",
      "\u001b[38;5;159m[Genesis] [12:41:59] [INFO] Adding \u001b[38;5;121m<gs.RigidEntity>\u001b[0m\u001b[38;5;159m. idx: \u001b[38;5;121m2\u001b[0m\u001b[38;5;159m, uid: \u001b[38;5;121m\u001b[3m<9927a57>\u001b[0m\u001b[38;5;159m, morph: \u001b[38;5;121m<gs.morphs.Box>\u001b[0m\u001b[38;5;159m, material: \u001b[38;5;121m<gs.materials.Rigid>\u001b[0m\u001b[38;5;159m.\u001b[0m\n",
      "\u001b[38;5;159m[Genesis] [12:41:59] [INFO] Adding \u001b[38;5;121m<gs.RigidEntity>\u001b[0m\u001b[38;5;159m. idx: \u001b[38;5;121m3\u001b[0m\u001b[38;5;159m, uid: \u001b[38;5;121m\u001b[3m<25b5a7c>\u001b[0m\u001b[38;5;159m, morph: \u001b[38;5;121m<gs.morphs.Box>\u001b[0m\u001b[38;5;159m, material: \u001b[38;5;121m<gs.materials.Rigid>\u001b[0m\u001b[38;5;159m.\u001b[0m\n",
      "\u001b[38;5;159m[Genesis] [12:41:59] [INFO] Adding \u001b[38;5;121m<gs.RigidEntity>\u001b[0m\u001b[38;5;159m. idx: \u001b[38;5;121m4\u001b[0m\u001b[38;5;159m, uid: \u001b[38;5;121m\u001b[3m<a3a27b8>\u001b[0m\u001b[38;5;159m, morph: \u001b[38;5;121m<gs.morphs.Box>\u001b[0m\u001b[38;5;159m, material: \u001b[38;5;121m<gs.materials.Rigid>\u001b[0m\u001b[38;5;159m.\u001b[0m\n",
      "\u001b[38;5;159m[Genesis] [12:41:59] [INFO] Adding \u001b[38;5;121m<gs.RigidEntity>\u001b[0m\u001b[38;5;159m. idx: \u001b[38;5;121m5\u001b[0m\u001b[38;5;159m, uid: \u001b[38;5;121m\u001b[3m<d7ca9ec>\u001b[0m\u001b[38;5;159m, morph: \u001b[38;5;121m<gs.morphs.Box>\u001b[0m\u001b[38;5;159m, material: \u001b[38;5;121m<gs.materials.Rigid>\u001b[0m\u001b[38;5;159m.\u001b[0m\n",
      "\u001b[38;5;159m[Genesis] [12:41:59] [INFO] Adding \u001b[38;5;121m<gs.RigidEntity>\u001b[0m\u001b[38;5;159m. idx: \u001b[38;5;121m6\u001b[0m\u001b[38;5;159m, uid: \u001b[38;5;121m\u001b[3m<6bebe0c>\u001b[0m\u001b[38;5;159m, morph: \u001b[38;5;121m<gs.morphs.URDF(file='d:\\envs\\Panda\\lib\\site-packages\\genesis\\assets\\urdf/3763/mobility_vhacd.urdf')>\u001b[0m\u001b[38;5;159m, material: \u001b[38;5;121m<gs.materials.Rigid>\u001b[0m\u001b[38;5;159m.\u001b[0m\n",
      "\u001b[38;5;159m[Genesis] [12:41:59] [INFO] Adding \u001b[38;5;121m<gs.RigidEntity>\u001b[0m\u001b[38;5;159m. idx: \u001b[38;5;121m7\u001b[0m\u001b[38;5;159m, uid: \u001b[38;5;121m\u001b[3m<fda88da>\u001b[0m\u001b[38;5;159m, morph: \u001b[38;5;121m<gs.morphs.Box>\u001b[0m\u001b[38;5;159m, material: \u001b[38;5;121m<gs.materials.Rigid>\u001b[0m\u001b[38;5;159m.\u001b[0m\n",
      "\u001b[38;5;159m[Genesis] [12:41:59] [INFO] Adding \u001b[38;5;121m<gs.RigidEntity>\u001b[0m\u001b[38;5;159m. idx: \u001b[38;5;121m8\u001b[0m\u001b[38;5;159m, uid: \u001b[38;5;121m\u001b[3m<1407852>\u001b[0m\u001b[38;5;159m, morph: \u001b[38;5;121m<gs.morphs.Cylinder>\u001b[0m\u001b[38;5;159m, material: \u001b[38;5;121m<gs.materials.Rigid>\u001b[0m\u001b[38;5;159m.\u001b[0m\n"
     ]
    }
   ],
   "source": [
    "plane = scene.add_entity(\n",
    "    gs.morphs.Plane(),\n",
    ")\n",
    "franka = scene.add_entity(\n",
    "    gs.morphs.MJCF(file='../model/panda_vir.xml'),\n",
    ")\n",
    "                          \n",
    "# table = scene.add_entity(\n",
    "#     gs.morphs.MJCF(file='../model/common_arena/tables.xml'),\n",
    "# )\n",
    "\n",
    "table1 = scene.add_entity(\n",
    "    gs.morphs.Box(\n",
    "        size = (0.7, 1.7, 0.02),\n",
    "        pos = (0.5, 0, 0.18),\n",
    "        fixed = True,\n",
    "    ),\n",
    "    surface=gs.surfaces.Default(\n",
    "        color = (0.5, 0.5, 0.5),\n",
    "    ),\n",
    "    material=gs.materials.Rigid(\n",
    "        gravity_compensation=1.0 ,\n",
    "        friction=5.0\n",
    "    )\n",
    ")\n",
    "        \n",
    "table2 = scene.add_entity(\n",
    "    gs.morphs.Box(\n",
    "        size = (0.7, 1.7, 0.02),\n",
    "        pos = (-0.5, 0, 0.18),\n",
    "        fixed = True,\n",
    "    ),\n",
    "    surface=gs.surfaces.Default(\n",
    "        color = (0.5, 0.5, 0.5),\n",
    "    ),\n",
    "    material=gs.materials.Rigid(\n",
    "        gravity_compensation=1.0,\n",
    "        friction=5.0\n",
    "    )\n",
    ")\n",
    "\n",
    "table3 = scene.add_entity(\n",
    "    gs.morphs.Box(\n",
    "        size = (0.3, 0.7, 0.02),\n",
    "        pos = (0, -0.5, 0.18),\n",
    "        fixed = True,\n",
    "    ),\n",
    "    surface=gs.surfaces.Default(\n",
    "        color = (0.5, 0.5, 0.5),\n",
    "    ),\n",
    "    material=gs.materials.Rigid(\n",
    "        gravity_compensation=1.0,\n",
    "        friction=5.0\n",
    "    )\n",
    ")\n",
    "\n",
    "table4 = scene.add_entity(\n",
    "    gs.morphs.Box(\n",
    "        size = (0.3, 0.7, 0.02),\n",
    "        pos = (0, 0.5, 0.18),\n",
    "        fixed = True,\n",
    "    ),\n",
    "    surface=gs.surfaces.Default(\n",
    "        color = (0.5, 0.5, 0.5),\n",
    "    ),\n",
    "    material=gs.materials.Rigid(\n",
    "        gravity_compensation=1.0,\n",
    "        friction=5.0\n",
    "    )\n",
    ")\n",
    "\n",
    "bottle = scene.add_entity(\n",
    "    material=gs.materials.Rigid(rho=300),\n",
    "    morph=gs.morphs.URDF(\n",
    "        file=\"urdf/3763/mobility_vhacd.urdf\",\n",
    "        scale=0.09,\n",
    "        pos=(0.65, 0.0, 0.036 + 0.19),\n",
    "        quat=(-np.pi/2, 0, np.pi/2, 0),\n",
    "    ),\n",
    "    # visualize_contact=True,\n",
    ")\n",
    "\n",
    "# bottle = scene.add_entity(\n",
    "#     morph = gs.morphs.URDF(\n",
    "#         file=\"../assets/urdf/bottle/bottle.urdf\",\n",
    "#         scale=0.1,\n",
    "#         pos=(0.65, 0.4, 0.036 + 0.19),\n",
    "#         quat=(-np.pi/2, 0, np.pi/2, 0),\n",
    "#     ),\n",
    "# )\n",
    "cube_size = (0.07, 0.1, 0.1)\n",
    "cube_pos = (0.4, 0.4, 0.05+0.19)\n",
    "\n",
    "cube = scene.add_entity(\n",
    "    gs.morphs.Box(\n",
    "        size = cube_size,\n",
    "        pos  = cube_pos,\n",
    "    ),\n",
    "    surface=gs.surfaces.Default(\n",
    "        color = (0.8, 0.1 , 0.1),   \n",
    "    )\n",
    ")\n",
    "cube.surface.color = (0.8, 0.1 , 0.1)\n",
    "\n",
    "cylinder_pos = (0.7, -0.2, 0.03+0.19)\n",
    "cylinder_quat = (0, -np.sqrt(2)/2, 0, np.sqrt(2)/2)\n",
    "cylinder_radius = 0.03\n",
    "cylinder_height = 0.15\n",
    "\n",
    "cylinder = scene.add_entity(\n",
    "    gs.morphs.Cylinder(\n",
    "        radius = cylinder_radius,\n",
    "        height = cylinder_height,\n",
    "        pos    = cylinder_pos,\n",
    "        quat   = cylinder_quat,\n",
    "    ),\n",
    "    surface=gs.surfaces.Default(\n",
    "        color = (0.1, 0.8 , 0.1),   \n",
    "    )\n",
    ")\n",
    "cylinder.surface.color = (0.2, 0.8, 0.2)\n",
    "\n",
    "cam = scene.add_camera(\n",
    "    res    = (640, 480),\n",
    "    pos    = (3.5, 0.0, 2.5),\n",
    "    lookat = (0, 0, 0.5),\n",
    "    fov    = 30,\n",
    "    GUI    = False,\n",
    ")"
   ]
  },
  {
   "cell_type": "code",
   "execution_count": 4,
   "id": "1e999bef",
   "metadata": {},
   "outputs": [
    {
     "name": "stdout",
     "output_type": "stream",
     "text": [
      "\u001b[38;5;159m[Genesis] [12:41:59] [INFO] Building scene \u001b[38;5;121m\u001b[3m<e1a7944>\u001b[0m\u001b[38;5;159m...\u001b[0m\n",
      "\u001b[38;5;226m[Genesis] [12:42:01] [WARNING] Reference robot position exceeds joint limits.\u001b[0m\n",
      "\u001b[38;5;159m[Genesis] [12:42:12] [INFO] Compiling simulation kernels...\u001b[0m\n",
      "\u001b[38;5;159m[Genesis] [12:49:06] [INFO] Building visualizer...\u001b[0m\n",
      "\u001b[38;5;159m[Genesis] [12:49:11] [INFO] Viewer created. Resolution: \u001b[38;5;121m1280×960\u001b[0m\u001b[38;5;159m, max_FPS: \u001b[38;5;121m60\u001b[0m\u001b[38;5;159m.\u001b[0m\n"
     ]
    }
   ],
   "source": [
    "n_envs = 9\n",
    "scene.build(n_envs=n_envs, env_spacing=(2, 2), center_envs_at_origin=True )"
   ]
  },
  {
   "cell_type": "code",
   "execution_count": 5,
   "id": "14cc26cb",
   "metadata": {},
   "outputs": [],
   "source": [
    "import random\n",
    "\n",
    "def random_dual_range(range1,range2, size):\n",
    "    a, b = range1\n",
    "    c, d = range2\n",
    "    if random.random() < 0.5:\n",
    "        return np.random.uniform(a, b, size=size)\n",
    "    else:\n",
    "        return np.random.uniform(c, d, size=size)\n",
    "    \n",
    "def multiply_quaternion(q1, q2):\n",
    "    w1, x1, y1, z1 = q1[:, 0], q1[:, 1], q1[:, 2], q1[:, 3]\n",
    "    w2, x2, y2, z2 = q2[:, 0], q2[:, 1], q2[:, 2], q2[:, 3]\n",
    "    w = w1*w2 - x1*x2 - y1*y2 - z1*z2\n",
    "    x = w1*x2 + x1*w2 + y1*z2 - z1*y2\n",
    "    y = w1*y2 - x1*z2 + y1*w2 + z1*x2\n",
    "    z = w1*z2 + x1*y2 - y1*x2 + z1*w2\n",
    "\n",
    "    result = np.stack([w, x, y, z], axis=1)  # (N, 4)\n",
    "    return result   "
   ]
  },
  {
   "cell_type": "code",
   "execution_count": 6,
   "id": "adcbc64d",
   "metadata": {},
   "outputs": [
    {
     "name": "stdout",
     "output_type": "stream",
     "text": [
      "\u001b[38;5;159m[Genesis] [13:25:34] [INFO] Resetting Scene \u001b[38;5;121m\u001b[3m<e1a7944>\u001b[0m\u001b[38;5;159m.\u001b[0m\n"
     ]
    }
   ],
   "source": [
    "scene.reset()"
   ]
  },
  {
   "cell_type": "code",
   "execution_count": 7,
   "id": "3e2c77da",
   "metadata": {},
   "outputs": [],
   "source": [
    "# Cube randomization\n",
    "cube_pq = adapter.get_pose(cube)\n",
    "cube_pq[:, 0] = np.random.uniform(0.2, 0.5, size=(n_envs,))\n",
    "cube_pq[:, 1] = np.random.uniform(0.3, 0.55, size=(n_envs,))\n",
    "cube_theta = np.random.uniform(-np.pi/6, np.pi/6, size=(n_envs,))\n",
    "cube_pq[:,3] = np.cos(cube_theta)\n",
    "cube_pq[:,4] = cube_pq[:,5] = np.zeros(n_envs)\n",
    "cube_pq[:, 6] =  np.sin(cube_theta)\n"
   ]
  },
  {
   "cell_type": "code",
   "execution_count": 8,
   "id": "0998ce00",
   "metadata": {},
   "outputs": [
    {
     "name": "stderr",
     "output_type": "stream",
     "text": [
      "C:\\Users\\boroj\\AppData\\Local\\Temp\\ipykernel_8328\\3331908067.py:9: DeprecationWarning: __array__ implementation doesn't accept a copy keyword, so passing copy=False failed. __array__ must implement 'dtype' and 'copy' keyword arguments.\n",
      "  cylinder_pq[:,3:] = multiply_quaternion(np.array(cylinder.get_quat()), cylinder_pq[:,3:])\n"
     ]
    }
   ],
   "source": [
    "# cylinder randomization\n",
    "cylinder_pq = adapter.get_pose(cylinder)\n",
    "cylinder_pq[:, 0] = random_dual_range([0.2, 0.45], [-0.2, -0.45], size=(n_envs,))\n",
    "cylinder_pq[:, 1] = np.random.uniform(-0.3, -0.55, size=(n_envs,))\n",
    "cyl_theta = np.random.uniform(-np.pi/6, np.pi/6, size=(n_envs,))\n",
    "cylinder_pq[:,3] = np.cos(cyl_theta)\n",
    "cylinder_pq[:,4] =  np.sin(cyl_theta)\n",
    "cylinder_pq[:,5] = cylinder_pq[:,6] = np.zeros(n_envs)\n",
    "cylinder_pq[:,3:] = multiply_quaternion(np.array(cylinder.get_quat()), cylinder_pq[:,3:])\n"
   ]
  },
  {
   "cell_type": "code",
   "execution_count": 9,
   "id": "b8c06956",
   "metadata": {},
   "outputs": [
    {
     "name": "stderr",
     "output_type": "stream",
     "text": [
      "C:\\Users\\boroj\\AppData\\Local\\Temp\\ipykernel_8328\\3039492635.py:9: DeprecationWarning: __array__ implementation doesn't accept a copy keyword, so passing copy=False failed. __array__ must implement 'dtype' and 'copy' keyword arguments.\n",
      "  bottle_pq[:,3:] = multiply_quaternion(np.array(bottle.get_quat()), bottle_pq[:,3:])\n"
     ]
    }
   ],
   "source": [
    "# bottle randomization\n",
    "bottle_pq = adapter.get_pose(bottle)\n",
    "bottle_pq[:, 0] = np.random.uniform(-0.2, -0.5, size=(n_envs,))\n",
    "bottle_pq[:, 1] = np.random.uniform(0.3, 0.55, size=(n_envs,))\n",
    "bot_theta = np.random.uniform(-np.pi/6, np.pi/6, size=(n_envs,))\n",
    "bottle_pq[:,3] = np.cos(bot_theta)\n",
    "bottle_pq[:,4] =  np.sin(bot_theta)\n",
    "bottle_pq[:,5] = bottle_pq[:,6] = np.zeros(n_envs)\n",
    "bottle_pq[:,3:] = multiply_quaternion(np.array(bottle.get_quat()), bottle_pq[:,3:])"
   ]
  },
  {
   "cell_type": "code",
   "execution_count": 10,
   "id": "b623839c",
   "metadata": {},
   "outputs": [
    {
     "name": "stdout",
     "output_type": "stream",
     "text": [
      "[[ 0.23236743  0.35719955  0.24        0.94661665  0.          0.\n",
      "  -0.32236147]\n",
      " [ 0.20942876  0.31924498  0.24        0.9166871   0.          0.\n",
      "   0.39960584]\n",
      " [ 0.3909231   0.37243786  0.24        0.9991514   0.          0.\n",
      "   0.04118745]\n",
      " [ 0.29430678  0.34030533  0.24        0.94862     0.          0.\n",
      "   0.31641752]\n",
      " [ 0.35257122  0.5324244   0.24        0.9152026   0.          0.\n",
      "   0.40299395]\n",
      " [ 0.47226995  0.5020301   0.24        0.98189336  0.          0.\n",
      "  -0.18943463]\n",
      " [ 0.27478766  0.45835093  0.24        0.9177762   0.          0.\n",
      "  -0.39709798]\n",
      " [ 0.32311487  0.5178651   0.24        0.9596882   0.          0.\n",
      "  -0.2810669 ]\n",
      " [ 0.42666534  0.50091803  0.24        0.9970881   0.          0.\n",
      "  -0.07625844]]\n",
      "[[-0.4045037  -0.38080072  0.22       -0.15797679 -0.68923384 -0.15797679\n",
      "   0.68923384]\n",
      " [-0.41518265 -0.42969766  0.22       -0.32964087 -0.6255693  -0.32964087\n",
      "   0.6255693 ]\n",
      " [-0.20173803 -0.47575474  0.22        0.08095236 -0.7024576   0.08095236\n",
      "   0.7024576 ]\n",
      " [-0.32768682 -0.3909074   0.22        0.00198376 -0.70710397  0.00198376\n",
      "   0.70710397]\n",
      " [-0.30435276 -0.5429455   0.22       -0.32004374 -0.6305331  -0.32004374\n",
      "   0.6305331 ]\n",
      " [-0.25552696 -0.5406118   0.22       -0.16244407 -0.6881947  -0.16244407\n",
      "   0.6881947 ]\n",
      " [-0.22996634 -0.3629456   0.22        0.29318696 -0.64346045  0.29318696\n",
      "   0.64346045]\n",
      " [-0.2844038  -0.4243121   0.22       -0.19046746 -0.68097144 -0.19046746\n",
      "   0.68097144]\n",
      " [-0.43572742 -0.37521958  0.22       -0.25692993 -0.6587769  -0.25692993\n",
      "   0.6587769 ]]\n",
      "[[-0.34683582  0.45838243  0.226      -0.61842114  0.34286317  0.61842114\n",
      "   0.34286317]\n",
      " [-0.49569514  0.43394366  0.226      -0.70705    -0.00895443  0.70705\n",
      "  -0.00895443]\n",
      " [-0.2726166   0.32257244  0.226      -0.67830163  0.19976693  0.67830163\n",
      "   0.19976693]\n",
      " [-0.40164065  0.5088256   0.226      -0.6989513  -0.10708401  0.6989513\n",
      "  -0.10708401]\n",
      " [-0.42848587  0.38019502  0.226      -0.6663914   0.23647927  0.6663914\n",
      "   0.23647927]\n",
      " [-0.27129126  0.34662962  0.226      -0.69301873 -0.14044544  0.69301873\n",
      "  -0.14044544]\n",
      " [-0.4184649   0.31019378  0.226      -0.7021386   0.08367374  0.7021386\n",
      "   0.08367374]\n",
      " [-0.31033495  0.44772324  0.226      -0.6344367  -0.3122338   0.6344367\n",
      "  -0.3122338 ]\n",
      " [-0.38969174  0.46939108  0.226      -0.6567732   0.26200926  0.6567732\n",
      "   0.26200926]]\n"
     ]
    }
   ],
   "source": [
    "adapter.set_pose(obj=cube, pose=cube_pq)\n",
    "adapter.set_pose(obj=cylinder, pose=cylinder_pq)\n",
    "adapter.set_pose(obj=bottle, pose=bottle_pq)\n",
    "scene.step()"
   ]
  },
  {
   "cell_type": "code",
   "execution_count": 28,
   "id": "08a36e76",
   "metadata": {},
   "outputs": [],
   "source": [
    "import trimesh"
   ]
  },
  {
   "cell_type": "code",
   "execution_count": 34,
   "id": "c39718db",
   "metadata": {},
   "outputs": [
    {
     "data": {
      "text/plain": [
       "np.float64(0.0842790191109674)"
      ]
     },
     "execution_count": 34,
     "metadata": {},
     "output_type": "execute_result"
    }
   ],
   "source": [
    "cylinder.get_mass()"
   ]
  },
  {
   "cell_type": "code",
   "execution_count": 37,
   "id": "e79ff35c",
   "metadata": {},
   "outputs": [
    {
     "data": {
      "text/plain": [
       "(TrackedArray([[-0.45442322, -0.44983773,  0.23184559],\n",
       "               [-0.31939692, -0.38450846,  0.23186167],\n",
       "               [-0.47736111, -0.40243531,  0.25999301],\n",
       "               [-0.34233481, -0.33710604,  0.26000909],\n",
       "               [-0.46667713, -0.42449767,  0.17918502],\n",
       "               [-0.33165083, -0.35916841,  0.17920111],\n",
       "               [-0.48961502, -0.37709525,  0.20733244],\n",
       "               [-0.35458872, -0.31176598,  0.20734853]]),\n",
       " TrackedArray([[-2.05220083e-01, -3.84147934e-01,  9.00175029e-01,\n",
       "                -4.04505968e-01],\n",
       "               [ 4.24377884e-01,  7.93863027e-01,  4.35528306e-01,\n",
       "                -3.80801857e-01],\n",
       "               [-8.81922973e-01,  4.71393529e-01,  1.07251166e-04,\n",
       "                 2.19597057e-01],\n",
       "               [ 0.00000000e+00,  0.00000000e+00,  0.00000000e+00,\n",
       "                 1.00000000e+00]]),\n",
       " array([0.1702181 , 0.13807175, 0.08082407]))"
      ]
     },
     "execution_count": 37,
     "metadata": {},
     "output_type": "execute_result"
    }
   ],
   "source": [
    "cyl_verts = cylinder.get_verts()[0]\n",
    "mesh = trimesh.Trimesh(vertices=cyl_verts)\n",
    "obb = mesh.bounding_box_oriented\n",
    "obb.vertices, obb.transform, obb.extents"
   ]
  }
 ],
 "metadata": {
  "kernelspec": {
   "display_name": "Panda",
   "language": "python",
   "name": "python3"
  },
  "language_info": {
   "codemirror_mode": {
    "name": "ipython",
    "version": 3
   },
   "file_extension": ".py",
   "mimetype": "text/x-python",
   "name": "python",
   "nbconvert_exporter": "python",
   "pygments_lexer": "ipython3",
   "version": "3.10.17"
  }
 },
 "nbformat": 4,
 "nbformat_minor": 5
}
