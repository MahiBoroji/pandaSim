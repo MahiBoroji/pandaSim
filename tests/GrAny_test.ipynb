{
 "cells": [
  {
   "cell_type": "markdown",
   "id": "6e64242e",
   "metadata": {},
   "source": [
    "### Basic `MuJoCo` usage + GraspAnything"
   ]
  },
  {
   "cell_type": "code",
   "execution_count": 18,
   "id": "8cf3f649",
   "metadata": {},
   "outputs": [],
   "source": [
    "import matplotlib.pyplot as plt\n",
    "import numpy as np\n",
    "import torch\n",
    "import mujoco\n",
    "import mujoco_viewer\n",
    "import mediapy as media\n",
    "import os"
   ]
  },
  {
   "cell_type": "markdown",
   "id": "45382f94",
   "metadata": {},
   "source": [
    "Loading the parameters for Grasp Anything"
   ]
  },
  {
   "cell_type": "code",
   "execution_count": 19,
   "id": "8ec03b0f",
   "metadata": {},
   "outputs": [
    {
     "data": {
      "text/plain": [
       "GenerativeResnet(\n",
       "  (conv1): Conv2d(3, 32, kernel_size=(9, 9), stride=(1, 1), padding=(4, 4))\n",
       "  (bn1): BatchNorm2d(32, eps=1e-05, momentum=0.1, affine=True, track_running_stats=True)\n",
       "  (conv2): Conv2d(32, 64, kernel_size=(4, 4), stride=(2, 2), padding=(1, 1))\n",
       "  (bn2): BatchNorm2d(64, eps=1e-05, momentum=0.1, affine=True, track_running_stats=True)\n",
       "  (conv3): Conv2d(64, 128, kernel_size=(4, 4), stride=(2, 2), padding=(1, 1))\n",
       "  (bn3): BatchNorm2d(128, eps=1e-05, momentum=0.1, affine=True, track_running_stats=True)\n",
       "  (res1): ResidualBlock(\n",
       "    (conv1): Conv2d(128, 128, kernel_size=(3, 3), stride=(1, 1), padding=(1, 1))\n",
       "    (bn1): BatchNorm2d(128, eps=1e-05, momentum=0.1, affine=True, track_running_stats=True)\n",
       "    (conv2): Conv2d(128, 128, kernel_size=(3, 3), stride=(1, 1), padding=(1, 1))\n",
       "    (bn2): BatchNorm2d(128, eps=1e-05, momentum=0.1, affine=True, track_running_stats=True)\n",
       "  )\n",
       "  (res2): ResidualBlock(\n",
       "    (conv1): Conv2d(128, 128, kernel_size=(3, 3), stride=(1, 1), padding=(1, 1))\n",
       "    (bn1): BatchNorm2d(128, eps=1e-05, momentum=0.1, affine=True, track_running_stats=True)\n",
       "    (conv2): Conv2d(128, 128, kernel_size=(3, 3), stride=(1, 1), padding=(1, 1))\n",
       "    (bn2): BatchNorm2d(128, eps=1e-05, momentum=0.1, affine=True, track_running_stats=True)\n",
       "  )\n",
       "  (res3): ResidualBlock(\n",
       "    (conv1): Conv2d(128, 128, kernel_size=(3, 3), stride=(1, 1), padding=(1, 1))\n",
       "    (bn1): BatchNorm2d(128, eps=1e-05, momentum=0.1, affine=True, track_running_stats=True)\n",
       "    (conv2): Conv2d(128, 128, kernel_size=(3, 3), stride=(1, 1), padding=(1, 1))\n",
       "    (bn2): BatchNorm2d(128, eps=1e-05, momentum=0.1, affine=True, track_running_stats=True)\n",
       "  )\n",
       "  (res4): ResidualBlock(\n",
       "    (conv1): Conv2d(128, 128, kernel_size=(3, 3), stride=(1, 1), padding=(1, 1))\n",
       "    (bn1): BatchNorm2d(128, eps=1e-05, momentum=0.1, affine=True, track_running_stats=True)\n",
       "    (conv2): Conv2d(128, 128, kernel_size=(3, 3), stride=(1, 1), padding=(1, 1))\n",
       "    (bn2): BatchNorm2d(128, eps=1e-05, momentum=0.1, affine=True, track_running_stats=True)\n",
       "  )\n",
       "  (res5): ResidualBlock(\n",
       "    (conv1): Conv2d(128, 128, kernel_size=(3, 3), stride=(1, 1), padding=(1, 1))\n",
       "    (bn1): BatchNorm2d(128, eps=1e-05, momentum=0.1, affine=True, track_running_stats=True)\n",
       "    (conv2): Conv2d(128, 128, kernel_size=(3, 3), stride=(1, 1), padding=(1, 1))\n",
       "    (bn2): BatchNorm2d(128, eps=1e-05, momentum=0.1, affine=True, track_running_stats=True)\n",
       "  )\n",
       "  (conv4): ConvTranspose2d(128, 64, kernel_size=(4, 4), stride=(2, 2), padding=(1, 1), output_padding=(1, 1))\n",
       "  (bn4): BatchNorm2d(64, eps=1e-05, momentum=0.1, affine=True, track_running_stats=True)\n",
       "  (conv5): ConvTranspose2d(64, 32, kernel_size=(4, 4), stride=(2, 2), padding=(2, 2), output_padding=(1, 1))\n",
       "  (bn5): BatchNorm2d(32, eps=1e-05, momentum=0.1, affine=True, track_running_stats=True)\n",
       "  (conv6): ConvTranspose2d(32, 32, kernel_size=(9, 9), stride=(1, 1), padding=(4, 4))\n",
       "  (pos_output): Conv2d(32, 1, kernel_size=(2, 2), stride=(1, 1))\n",
       "  (cos_output): Conv2d(32, 1, kernel_size=(2, 2), stride=(1, 1))\n",
       "  (sin_output): Conv2d(32, 1, kernel_size=(2, 2), stride=(1, 1))\n",
       "  (width_output): Conv2d(32, 1, kernel_size=(2, 2), stride=(1, 1))\n",
       "  (dropout_pos): Dropout(p=0.1, inplace=False)\n",
       "  (dropout_cos): Dropout(p=0.1, inplace=False)\n",
       "  (dropout_sin): Dropout(p=0.1, inplace=False)\n",
       "  (dropout_wid): Dropout(p=0.1, inplace=False)\n",
       ")"
      ]
     },
     "execution_count": 19,
     "metadata": {},
     "output_type": "execute_result"
    }
   ],
   "source": [
    "model = torch.load('GrAny_Weights/model_grasp_anything')\n",
    "model"
   ]
  },
  {
   "cell_type": "markdown",
   "id": "0299ed5c",
   "metadata": {},
   "source": [
    "### Adding stuff to the scene"
   ]
  },
  {
   "cell_type": "code",
   "execution_count": 20,
   "id": "4d1f6319",
   "metadata": {},
   "outputs": [
    {
     "data": {
      "text/html": [
       "<table class=\"show_images\" style=\"border-spacing:0px;\"><tr><td style=\"padding:1px;\"><img width=\"600\" height=\"400\" style=\"image-rendering:auto; object-fit:cover;\" src=\"data:image/png;base64,iVBORw0KGgoAAAANSUhEUgAAAlgAAAGQCAIAAAD9V4nPAAAC0UlEQVR4nO3BMQEAAADCoPVPbQhfoAAAAAAAAAAAAAAAAAAAAAAAAAAAAAAAAAAAAAAAAAAAAAAAAAAAAAAAAAAAAAAAAAAAAAAAAAAAAAAAAAAAAAAAAAAAAAAAAAAAAAAAAAAAAAAAAAAAAAAAAAAAAAAAAAAAAAAAAAAAAAAAAAAAAAAAAAAAAAAAAAAAAAAAAAAAAAAAAAAAAAAAAAAAAAAAAAAAAAAAAAAAAAAAAAAAAAAAAAAAAAAAAAAAAAAAAAAAAAAAAAAAAAAAAAAAAAAAAAAAAAAAAAAAAAAAAAAAAAAAAAAAAAAAAAAAAAAAAAAAAAAAAAAAAAAAAAAAAAAAAAAAAAAAAAAAAAAAAAAAAAAAAAAAAAAAAAAAAAAAAAAAAAAAAAAAAAAAAAAAAAAAAAAAAAAAAAAAAAAAAAAAAAAAAAAAAAAAAAAAAAAAAAAAAAAAAAAAAAAAAAAAAAAAAAAAAAAAAAAAAAAAAAAAAAAAAAAAAAAAAAAAAAAAAAAAAAAAAAAAAAAAAAAAAAAAAAAAAAAAAAAAAAAAAAAAAAAAAAAAAAAAAAAAAAAAAAAAAAAAAAAAAAAAAAAAAAAAAAAAAAAAAAAAAAAAAAAAAAAAAAAAAAAAAAAAAAAAAAAAAAAAAAAAAAAAAAAAAAAAAAAAAAAAAAAAAAAAAAAAAAAAAAAAAAAAAAAAAAAAAAAAAAAAAAAAAAAAAAAAAAAAAAAAAAAAAAAAAAAAAAAAAAAAAAAAAAAAAAAAAAAAAAAAAAAAAAAAAAAAAAAAAAAAAAAAAAAAAAAAAAAAAAAAAAAAAAAAAAAAAAAAAAAAAAAAAAAAAAAAAAAAAAAAAAAAAAAAAAAAAAAAAAAAAAAAAAAAAAAAAAAAAAAAAAAAAAAAAAAAAAAAAAAAAAAAAAAAAAAAAAAAAAAAAAAAAAAAAAAAAAAAAAAAAAAAugz+pgABbUnIUAAAAABJRU5ErkJggg==\"/></td></tr></table>"
      ],
      "text/plain": [
       "<IPython.core.display.HTML object>"
      ]
     },
     "metadata": {},
     "output_type": "display_data"
    }
   ],
   "source": [
    "free_body_MJCF = \"\"\"\n",
    "<mujoco>\n",
    "  <asset>\n",
    "    <texture name=\"grid\" type=\"2d\" builtin=\"checker\" rgb1=\".1 .2 .3\" \n",
    "    rgb2=\".2 .3 .4\" width=\"300\" height=\"300\" mark=\"edge\" markrgb=\".2 .3 .4\"/>\n",
    "    <material name=\"grid\" texture=\"grid\" texrepeat=\"2 2\" texuniform=\"true\"\n",
    "    reflectance=\".2\"/>\n",
    "  </asset>\n",
    "\n",
    "  <worldbody>\n",
    "    <light pos=\"0 0 1\" mode=\"trackcom\"/>\n",
    "    <geom name=\"ground\" type=\"plane\" pos=\"0 0 -.5\" size=\"2 2 .1\" material=\"grid\" solimp=\".99 .99 .01\" solref=\".001 1\"/>\n",
    "    <body name=\"box_and_sphere\" pos=\"0 0 0\">\n",
    "      <freejoint/>\n",
    "      <geom name=\"red_box\" type=\"box\" size=\".1 .1 .1\" rgba=\"1 0 0 1\" solimp=\".99 .99 .01\"  solref=\".001 1\"/>\n",
    "      <geom name=\"green_sphere\" size=\".06\" pos=\".1 .1 .1\" rgba=\"0 1 0 1\"/>\n",
    "      <camera name=\"fixed\" pos=\"0 -.6 .3\" xyaxes=\"1 0 0 0 1 2\"/>\n",
    "      <camera name=\"track\" pos=\"0 -.6 .3\" xyaxes=\"1 0 0 0 1 2\" mode=\"track\"/>\n",
    "    </body>\n",
    "  </worldbody>\n",
    "</mujoco>\n",
    "\"\"\"\n",
    "\n",
    "model = mujoco.MjModel.from_xml_string(free_body_MJCF)\n",
    "renderer = mujoco.Renderer(model, 400, 600)\n",
    "data = mujoco.MjData(model)\n",
    "mujoco.mj_forward(model, data)\n",
    "renderer.update_scene(data, \"fixed\")\n",
    "media.show_image(renderer.render())"
   ]
  },
  {
   "cell_type": "code",
   "execution_count": 21,
   "id": "7f46d806",
   "metadata": {},
   "outputs": [
    {
     "data": {
      "text/plain": [
       "array([1., 0., 0., 0.])"
      ]
     },
     "execution_count": 21,
     "metadata": {},
     "output_type": "execute_result"
    }
   ],
   "source": [
    "model.body(\"box_and_sphere\").pos\n",
    "model.body(\"box_and_sphere\").quat"
   ]
  },
  {
   "cell_type": "markdown",
   "id": "04077f3a",
   "metadata": {},
   "source": [
    "### Adding Panda to the scene"
   ]
  },
  {
   "cell_type": "code",
   "execution_count": 25,
   "id": "5e3860f0",
   "metadata": {},
   "outputs": [
    {
     "name": "stdout",
     "output_type": "stream",
     "text": [
      "[Panda] parsed.\n"
     ]
    }
   ],
   "source": [
    "xml_path='model/panda/franka_panda.xml'\n",
    "full_xml_path = os.path.abspath(os.path.join(os.getcwd(),xml_path))\n",
    "model = mujoco.MjModel.from_xml_path(full_xml_path)\n",
    "data = mujoco.MjData(model)\n",
    "mujoco.mj_resetData(model, data) # reset\n",
    "print (\"[Panda] parsed.\")"
   ]
  },
  {
   "cell_type": "code",
   "execution_count": null,
   "id": "7f966690",
   "metadata": {},
   "outputs": [],
   "source": []
  },
  {
   "cell_type": "code",
   "execution_count": null,
   "id": "c422da0b",
   "metadata": {},
   "outputs": [],
   "source": [
    "# Other Github repo PNP Examples\n",
    "\n",
    "# xml_path = 'asset/panda/franka_panda_w_objs.xml'\n",
    "# env = MuJoCoParserClass(name='Panda', rel_xml_path=xml_path, VERBOSE=False)\n",
    "# env.forward()\n",
    "# # Initialize MuJoCo viewer\n",
    "# env.init_viewer(viewer_title=\"test\", viewer_width=1600, viewer_height=900,\n",
    "#                 viewer_hide_menus=False)\n",
    "# env.update_viewer(cam_id=2)"
   ]
  }
 ],
 "metadata": {
  "kernelspec": {
   "display_name": "granything",
   "language": "python",
   "name": "python3"
  },
  "language_info": {
   "codemirror_mode": {
    "name": "ipython",
    "version": 3
   },
   "file_extension": ".py",
   "mimetype": "text/x-python",
   "name": "python",
   "nbconvert_exporter": "python",
   "pygments_lexer": "ipython3",
   "version": "3.9.22"
  }
 },
 "nbformat": 4,
 "nbformat_minor": 5
}
