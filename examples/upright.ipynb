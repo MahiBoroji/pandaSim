{
 "cells": [
  {
   "cell_type": "markdown",
   "id": "7db7bace",
   "metadata": {},
   "source": [
    "# Object Reorientation with Help of Environment Contact\n",
    "\n",
    "This example demonstrates a Franka Emika Panda robot sequentially manipulating multiple objects. The robot follows a structured plan:\n",
    "\n",
    "1. Start from a ready position\n",
    "2. Move above an object from the list\n",
    "3. Grasp the object\n",
    "4. Execute a planned movement with the object\n",
    "5. Release the object\n",
    "6. Move 10 cm above the current position\n",
    "7. Return to ready position\n",
    "8. Repeat for the next object in the list until all objects are manipulated"
   ]
  },
  {
   "cell_type": "code",
   "execution_count": 97,
   "id": "5502bb81",
   "metadata": {},
   "outputs": [
    {
     "name": "stdout",
     "output_type": "stream",
     "text": [
      "The autoreload extension is already loaded. To reload it, use:\n",
      "  %reload_ext autoreload\n"
     ]
    }
   ],
   "source": [
    "import genesis as gs\n",
    "import numpy as np\n",
    "import os\n",
    "import torch\n",
    "from pytransform3d import (\n",
    "    transformations as pt,\n",
    "    rotations as pr,\n",
    "    batch_rotations as pb,\n",
    "    trajectories as ptr,\n",
    "    plot_utils as ppu\n",
    ")\n",
    "from pandaSim.geometry.genesis_adapter import GenesisAdapter\n",
    "from pandaSim.planning.screw_motion_planner import ScrewMotionPlanner\n",
    "from utils import RobotController\n",
    "\n",
    "import spatialmath as sm\n",
    "# auto reload\n",
    "%load_ext autoreload\n",
    "%autoreload 2"
   ]
  },
  {
   "cell_type": "markdown",
   "id": "f318f00c",
   "metadata": {},
   "source": [
    "## Initialize Robot Controller\n",
    "\n",
    "We'll create a RobotController instance that will handle all the robot operations and scene management.\n",
    "\n",
    "`Note:`  `compile_kernels` set whether to compile the simulation kernels inside `build()`. If False, the kernels will not be compiled (or loaded if found in the cache) until the first call of `scene.step()`. This is useful for cases you don't want to run the actual simulation, but rather just want to visualize the created scene. Kernel Compilation may take anytime between 2-10 minutes depending on your system."
   ]
  },
  {
   "cell_type": "code",
   "execution_count": 98,
   "id": "94b65edf",
   "metadata": {},
   "outputs": [
    {
     "name": "stdout",
     "output_type": "stream",
     "text": [
      "\u001b[38;5;159m[Genesis] [20:18:08] [INFO] 💤 Exiting Genesis and caching compiled kernels...\u001b[0m\n",
      "\u001b[38;5;159m[Genesis] [20:18:08] [INFO] \u001b[38;5;121m╭───────────────────────────────────────────────╮\u001b[0m\u001b[38;5;159m\u001b[0m\n",
      "\u001b[38;5;159m[Genesis] [20:18:08] [INFO] \u001b[38;5;121m│┈┉┈┉┈┉┈┉┈┉┈┉┈┉┈┉┈┉┈\u001b[0m\u001b[38;5;159m \u001b[38;5;121m\u001b[1m\u001b[3mGenesis\u001b[0m\u001b[38;5;159m \u001b[38;5;121m┈┉┈┉┈┉┈┉┈┉┈┉┈┉┈┉┈┉┈│\u001b[0m\u001b[38;5;159m\u001b[0m\n",
      "\u001b[38;5;159m[Genesis] [20:18:08] [INFO] \u001b[38;5;121m╰───────────────────────────────────────────────╯\u001b[0m\u001b[38;5;159m\u001b[0m\n",
      "\u001b[38;5;159m[Genesis] [20:18:09] [INFO] Running on \u001b[38;5;121m\u001b[4m[NVIDIA GeForce RTX 3070 Laptop GPU]\u001b[0m\u001b[38;5;159m with backend \u001b[38;5;121m\u001b[4mgs.cuda\u001b[0m\u001b[38;5;159m. Device memory: \u001b[38;5;121m\u001b[4m7.78\u001b[0m\u001b[38;5;159m GB.\u001b[0m\n",
      "\u001b[38;5;159m[Genesis] [20:18:09] [INFO] 🚀 Genesis initialized. 🔖 version: \u001b[38;5;121m\u001b[4m0.2.1\u001b[0m\u001b[38;5;159m, 🌱 seed: \u001b[38;5;121m\u001b[4mNone\u001b[0m\u001b[38;5;159m, 📏 precision: '\u001b[38;5;121m\u001b[4m32\u001b[0m\u001b[38;5;159m', 🐛 debug: \u001b[38;5;121m\u001b[4mFalse\u001b[0m\u001b[38;5;159m, 🎨 theme: '\u001b[38;5;121m\u001b[4mdark\u001b[0m\u001b[38;5;159m'.\u001b[0m\n",
      "\u001b[38;5;159m[Genesis] [20:18:09] [INFO] Scene \u001b[38;5;121m\u001b[3m<4e04013>\u001b[0m\u001b[38;5;159m created.\u001b[0m\n",
      "\u001b[38;5;159m[Genesis] [20:18:09] [INFO] Adding \u001b[38;5;121m<gs.RigidEntity>\u001b[0m\u001b[38;5;159m. idx: \u001b[38;5;121m0\u001b[0m\u001b[38;5;159m, uid: \u001b[38;5;121m\u001b[3m<f6536a5>\u001b[0m\u001b[38;5;159m, morph: \u001b[38;5;121m<gs.morphs.Plane>\u001b[0m\u001b[38;5;159m, material: \u001b[38;5;121m<gs.materials.Rigid>\u001b[0m\u001b[38;5;159m.\u001b[0m\n",
      "\u001b[38;5;159m[Genesis] [20:18:09] [INFO] Adding \u001b[38;5;121m<gs.RigidEntity>\u001b[0m\u001b[38;5;159m. idx: \u001b[38;5;121m1\u001b[0m\u001b[38;5;159m, uid: \u001b[38;5;121m\u001b[3m<477366a>\u001b[0m\u001b[38;5;159m, morph: \u001b[38;5;121m<gs.morphs.MJCF(file='/home/vahid/repos/pandaSim/assets/xml/franka_emika_panda/panda_vir.xml')>\u001b[0m\u001b[38;5;159m, material: \u001b[38;5;121m<gs.materials.Rigid>\u001b[0m\u001b[38;5;159m.\u001b[0m\n",
      "\u001b[38;5;226m[Genesis] [20:18:09] [WARNING] (MJCF) Tendon not supported\u001b[0m\n",
      "\u001b[38;5;226m[Genesis] [20:18:09] [WARNING] (MJCF) Approximating tendon by joint actuator for `finger_joint1`\u001b[0m\n",
      "\u001b[38;5;226m[Genesis] [20:18:09] [WARNING] (MJCF) Actuator control gain and bias parameters cannot be reduced to a unique PD control position gain. Using max between gain and bias.\u001b[0m\n",
      "\u001b[38;5;226m[Genesis] [20:18:09] [WARNING] (MJCF) Approximating tendon by joint actuator for `finger_joint2`\u001b[0m\n",
      "\u001b[38;5;226m[Genesis] [20:18:09] [WARNING] (MJCF) Actuator control gain and bias parameters cannot be reduced to a unique PD control position gain. Using max between gain and bias.\u001b[0m\n",
      "\u001b[38;5;159m[Genesis] [20:18:09] [INFO] Adding \u001b[38;5;121m<gs.RigidEntity>\u001b[0m\u001b[38;5;159m. idx: \u001b[38;5;121m2\u001b[0m\u001b[38;5;159m, uid: \u001b[38;5;121m\u001b[3m<cb51fbe>\u001b[0m\u001b[38;5;159m, morph: \u001b[38;5;121m<gs.morphs.Box>\u001b[0m\u001b[38;5;159m, material: \u001b[38;5;121m<gs.materials.Rigid>\u001b[0m\u001b[38;5;159m.\u001b[0m\n",
      "\u001b[38;5;159m[Genesis] [20:18:09] [INFO] Adding \u001b[38;5;121m<gs.RigidEntity>\u001b[0m\u001b[38;5;159m. idx: \u001b[38;5;121m3\u001b[0m\u001b[38;5;159m, uid: \u001b[38;5;121m\u001b[3m<1e8f76a>\u001b[0m\u001b[38;5;159m, morph: \u001b[38;5;121m<gs.morphs.Box>\u001b[0m\u001b[38;5;159m, material: \u001b[38;5;121m<gs.materials.Rigid>\u001b[0m\u001b[38;5;159m.\u001b[0m\n",
      "\u001b[38;5;159m[Genesis] [20:18:09] [INFO] Adding \u001b[38;5;121m<gs.RigidEntity>\u001b[0m\u001b[38;5;159m. idx: \u001b[38;5;121m4\u001b[0m\u001b[38;5;159m, uid: \u001b[38;5;121m\u001b[3m<a6736e2>\u001b[0m\u001b[38;5;159m, morph: \u001b[38;5;121m<gs.morphs.Box>\u001b[0m\u001b[38;5;159m, material: \u001b[38;5;121m<gs.materials.Rigid>\u001b[0m\u001b[38;5;159m.\u001b[0m\n",
      "\u001b[38;5;159m[Genesis] [20:18:09] [INFO] Adding \u001b[38;5;121m<gs.RigidEntity>\u001b[0m\u001b[38;5;159m. idx: \u001b[38;5;121m5\u001b[0m\u001b[38;5;159m, uid: \u001b[38;5;121m\u001b[3m<edbe34a>\u001b[0m\u001b[38;5;159m, morph: \u001b[38;5;121m<gs.morphs.Box>\u001b[0m\u001b[38;5;159m, material: \u001b[38;5;121m<gs.materials.Rigid>\u001b[0m\u001b[38;5;159m.\u001b[0m\n",
      "\u001b[38;5;159m[Genesis] [20:18:09] [INFO] Adding \u001b[38;5;121m<gs.RigidEntity>\u001b[0m\u001b[38;5;159m. idx: \u001b[38;5;121m6\u001b[0m\u001b[38;5;159m, uid: \u001b[38;5;121m\u001b[3m<cd4dced>\u001b[0m\u001b[38;5;159m, morph: \u001b[38;5;121m<gs.morphs.Box>\u001b[0m\u001b[38;5;159m, material: \u001b[38;5;121m<gs.materials.Rigid>\u001b[0m\u001b[38;5;159m.\u001b[0m\n",
      "\u001b[38;5;159m[Genesis] [20:18:09] [INFO] Adding \u001b[38;5;121m<gs.RigidEntity>\u001b[0m\u001b[38;5;159m. idx: \u001b[38;5;121m7\u001b[0m\u001b[38;5;159m, uid: \u001b[38;5;121m\u001b[3m<33a96a2>\u001b[0m\u001b[38;5;159m, morph: \u001b[38;5;121m<gs.morphs.URDF(file='/home/vahid/envs/panda/lib/python3.10/site-packages/genesis/assets/urdf/3763/mobility_vhacd.urdf')>\u001b[0m\u001b[38;5;159m, material: \u001b[38;5;121m<gs.materials.Rigid>\u001b[0m\u001b[38;5;159m.\u001b[0m\n",
      "\u001b[38;5;159m[Genesis] [20:18:09] [INFO] Adding \u001b[38;5;121m<gs.RigidEntity>\u001b[0m\u001b[38;5;159m. idx: \u001b[38;5;121m8\u001b[0m\u001b[38;5;159m, uid: \u001b[38;5;121m\u001b[3m<1c39983>\u001b[0m\u001b[38;5;159m, morph: \u001b[38;5;121m<gs.morphs.Cylinder>\u001b[0m\u001b[38;5;159m, material: \u001b[38;5;121m<gs.materials.Rigid>\u001b[0m\u001b[38;5;159m.\u001b[0m\n",
      "\u001b[38;5;159m[Genesis] [20:18:09] [INFO] Adding \u001b[38;5;121m<gs.RigidEntity>\u001b[0m\u001b[38;5;159m. idx: \u001b[38;5;121m9\u001b[0m\u001b[38;5;159m, uid: \u001b[38;5;121m\u001b[3m<b3393c0>\u001b[0m\u001b[38;5;159m, morph: \u001b[38;5;121m<gs.morphs.Mesh(file='/home/vahid/envs/panda/lib/python3.10/site-packages/genesis/assets/meshes/axis.obj')>\u001b[0m\u001b[38;5;159m, material: \u001b[38;5;121m<gs.materials.Rigid>\u001b[0m\u001b[38;5;159m.\u001b[0m\n",
      "\u001b[38;5;159m[Genesis] [20:18:09] [INFO] Building scene \u001b[38;5;121m\u001b[3m<4e04013>\u001b[0m\u001b[38;5;159m...\u001b[0m\n",
      "\u001b[38;5;226m[Genesis] [20:18:10] [WARNING] Reference robot position exceeds joint limits.\u001b[0m\n"
     ]
    },
    {
     "name": "stderr",
     "output_type": "stream",
     "text": [
      "[W 05/19/25 20:18:11.449 31772] [frontend_ir.cpp:begin_frontend_struct_for_on_external_tensor@1694] ti.loop_config(serialize=True) does not have effect on the struct for. The execution order is not guaranteed.\n"
     ]
    },
    {
     "name": "stdout",
     "output_type": "stream",
     "text": [
      "\u001b[38;5;159m[Genesis] [20:18:13] [INFO] Building visualizer...\u001b[0m\n",
      "\u001b[38;5;159m[Genesis] [20:18:14] [INFO] Viewer created. Resolution: \u001b[38;5;121m1280×960\u001b[0m\u001b[38;5;159m, max_FPS: \u001b[38;5;121m60\u001b[0m\u001b[38;5;159m.\u001b[0m\n"
     ]
    }
   ],
   "source": [
    "\n",
    "\n",
    "# Record the video\n",
    "record = True\n",
    "video_path = \"video/\"\n",
    "os.makedirs(video_path, exist_ok=True)\n",
    "\n",
    "# Initialize the scene and get the robot and objects\n",
    "# Initialize the robot controller\n",
    "controller = RobotController()\n",
    "franka, objects_list, target_entity, scene_list, cam = controller.init_scene(record=record)\n",
    "scene, adapter = controller.scene, controller.adapter\n",
    "# Get the finger link for manipulation\n",
    "finger_link = franka.get_link('virtual_finger')\n",
    "\n",
    "# Build the scene\n",
    "scene.build(compile_kernels=False)"
   ]
  },
  {
   "cell_type": "markdown",
   "id": "a752e98d",
   "metadata": {},
   "source": [
    "## Define Ready Pose\n",
    "\n",
    "Set up the robot's ready pose configuration."
   ]
  },
  {
   "cell_type": "code",
   "execution_count": 99,
   "id": "8a751095",
   "metadata": {},
   "outputs": [],
   "source": [
    "def reset_scene():\n",
    "    scene.reset()\n",
    "\n",
    "    # Define ready pose joint positions\n",
    "    qr = np.array([0.0000, -0.3002, 0.0000, -2.1991, 0.0000, 2.0071, 0.7854, 0.04, 0.04])\n",
    "    ready_qpos = np.append(qr, [0, 0, 0])  # Adding positions for virtual finger and spinning pads\n",
    "\n",
    "    # Set robot to ready pose\n",
    "    franka.ready_qpos = ready_qpos.squeeze()\n",
    "    franka.set_qpos(franka.ready_qpos)\n",
    "    franka.control_dofs_position(franka.ready_qpos)\n",
    "    \n",
    "    # Visualize initial position\n",
    "    target_entity.set_pos(finger_link.get_pos())\n",
    "    target_entity.set_quat(finger_link.get_quat())\n",
    "    \n",
    "    scene.step()"
   ]
  },
  {
   "cell_type": "markdown",
   "id": "81af9a83",
   "metadata": {},
   "source": [
    "## Main Execution Loop\n",
    "\n",
    "Now we'll process each object in the list sequentially, following our plan:\n",
    "1. Move to above the object\n",
    "2. Grasp the object\n",
    "3. Execute the manipulation plan\n",
    "4. Release the object\n",
    "5. Move 10cm up\n",
    "6. Return to ready pose\n",
    "7. Process next object"
   ]
  },
  {
   "cell_type": "code",
   "execution_count": 100,
   "id": "89ae1c5d",
   "metadata": {},
   "outputs": [
    {
     "name": "stdout",
     "output_type": "stream",
     "text": [
      "\u001b[38;5;159m[Genesis] [20:19:03] [INFO] Resetting Scene \u001b[38;5;121m\u001b[3m<4e04013>\u001b[0m\u001b[38;5;159m.\u001b[0m\n",
      "Recording started\n",
      "\n",
      "Processing cube...\n",
      "Computing grasp pose for cube\n",
      "Moving to grasp cube\n"
     ]
    },
    {
     "name": "stderr",
     "output_type": "stream",
     "text": [
      "[W 05/19/25 20:19:16.952 31772] [frontend_ir.cpp:begin_frontend_struct_for_on_external_tensor@1694] ti.loop_config(serialize=True) does not have effect on the struct for. The execution order is not guaranteed.\n"
     ]
    },
    {
     "name": "stdout",
     "output_type": "stream",
     "text": [
      "\u001b[38;5;159m[Genesis] [20:19:18] [INFO] Path solution found successfully.\u001b[0m\n",
      "\u001b[38;5;159m[Genesis] [20:19:27] [INFO] Path solution found successfully.\u001b[0m\n",
      "Executing manipulation with cube\n",
      "theta changed to  -1.6007963267948966\n",
      "Releasing cube\n",
      "Moving up from cube\n",
      "\u001b[38;5;159m[Genesis] [20:20:38] [INFO] Path solution found successfully.\u001b[0m\n",
      "Returning to ready pose\n",
      "\u001b[38;5;159m[Genesis] [20:20:46] [INFO] Path solution found successfully.\u001b[0m\n",
      "Completed processing cube\n",
      "\n",
      "Processing bottle...\n",
      "Computing grasp pose for bottle\n",
      "Moving to grasp bottle\n",
      "\u001b[38;5;159m[Genesis] [20:20:58] [INFO] Path solution found successfully.\u001b[0m\n",
      "\u001b[38;5;159m[Genesis] [20:21:07] [INFO] Path solution found successfully.\u001b[0m\n",
      "Executing manipulation with bottle\n",
      "theta changed to  -1.6007963267948966\n",
      "Releasing bottle\n",
      "Moving up from bottle\n",
      "\u001b[38;5;226m[Genesis] [20:22:02] [WARNING] `qpos_start` exceeds joint limit. Relaxing joint limit to contain `qpos_start` for planning.\u001b[0m\n",
      "\u001b[38;5;159m[Genesis] [20:22:02] [INFO] Ingoring collision pairs already active for starting pos.\u001b[0m\n",
      "\u001b[38;5;159m[Genesis] [20:22:02] [INFO] Path solution found successfully.\u001b[0m\n",
      "Returning to ready pose\n",
      "\u001b[38;5;226m[Genesis] [20:22:11] [WARNING] `qpos_start` exceeds joint limit. Relaxing joint limit to contain `qpos_start` for planning.\u001b[0m\n",
      "\u001b[38;5;159m[Genesis] [20:22:11] [INFO] Path solution found successfully.\u001b[0m\n",
      "Completed processing bottle\n",
      "\n",
      "Processing cylinder...\n",
      "Computing grasp pose for cylinder\n",
      "Moving to grasp cylinder\n",
      "\u001b[38;5;226m[Genesis] [20:22:23] [WARNING] `qpos_start` exceeds joint limit. Relaxing joint limit to contain `qpos_start` for planning.\u001b[0m\n",
      "\u001b[38;5;159m[Genesis] [20:22:23] [INFO] Path solution found successfully.\u001b[0m\n",
      "\u001b[38;5;226m[Genesis] [20:22:31] [WARNING] `qpos_start` exceeds joint limit. Relaxing joint limit to contain `qpos_start` for planning.\u001b[0m\n",
      "\u001b[38;5;159m[Genesis] [20:22:31] [INFO] Path solution found successfully.\u001b[0m\n",
      "Executing manipulation with cylinder\n",
      "theta changed to  -1.6007963267948966\n",
      "Releasing cylinder\n",
      "Moving up from cylinder\n",
      "\u001b[38;5;226m[Genesis] [20:23:37] [WARNING] `qpos_start` exceeds joint limit. Relaxing joint limit to contain `qpos_start` for planning.\u001b[0m\n",
      "\u001b[38;5;159m[Genesis] [20:23:37] [INFO] Path solution found successfully.\u001b[0m\n",
      "Returning to ready pose\n",
      "\u001b[38;5;226m[Genesis] [20:23:47] [WARNING] `qpos_start` exceeds joint limit. Relaxing joint limit to contain `qpos_start` for planning.\u001b[0m\n",
      "\u001b[38;5;159m[Genesis] [20:23:47] [INFO] Path solution found successfully.\u001b[0m\n",
      "Completed processing cylinder\n",
      "\u001b[38;5;159m[Genesis] [20:23:59] [INFO] Saving video to \u001b[38;5;121mvideo/upright.mp4\u001b[0m\u001b[38;5;159m.\u001b[0m\n",
      "\u001b[38;5;159m[Genesis] [20:24:34] [INFO] Video saved.\u001b[0m\n",
      "\n",
      "All objects manipulated successfully!\n"
     ]
    }
   ],
   "source": [
    "objects_to_manipulate = objects_list.copy()\n",
    "\n",
    "# Reset the scene to initial state\n",
    "reset_scene()\n",
    "record = True\n",
    "\n",
    "if cam and record:\n",
    "    cam.start_recording()\n",
    "    print(\"Recording started\")\n",
    "\n",
    "\n",
    "# Process each object in the list\n",
    "while objects_to_manipulate:\n",
    "    # Get the next object from the list\n",
    "    obj = objects_to_manipulate.pop(0)\n",
    "    obj_name = obj.name\n",
    "\n",
    "    \n",
    "    print(f\"\\nProcessing {obj_name}...\")\n",
    "    \n",
    "    # Step 1: Compute grasp pose for the object\n",
    "    print(f\"Computing grasp pose for {obj_name}\")\n",
    "    grasp_height = 'center' if obj_name == 'cylinder' else 'top'\n",
    "    offset_toward = 0.04 if obj_name == 'bottle' else 0.02\n",
    "    offset_upward = 0.01\n",
    "    grasp_pose, qs, s_axes = controller.compute_object_grasp(\n",
    "        obj=obj,\n",
    "        grasp_height=grasp_height,\n",
    "        offset_toward=offset_toward,\n",
    "        offset_upward=offset_upward\n",
    "    )\n",
    "    \n",
    "    # Step 2: Grasp the object\n",
    "    print(f\"Moving to grasp {obj_name}\")\n",
    "    fingers_state = 0.02 if obj_name == 'bottle' else 0.04\n",
    "    controller.pregrasp_object(finger_link, grasp_pose, fingers_state=fingers_state)\n",
    "    controller.grasp_object(finger_link, grasp_pose, fingers_state=fingers_state, fingers_force=2)\n",
    "    \n",
    "    # Step 3: Execute manipulation plan\n",
    "    print(f\"Executing manipulation with {obj_name}\")\n",
    "    controller.execute_manipulation(finger_link, obj, qs, s_axes)\n",
    "    \n",
    "    # Step 4: Release the object\n",
    "    print(f\"Releasing {obj_name}\")\n",
    "    controller.release_object()\n",
    "    \n",
    "    # Step 5: Move 10cm up from the current position\n",
    "    print(f\"Moving up from {obj_name}\")\n",
    "    controller.move_up_from_current(finger_link, 0.1)\n",
    "    \n",
    "    # Step 6: Return to ready pose\n",
    "    print(f\"Returning to ready pose\")\n",
    "    controller.return_to_ready_pose()\n",
    "    \n",
    "    print(f\"Completed processing {obj_name}\")\n",
    "\n",
    "if cam and record:\n",
    "    cam.stop_recording(save_to_filename=os.path.join(video_path, \"upright.mp4\"))\n",
    "    \n",
    "print(\"\\nAll objects manipulated successfully!\")"
   ]
  }
 ],
 "metadata": {
  "kernelspec": {
   "display_name": "panda",
   "language": "python",
   "name": "python3"
  },
  "language_info": {
   "codemirror_mode": {
    "name": "ipython",
    "version": 3
   },
   "file_extension": ".py",
   "mimetype": "text/x-python",
   "name": "python",
   "nbconvert_exporter": "python",
   "pygments_lexer": "ipython3",
   "version": "3.10.17"
  }
 },
 "nbformat": 4,
 "nbformat_minor": 5
}
