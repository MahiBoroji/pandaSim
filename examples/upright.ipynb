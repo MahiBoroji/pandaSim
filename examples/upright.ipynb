{
 "cells": [
  {
   "cell_type": "markdown",
   "id": "7db7bace",
   "metadata": {},
   "source": [
    "# Object Reorientation with Help of Environment Contact\n",
    "\n",
    "This example demonstrates a Franka Emika Panda robot sequentially manipulating multiple objects. The robot follows a structured plan:\n",
    "\n",
    "1. Start from a ready position\n",
    "2. Move above an object from the list\n",
    "3. Grasp the object\n",
    "4. Execute a planned movement with the object\n",
    "5. Release the object\n",
    "6. Move 10 cm above the current position\n",
    "7. Return to ready position\n",
    "8. Repeat for the next object in the list until all objects are manipulated"
   ]
  },
  {
   "cell_type": "code",
   "execution_count": 1,
   "id": "5502bb81",
   "metadata": {},
   "outputs": [
    {
     "name": "stderr",
     "output_type": "stream",
     "text": [
      "[I 05/19/25 15:28:21.593 24303] [shell.py:_shell_pop_print@23] Graphical python shell detected, using wrapped sys.stdout\n"
     ]
    }
   ],
   "source": [
    "import genesis as gs\n",
    "import numpy as np\n",
    "import os\n",
    "import torch\n",
    "from pytransform3d import (\n",
    "    transformations as pt,\n",
    "    rotations as pr,\n",
    "    batch_rotations as pb,\n",
    "    trajectories as ptr,\n",
    "    plot_utils as ppu\n",
    ")\n",
    "from pandaSim.geometry.genesis_adapter import GenesisAdapter\n",
    "from pandaSim.planning.screw_motion_planner import ScrewMotionPlanner\n",
    "from utils import RobotController\n",
    "\n",
    "import spatialmath as sm\n",
    "# auto reload\n",
    "%load_ext autoreload\n",
    "%autoreload 2"
   ]
  },
  {
   "cell_type": "markdown",
   "id": "f318f00c",
   "metadata": {},
   "source": [
    "## Initialize Robot Controller\n",
    "\n",
    "We'll create a RobotController instance that will handle all the robot operations and scene management.\n",
    "\n",
    "`Note:`  `compile_kernels` set whether to compile the simulation kernels inside `build()`. If False, the kernels will not be compiled (or loaded if found in the cache) until the first call of `scene.step()`. This is useful for cases you don't want to run the actual simulation, but rather just want to visualize the created scene. Kernel Compilation may take anytime between 2-10 minutes depending on your system."
   ]
  },
  {
   "cell_type": "code",
   "execution_count": 4,
   "id": "94b65edf",
   "metadata": {},
   "outputs": [
    {
     "name": "stdout",
     "output_type": "stream",
     "text": [
      "\u001b[38;5;159m[Genesis] [15:30:10] [INFO] 💤 Exiting Genesis and caching compiled kernels...\u001b[0m\n",
      "\u001b[38;5;159m[Genesis] [15:30:11] [INFO] \u001b[38;5;121m╭───────────────────────────────────────────────╮\u001b[0m\u001b[38;5;159m\u001b[0m\n",
      "\u001b[38;5;159m[Genesis] [15:30:11] [INFO] \u001b[38;5;121m│┈┉┈┉┈┉┈┉┈┉┈┉┈┉┈┉┈┉┈\u001b[0m\u001b[38;5;159m \u001b[38;5;121m\u001b[1m\u001b[3mGenesis\u001b[0m\u001b[38;5;159m \u001b[38;5;121m┈┉┈┉┈┉┈┉┈┉┈┉┈┉┈┉┈┉┈│\u001b[0m\u001b[38;5;159m\u001b[0m\n",
      "\u001b[38;5;159m[Genesis] [15:30:11] [INFO] \u001b[38;5;121m╰───────────────────────────────────────────────╯\u001b[0m\u001b[38;5;159m\u001b[0m\n",
      "\u001b[38;5;159m[Genesis] [15:30:11] [INFO] Running on \u001b[38;5;121m\u001b[4m[NVIDIA GeForce RTX 3070 Laptop GPU]\u001b[0m\u001b[38;5;159m with backend \u001b[38;5;121m\u001b[4mgs.cuda\u001b[0m\u001b[38;5;159m. Device memory: \u001b[38;5;121m\u001b[4m7.78\u001b[0m\u001b[38;5;159m GB.\u001b[0m\n",
      "\u001b[38;5;159m[Genesis] [15:30:11] [INFO] 🚀 Genesis initialized. 🔖 version: \u001b[38;5;121m\u001b[4m0.2.1\u001b[0m\u001b[38;5;159m, 🌱 seed: \u001b[38;5;121m\u001b[4mNone\u001b[0m\u001b[38;5;159m, 📏 precision: '\u001b[38;5;121m\u001b[4m32\u001b[0m\u001b[38;5;159m', 🐛 debug: \u001b[38;5;121m\u001b[4mFalse\u001b[0m\u001b[38;5;159m, 🎨 theme: '\u001b[38;5;121m\u001b[4mdark\u001b[0m\u001b[38;5;159m'.\u001b[0m\n",
      "\u001b[38;5;159m[Genesis] [15:30:11] [INFO] Scene \u001b[38;5;121m\u001b[3m<cfcc710>\u001b[0m\u001b[38;5;159m created.\u001b[0m\n",
      "\u001b[38;5;159m[Genesis] [15:30:11] [INFO] Adding \u001b[38;5;121m<gs.RigidEntity>\u001b[0m\u001b[38;5;159m. idx: \u001b[38;5;121m0\u001b[0m\u001b[38;5;159m, uid: \u001b[38;5;121m\u001b[3m<58ca36f>\u001b[0m\u001b[38;5;159m, morph: \u001b[38;5;121m<gs.morphs.Plane>\u001b[0m\u001b[38;5;159m, material: \u001b[38;5;121m<gs.materials.Rigid>\u001b[0m\u001b[38;5;159m.\u001b[0m\n",
      "\u001b[38;5;159m[Genesis] [15:30:11] [INFO] Adding \u001b[38;5;121m<gs.RigidEntity>\u001b[0m\u001b[38;5;159m. idx: \u001b[38;5;121m1\u001b[0m\u001b[38;5;159m, uid: \u001b[38;5;121m\u001b[3m<570b9a7>\u001b[0m\u001b[38;5;159m, morph: \u001b[38;5;121m<gs.morphs.MJCF(file='/home/vahid/repos/pandaSim/assets/xml/franka_emika_panda/panda_vir.xml')>\u001b[0m\u001b[38;5;159m, material: \u001b[38;5;121m<gs.materials.Rigid>\u001b[0m\u001b[38;5;159m.\u001b[0m\n",
      "\u001b[38;5;226m[Genesis] [15:30:11] [WARNING] (MJCF) Tendon not supported\u001b[0m\n",
      "\u001b[38;5;226m[Genesis] [15:30:11] [WARNING] (MJCF) Approximating tendon by joint actuator for `finger_joint1`\u001b[0m\n",
      "\u001b[38;5;226m[Genesis] [15:30:11] [WARNING] (MJCF) Actuator control gain and bias parameters cannot be reduced to a unique PD control position gain. Using max between gain and bias.\u001b[0m\n",
      "\u001b[38;5;226m[Genesis] [15:30:11] [WARNING] (MJCF) Approximating tendon by joint actuator for `finger_joint2`\u001b[0m\n",
      "\u001b[38;5;226m[Genesis] [15:30:11] [WARNING] (MJCF) Actuator control gain and bias parameters cannot be reduced to a unique PD control position gain. Using max between gain and bias.\u001b[0m\n",
      "\u001b[38;5;159m[Genesis] [15:30:11] [INFO] Adding \u001b[38;5;121m<gs.RigidEntity>\u001b[0m\u001b[38;5;159m. idx: \u001b[38;5;121m2\u001b[0m\u001b[38;5;159m, uid: \u001b[38;5;121m\u001b[3m<4fd5941>\u001b[0m\u001b[38;5;159m, morph: \u001b[38;5;121m<gs.morphs.Box>\u001b[0m\u001b[38;5;159m, material: \u001b[38;5;121m<gs.materials.Rigid>\u001b[0m\u001b[38;5;159m.\u001b[0m\n",
      "\u001b[38;5;159m[Genesis] [15:30:11] [INFO] Adding \u001b[38;5;121m<gs.RigidEntity>\u001b[0m\u001b[38;5;159m. idx: \u001b[38;5;121m3\u001b[0m\u001b[38;5;159m, uid: \u001b[38;5;121m\u001b[3m<28386ec>\u001b[0m\u001b[38;5;159m, morph: \u001b[38;5;121m<gs.morphs.Box>\u001b[0m\u001b[38;5;159m, material: \u001b[38;5;121m<gs.materials.Rigid>\u001b[0m\u001b[38;5;159m.\u001b[0m\n",
      "\u001b[38;5;159m[Genesis] [15:30:11] [INFO] Adding \u001b[38;5;121m<gs.RigidEntity>\u001b[0m\u001b[38;5;159m. idx: \u001b[38;5;121m4\u001b[0m\u001b[38;5;159m, uid: \u001b[38;5;121m\u001b[3m<9ffd008>\u001b[0m\u001b[38;5;159m, morph: \u001b[38;5;121m<gs.morphs.Box>\u001b[0m\u001b[38;5;159m, material: \u001b[38;5;121m<gs.materials.Rigid>\u001b[0m\u001b[38;5;159m.\u001b[0m\n",
      "\u001b[38;5;159m[Genesis] [15:30:11] [INFO] Adding \u001b[38;5;121m<gs.RigidEntity>\u001b[0m\u001b[38;5;159m. idx: \u001b[38;5;121m5\u001b[0m\u001b[38;5;159m, uid: \u001b[38;5;121m\u001b[3m<78c1eed>\u001b[0m\u001b[38;5;159m, morph: \u001b[38;5;121m<gs.morphs.Box>\u001b[0m\u001b[38;5;159m, material: \u001b[38;5;121m<gs.materials.Rigid>\u001b[0m\u001b[38;5;159m.\u001b[0m\n",
      "\u001b[38;5;159m[Genesis] [15:30:11] [INFO] Adding \u001b[38;5;121m<gs.RigidEntity>\u001b[0m\u001b[38;5;159m. idx: \u001b[38;5;121m6\u001b[0m\u001b[38;5;159m, uid: \u001b[38;5;121m\u001b[3m<fd8d876>\u001b[0m\u001b[38;5;159m, morph: \u001b[38;5;121m<gs.morphs.Box>\u001b[0m\u001b[38;5;159m, material: \u001b[38;5;121m<gs.materials.Rigid>\u001b[0m\u001b[38;5;159m.\u001b[0m\n",
      "\u001b[38;5;159m[Genesis] [15:30:11] [INFO] Adding \u001b[38;5;121m<gs.RigidEntity>\u001b[0m\u001b[38;5;159m. idx: \u001b[38;5;121m7\u001b[0m\u001b[38;5;159m, uid: \u001b[38;5;121m\u001b[3m<dd94dc4>\u001b[0m\u001b[38;5;159m, morph: \u001b[38;5;121m<gs.morphs.URDF(file='/home/vahid/envs/panda/lib/python3.10/site-packages/genesis/assets/urdf/3763/mobility_vhacd.urdf')>\u001b[0m\u001b[38;5;159m, material: \u001b[38;5;121m<gs.materials.Rigid>\u001b[0m\u001b[38;5;159m.\u001b[0m\n",
      "\u001b[38;5;159m[Genesis] [15:30:11] [INFO] Adding \u001b[38;5;121m<gs.RigidEntity>\u001b[0m\u001b[38;5;159m. idx: \u001b[38;5;121m8\u001b[0m\u001b[38;5;159m, uid: \u001b[38;5;121m\u001b[3m<65dc16d>\u001b[0m\u001b[38;5;159m, morph: \u001b[38;5;121m<gs.morphs.Cylinder>\u001b[0m\u001b[38;5;159m, material: \u001b[38;5;121m<gs.materials.Rigid>\u001b[0m\u001b[38;5;159m.\u001b[0m\n",
      "\u001b[38;5;159m[Genesis] [15:30:11] [INFO] Adding \u001b[38;5;121m<gs.RigidEntity>\u001b[0m\u001b[38;5;159m. idx: \u001b[38;5;121m9\u001b[0m\u001b[38;5;159m, uid: \u001b[38;5;121m\u001b[3m<07dfcf8>\u001b[0m\u001b[38;5;159m, morph: \u001b[38;5;121m<gs.morphs.Mesh(file='/home/vahid/envs/panda/lib/python3.10/site-packages/genesis/assets/meshes/axis.obj')>\u001b[0m\u001b[38;5;159m, material: \u001b[38;5;121m<gs.materials.Rigid>\u001b[0m\u001b[38;5;159m.\u001b[0m\n",
      "\u001b[38;5;159m[Genesis] [15:30:11] [INFO] Building scene \u001b[38;5;121m\u001b[3m<cfcc710>\u001b[0m\u001b[38;5;159m...\u001b[0m\n",
      "\u001b[38;5;226m[Genesis] [15:30:12] [WARNING] Reference robot position exceeds joint limits.\u001b[0m\n"
     ]
    },
    {
     "name": "stderr",
     "output_type": "stream",
     "text": [
      "[W 05/19/25 15:30:13.675 24303] [frontend_ir.cpp:begin_frontend_struct_for_on_external_tensor@1694] ti.loop_config(serialize=True) does not have effect on the struct for. The execution order is not guaranteed.\n"
     ]
    },
    {
     "name": "stdout",
     "output_type": "stream",
     "text": [
      "\u001b[38;5;159m[Genesis] [15:30:15] [INFO] Building visualizer...\u001b[0m\n",
      "\u001b[38;5;159m[Genesis] [15:30:16] [INFO] Viewer created. Resolution: \u001b[38;5;121m1280×960\u001b[0m\u001b[38;5;159m, max_FPS: \u001b[38;5;121m60\u001b[0m\u001b[38;5;159m.\u001b[0m\n"
     ]
    }
   ],
   "source": [
    "\n",
    "\n",
    "# Record the video\n",
    "record = True\n",
    "video_path = \"video/\"\n",
    "os.makedirs(video_path, exist_ok=True)\n",
    "\n",
    "# Initialize the scene and get the robot and objects\n",
    "# Initialize the robot controller\n",
    "controller = RobotController()\n",
    "franka, objects_list, target_entity, scene_list, cam = controller.init_scene(record=record)\n",
    "\n",
    "# Get the finger link for manipulation\n",
    "finger_link = franka.get_link('virtual_finger')\n",
    "\n",
    "# Build the scene\n",
    "controller.scene.build(compile_kernels=False)"
   ]
  },
  {
   "cell_type": "markdown",
   "id": "a752e98d",
   "metadata": {},
   "source": [
    "## Define Ready Pose\n",
    "\n",
    "Set up the robot's ready pose configuration."
   ]
  },
  {
   "cell_type": "code",
   "execution_count": 5,
   "id": "8a751095",
   "metadata": {},
   "outputs": [],
   "source": [
    "def reset_scene():\n",
    "    controller.scene.reset()\n",
    "\n",
    "    # Define ready pose joint positions\n",
    "    qr = np.array([0.0000, -0.3002, 0.0000, -2.1991, 0.0000, 2.0071, 0.7854, 0.04, 0.04])\n",
    "    ready_qpos = np.append(qr, [0, 0, 0])  # Adding positions for virtual finger and spinning pads\n",
    "\n",
    "    # Set robot to ready pose\n",
    "    franka.ready_qpos = ready_qpos.squeeze()\n",
    "    franka.set_qpos(franka.ready_qpos)\n",
    "    franka.control_dofs_position(franka.ready_qpos)\n",
    "    \n",
    "    # Visualize initial position\n",
    "    target_entity.set_pos(finger_link.get_pos())\n",
    "    target_entity.set_quat(finger_link.get_quat())\n",
    "\n",
    "    \n",
    "\n",
    "    controller.scene.step()"
   ]
  },
  {
   "cell_type": "markdown",
   "id": "81af9a83",
   "metadata": {},
   "source": [
    "## Main Execution Loop\n",
    "\n",
    "Now we'll process each object in the list sequentially, following our plan:\n",
    "1. Move to above the object\n",
    "2. Grasp the object\n",
    "3. Execute the manipulation plan\n",
    "4. Release the object\n",
    "5. Move 10cm up\n",
    "6. Return to ready pose\n",
    "7. Process next object"
   ]
  },
  {
   "cell_type": "code",
   "execution_count": null,
   "id": "89ae1c5d",
   "metadata": {},
   "outputs": [
    {
     "name": "stdout",
     "output_type": "stream",
     "text": [
      "\u001b[38;5;159m[Genesis] [18:27:31] [INFO] Resetting Scene \u001b[38;5;121m\u001b[3m<cfcc710>\u001b[0m\u001b[38;5;159m.\u001b[0m\n",
      "\u001b[38;5;226m[Genesis] [18:27:31] [WARNING] Attempt to set mass of 0.0 to link_0 link. Mass must be positive, skipping.\u001b[0m\n",
      "\n",
      "Processing cube...\n",
      "Computing grasp pose for cube\n",
      "Moving to grasp cube\n",
      "\u001b[38;5;159m[Genesis] [18:27:31] [INFO] Path solution found successfully.\u001b[0m\n",
      "\u001b[38;5;159m[Genesis] [18:27:42] [INFO] Path solution found successfully.\u001b[0m\n",
      "Executing manipulation with cube\n",
      "theta changed to  -1.6007963267948966\n",
      "Releasing cube\n",
      "Moving up from cube\n",
      "\u001b[38;5;159m[Genesis] [18:29:03] [INFO] Ingoring collision pairs already active for starting pos.\u001b[0m\n",
      "\u001b[38;5;159m[Genesis] [18:29:03] [INFO] Path solution found successfully.\u001b[0m\n",
      "Returning to ready pose\n",
      "\u001b[38;5;159m[Genesis] [18:29:14] [INFO] Path solution found successfully.\u001b[0m\n",
      "Completed processing cube\n",
      "\n",
      "Processing bottle...\n",
      "Computing grasp pose for bottle\n",
      "Moving to grasp bottle\n",
      "\u001b[38;5;159m[Genesis] [18:29:28] [INFO] Path solution found successfully.\u001b[0m\n",
      "\u001b[38;5;159m[Genesis] [18:29:39] [INFO] Path solution found successfully.\u001b[0m\n",
      "Executing manipulation with bottle\n",
      "theta changed to  -1.6007963267948966\n"
     ]
    },
    {
     "ename": "KeyboardInterrupt",
     "evalue": "",
     "output_type": "error",
     "traceback": [
      "\u001b[0;31m---------------------------------------------------------------------------\u001b[0m",
      "\u001b[0;31mKeyboardInterrupt\u001b[0m                         Traceback (most recent call last)",
      "Cell \u001b[0;32mIn[11], line 41\u001b[0m\n\u001b[1;32m     39\u001b[0m \u001b[38;5;66;03m# Step 3: Execute manipulation plan\u001b[39;00m\n\u001b[1;32m     40\u001b[0m \u001b[38;5;28mprint\u001b[39m(\u001b[38;5;124mf\u001b[39m\u001b[38;5;124m\"\u001b[39m\u001b[38;5;124mExecuting manipulation with \u001b[39m\u001b[38;5;132;01m{\u001b[39;00mobj_name\u001b[38;5;132;01m}\u001b[39;00m\u001b[38;5;124m\"\u001b[39m)\n\u001b[0;32m---> 41\u001b[0m \u001b[43mcontroller\u001b[49m\u001b[38;5;241;43m.\u001b[39;49m\u001b[43mexecute_manipulation\u001b[49m\u001b[43m(\u001b[49m\u001b[43mfinger_link\u001b[49m\u001b[43m,\u001b[49m\u001b[43m \u001b[49m\u001b[43mobj\u001b[49m\u001b[43m,\u001b[49m\u001b[43m \u001b[49m\u001b[43mqs\u001b[49m\u001b[43m,\u001b[49m\u001b[43m \u001b[49m\u001b[43ms_axes\u001b[49m\u001b[43m)\u001b[49m\n\u001b[1;32m     43\u001b[0m \u001b[38;5;66;03m# Step 4: Release the object\u001b[39;00m\n\u001b[1;32m     44\u001b[0m \u001b[38;5;28mprint\u001b[39m(\u001b[38;5;124mf\u001b[39m\u001b[38;5;124m\"\u001b[39m\u001b[38;5;124mReleasing \u001b[39m\u001b[38;5;132;01m{\u001b[39;00mobj_name\u001b[38;5;132;01m}\u001b[39;00m\u001b[38;5;124m\"\u001b[39m)\n",
      "File \u001b[0;32m~/repos/pandaSim/examples/utils.py:278\u001b[0m, in \u001b[0;36mRobotController.execute_manipulation\u001b[0;34m(self, finger_link, obj, qs, s_axes)\u001b[0m\n\u001b[1;32m    276\u001b[0m \u001b[38;5;28mself\u001b[39m\u001b[38;5;241m.\u001b[39mscene\u001b[38;5;241m.\u001b[39mstep()\n\u001b[1;32m    277\u001b[0m \u001b[38;5;28;01mif\u001b[39;00m \u001b[38;5;28mself\u001b[39m\u001b[38;5;241m.\u001b[39mscene\u001b[38;5;241m.\u001b[39mcam:\n\u001b[0;32m--> 278\u001b[0m     \u001b[38;5;28;43mself\u001b[39;49m\u001b[38;5;241;43m.\u001b[39;49m\u001b[43mscene\u001b[49m\u001b[38;5;241;43m.\u001b[39;49m\u001b[43mcam\u001b[49m\u001b[38;5;241;43m.\u001b[39;49m\u001b[43mrender\u001b[49m\u001b[43m(\u001b[49m\u001b[43m)\u001b[49m\n",
      "File \u001b[0;32m~/envs/panda/lib/python3.10/site-packages/genesis/utils/misc.py:72\u001b[0m, in \u001b[0;36massert_built.<locals>.wrapper\u001b[0;34m(self, *args, **kwargs)\u001b[0m\n\u001b[1;32m     70\u001b[0m \u001b[38;5;28;01mif\u001b[39;00m \u001b[38;5;129;01mnot\u001b[39;00m \u001b[38;5;28mself\u001b[39m\u001b[38;5;241m.\u001b[39mis_built:\n\u001b[1;32m     71\u001b[0m     gs\u001b[38;5;241m.\u001b[39mraise_exception(\u001b[38;5;124m\"\u001b[39m\u001b[38;5;124mScene is not built yet.\u001b[39m\u001b[38;5;124m\"\u001b[39m)\n\u001b[0;32m---> 72\u001b[0m \u001b[38;5;28;01mreturn\u001b[39;00m \u001b[43mmethod\u001b[49m\u001b[43m(\u001b[49m\u001b[38;5;28;43mself\u001b[39;49m\u001b[43m,\u001b[49m\u001b[43m \u001b[49m\u001b[38;5;241;43m*\u001b[39;49m\u001b[43margs\u001b[49m\u001b[43m,\u001b[49m\u001b[43m \u001b[49m\u001b[38;5;241;43m*\u001b[39;49m\u001b[38;5;241;43m*\u001b[39;49m\u001b[43mkwargs\u001b[49m\u001b[43m)\u001b[49m\n",
      "File \u001b[0;32m~/envs/panda/lib/python3.10/site-packages/genesis/vis/camera.py:232\u001b[0m, in \u001b[0;36mCamera.render\u001b[0;34m(self, rgb, depth, segmentation, colorize_seg, normal)\u001b[0m\n\u001b[1;32m    230\u001b[0m \u001b[38;5;28;01melif\u001b[39;00m \u001b[38;5;28mself\u001b[39m\u001b[38;5;241m.\u001b[39m_rasterizer \u001b[38;5;129;01mis\u001b[39;00m \u001b[38;5;129;01mnot\u001b[39;00m \u001b[38;5;28;01mNone\u001b[39;00m:\n\u001b[1;32m    231\u001b[0m     \u001b[38;5;28mself\u001b[39m\u001b[38;5;241m.\u001b[39m_rasterizer\u001b[38;5;241m.\u001b[39mupdate_scene()\n\u001b[0;32m--> 232\u001b[0m     rgb_arr, depth_arr, seg_idxc_arr, normal_arr \u001b[38;5;241m=\u001b[39m \u001b[38;5;28;43mself\u001b[39;49m\u001b[38;5;241;43m.\u001b[39;49m\u001b[43m_rasterizer\u001b[49m\u001b[38;5;241;43m.\u001b[39;49m\u001b[43mrender_camera\u001b[49m\u001b[43m(\u001b[49m\n\u001b[1;32m    233\u001b[0m \u001b[43m        \u001b[49m\u001b[38;5;28;43mself\u001b[39;49m\u001b[43m,\u001b[49m\u001b[43m \u001b[49m\u001b[43mrgb\u001b[49m\u001b[43m,\u001b[49m\u001b[43m \u001b[49m\u001b[43mdepth\u001b[49m\u001b[43m,\u001b[49m\u001b[43m \u001b[49m\u001b[43msegmentation\u001b[49m\u001b[43m,\u001b[49m\u001b[43m \u001b[49m\u001b[43mnormal\u001b[49m\u001b[38;5;241;43m=\u001b[39;49m\u001b[43mnormal\u001b[49m\n\u001b[1;32m    234\u001b[0m \u001b[43m    \u001b[49m\u001b[43m)\u001b[49m\n\u001b[1;32m    236\u001b[0m \u001b[38;5;28;01melse\u001b[39;00m:\n\u001b[1;32m    237\u001b[0m     gs\u001b[38;5;241m.\u001b[39mraise_exception(\u001b[38;5;124m\"\u001b[39m\u001b[38;5;124mNo renderer was found.\u001b[39m\u001b[38;5;124m\"\u001b[39m)\n",
      "File \u001b[0;32m~/envs/panda/lib/python3.10/site-packages/genesis/vis/rasterizer.py:83\u001b[0m, in \u001b[0;36mRasterizer.render_camera\u001b[0;34m(self, camera, rgb, depth, segmentation, normal)\u001b[0m\n\u001b[1;32m     81\u001b[0m \u001b[38;5;28;01melse\u001b[39;00m:\n\u001b[1;32m     82\u001b[0m     \u001b[38;5;28;01mif\u001b[39;00m rgb \u001b[38;5;129;01mor\u001b[39;00m depth \u001b[38;5;129;01mor\u001b[39;00m normal:\n\u001b[0;32m---> 83\u001b[0m         retval \u001b[38;5;241m=\u001b[39m \u001b[38;5;28;43mself\u001b[39;49m\u001b[38;5;241;43m.\u001b[39;49m\u001b[43m_viewer\u001b[49m\u001b[38;5;241;43m.\u001b[39;49m\u001b[43m_pyrender_viewer\u001b[49m\u001b[38;5;241;43m.\u001b[39;49m\u001b[43mrender_offscreen\u001b[49m\u001b[43m(\u001b[49m\n\u001b[1;32m     84\u001b[0m \u001b[43m            \u001b[49m\u001b[38;5;28;43mself\u001b[39;49m\u001b[38;5;241;43m.\u001b[39;49m\u001b[43m_camera_nodes\u001b[49m\u001b[43m[\u001b[49m\u001b[43mcamera\u001b[49m\u001b[38;5;241;43m.\u001b[39;49m\u001b[43muid\u001b[49m\u001b[43m]\u001b[49m\u001b[43m,\u001b[49m\n\u001b[1;32m     85\u001b[0m \u001b[43m            \u001b[49m\u001b[38;5;28;43mself\u001b[39;49m\u001b[38;5;241;43m.\u001b[39;49m\u001b[43m_camera_targets\u001b[49m\u001b[43m[\u001b[49m\u001b[43mcamera\u001b[49m\u001b[38;5;241;43m.\u001b[39;49m\u001b[43muid\u001b[49m\u001b[43m]\u001b[49m\u001b[43m,\u001b[49m\n\u001b[1;32m     86\u001b[0m \u001b[43m            \u001b[49m\u001b[43mdepth\u001b[49m\u001b[38;5;241;43m=\u001b[39;49m\u001b[43mdepth\u001b[49m\u001b[43m,\u001b[49m\n\u001b[1;32m     87\u001b[0m \u001b[43m            \u001b[49m\u001b[43mnormal\u001b[49m\u001b[38;5;241;43m=\u001b[39;49m\u001b[43mnormal\u001b[49m\u001b[43m,\u001b[49m\n\u001b[1;32m     88\u001b[0m \u001b[43m        \u001b[49m\u001b[43m)\u001b[49m\n\u001b[1;32m     90\u001b[0m     \u001b[38;5;28;01mif\u001b[39;00m segmentation:\n\u001b[1;32m     91\u001b[0m         seg_idxc_rgb_arr, _ \u001b[38;5;241m=\u001b[39m \u001b[38;5;28mself\u001b[39m\u001b[38;5;241m.\u001b[39m_viewer\u001b[38;5;241m.\u001b[39m_pyrender_viewer\u001b[38;5;241m.\u001b[39mrender_offscreen(\n\u001b[1;32m     92\u001b[0m             \u001b[38;5;28mself\u001b[39m\u001b[38;5;241m.\u001b[39m_camera_nodes[camera\u001b[38;5;241m.\u001b[39muid],\n\u001b[1;32m     93\u001b[0m             \u001b[38;5;28mself\u001b[39m\u001b[38;5;241m.\u001b[39m_camera_targets[camera\u001b[38;5;241m.\u001b[39muid],\n\u001b[0;32m   (...)\u001b[0m\n\u001b[1;32m     96\u001b[0m             seg\u001b[38;5;241m=\u001b[39m\u001b[38;5;28;01mTrue\u001b[39;00m,\n\u001b[1;32m     97\u001b[0m         )\n",
      "File \u001b[0;32m~/envs/panda/lib/python3.10/site-packages/genesis/ext/pyrender/viewer.py:635\u001b[0m, in \u001b[0;36mViewer.render_offscreen\u001b[0;34m(self, camera_node, render_target, depth, seg, normal)\u001b[0m\n\u001b[1;32m    633\u001b[0m     \u001b[38;5;28mself\u001b[39m\u001b[38;5;241m.\u001b[39m_offscreen_event\u001b[38;5;241m.\u001b[39mset()\n\u001b[1;32m    634\u001b[0m     \u001b[38;5;66;03m# wait_for_offscreen\u001b[39;00m\n\u001b[0;32m--> 635\u001b[0m     \u001b[38;5;28;43mself\u001b[39;49m\u001b[38;5;241;43m.\u001b[39;49m\u001b[43m_offscreen_result_semaphore\u001b[49m\u001b[38;5;241;43m.\u001b[39;49m\u001b[43macquire\u001b[49m\u001b[43m(\u001b[49m\u001b[43m)\u001b[49m\n\u001b[1;32m    636\u001b[0m \u001b[38;5;28;01melse\u001b[39;00m:\n\u001b[1;32m    637\u001b[0m     \u001b[38;5;66;03m# Force offscreen rendering synchronously\u001b[39;00m\n\u001b[1;32m    638\u001b[0m     \u001b[38;5;28mself\u001b[39m\u001b[38;5;241m.\u001b[39mdraw_offscreen()\n",
      "File \u001b[0;32m~/.local/share/uv/python/cpython-3.10.17-linux-x86_64-gnu/lib/python3.10/threading.py:467\u001b[0m, in \u001b[0;36mSemaphore.acquire\u001b[0;34m(self, blocking, timeout)\u001b[0m\n\u001b[1;32m    465\u001b[0m             \u001b[38;5;28;01mif\u001b[39;00m timeout \u001b[38;5;241m<\u001b[39m\u001b[38;5;241m=\u001b[39m \u001b[38;5;241m0\u001b[39m:\n\u001b[1;32m    466\u001b[0m                 \u001b[38;5;28;01mbreak\u001b[39;00m\n\u001b[0;32m--> 467\u001b[0m     \u001b[38;5;28;43mself\u001b[39;49m\u001b[38;5;241;43m.\u001b[39;49m\u001b[43m_cond\u001b[49m\u001b[38;5;241;43m.\u001b[39;49m\u001b[43mwait\u001b[49m\u001b[43m(\u001b[49m\u001b[43mtimeout\u001b[49m\u001b[43m)\u001b[49m\n\u001b[1;32m    468\u001b[0m \u001b[38;5;28;01melse\u001b[39;00m:\n\u001b[1;32m    469\u001b[0m     \u001b[38;5;28mself\u001b[39m\u001b[38;5;241m.\u001b[39m_value \u001b[38;5;241m-\u001b[39m\u001b[38;5;241m=\u001b[39m \u001b[38;5;241m1\u001b[39m\n",
      "File \u001b[0;32m~/.local/share/uv/python/cpython-3.10.17-linux-x86_64-gnu/lib/python3.10/threading.py:320\u001b[0m, in \u001b[0;36mCondition.wait\u001b[0;34m(self, timeout)\u001b[0m\n\u001b[1;32m    318\u001b[0m \u001b[38;5;28;01mtry\u001b[39;00m:    \u001b[38;5;66;03m# restore state no matter what (e.g., KeyboardInterrupt)\u001b[39;00m\n\u001b[1;32m    319\u001b[0m     \u001b[38;5;28;01mif\u001b[39;00m timeout \u001b[38;5;129;01mis\u001b[39;00m \u001b[38;5;28;01mNone\u001b[39;00m:\n\u001b[0;32m--> 320\u001b[0m         \u001b[43mwaiter\u001b[49m\u001b[38;5;241;43m.\u001b[39;49m\u001b[43macquire\u001b[49m\u001b[43m(\u001b[49m\u001b[43m)\u001b[49m\n\u001b[1;32m    321\u001b[0m         gotit \u001b[38;5;241m=\u001b[39m \u001b[38;5;28;01mTrue\u001b[39;00m\n\u001b[1;32m    322\u001b[0m     \u001b[38;5;28;01melse\u001b[39;00m:\n",
      "\u001b[0;31mKeyboardInterrupt\u001b[0m: "
     ]
    }
   ],
   "source": [
    "objects_to_manipulate = objects_list.copy()\n",
    "\n",
    "# Reset the scene to initial state\n",
    "reset_scene()\n",
    "record = False\n",
    "\n",
    "if cam and record:\n",
    "    cam.start_recording()\n",
    "    print(\"Recording started\")\n",
    "\n",
    "\n",
    "# Process each object in the list\n",
    "while objects_to_manipulate:\n",
    "    # Get the next object from the list\n",
    "    obj = objects_to_manipulate.pop(0)\n",
    "    obj_name = obj.name\n",
    "\n",
    "    \n",
    "    print(f\"\\nProcessing {obj_name}...\")\n",
    "    \n",
    "    # Step 1: Compute grasp pose for the object\n",
    "    print(f\"Computing grasp pose for {obj_name}\")\n",
    "    grasp_height = 'center' if obj_name == 'cylinder' else 'top'\n",
    "    offset_toward = 0.04 if obj_name == 'bottle' else 0.02\n",
    "    offset_upward = 0.01\n",
    "    grasp_pose, qs, s_axes = controller.compute_object_grasp(\n",
    "        obj=obj,\n",
    "        grasp_height=grasp_height,\n",
    "        offset_toward=offset_toward,\n",
    "        offset_upward=offset_upward\n",
    "    )\n",
    "    \n",
    "    # Step 2: Grasp the object\n",
    "    print(f\"Moving to grasp {obj_name}\")\n",
    "    fingers_state = 0.02 if obj_name == 'bottle' else 0.04\n",
    "    controller.pregrasp_object(finger_link, grasp_pose, fingers_state=fingers_state)\n",
    "    controller.grasp_object(finger_link, grasp_pose, fingers_state=fingers_state, fingers_force=2)\n",
    "    \n",
    "    # Step 3: Execute manipulation plan\n",
    "    print(f\"Executing manipulation with {obj_name}\")\n",
    "    controller.execute_manipulation(finger_link, obj, qs, s_axes)\n",
    "    \n",
    "    # Step 4: Release the object\n",
    "    print(f\"Releasing {obj_name}\")\n",
    "    controller.release_object()\n",
    "    \n",
    "    # Step 5: Move 10cm up from the current position\n",
    "    print(f\"Moving up from {obj_name}\")\n",
    "    controller.move_up_from_current(finger_link, 0.1)\n",
    "    \n",
    "    # Step 6: Return to ready pose\n",
    "    print(f\"Returning to ready pose\")\n",
    "    controller.return_to_ready_pose()\n",
    "    \n",
    "    print(f\"Completed processing {obj_name}\")\n",
    "\n",
    "if cam and record:\n",
    "    cam.stop_recording(save_to_filename=os.path.join(video_path, \"upright.mp4\"))\n",
    "    \n",
    "print(\"\\nAll objects manipulated successfully!\")"
   ]
  },
  {
   "cell_type": "code",
   "execution_count": 14,
   "id": "be92aec4",
   "metadata": {},
   "outputs": [
    {
     "data": {
      "text/plain": [
       "array([-0.703177  , -0.70421389,  0.        ])"
      ]
     },
     "execution_count": 14,
     "metadata": {},
     "output_type": "execute_result"
    }
   ],
   "source": [
    "obj = objects_list[2]\n",
    "grasp_pose, qs, s_axes = controller.compute_object_grasp(\n",
    "    obj=obj,\n",
    "    grasp_height=grasp_height,\n",
    "    offset_toward=offset_toward,\n",
    "    offset_upward=offset_upward\n",
    ")\n",
    "\n",
    "s_axes[..., 2] = 0\n",
    "\n",
    "s_axes"
   ]
  }
 ],
 "metadata": {
  "kernelspec": {
   "display_name": "panda",
   "language": "python",
   "name": "python3"
  },
  "language_info": {
   "codemirror_mode": {
    "name": "ipython",
    "version": 3
   },
   "file_extension": ".py",
   "mimetype": "text/x-python",
   "name": "python",
   "nbconvert_exporter": "python",
   "pygments_lexer": "ipython3",
   "version": "3.10.17"
  }
 },
 "nbformat": 4,
 "nbformat_minor": 5
}
